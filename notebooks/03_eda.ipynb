{
 "cells": [
  {
   "cell_type": "markdown",
   "metadata": {},
   "source": [
    "# Exploratoring the database"
   ]
  },
  {
   "cell_type": "code",
   "execution_count": 15,
   "metadata": {},
   "outputs": [],
   "source": [
    "import numpy as np\n",
    "import pandas as pd\n",
    "import plotly.express as px"
   ]
  },
  {
   "cell_type": "code",
   "execution_count": 22,
   "metadata": {},
   "outputs": [
    {
     "data": {
      "text/html": [
       "<div>\n",
       "<style scoped>\n",
       "    .dataframe tbody tr th:only-of-type {\n",
       "        vertical-align: middle;\n",
       "    }\n",
       "\n",
       "    .dataframe tbody tr th {\n",
       "        vertical-align: top;\n",
       "    }\n",
       "\n",
       "    .dataframe thead th {\n",
       "        text-align: right;\n",
       "    }\n",
       "</style>\n",
       "<table border=\"1\" class=\"dataframe\">\n",
       "  <thead>\n",
       "    <tr style=\"text-align: right;\">\n",
       "      <th></th>\n",
       "      <th>Date</th>\n",
       "      <th>Kind</th>\n",
       "      <th>Title</th>\n",
       "      <th>Authors</th>\n",
       "      <th>Image URL</th>\n",
       "      <th>ParsingDate</th>\n",
       "      <th>Accesses</th>\n",
       "      <th>Citations</th>\n",
       "      <th>Altmetric</th>\n",
       "      <th>Citations10^</th>\n",
       "    </tr>\n",
       "    <tr>\n",
       "      <th>DOI</th>\n",
       "      <th></th>\n",
       "      <th></th>\n",
       "      <th></th>\n",
       "      <th></th>\n",
       "      <th></th>\n",
       "      <th></th>\n",
       "      <th></th>\n",
       "      <th></th>\n",
       "      <th></th>\n",
       "      <th></th>\n",
       "    </tr>\n",
       "  </thead>\n",
       "  <tbody>\n",
       "    <tr>\n",
       "      <th>10.1038/sdata20142</th>\n",
       "      <td>2014-03-11</td>\n",
       "      <td>Data Descriptor</td>\n",
       "      <td>The systematic identification of cytoskeletal ...</td>\n",
       "      <td>Alexander D Perkins | Michael J J Lee | Guy Ta...</td>\n",
       "      <td>https://media.springernature.com/w290h158/spri...</td>\n",
       "      <td>2024-08-24</td>\n",
       "      <td>3852</td>\n",
       "      <td>6</td>\n",
       "      <td>21</td>\n",
       "      <td>0.845098</td>\n",
       "    </tr>\n",
       "    <tr>\n",
       "      <th>10.1038/sdata20141</th>\n",
       "      <td>2014-03-11</td>\n",
       "      <td>Data Descriptor</td>\n",
       "      <td>Global integrated drought monitoring and predi...</td>\n",
       "      <td>Zengchao Hao | Amir AghaKouchak | Alireza Fara...</td>\n",
       "      <td>https://media.springernature.com/w290h158/spri...</td>\n",
       "      <td>2024-08-24</td>\n",
       "      <td>45000</td>\n",
       "      <td>304</td>\n",
       "      <td>310</td>\n",
       "      <td>2.484300</td>\n",
       "    </tr>\n",
       "    <tr>\n",
       "      <th>10.1038/sdata20146</th>\n",
       "      <td>2014-05-27</td>\n",
       "      <td>Data Descriptor</td>\n",
       "      <td>microclim: Global estimates of hourly microcli...</td>\n",
       "      <td>Michael R Kearney | Andrew P Isaac | Warren P ...</td>\n",
       "      <td>https://media.springernature.com/w290h158/spri...</td>\n",
       "      <td>2024-08-24</td>\n",
       "      <td>14000</td>\n",
       "      <td>149</td>\n",
       "      <td>10</td>\n",
       "      <td>2.176091</td>\n",
       "    </tr>\n",
       "    <tr>\n",
       "      <th>10.1038/sdata20147</th>\n",
       "      <td>2014-05-27</td>\n",
       "      <td>Data Descriptor</td>\n",
       "      <td>Systematic global assessment of reef fish comm...</td>\n",
       "      <td>Graham J Edgar | Rick D Stuart-Smith</td>\n",
       "      <td>https://media.springernature.com/w290h158/spri...</td>\n",
       "      <td>2024-08-24</td>\n",
       "      <td>8080</td>\n",
       "      <td>164</td>\n",
       "      <td>29</td>\n",
       "      <td>2.217484</td>\n",
       "    </tr>\n",
       "    <tr>\n",
       "      <th>10.1038/sdata20144</th>\n",
       "      <td>2014-05-27</td>\n",
       "      <td>Data Descriptor</td>\n",
       "      <td>A global compendium of human dengue virus occu...</td>\n",
       "      <td>Jane P Messina | Oliver J Brady | Simon I Hay</td>\n",
       "      <td>https://media.springernature.com/w290h158/spri...</td>\n",
       "      <td>2024-08-24</td>\n",
       "      <td>11000</td>\n",
       "      <td>77</td>\n",
       "      <td>33</td>\n",
       "      <td>1.892095</td>\n",
       "    </tr>\n",
       "    <tr>\n",
       "      <th>...</th>\n",
       "      <td>...</td>\n",
       "      <td>...</td>\n",
       "      <td>...</td>\n",
       "      <td>...</td>\n",
       "      <td>...</td>\n",
       "      <td>...</td>\n",
       "      <td>...</td>\n",
       "      <td>...</td>\n",
       "      <td>...</td>\n",
       "      <td>...</td>\n",
       "    </tr>\n",
       "    <tr>\n",
       "      <th>10.1038/s41597-024-03657-7</th>\n",
       "      <td>2024-08-22</td>\n",
       "      <td>Data Descriptor</td>\n",
       "      <td>A high-quality chromosome-level genome assembl...</td>\n",
       "      <td>Huali Zhao | Di-an Fang | Dongpo Xu</td>\n",
       "      <td>https://media.springernature.com/w290h158/spri...</td>\n",
       "      <td>2024-08-24</td>\n",
       "      <td>0</td>\n",
       "      <td>0</td>\n",
       "      <td>0</td>\n",
       "      <td>0.000000</td>\n",
       "    </tr>\n",
       "    <tr>\n",
       "      <th>10.1038/s41597-024-03786-z</th>\n",
       "      <td>2024-08-23</td>\n",
       "      <td>Data Descriptor</td>\n",
       "      <td>UK Reproducibility Network open and transparen...</td>\n",
       "      <td>Lukas Hughes-Noehrer | Noémie Aubert Bonn | An...</td>\n",
       "      <td>https://media.springernature.com/w290h158/spri...</td>\n",
       "      <td>2024-08-24</td>\n",
       "      <td>0</td>\n",
       "      <td>0</td>\n",
       "      <td>1</td>\n",
       "      <td>0.000000</td>\n",
       "    </tr>\n",
       "    <tr>\n",
       "      <th>10.1038/s41597-024-03739-6</th>\n",
       "      <td>2024-08-23</td>\n",
       "      <td>Data Descriptor</td>\n",
       "      <td>MAPLES-DR: MESSIDOR Anatomical and Pathologica...</td>\n",
       "      <td>Gabriel Lepetit-Aimon | Clément Playout | Fari...</td>\n",
       "      <td>https://media.springernature.com/w290h158/spri...</td>\n",
       "      <td>2024-08-24</td>\n",
       "      <td>0</td>\n",
       "      <td>0</td>\n",
       "      <td>0</td>\n",
       "      <td>0.000000</td>\n",
       "    </tr>\n",
       "    <tr>\n",
       "      <th>10.1038/s41597-024-03750-x</th>\n",
       "      <td>2024-08-23</td>\n",
       "      <td>Data Descriptor</td>\n",
       "      <td>Generating high-resolution land use and land c...</td>\n",
       "      <td>Améline Vallet | Stéphane Dupuy | Raffaele Gae...</td>\n",
       "      <td>https://media.springernature.com/w290h158/spri...</td>\n",
       "      <td>2024-08-24</td>\n",
       "      <td>0</td>\n",
       "      <td>0</td>\n",
       "      <td>0</td>\n",
       "      <td>0.000000</td>\n",
       "    </tr>\n",
       "    <tr>\n",
       "      <th>10.1038/s41597-024-03782-3</th>\n",
       "      <td>2024-08-23</td>\n",
       "      <td>Data Descriptor</td>\n",
       "      <td>The RNA-seq mapping of Testicular Development ...</td>\n",
       "      <td>Gan Mailin | Yiting Yang | Li Zhu</td>\n",
       "      <td>https://media.springernature.com/w290h158/spri...</td>\n",
       "      <td>2024-08-24</td>\n",
       "      <td>0</td>\n",
       "      <td>0</td>\n",
       "      <td>0</td>\n",
       "      <td>0.000000</td>\n",
       "    </tr>\n",
       "  </tbody>\n",
       "</table>\n",
       "<p>4259 rows × 10 columns</p>\n",
       "</div>"
      ],
      "text/plain": [
       "                                 Date             Kind  \\\n",
       "DOI                                                      \n",
       "10.1038/sdata20142         2014-03-11  Data Descriptor   \n",
       "10.1038/sdata20141         2014-03-11  Data Descriptor   \n",
       "10.1038/sdata20146         2014-05-27  Data Descriptor   \n",
       "10.1038/sdata20147         2014-05-27  Data Descriptor   \n",
       "10.1038/sdata20144         2014-05-27  Data Descriptor   \n",
       "...                               ...              ...   \n",
       "10.1038/s41597-024-03657-7 2024-08-22  Data Descriptor   \n",
       "10.1038/s41597-024-03786-z 2024-08-23  Data Descriptor   \n",
       "10.1038/s41597-024-03739-6 2024-08-23  Data Descriptor   \n",
       "10.1038/s41597-024-03750-x 2024-08-23  Data Descriptor   \n",
       "10.1038/s41597-024-03782-3 2024-08-23  Data Descriptor   \n",
       "\n",
       "                                                                        Title  \\\n",
       "DOI                                                                             \n",
       "10.1038/sdata20142          The systematic identification of cytoskeletal ...   \n",
       "10.1038/sdata20141          Global integrated drought monitoring and predi...   \n",
       "10.1038/sdata20146          microclim: Global estimates of hourly microcli...   \n",
       "10.1038/sdata20147          Systematic global assessment of reef fish comm...   \n",
       "10.1038/sdata20144          A global compendium of human dengue virus occu...   \n",
       "...                                                                       ...   \n",
       "10.1038/s41597-024-03657-7  A high-quality chromosome-level genome assembl...   \n",
       "10.1038/s41597-024-03786-z  UK Reproducibility Network open and transparen...   \n",
       "10.1038/s41597-024-03739-6  MAPLES-DR: MESSIDOR Anatomical and Pathologica...   \n",
       "10.1038/s41597-024-03750-x  Generating high-resolution land use and land c...   \n",
       "10.1038/s41597-024-03782-3  The RNA-seq mapping of Testicular Development ...   \n",
       "\n",
       "                                                                      Authors  \\\n",
       "DOI                                                                             \n",
       "10.1038/sdata20142          Alexander D Perkins | Michael J J Lee | Guy Ta...   \n",
       "10.1038/sdata20141          Zengchao Hao | Amir AghaKouchak | Alireza Fara...   \n",
       "10.1038/sdata20146          Michael R Kearney | Andrew P Isaac | Warren P ...   \n",
       "10.1038/sdata20147                       Graham J Edgar | Rick D Stuart-Smith   \n",
       "10.1038/sdata20144              Jane P Messina | Oliver J Brady | Simon I Hay   \n",
       "...                                                                       ...   \n",
       "10.1038/s41597-024-03657-7                Huali Zhao | Di-an Fang | Dongpo Xu   \n",
       "10.1038/s41597-024-03786-z  Lukas Hughes-Noehrer | Noémie Aubert Bonn | An...   \n",
       "10.1038/s41597-024-03739-6  Gabriel Lepetit-Aimon | Clément Playout | Fari...   \n",
       "10.1038/s41597-024-03750-x  Améline Vallet | Stéphane Dupuy | Raffaele Gae...   \n",
       "10.1038/s41597-024-03782-3                  Gan Mailin | Yiting Yang | Li Zhu   \n",
       "\n",
       "                                                                    Image URL  \\\n",
       "DOI                                                                             \n",
       "10.1038/sdata20142          https://media.springernature.com/w290h158/spri...   \n",
       "10.1038/sdata20141          https://media.springernature.com/w290h158/spri...   \n",
       "10.1038/sdata20146          https://media.springernature.com/w290h158/spri...   \n",
       "10.1038/sdata20147          https://media.springernature.com/w290h158/spri...   \n",
       "10.1038/sdata20144          https://media.springernature.com/w290h158/spri...   \n",
       "...                                                                       ...   \n",
       "10.1038/s41597-024-03657-7  https://media.springernature.com/w290h158/spri...   \n",
       "10.1038/s41597-024-03786-z  https://media.springernature.com/w290h158/spri...   \n",
       "10.1038/s41597-024-03739-6  https://media.springernature.com/w290h158/spri...   \n",
       "10.1038/s41597-024-03750-x  https://media.springernature.com/w290h158/spri...   \n",
       "10.1038/s41597-024-03782-3  https://media.springernature.com/w290h158/spri...   \n",
       "\n",
       "                           ParsingDate  Accesses  Citations  Altmetric  \\\n",
       "DOI                                                                      \n",
       "10.1038/sdata20142          2024-08-24      3852          6         21   \n",
       "10.1038/sdata20141          2024-08-24     45000        304        310   \n",
       "10.1038/sdata20146          2024-08-24     14000        149         10   \n",
       "10.1038/sdata20147          2024-08-24      8080        164         29   \n",
       "10.1038/sdata20144          2024-08-24     11000         77         33   \n",
       "...                                ...       ...        ...        ...   \n",
       "10.1038/s41597-024-03657-7  2024-08-24         0          0          0   \n",
       "10.1038/s41597-024-03786-z  2024-08-24         0          0          1   \n",
       "10.1038/s41597-024-03739-6  2024-08-24         0          0          0   \n",
       "10.1038/s41597-024-03750-x  2024-08-24         0          0          0   \n",
       "10.1038/s41597-024-03782-3  2024-08-24         0          0          0   \n",
       "\n",
       "                            Citations10^  \n",
       "DOI                                       \n",
       "10.1038/sdata20142              0.845098  \n",
       "10.1038/sdata20141              2.484300  \n",
       "10.1038/sdata20146              2.176091  \n",
       "10.1038/sdata20147              2.217484  \n",
       "10.1038/sdata20144              1.892095  \n",
       "...                                  ...  \n",
       "10.1038/s41597-024-03657-7      0.000000  \n",
       "10.1038/s41597-024-03786-z      0.000000  \n",
       "10.1038/s41597-024-03739-6      0.000000  \n",
       "10.1038/s41597-024-03750-x      0.000000  \n",
       "10.1038/s41597-024-03782-3      0.000000  \n",
       "\n",
       "[4259 rows x 10 columns]"
      ]
     },
     "execution_count": 22,
     "metadata": {},
     "output_type": "execute_result"
    }
   ],
   "source": [
    "dfp = pd.read_csv('../database/nature_sdata.csv', index_col=\"DOI\")\n",
    "dfp[\"Date\"] = pd.to_datetime(dfp[\"Date\"])\n",
    "dfm = pd.read_csv('../database/metrics.csv', index_col=\"DOI\")\n",
    "dfm[\"ParsingDate\"] = pd.to_datetime(dfm[\"ParsingDate\"])\n",
    "df = pd.merge(dfp, dfm, how='inner', left_index=True, right_index=True)\n",
    "df[\"Citations10^\"] = np.log10(df[\"Citations\"] + 1)\n",
    "df"
   ]
  },
  {
   "cell_type": "code",
   "execution_count": 27,
   "metadata": {},
   "outputs": [
    {
     "data": {
      "application/vnd.plotly.v1+json": {
       "config": {
        "plotlyServerURL": "https://plot.ly"
       },
       "data": [
        {
         "customdata": [
          [
           "The systematic identification of cytoskeletal genes required for Drosophila melanogaster muscle maintenance",
           6
          ],
          [
           "Global integrated drought monitoring and prediction system",
           304
          ],
          [
           "microclim: Global estimates of hourly microclimate based on long-term monthly climate averages",
           149
          ],
          [
           "Systematic global assessment of reef fish communities by the Reef Life Survey program",
           164
          ],
          [
           "A global compendium of human dengue virus occurrence",
           77
          ],
          [
           "Time-resolved gene expression profiling during reprogramming of C/EBPα-pulsed B cells into iPS cells",
           2
          ],
          [
           "miRNA expression atlas in male rat",
           48
          ],
          [
           "A high-resolution 7-Tesla fMRI dataset from complex natural stimulation with an audio movie",
           108
          ],
          [
           "The species translation challenge—A systems biology perspective on human and rat bronchial epithelial cells",
           32
          ],
          [
           "Direct infusion mass spectrometry metabolomics dataset: a benchmark for data processing and quality control",
           103
          ],
          [
           "Genomes and phenomes of a population of outbred rats and its progenitors",
           21
          ],
          [
           "Tree of Sex: A database of sexual systems",
           160
          ],
          [
           "Comprehensive RNA-Seq transcriptomic profiling across 11 organs, 4 ages, and 2 sexes of Fischer 344 rats",
           16
          ],
          [
           "Genome-wide functional genomic and transcriptomic analyses for genes regulating sensitivity to vorinostat",
           14
          ],
          [
           "The Clodia database: a long time series of fishery data from the Adriatic Sea",
           27
          ],
          [
           "Life history profiles for 27 strepsirrhine primate taxa generated using captive data from the Duke Lemur Center",
           44
          ],
          [
           "Transcriptomic analysis of midbrain and individual hindbrain rhombomeres in the chick embryo",
           1
          ],
          [
           "Comprehensive analysis of the venom gland transcriptome of the spider Dolomedes fimbriatus",
           18
          ],
          [
           "A draft genome for the African crocodilian trypanosome Trypanosoma grayi",
           38
          ],
          [
           "A repository of assays to quantify 10,000 human proteins by SWATH-MS",
           300
          ],
          [
           "Metabolic differences in ripening of Solanum lycopersicum ‘Ailsa Craig’ and three monogenic mutants",
           12
          ],
          [
           "Global database of leishmaniasis occurrence locations, 1960–2012",
           35
          ],
          [
           "Parallel genome-scale loss of function screens in 216 cancer cell lines for the identification of context-specific genetic dependencies",
           295
          ],
          [
           "Genomes of diverse isolates of the marine cyanobacterium Prochlorococcus",
           83
          ],
          [
           "A comprehensive collection of systems biology data characterizing the host response to viral infection",
           37
          ],
          [
           "Reliability of brain volume measurements: A test-retest dataset",
           95
          ],
          [
           "Scrutinizing the datasets obtained from nanoscale features of spider silk fibres",
           2
          ],
          [
           "A comprehensive database of the geographic spread of past human Ebola outbreaks",
           37
          ],
          [
           "Flow-dependent regulation of genome-wide mRNA and microRNA expression in endothelial cells in vivo",
           23
          ],
          [
           "A time-indexed reference standard of adverse drug reactions",
           30
          ],
          [
           "DNA methylation temporal profiling following peripheral versus central nervous system axotomy",
           13
          ],
          [
           "Multi-channel EEG recordings during 3,936 grasp and lift trials with varying weight and friction",
           71
          ],
          [
           "Long-read, whole-genome shotgun sequence data for five model organisms",
           104
          ],
          [
           "Simplified data access on human skeletal muscle transcriptome responses to differentiated exercise",
           52
          ],
          [
           "Concentrations and ratios of particulate organic carbon, nitrogen, and phosphorus in the global ocean",
           110
          ],
          [
           "An open science resource for establishing reliability and reproducibility in functional connectomics",
           267
          ],
          [
           "Multi-modal ultra-high resolution structural 7-Tesla MRI data repository",
           46
          ],
          [
           "Electromyography data for non-invasive naturally-controlled robotic hand prostheses",
           518
          ],
          [
           "Assessment of lipidomic species in hepatocyte lipid droplets from stressed mouse models",
           8
          ],
          [
           "A reanalysis dataset of the South China Sea",
           14
          ],
          [
           "Synaptic molecular imaging in spared and deprived columns of mouse barrel cortex with array tomography",
           9
          ],
          [
           "The multilayer temporal network of public transport in Great Britain",
           103
          ],
          [
           "A high resolution 7-Tesla resting-state fMRI test-retest dataset with cognitive and physiological measures",
           38
          ],
          [
           "A multi-subject, multi-modal human neuroimaging dataset",
           99
          ],
          [
           "Human olfactory receptor responses to odorants",
           91
          ],
          [
           "The pediatric template of brain perfusion",
           45
          ],
          [
           "Allometry and growth of eight tree taxa in United Kingdom woodlands",
           14
          ],
          [
           "High-resolution gene expression data from blastoderm embryos of the scuttle fly Megaselia abdita",
           3
          ],
          [
           "A global database of lake surface temperatures collected by in situ and satellite methods from 1985–2009",
           152
          ],
          [
           "Charting the complete elastic properties of inorganic crystalline compounds",
           732
          ],
          [
           "Sequence variants from whole genome sequencing a large group of Icelanders",
           52
          ],
          [
           "A summary of eight traits of Coleoptera, Hemiptera, Orthoptera and Araneae, occurring in grasslands in Germany",
           45
          ],
          [
           "The UK-DALE dataset, domestic appliance-level electricity demand and whole-house demand from five UK homes",
           539
          ],
          [
           "A comprehensive map of genome-wide gene regulation in Mycobacterium tuberculosis",
           38
          ],
          [
           "Sequence data for Clostridium autoethanogenum using three generations of sequencing technologies",
           41
          ],
          [
           "A global compendium of human Crimean-Congo haemorrhagic fever virus occurrence",
           31
          ],
          [
           "The Icelandic 16-electrode electrohysterogram database",
           54
          ],
          [
           "De novo transcriptome assembly databases for the central nervous system of the medicinal leech",
           21
          ],
          [
           "A user-friendly database of coastal flooding in the United Kingdom from 1915–2014",
           42
          ],
          [
           "Long-term observation of amphibian populations inhabiting urban and forested areas in Yekaterinburg, Russia",
           13
          ],
          [
           "Genome-wide RNAi screen for synthetic lethal interactions with the C. elegans kinesin-5 homolog BMK-1",
           9
          ],
          [
           "An archive of longitudinal recordings of the vocalizations of adult Gombe chimpanzees",
           4
          ],
          [
           "Open science resources for the discovery and analysis of Tara Oceans data",
           257
          ],
          [
           "A review of epidemiological parameters from Ebola outbreaks to inform early public health decision-making",
           92
          ],
          [
           "A database for the monitoring of thermal anomalies over the Amazon forest and adjacent intertropical oceans",
           12
          ],
          [
           "Global database of paleocurrent trends through the Phanerozoic and Precambrian",
           6
          ],
          [
           "Snapshot Serengeti, high-frequency annotated camera trap images of 40 mammalian species in an African savanna",
           283
          ],
          [
           "A daily global mesoscale ocean eddy dataset from satellite altimetry",
           235
          ],
          [
           "A TEX86 surface sediment database and extended Bayesian calibration",
           129
          ],
          [
           "Proteomic analysis of colon and rectal carcinoma using standard and customized databases",
           20
          ],
          [
           "Comparative, transcriptome analysis of self-organizing optic tissues",
           9
          ],
          [
           "High resolution multi-facies realizations of sedimentary reservoir and aquifer analogs",
           30
          ],
          [
           "Brain Genomics Superstruct Project initial data release with structural, functional, and behavioral measures",
           264
          ],
          [
           "The global compendium of Aedes aegypti and Ae. albopictus occurrence",
           244
          ],
          [
           "A large-scale crop protection bioassay data set",
           14
          ],
          [
           "Impacts of elevated atmospheric CO2 on nutrient content of important food crops",
           56
          ],
          [
           "Lilac and honeysuckle phenology data 1956–2014",
           25
          ],
          [
           "Field data sets for seagrass biophysical properties for the Eastern Banks, Moreton Bay, Australia, 2004–2014",
           4
          ],
          [
           "Global database of matched Plasmodium falciparum and P. vivax incidence and prevalence records from 1985–2013",
           20
          ],
          [
           "The Pacific Northwest National Laboratory library of bacterial and archaeal proteomic biodiversity",
           11
          ],
          [
           "A spatially comprehensive, hydrometeorological data set for Mexico, the U.S., and Southern Canada 1950–2013",
           268
          ],
          [
           "A multimodal MRI dataset of professional chess players",
           14
          ],
          [
           "A resource from 3D electron microscopy of hippocampal neuropil for user training and tool development",
           27
          ],
          [
           "High-resolution gridded population datasets for Latin America and the Caribbean in 2010, 2015, and 2020",
           145
          ],
          [
           "The proteome of mouse vestibular hair bundles over development",
           31
          ],
          [
           "Roads and cities of 18th century France",
           23
          ],
          [
           "Database of host-pathogen and related species interactions, and their global distribution",
           85
          ],
          [
           "High-resolution computed tomography reconstructions of invertebrate burrow systems",
           22
          ],
          [
           "A database to enable discovery and design of piezoelectric materials",
           184
          ],
          [
           "De novo transcriptome profiling of highly purified human lymphocytes primary cells",
           24
          ],
          [
           "The Centennial Trends Greater Horn of Africa precipitation dataset",
           320
          ],
          [
           "Test-retest resting-state fMRI in healthy elderly persons with a family history of Alzheimer’s disease",
           23
          ],
          [
           "Sea surface temperature and salinity from French research vessels, 2001–2013",
           14
          ],
          [
           "A multi-source dataset of urban life in the city of Milan and the Province of Trentino",
           266
          ],
          [
           "Population genomic datasets describing the post-vaccine evolutionary epidemiology of Streptococcus pneumoniae",
           38
          ],
          [
           "Australian sea-floor survey data, with images and expert annotations",
           39
          ],
          [
           "A connectivity-based test-retest dataset of multi-modal magnetic resonance imaging in young healthy adults",
           43
          ],
          [
           "Multi-contrast submillimetric 3 Tesla hippocampal subfield segmentation protocol and dataset",
           67
          ],
          [
           "A resource of ribosomal RNA-depleted RNA-Seq data from different normal adult and fetal human tissues",
           19
          ],
          [
           "Biological, ecological, conservation and legal information for all species and subspecies of Australian bird",
           75
          ],
          [
           "Construction, complete sequence, and annotation of a BAC contig covering the silkworm chorion locus",
           2
          ],
          [
           "Mapping dominant annual land cover from 2009 to 2013 across Victoria, Australia using satellite imagery",
           11
          ],
          [
           "A collection of Australian Drosophila datasets on climate adaptation and species distributions",
           16
          ],
          [
           "VenomKB, a new knowledge base for facilitating the validation of putative venom therapies",
           5
          ],
          [
           "VLUIS, a land use data product for Victoria, Australia, covering 2006 to 2013",
           8
          ],
          [
           "Dataset on coherent control of fields and induced currents in nonlinear multiphoton processes in a nanosphere",
           1
          ],
          [
           "Onshore industrial wind turbine locations for the United States up to March 2014",
           8
          ],
          [
           "Hair-bundle proteomes of avian and mammalian inner-ear utricles",
           11
          ],
          [
           "Species-wide genome sequence and nucleotide polymorphisms from the model allopolyploid plant Brassica napus",
           41
          ],
          [
           "Multi-omic profiles of human non-alcoholic fatty liver disease tissue highlight heterogenic phenotypes",
           39
          ],
          [
           "The climate hazards infrared precipitation with stations—a new environmental record for monitoring extremes",
           2802
          ],
          [
           "Near-global freshwater-specific environmental variables for biodiversity analyses in 1 km resolution",
           142
          ],
          [
           "A global planktic foraminifer census data set for the Pliocene ocean",
           5
          ],
          [
           "Long-term monitoring dataset of fish assemblages impinged at nuclear power plants in northern Taiwan",
           12
          ],
          [
           "Pantheon 1.0, a manually verified dataset of globally famous biographies",
           35
          ],
          [
           "Comprehensive systems biology analysis of a 7-month cigarette smoke inhalation study in C57BL/6 mice",
           23
          ],
          [
           "Plant traits, productivity, biomass and soil properties from forest sites in the Pacific Northwest, 1999–2014",
           32
          ],
          [
           "A multimodal dataset of spontaneous speech and movement production on object affordances",
           4
          ],
          [
           "A collection of non-human primate computed tomography scans housed in MorphoSource, a repository for 3D data",
           39
          ],
          [
           "DNA methylation profiling of primary neuroblastoma tumors using methyl-CpG-binding domain sequencing",
           11
          ],
          [
           "A structural and functional magnetic resonance imaging dataset of brain tumour patients",
           16
          ],
          [
           "Transcriptome regulation and chromatin occupancy by E2F3 and MYC in mice",
           6
          ],
          [
           "First-principles data set of 45,892 isolated and cation-coordinated conformers of 20 proteinogenic amino acids",
           51
          ],
          [
           "An open access pilot freely sharing cancer genomic data from participants in Texas",
           13
          ],
          [
           "Analysing biodiversity and conservation knowledge products to support regional environmental assessments",
           55
          ],
          [
           "Spatiotemporal patterns of population in mainland China, 1990 to 2010",
           120
          ],
          [
           "Blended sea level anomaly fields with enhanced coastal coverage along the U.S. West Coast",
           10
          ],
          [
           "A global bionomic database for the dominant vectors of human malaria",
           34
          ],
          [
           "A polymer dataset for accelerated property prediction and design",
           124
          ],
          [
           "Female and male life tables for seven wild primate species",
           65
          ],
          [
           "The mPower study, Parkinson disease mobile data collected using ResearchKit",
           355
          ],
          [
           "A test-retest dataset for assessing long-term reliability of brain morphology and resting-state brain activity",
           8
          ],
          [
           "Genome-scale DNA methylome and transcriptome profiling of human neutrophils",
           19
          ],
          [
           "A large dataset of protein dynamics in the mammalian heart proteome",
           63
          ],
          [
           "The Coral Trait Database, a curated database of trait information for coral species from the global oceans",
           173
          ],
          [
           "X-ray laser diffraction for structure determination of the rhodopsin-arrestin complex",
           41
          ],
          [
           "A multi-decade dataset of monthly beach profile surveys and inshore wave forcing at Narrabeen, Australia",
           137
          ],
          [
           "Reference genotype and exome data from an Australian Aboriginal population for health-based research",
           15
          ],
          [
           "Global gene expression profiling of JMJD6- and JMJD4-depleted mouse NIH3T3 fibroblasts",
           5
          ],
          [
           "SCSPOD14, a South China Sea physical oceanographic dataset derived from in situ measurements during 1919–2014",
           55
          ],
          [
           "A patient-level data meta-analysis of standard-of-care treatments from eight prostate cancer clinical trials",
           10
          ],
          [
           "Modeling angle-resolved photoemission of graphene and black phosphorus nano structures",
           2
          ],
          [
           "A curated and standardized adverse drug event resource to accelerate drug safety research",
           123
          ],
          [
           "MycoDB, a global database of plant response to mycorrhizal fungi",
           74
          ],
          [
           "Digital elevation model and orthophotographs of Greenland based on aerial photographs from 1978–1987",
           74
          ],
          [
           "Daphnia magna transcriptome by RNA-Seq across 12 environmental stressors",
           86
          ],
          [
           "MIMIC-III, a freely accessible critical care database",
           3809
          ],
          [
           "An agricultural survey for more than 9,500 African households",
           14
          ],
          [
           "High resolution, week-long, locomotion time series from Japanese quail in a home-box environment",
           9
          ],
          [
           "The Birmingham Urban Climate Laboratory—A high density, urban meteorological dataset, from 2012–2014",
           30
          ],
          [
           "Electricity, water, and natural gas consumption of a residential house in Canada from 2012 to 2014",
           179
          ],
          [
           "Spatializing 6,000 years of global urbanization from 3700 BC to AD 2000",
           66
          ],
          [
           "Extensive sequencing of seven human genomes to characterize benchmark reference materials",
           382
          ],
          [
           "Nanomaterial datasets to advance tomography in scanning transmission electron microscopy",
           42
          ],
          [
           "X-ray computed tomography datasets for forensic analysis of vertebrate fossils",
           7
          ],
          [
           "The brain imaging data structure, a format for organizing and describing outputs of neuroimaging experiments",
           737
          ],
          [
           "A database of marine phytoplankton abundance, biomass and species composition in Australian waters",
           33
          ],
          [
           "A lake data set for the Tibetan Plateau from the 1960s, 2005, and 2014",
           114
          ],
          [
           "A protocol to convert spatial polyline data to network formats and applications to world urban road networks",
           80
          ],
          [
           "A foraminiferal δ18O record covering the last 2,200 years",
           2
          ],
          [
           "A collection of intrinsic disorder characterizations from eukaryotic proteomes",
           12
          ],
          [
           "Long non-coding RNA expression profiling in the NCI60 cancer cell line panel using high-throughput RT-qPCR",
           4
          ],
          [
           "Downscaled and debiased climate simulations for North America from 21,000 years ago to 2100AD",
           66
          ],
          [
           "A catalogue of 136 microbial draft genomes from Red Sea metagenomes",
           36
          ],
          [
           "Comprehensive RNA-Seq profiling to evaluate lactating sheep mammary gland transcriptome",
           36
          ],
          [
           "Spatiotemporal dataset on Chinese population distribution and its driving factors from 1949 to 2013",
           19
          ],
          [
           "High-throughput ab-initio dilute solute diffusion database",
           101
          ],
          [
           "A comprehensive database of quality-rated fossil ages for Sahul’s Quaternary vertebrates",
           13
          ],
          [
           "Coherent diffraction of single Rice Dwarf virus particles using hard X-rays at the Linac Coherent Light Source",
           57
          ],
          [
           "Global positioning system survey data for active seismic and volcanic areas of eastern Sicily, 1994 to 2013",
           8
          ],
          [
           "Species interactions in occurrence data for a community of tick-transmitted pathogens",
           40
          ],
          [
           "Serial femtosecond crystallography datasets from G protein-coupled receptors",
           10
          ],
          [
           "Bat trait, genetic and pathogen data from large-scale investigations of African fruit bats, Eidolon helvum",
           6
          ],
          [
           "Open data set of live cyanobacterial cells imaged using an X-ray laser",
           7
          ],
          [
           "Single-shot diffraction data from the Mimivirus particle using an X-ray free-electron laser",
           16
          ],
          [
           "A data set from flash X-ray imaging of carboxysomes",
           10
          ],
          [
           "Genome sequencing of a single tardigrade Hypsibius dujardini individual",
           40
          ],
          [
           "Multi-omics profile of the mouse dentate gyrus after kainic acid-induced status epilepticus",
           23
          ],
          [
           "Mapping internal connectivity through human migration in malaria endemic countries",
           44
          ],
          [
           "Fractionation of parietal function in bistable perception probed with concurrent TMS-EEG",
           3
          ],
          [
           "Spatially-explicit models of global tree density",
           6
          ],
          [
           "Quantitative monitoring of Arabidopsis thaliana growth and development using high-throughput plant phenotyping",
           24
          ],
          [
           "Global terrestrial Human Footprint maps for 1993 and 2009",
           455
          ],
          [
           "Data for evaluation of fast kurtosis strategies, b-value optimization and exploration of diffusion MRI contrast",
           18
          ],
          [
           "A social-ecological database to advance research on infrastructure development impacts in the Brazilian Amazon",
           17
          ],
          [
           "Unveiling the geography of historical patents in the United States from 1836 to 1975",
           40
          ],
          [
           "Mean hydrography on the continental shelf from 26 repeat glider deployments along Southeastern Australia",
           12
          ],
          [
           "Combinatory annotation of cell membrane receptors and signalling pathways of Bombyx mori prothoracic glands",
           6
          ],
          [
           "Genomic resources for wild populations of the house mouse, Mus musculus and its close relative Mus spretus",
           86
          ],
          [
           "Surface energies of elemental crystals",
           628
          ],
          [
           "Building two indica rice reference genomes with PacBio long-read and Illumina paired-end sequencing data",
           26
          ],
          [
           "Single-cell transcriptome and epigenomic reprogramming of cardiomyocyte-derived cardiac progenitor cells",
           13
          ],
          [
           "De novo transcriptome assembly databases for the butterfly orchid Phalaenopsis equestris",
           18
          ],
          [
           "A global experimental dataset for assessing grain legume production",
           40
          ],
          [
           "Long-term data set of small mammals from owl pellets in the Atlantic-Mediterranean transition area",
           3
          ],
          [
           "Next generation sequencing data of a defined microbial mock community",
           73
          ],
          [
           "The Harvard organic photovoltaic dataset",
           78
          ],
          [
           "Iberian fish records in the vertebrate collection of the Museum of Zoology of the University of Navarra",
           2
          ],
          [
           "Data from a pre-publication independent replication initiative examining ten moral judgement effects",
           7
          ],
          [
           "Long-term, high frequency in situ measurements of intertidal mussel bed temperatures using biomimetic sensors",
           69
          ],
          [
           "Five years of phenology observations from a mixed-grass prairie exposed to warming and elevated CO2",
           7
          ],
          [
           "Human whole genome genotype and transcriptome data for Alzheimer’s and other neurodegenerative diseases",
           225
          ],
          [
           "Genome-wide chromatin and gene expression profiling during memory formation and maintenance in adult mice",
           4
          ],
          [
           "A studyforrest extension, retinotopic mapping and localization of higher visual areas",
           37
          ],
          [
           "A database of human exposomes and phenomes from the US National Health and Nutrition Examination Survey",
           76
          ],
          [
           "A studyforrest extension, simultaneous fMRI and eye gaze recordings during prolonged natural stimulation",
           59
          ],
          [
           "A German-language replication study analysing the role of figurative speech in reasoning",
           10
          ],
          [
           "A variant reference data set for the Africanized honeybee, Apis mellifera",
           11
          ],
          [
           "ROCK signalling induced gene expression changes in mouse pancreatic ductal adenocarcinoma cells",
           8
          ],
          [
           "Spatial and temporal dynamics of multidimensional well-being, livelihoods and ecosystem services in coastal Bangladesh",
           20
          ],
          [
           "3-dimensional electron microscopic imaging of the zebrafish olfactory bulb and dense reconstruction of neurons",
           30
          ],
          [
           "Cross-cultural dataset for the evolution of religion and morality project",
           13
          ],
          [
           "Systematic chemical-genetic and chemical-chemical interaction datasets for prediction of compound synergism",
           9
          ],
          [
           "A global gas flaring black carbon emission rate dataset from 1994 to 2012",
           33
          ],
          [
           "A microarray whole-genome gene expression dataset in a rat model of inflammatory corneal angiogenesis",
           9
          ],
          [
           "A chromosome-level genome assembly of the Asian arowana, Scleropages formosus",
           11
          ],
          [
           "Distributed solar photovoltaic array location and extent dataset for remote sensing object identification",
           77
          ],
          [
           "A collection of European sweet cherry phenology data for assessing climate change",
           16
          ],
          [
           "Spatial and temporal analysis of extreme sea level and storm surge events around the coastline of the UK",
           102
          ],
          [
           "Sharing brain mapping statistical results with the neuroimaging data model",
           34
          ],
          [
           "A phenome-wide examination of neural and cognitive function",
           199
          ],
          [
           "Dataset of eye disease-related proteins analyzed using the unfolding mutation screen",
           11
          ],
          [
           "Remotely sensed high resolution irrigated area mapping in India for 2000 to 2015",
           120
          ],
          [
           "An atlas of transcriptional, chromatin accessibility, and surface marker changes in human mesoderm development",
           33
          ],
          [
           "Multi-echo fMRI replication sample of autobiographical memory, prospection and theory of mind reasoning tasks",
           17
          ],
          [
           "Gene expression profiles and physiological data from mice fed resveratrol-enriched rice DJ526",
           5
          ],
          [
           "Genome resequencing and comparative variome analysis in a Brassica rapa and Brassica oleracea collection",
           40
          ],
          [
           "RNA sequencing analysis of the developing chicken retina",
           16
          ],
          [
           "Transcriptome characterisation and simple sequence repeat marker discovery in the seagrass Posidonia oceanica",
           11
          ],
          [
           "An electrical load measurements dataset of United Kingdom households from a two-year longitudinal study",
           270
          ],
          [
           "A global distributed basin morphometric dataset",
           28
          ],
          [
           "EU-Forest, a high-resolution tree occurrence dataset for Europe",
           107
          ],
          [
           "High-resolution African population projections from radiative forcing and socio-economic models, 2000 to 2100",
           31
          ],
          [
           "A dataset of human decision-making in teamwork management",
           14
          ],
          [
           "Whole genome sequencing data and de novo draft assemblies for 66 teleost species",
           57
          ],
          [
           "Stable isotopes in the atmospheric marine boundary layer water vapour over the Atlantic Ocean, 2012–2015",
           28
          ],
          [
           "Two replications of an investigation on empathy and utilitarian judgement across socioeconomic status",
           2
          ],
          [
           "High-throughput screening of inorganic compounds for the discovery of novel dielectric and optical materials",
           160
          ],
          [
           "An extensive dataset of eye movements during viewing of complex images",
           31
          ],
          [
           "High resolution global gridded data for use in population studies",
           223
          ],
          [
           "A systematic review and meta-analysis of seroprevalence surveys of ebolavirus infection",
           44
          ],
          [
           "A longitudinal dataset of five years of public activity in the Scratch online community",
           18
          ],
          [
           "Evaluation and comparison of classical interatomic potentials through a user-friendly interactive web-interface",
           20
          ],
          [
           "A 4-study replication of the moderating effects of greed on socioeconomic status and unethical behaviour",
           16
          ],
          [
           "De novo transcriptome assemblies of four accessions of the metal hyperaccumulator plant Noccaea caerulescens",
           26
          ],
          [
           "The Mole Mapper Study, mobile phone skin imaging and melanoma risk data collected using ResearchKit",
           57
          ],
          [
           "Longitudinal test-retest neuroimaging data from healthy young adults in southwest China",
           98
          ],
          [
           "Specific membrane capacitance, cytoplasm conductivity and instantaneous Young’s modulus of single tumour cells",
           39
          ],
          [
           "The French Muséum national d’histoire naturelle vascular plant herbarium collection dataset",
           56
          ],
          [
           "RETRACTED ARTICLE: 11,670 whole-genome sequences representative of the Han Chinese population from the CONVERGE project",
           28
          ],
          [
           "A land data assimilation system for sub-Saharan Africa food and water security applications",
           289
          ],
          [
           "Development of improved vaccine cell lines against rotavirus",
           21
          ],
          [
           "Image-based siRNA screen to identify kinases regulating Weibel-Palade body size control using electroporation",
           7
          ],
          [
           "RNAi screens for Rho GTPase regulators of cell shape and YAP/TAZ localisation in triple negative breast cancer",
           26
          ],
          [
           "Genome-wide siRNA screen of genes regulating the LPS-induced NF-κB and TNF-α responses in mouse macrophages",
           8
          ],
          [
           "MicroRNA screening identifies miR-134 as a regulator of poliovirus and enterovirus 71 infection",
           15
          ],
          [
           "Systematic high-content genome-wide RNAi screens of endothelial cell migration and morphology",
           20
          ],
          [
           "Genome-wide siRNA screen of genes regulating the LPS-induced TNF-α response in human macrophages",
           12
          ],
          [
           "Genome-wide barcoded transposon screen for cancer drug sensitivity in haploid mouse embryonic stem cells",
           12
          ],
          [
           "Metazoan mitochondrial gene sequence reference datasets for taxonomic assignment of environmental samples",
           124
          ],
          [
           "Spatial and quantitative datasets of the pancreatic β-cell mass distribution in lean and obese mice",
           3
          ],
          [
           "A standard database for drug repositioning",
           206
          ],
          [
           "Enhancing studies of the connectome in autism using the autism brain imaging data exchange II",
           359
          ],
          [
           "Comprehensive RNA-seq transcriptomic profiling in the malignant progression of gliomas",
           182
          ],
          [
           "High-resolution data on the impact of warming on soil CO2 efflux from an Asian monsoon forest",
           15
          ],
          [
           "Targeted deep sequencing of flowering regulators in Brassica napus reveals extensive copy number variation",
           30
          ],
          [
           "A curated collection of tissue microarray images and clinical outcome data of prostate cancer patients",
           22
          ],
          [
           "T1-weighted in vivo human whole brain MRI dataset with an ultrahigh isotropic resolution of 250 μm",
           52
          ],
          [
           "Collocated observations of cloud condensation nuclei, particle size distributions, and chemical composition",
           45
          ],
          [
           "A dataset of stereoscopic images and ground-truth disparity mimicking human fixations in peripersonal space",
           16
          ],
          [
           "Long-term growth data of Escherichia coli at a single-cell level",
           22
          ],
          [
           "Transcriptomic profiling of 39 commonly-used neuroblastoma cell lines",
           101
          ],
          [
           "Metagenome sequencing and 98 microbial genomes from Juan de Fuca Ridge flank subsurface fluids",
           52
          ],
          [
           "Developing a dataset to track aid for reproductive, maternal, newborn and child health, 2003–2013",
           12
          ],
          [
           "Event-related potential data from a guess the number brain-computer interface experiment on school children",
           7
          ],
          [
           "Molecular, phenotypic, and sample-associated data to describe pluripotent stem cell lines and derivatives",
           45
          ],
          [
           "The global avian invasions atlas, a database of alien bird distributions worldwide",
           103
          ],
          [
           "A high-throughput molecular data resource for cutaneous neurofibromas",
           18
          ],
          [
           "A distribution and taxonomic reference dataset of Geranium in the New World",
           4
          ],
          [
           "Diffraction data of core-shell nanoparticles from an X-ray free electron laser",
           5
          ],
          [
           "High-coverage methylation data of a gene model before and after DNA damage and homologous repair",
           9
          ],
          [
           "A database of global marine commercial, small-scale, illegal and unreported fisheries catch 1950–2014",
           81
          ],
          [
           "A geographically-diverse collection of 418 human gut microbiome pathway genome databases",
           5
          ],
          [
           "The contemporary distribution of Trypanosoma cruzi infection in humans, alternative hosts and vectors",
           26
          ],
          [
           "X-ray computed tomography library of shark anatomy and lower jaw surface models",
           21
          ],
          [
           "A resource for assessing information processing in the developing brain using EEG and eye tracking",
           45
          ],
          [
           "Spatiotemporal historical datasets at micro-level for geocoded individuals in five Swedish parishes, 1813–1914",
           8
          ],
          [
           "Multimodal chest surface motion data for respiratory and cardiovascular monitoring applications",
           17
          ],
          [
           "Large-scale modeled contemporary and future water temperature estimates for 10774 Midwestern U.S. Lakes",
           40
          ],
          [
           "Automated and manual patch clamp data of human induced pluripotent stem cell-derived dopaminergic neurons",
           21
          ],
          [
           "Se-SAD serial femtosecond crystallography datasets from selenobiotinyl-streptavidin",
           6
          ],
          [
           "A curated database of cyanobacterial strains relevant for modern taxonomy and phylogenetic studies",
           25
          ],
          [
           "Construction of a map-based reference genome sequence for barley, Hordeum vulgare L.",
           103
          ],
          [
           "Transcriptional profile of hippocampal dentate granule cells in four rat epilepsy models",
           40
          ],
          [
           "A hybrid organic-inorganic perovskite dataset",
           123
          ],
          [
           "Seagrass morphometrics at species level in Moreton Bay, Australia from 2012 to 2013",
           4
          ],
          [
           "A dataset of forest biomass structure for Eurasia",
           70
          ],
          [
           "A resource on latitudinal and altitudinal clines of ecologically relevant phenotypes of the Indian Drosophila",
           7
          ],
          [
           "Disambiguation of patent inventors and assignees using high-resolution geolocation data",
           29
          ],
          [
           "Modern pollen data from the Canadian Arctic, 1972–1973",
           0
          ],
          [
           "A database of georeferenced nutrient chemistry data for mountain lakes of the Western United States",
           8
          ],
          [
           "Transcriptomic analysis of gene signatures associated with sickle pain",
           8
          ],
          [
           "A new, long-term daily satellite-based rainfall dataset for operational monitoring in Africa",
           147
          ],
          [
           "Advancing Precambrian palaeomagnetism with the PALEOMAGIA and PINT(QPI) databases",
           20
          ],
          [
           "Unique identifiers for small molecules enable rigorous labeling of their atoms",
           28
          ],
          [
           "Development of a gridded meteorological dataset over Java island, Indonesia 1985–2014",
           21
          ],
          [
           "RiceAtlas, a spatial database of global rice calendars and production",
           107
          ],
          [
           "A monthly global paleo-reanalysis of the atmosphere from 1600 to 2005 for studying past climatic variations",
           66
          ],
          [
           "DATS, the data tag suite to enable discoverability of datasets",
           54
          ],
          [
           "A global dataset of crowdsourced land cover and land use reference data",
           121
          ],
          [
           "Single-cell transcriptome of early embryos and cultured embryonic stem cells of cynomolgus monkeys",
           33
          ],
          [
           "MERRAclim, a high-resolution global dataset of remotely sensed bioclimatic variables for ecological modelling",
           98
          ],
          [
           "Targeted metagenomic sequencing data of human gut microbiota associated with Blastocystis colonization",
           9
          ],
          [
           "Coherent soft X-ray diffraction imaging of coliphage PR772 at the Linac coherent light source",
           52
          ],
          [
           "A multiscale dataset for understanding complex eco-hydrological processes in a heterogeneous oasis system",
           118
          ],
          [
           "A web platform for landuse, climate, demography, hydrology and beach erosion in the Black Sea catchment",
           12
          ],
          [
           "An ab initio electronic transport database for inorganic materials",
           153
          ],
          [
           "Matched computed tomography segmentation and demographic data for oropharyngeal cancer radiomics challenges",
           44
          ],
          [
           "A global multiproxy database for temperature reconstructions of the Common Era",
           265
          ],
          [
           "A multi-protease, multi-dissociation, bottom-up-to-top-down proteomic view of the Loxosceles intermedia venom",
           21
          ],
          [
           "An imaging dataset of cervical cells using scanning near-field optical microscopy coupled to an infrared free electron laser",
           4
          ],
          [
           "Sub-national mapping of population pyramids and dependency ratios in Africa and Asia",
           0
          ],
          [
           "Targeted proteomic assays for quantitation of proteins identified by proteogenomic analysis of ovarian cancer",
           28
          ],
          [
           "A metagenomic survey of forest soil microbial communities more than a decade after timber harvesting",
           13
          ],
          [
           "A comprehensive data set of lake surface water temperature over the Tibetan Plateau derived from MODIS LST products 2001–2015",
           73
          ],
          [
           "A large-scale solar dynamics observatory image dataset for computer vision applications",
           20
          ],
          [
           "The research infrastructure of Chinese foundations, a database for Chinese civil society studies",
           33
          ],
          [
           "Morphology of Dbx1 respiratory neurons in the preBötzinger complex and reticular formation of neonatal mice",
           11
          ],
          [
           "Viral to metazoan marine plankton nucleotide sequences from the Tara Oceans expedition",
           102
          ],
          [
           "An improved database of coastal flooding in the United Kingdom from 1915 to 2016",
           40
          ],
          [
           "Long-term chloride concentrations in North American and European freshwater lakes",
           44
          ],
          [
           "Water quality measurements in San Francisco Bay by the U.S. Geological Survey, 1969–2015",
           28
          ],
          [
           "A multimodal dataset for various forms of distracted driving",
           65
          ],
          [
           "Spatiotemporal database of US congressional elections, 1896–2014",
           1
          ],
          [
           "Genome-wide expression datasets of anti-VEGF and dexamethasone treatment of angiogenesis in the rat cornea",
           4
          ],
          [
           "Global distribution of clay-size minerals on land surface for biogeochemical and climatological studies",
           142
          ],
          [
           "A new global anthropogenic heat estimation based on high-resolution nighttime light data",
           49
          ],
          [
           "ForCenS, a curated database of planktonic foraminifera census counts in marine surface sediment samples",
           72
          ],
          [
           "A gene expression atlas of adult Schistosoma mansoni and their gonads",
           33
          ],
          [
           "FANTOM5 CAGE profiles of human and mouse samples",
           158
          ],
          [
           "Distinct transcriptional responses of lymphatic endothelial cells to VEGFR-3 and VEGFR-2 stimulation",
           24
          ],
          [
           "RefEx, a reference gene expression dataset as a web tool for the functional analysis of genes",
           43
          ],
          [
           "FANTOM5 CAGE profiles of human and mouse reprocessed for GRCh38 and GRCm38 genome assemblies",
           46
          ],
          [
           "AmphiBIO, a global database for amphibian ecological traits",
           166
          ],
          [
           "Advancing The Cancer Genome Atlas glioma MRI collections with expert segmentation labels and radiomic features",
           1609
          ],
          [
           "Comprehensive analyses of somatic TP53 mutation in tumors with variable mutant allele frequency",
           9
          ],
          [
           "High resolution multibeam and hydrodynamic datasets of tidal channels and inlets of the Venice Lagoon",
           42
          ],
          [
           "Climatologies at high resolution for the earth’s land surface areas",
           2258
          ],
          [
           "Database of multi-parametric geophysical data from the TOMO-DEC experiment on Deception Island, Antarctica",
           7
          ],
          [
           "Fish and fishery historical data since the 19th century in the Adriatic Sea, Mediterranean",
           24
          ],
          [
           "Genome wide in vivo mouse screen data from studies to assess host regulation of metastatic colonisation",
           8
          ],
          [
           "Genotoype-by-sequencing of three geographically distinct populations of Olympia oysters, Ostrea lurida",
           2
          ],
          [
           "Underwater recordings of the whistles of bottlenose dolphins in Fremantle Inner Harbour, Western Australia",
           8
          ],
          [
           "Machine-learned and codified synthesis parameters of oxide materials",
           123
          ],
          [
           "A multiscale imaging and modelling dataset of the human inner ear",
           36
          ],
          [
           "Precision annotation of digital samples in NCBI’s gene expression omnibus",
           34
          ],
          [
           "The public cancer radiology imaging collections of The Cancer Imaging Archive",
           79
          ],
          [
           "Whole genome characterization of sequence diversity of 15,220 Icelanders",
           84
          ],
          [
           "A global reference database of crowdsourced cropland data collected using the Geo-Wiki platform",
           49
          ],
          [
           "Three-dimensional image reconstruction of distribution of Pnmt+ cell-derived cells in murine heart",
           5
          ],
          [
           "Compliance with minimum information guidelines in public metabolomics repositories",
           55
          ],
          [
           "A global database on freshwater fish species occurrence in drainage basins",
           129
          ],
          [
           "An annotated dataset of Egyptian fruit bat vocalizations across varying contexts and during vocal ontogeny",
           24
          ],
          [
           "Survey data on Vietnamese propensity to attend periodic general health examinations",
           22
          ],
          [
           "High-resolution near real-time drought monitoring in South Asia",
           138
          ],
          [
           "Linking FANTOM5 CAGE peaks to annotations with CAGEscan",
           12
          ],
          [
           "High-throughput RNAi screen for essential genes and drug synergistic combinations in colorectal cancer",
           8
          ],
          [
           "Building a locally diploid genome and transcriptome of the diatom Fragilariopsis cylindrus",
           13
          ],
          [
           "Clustergrammer, a web-based heatmap visualization and analysis tool for high-dimensional biological data",
           145
          ],
          [
           "Chemical, microbial and antibiotic susceptibility analyses of groundwater after a major flood event in Chennai",
           28
          ],
          [
           "Whole genome DNA methylation sequencing of the chicken retina, cornea and brain",
           17
          ],
          [
           "A multilayer network dataset of interaction and influence spreading in a virtual world",
           15
          ],
          [
           "Targeted metabolomics and medication classification data from participants in the ADNI1 cohort",
           41
          ],
          [
           "A virtual climate library of surface temperature over North America for 1979–2015",
           1
          ],
          [
           "Gut bacterial communities of diarrheic patients with indications of Clostridioides difficile infection",
           14
          ],
          [
           "High-throughput DFT calculations of formation energy, stability and oxygen vacancy formation energy of ABO3 perovskites",
           292
          ],
          [
           "RNA sequencing analysis of activated macrophages treated with the anti-HIV ABX464 in intestinal inflammation",
           4
          ],
          [
           "Recordings of Caenorhabditis elegans locomotor behaviour following targeted ablation of single motorneurons",
           14
          ],
          [
           "Nasopharyngeal metagenomic deep sequencing data, Lancaster, UK, 2014–2015",
           2
          ],
          [
           "Personality in the chimpanzees of Gombe National Park",
           17
          ],
          [
           "Small non-coding RNA transcriptome of the NCI-60 cell line panel",
           15
          ],
          [
           "A global moderate resolution dataset of gross primary production of vegetation for 2000–2016",
           349
          ],
          [
           "Experimental formation enthalpies for intermetallic phases and other inorganic compounds",
           29
          ],
          [
           "A dataset quantifying polypharmacy in the United States",
           53
          ],
          [
           "Transcription start site profiling of 15 anatomical regions of the Macaca mulatta central nervous system",
           5
          ],
          [
           "A compendium of geochemical information from the Saanich Inlet water column",
           26
          ],
          [
           "A compendium of multi-omic sequence information from the Saanich Inlet water column",
           23
          ],
          [
           "The cell-type specific transcriptome in human adipose tissue and influence of obesity on adipocyte progenitors",
           22
          ],
          [
           "Jaw biodynamic data for 24 patients with chronic unilateral temporomandibular disorder",
           7
          ],
          [
           "Quantification of sensitivity and resistance of breast cancer cell lines to anti-cancer drugs using GR metrics",
           24
          ],
          [
           "Early meteorological records from Latin-America and the Caribbean during the 18th and 19th centuries",
           20
          ],
          [
           "Transcriptomic profiling of human breast and melanoma cells selected by migration through narrow constraints",
           6
          ],
          [
           "Protocols and characterization data for 2D, 3D, and slice-based tumor models from the PREDECT project",
           28
          ],
          [
           "Open University Learning Analytics dataset",
           219
          ],
          [
           "RE-Europe, a large-scale dataset for modeling a highly renewable European electricity system",
           39
          ],
          [
           "Monitoring transcription initiation activities in rat and dog",
           6
          ],
          [
           "MatchingLand, geospatial data testbed for the assessment of matching methods",
           6
          ],
          [
           "Long-term monitoring of coral reef fish assemblages in the Western central pacific",
           25
          ],
          [
           "Mountain hare transcriptome and diagnostic markers as resources to monitor hybridization with European hares",
           12
          ],
          [
           "An RNA-Seq atlas of gene expression in mouse and rat normal tissues",
           82
          ],
          [
           "Two-colour serial femtosecond crystallography dataset from gadoteridol-derivatized lysozyme for MAD phasing",
           4
          ],
          [
           "Gene expression profiling in the intestinal mucosa of obese rats administered probiotic bacteria",
           17
          ],
          [
           "Expression profiling of the retina of pde6c, a zebrafish model of retinal degeneration",
           6
          ],
          [
           "The mineralocorticoid receptor knockout in medaka is further validated by glucocorticoid receptor compensation",
           7
          ],
          [
           "Temporally inter-comparable maps of terrestrial wilderness and the Last of the Wild",
           87
          ],
          [
           "A curated mammography data set for use in computer-aided detection and diagnosis research",
           423
          ],
          [
           "ANI-1, A data set of 20 million calculated off-equilibrium conformations for organic molecules",
           188
          ],
          [
           "Assembly of an early-matured japonica (Geng) rice genome, Suijing18, based on PacBio and Illumina sequencing",
           9
          ],
          [
           "Long-read sequencing of the human cytomegalovirus transcriptome with the Pacific Biosciences RSII platform",
           23
          ],
          [
           "Verification of Arabidopsis stock collections using SNPmatch, a tool for genotyping high-plexed samples",
           21
          ],
          [
           "Automatized image processing of bovine blastocysts produced in vitro for quantitative variable determination",
           21
          ],
          [
           "An open resource for transdiagnostic research in pediatric mental health and learning disorders",
           280
          ],
          [
           "Sequence data and association statistics from 12,940 type 2 diabetes cases and controls",
           21
          ],
          [
           "Ash leaf metabolomes reveal differences between trees tolerant and susceptible to ash dieback disease",
           13
          ],
          [
           "Take-off engine particle emission indices for in-service aircraft at Los Angeles International Airport",
           19
          ],
          [
           "A dataset for preparing pristine graphene-palladium nanocomposites using swollen liquid crystal templates",
           3
          ],
          [
           "TerraClimate, a high-resolution global dataset of monthly climate and climatic water balance from 1958–2015",
           1394
          ],
          [
           "Microarray profiling of miRNA and mRNA expression in Rag2 knockout and wild-type mouse spleens",
           10
          ],
          [
           "Survey-based socio-economic data from slums in Bangalore, India",
           35
          ],
          [
           "Twelve thousand recent patellogastropods from a northeastern Pacific latitudinal gradient",
           4
          ],
          [
           "The reconstruction of 2,631 draft metagenome-assembled genomes from the global oceans",
           291
          ],
          [
           "China CO2 emission accounts 1997–2015",
           909
          ],
          [
           "Complete genome sequencing of the luminescent bacterium, Vibrio qinghaiensis sp. Q67 using PacBio technology",
           13
          ],
          [
           "Design and implementation of multi-signal and time-varying neural reconstructions",
           23
          ],
          [
           "The impact of new transportation modes on population distribution in Jing-Jin-Ji region of China",
           23
          ],
          [
           "Introducing the Global Register of Introduced and Invasive Species",
           121
          ],
          [
           "Australia’s continental-scale acoustic tracking database and its automated quality control process",
           52
          ],
          [
           "A dataset of 200 structured product labels annotated for adverse drug reactions",
           33
          ],
          [
           "RNA-seq transcriptomic analysis of adult zebrafish inner ear hair cells",
           31
          ],
          [
           "Gridded global datasets for Gross Domestic Product and Human Development Index over 1990–2015",
           367
          ],
          [
           "The Brain/MINDS 3D digital marmoset brain atlas",
           55
          ],
          [
           "Simultaneous acquisition of EEG and NIRS during cognitive tasks for an open access dataset",
           117
          ],
          [
           "Compilation of climate data from heterogeneous networks across the Hawaiian Islands",
           36
          ],
          [
           "Dataset of human medial temporal lobe single neuron activity during declarative memory encoding and recognition",
           24
          ],
          [
           "Dynamic contrast-enhanced magnetic resonance imaging for head and neck cancers",
           10
          ],
          [
           "Single cell RNA sequencing of stem cell-derived retinal ganglion cells",
           37
          ],
          [
           "A database of chlorophyll a in Australian waters",
           14
          ],
          [
           "Inter-comparison of multiple statistically downscaled climate datasets for the Pacific Northwest, USA",
           24
          ],
          [
           "A dataset mapping the potential biophysical effects of vegetation cover change",
           44
          ],
          [
           "A large, open source dataset of stroke anatomical brain images and manual lesion segmentations",
           162
          ],
          [
           "Arthropods dataset from different genetically modified maize events and associated controls",
           2
          ],
          [
           "Epidemiological characteristics of human-infective RNA viruses",
           61
          ],
          [
           "ImmPort, toward repurposing of open access immunological assay data for translational and clinical research",
           467
          ],
          [
           "Datasets2Tools, repository and search engine for bioinformatics datasets, tools and canned analyses",
           11
          ],
          [
           "Interoperable and accessible census and survey data from IPUMS",
           15
          ],
          [
           "A new, short-recorded photoplethysmogram dataset for blood pressure monitoring in China",
           113
          ],
          [
           "Holocene geochemical footprint from Semi-arid alpine wetlands in southern Spain",
           13
          ],
          [
           "A multi-year data set on aerosol-cloud-precipitation-meteorology interactions for marine stratocumulus clouds",
           28
          ],
          [
           "An open repository for single-cell reconstructions of the brain forest",
           46
          ],
          [
           "Survival, gene and metabolite responses of Litoria verreauxii alpina frogs to fungal disease chytridiomycosis",
           9
          ],
          [
           "Demographic aspects of first names",
           49
          ],
          [
           "Small RNA-seq analysis of circulating miRNAs to identify phenotypic variability in Friedreich’s ataxia patients",
           22
          ],
          [
           "ChIP-seq and ChIP-exo profiling of Pol II, H2A.Z, and H3K4me3 in human K562 cells",
           10
          ],
          [
           "Quantitative mapping of RNA-mediated nuclear estrogen receptor β interactome in human breast cancer cells",
           17
          ],
          [
           "Pediatric patients at risk for fever in chemotherapy-induced neutropenia in Bern, Switzerland, 1993-2012",
           7
          ],
          [
           "Human pluripotent stem cell derived HLC transcriptome data enables molecular dissection of hepatogenesis",
           9
          ],
          [
           "Global quantitative analysis of the human brain proteome in Alzheimer’s and Parkinson’s Disease",
           135
          ],
          [
           "GlobTherm, a global database on thermal tolerances for aquatic and terrestrial organisms",
           150
          ],
          [
           "Tracking vegetation phenology across diverse North American biomes using PhenoCam imagery",
           310
          ],
          [
           "A dataset on human navigation strategies in foreign networked systems",
           3
          ],
          [
           "A genome-scale RNAi screen for genetic interactors of the dynein co-factor nud-2 in Caenorhabditis elegans",
           2
          ],
          [
           "DASH, the data and specimen hub of the National Institute of Child Health and Human Development",
           9
          ],
          [
           "A suite of global, cross-scale topographic variables for environmental and biodiversity modeling",
           409
          ],
          [
           "Damage and protection cost curves for coastal floods within the 600 largest European cities",
           43
          ],
          [
           "U-Index, a dataset and an impact metric for informatics tools and databases",
           8
          ],
          [
           "FLO1K, global maps of mean, maximum and minimum annual streamflow at 1 km resolution from 1960 through 2015",
           37
          ],
          [
           "BLOND, a building-level office environment dataset of typical electrical appliances",
           69
          ],
          [
           "A Mediterranean coastal database for assessing the impacts of sea-level rise and associated hazards",
           38
          ],
          [
           "A database linking Chinese patents to China’s census firms",
           51
          ],
          [
           "A database of the coseismic effects following the 30 October 2016 Norcia earthquake in Central Italy",
           96
          ],
          [
           "An open experimental database for exploring inorganic materials",
           128
          ],
          [
           "Spatial distribution of arable and abandoned land across former Soviet Union countries",
           80
          ],
          [
           "The natural variance of the Arabidopsis floral secondary metabolites",
           13
          ],
          [
           "Long-term dataset on aquatic responses to concurrent climate change and recovery from acidification",
           11
          ],
          [
           "Massively parallel recordings in macaque motor cortex during an instructed delayed reach-to-grasp task",
           38
          ],
          [
           "A data discovery index for the social sciences",
           3
          ],
          [
           "The Alexandria library, a quantum-chemical database of molecular properties for force field development",
           46
          ],
          [
           "Tundra landform and vegetation productivity trend maps for the Arctic Coastal Plain of northern Alaska",
           30
          ],
          [
           "Ensemble of European regional climate simulations for the winter of 2013 and 2014 from HadAM3P-RM3P",
           5
          ],
          [
           "Regional surveys of macrobenthic shelf invertebrate communities in Onslow Bay, North Carolina, U.S.A.",
           3
          ],
          [
           "Unifying cancer and normal RNA sequencing data from different sources",
           114
          ],
          [
           "Curated compendium of human transcriptional biomarker data",
           4
          ],
          [
           "A prototypic small molecule database for bronchoalveolar lavage-based metabolomics",
           9
          ],
          [
           "A high-resolution probabilistic in vivo atlas of human subcortical brain nuclei",
           272
          ],
          [
           "Wide-field corneal subbasal nerve plexus mosaics in age-controlled healthy and type 2 diabetes populations",
           25
          ],
          [
           "Spatiotemporal incidence of Zika and associated environmental drivers for the 2015-2016 epidemic in Colombia",
           14
          ],
          [
           "High-resolution reconstruction of the United States human population distribution, 1790 to 2010",
           44
          ],
          [
           "A mobile brain-body imaging dataset recorded during treadmill walking with a brain-computer interface",
           27
          ],
          [
           "The effects of sequencing platforms on phylogenetic resolution in 16 S rRNA gene profiling of human feces",
           25
          ],
          [
           "109 years of forest growth measurements from individual Norway spruce trees",
           5
          ],
          [
           "DataTri, a database of American triatomine species occurrence",
           34
          ],
          [
           "High-throughput density-functional perturbation theory phonons for inorganic materials",
           133
          ],
          [
           "An optimal filter for short photoplethysmogram signals",
           127
          ],
          [
           "Novel sequences, structural variations and gene presence variations of Asian cultivated rice",
           12
          ],
          [
           "Time series dataset of fish assemblages near thermal discharges at nuclear power plants in northern Taiwan",
           5
          ],
          [
           "Uniform resolution of compact identifiers for biomedical data",
           41
          ],
          [
           "Computational screening of high-performance optoelectronic materials using OptB88vdW and TB-mBJ formalisms",
           85
          ],
          [
           "The electronic Rothamsted Archive (e-RA), an online resource for data from the Rothamsted long-term experiments",
           31
          ],
          [
           "A collection of public transport network data sets for 25 cities",
           61
          ],
          [
           "A multi-phenotypic imaging screen to identify bacterial effectors by exogenous expression in a HeLa cell line",
           2
          ],
          [
           "A pair of datasets for microRNA expression profiling to examine the use of careful study design for assigning arrays to samples",
           5
          ],
          [
           "HYSOGs250m, global gridded hydrologic soil groups for curve-number-based runoff modeling",
           108
          ],
          [
           "Field-recorded data on the diet of six species of European Hydromantes cave salamanders",
           20
          ],
          [
           "The draft genome sequence of cork oak",
           83
          ],
          [
           "The asthma mobile health study, smartphone data collected using ResearchKit",
           38
          ],
          [
           "Gridded birth and pregnancy datasets for Africa, Latin America and the Caribbean",
           22
          ],
          [
           "A reconstruction of global hydroclimate and dynamical variables over the Common Era",
           117
          ],
          [
           "HormoneBase, a population-level database of steroid hormone levels across vertebrates",
           42
          ],
          [
           "Micro-computed tomography reconstructions of tibiae of stem cell transplanted osteogenesis imperfecta mice",
           2
          ],
          [
           "A Research Graph dataset for connecting research data repositories using RD-Switchboard",
           16
          ],
          [
           "3D scans, angles of repose and bulk densities of 108 bulk material heaps",
           18
          ],
          [
           "A database of biological and geomorphological sea-level markers from the Last Glacial Maximum to present",
           19
          ],
          [
           "Human grasping database for activities of daily living with depth, color and kinematic data streams",
           40
          ],
          [
           "SEEG initiative estimates of Brazilian greenhouse gas emissions from 1970 to 2015",
           63
          ],
          [
           "Global gene expression profiling for fruit organs and pathogen infections in the pepper, Capsicum annuum L.",
           30
          ],
          [
           "Freshwater macroinvertebrate samples from a water quality monitoring network in the Iberian Peninsula",
           5
          ],
          [
           "Characterization of ladybird Henosepilachna vigintioctopunctata transcriptomes across various life stages",
           31
          ],
          [
           "Individual Brain Charting, a high-resolution fMRI dataset for cognitive mapping",
           41
          ],
          [
           "Pharmacological and genomic profiling of neurofibromatosis type 1 plexiform neurofibroma-derived schwann cells",
           20
          ],
          [
           "PubMed Phrases, an open set of coherent phrases for searching biomedical literature",
           9
          ],
          [
           "Warping an atlas derived from serial histology to 5 high-resolution MRIs",
           28
          ],
          [
           "Transcriptome-wide survey of pseudorabies virus using next- and third-generation sequencing platforms",
           17
          ],
          [
           "Sustainable data and metadata management at the BD2K-LINCS Data Coordination and Integration Center",
           18
          ],
          [
           "Auto-generated materials database of Curie and Néel temperatures via semi-supervised relationship extraction",
           88
          ],
          [
           "Seamless bathymetry and topography datasets for New South Wales, Australia",
           14
          ],
          [
           "Transcriptional profiling of stellate ganglia from normotensive and spontaneously hypertensive rat strains",
           9
          ],
          [
           "High content screen for identifying small-molecule LC3B-localization modulators in a renal cancer cell line",
           5
          ],
          [
           "Time-lapse imagery and volunteer classifications from the Zooniverse Penguin Watch project",
           31
          ],
          [
           "Emotional ratings and skin conductance response to visual, auditory and haptic stimuli",
           64
          ],
          [
           "OceanRAIN, a new in-situ shipboard global ocean surface-reference dataset of all water cycle components",
           35
          ],
          [
           "Smart subsidies for catchment conservation in Malawi",
           10
          ],
          [
           "A quasi-experimental study of impacts of Tanzania’s wildlife management areas on rural livelihoods and wealth",
           12
          ],
          [
           "Marine phytoplankton community composition data from the Belgian part of the North Sea, 1968–2010",
           9
          ],
          [
           "Multi-frequency electrical impedance tomography and neuroimaging data in stroke patients",
           58
          ],
          [
           "Viruses of the Nahant Collection, characterization of 251 marine Vibrionaceae viruses",
           17
          ],
          [
           "High-resolution hydrometeorological data from a network of headwater catchments in the tropical Andes",
           36
          ],
          [
           "FRY, a global database of fire patch functional traits derived from space-borne burned area products",
           66
          ],
          [
           "A functional trait database for Mediterranean Basin plants",
           113
          ],
          [
           "Full body mobile brain-body imaging data during unconstrained locomotion on stairs, ramps, and level ground",
           27
          ],
          [
           "The Chemical and Products Database, a resource for exposure-relevant data on chemicals in consumer products",
           142
          ],
          [
           "Transcriptome sequencing and molecular markers discovery in the gonads of Portunus sanguinolentus",
           19
          ],
          [
           "A global dataset of river network geometry",
           22
          ],
          [
           "Structural and functional brain scans from the cross-sectional Southwest University adult lifespan dataset",
           87
          ],
          [
           "39 years of directional wave recorded data and relative problems, climatological implications and use",
           20
          ],
          [
           "Leukocyte Tracking Database, a collection of immune cell tracks from intravital 2-photon microscopy videos",
           14
          ],
          [
           "Mass spectrometry quantitation of proteins from small pools of developing auditory and vestibular cells",
           14
          ],
          [
           "A comprehensive database of thermal developmental plasticity in reptiles",
           25
          ],
          [
           "Systematic, continental scale temporal monitoring of marine pelagic microbiota by the Australian Marine Microbial Biodiversity Initiative",
           38
          ],
          [
           "Age-related dataset on the mechanical properties and collagen fibril structure of tendons from a murine model",
           7
          ],
          [
           "Selection analyses of paired HIV-1 gag and gp41 sequences obtained before and after antiretroviral therapy",
           1
          ],
          [
           "A merged lung cancer transcriptome dataset for clinical predictive modeling",
           27
          ],
          [
           "Microarray data of transcriptome shifts in blood cell subsets during S1P receptor modulator therapy",
           13
          ],
          [
           "MANTA2, update of the Mongo database for the analysis of transcription factor binding site alterations",
           9
          ],
          [
           "Geographically-stratified HIV-1 group M pol subtype and circulating recombinant form sequences",
           8
          ],
          [
           "BARM and BalticMicrobeDB, a reference metagenome and interface to meta-omic data for the Baltic Sea",
           28
          ],
          [
           "Fifteen–year record of soil temperature at the Bear Brook Watershed in Maine",
           6
          ],
          [
           "Phenotypic trait variation measured on European genetic trials of Fagus sylvatica L",
           32
          ],
          [
           "High-throughput computational X-ray absorption spectroscopy",
           100
          ],
          [
           "A database of metazoan cytochrome c oxidase subunit I gene sequences derived from GenBank with CO-ARBitrator",
           25
          ],
          [
           "Ground reference data for sugarcane biomass estimation in São Paulo state, Brazil",
           13
          ],
          [
           "A multi-regional input-output table mapping China's economic outputs and interdependencies in 2012",
           108
          ],
          [
           "A tissue-based draft map of the murine MHC class I immunopeptidome",
           45
          ],
          [
           "A multi-omic atlas of the human frontal cortex for aging and Alzheimer’s disease research",
           252
          ],
          [
           "The REMBRANDT study, a large collection of genomic data from brain cancer patients",
           108
          ],
          [
           "The HAM10000 dataset, a large collection of multi-source dermatoscopic images of common pigmented skin lesions",
           1581
          ],
          [
           "One millennium of historical freshwater fish occurrence data for Portuguese rivers and streams",
           5
          ],
          [
           "A spatio-temporal land use and land cover reconstruction for India from 1960–2010",
           22
          ],
          [
           "A chemical, crystallographic and magnetic characterisation of individual iron-oxide grains in Hawaiian lavas",
           4
          ],
          [
           "A global yield dataset for major lignocellulosic bioenergy crops based on field measurements",
           37
          ],
          [
           "Residential wearable RSSI and accelerometer measurements with detailed location annotations",
           20
          ],
          [
           "Transcriptomic analyses of murine ventricular cardiomyocytes",
           15
          ],
          [
           "A global dataset of plant available and unavailable phosphorus in natural soils derived by Hedley method",
           60
          ],
          [
           "microRNA profile datasets of murine macrophages infected with different strains of Leptospira spp",
           0
          ],
          [
           "Single-cell RNA sequencing of mouse brain and lung vascular and vessel-associated cell types",
           268
          ],
          [
           "Comprehensive high-resolution multiple-reaction monitoring mass spectrometry for targeted eicosanoid assays",
           27
          ],
          [
           "Sixty-one thousand recent planktonic foraminifera from the Atlantic Ocean",
           10
          ],
          [
           "The first annotated set of scanning electron microscopy images for nanoscience",
           58
          ],
          [
           "Regional-scale management maps for forested areas of the Southeastern United States and the US Pacific Northwest",
           16
          ],
          [
           "Computational workflow to study the seasonal variation of secondary metabolites in nine different bryophytes",
           11
          ],
          [
           "An acquisition, curation and management workflow for sustainable, terabyte-scale marine image analysis",
           18
          ],
          [
           "High resolution temperature data for ecological research and management on the Southern Ocean Islands",
           26
          ],
          [
           "HISDAC-US, historical settlement data compilation for the conterminous United States over 200 years",
           52
          ],
          [
           "Imaging and clinical data archive for head and neck squamous cell carcinoma patients treated with radiotherapy",
           65
          ],
          [
           "Marine microbial metagenomes sampled across space and time",
           114
          ],
          [
           "Single cell genomes of Prochlorococcus, Synechococcus, and sympatric microbes from diverse marine environments",
           58
          ],
          [
           "Chemotactic responses of growing neurites to precisely controlled gradients of nerve growth factor",
           7
          ],
          [
           "A new dataset of computed-tomography angiography images for computer-aided detection of pulmonary embolism",
           35
          ],
          [
           "Transcriptomic analysis of left-right differences in human embryonic forebrain and midbrain",
           3
          ],
          [
           "Seafloor crustal deformation data along the subduction zones around Japan obtained by GNSS-A observations",
           42
          ],
          [
           "The eICU Collaborative Research Database, a freely available multi-center database for critical care research",
           676
          ],
          [
           "The Mount Sinai cohort of large-scale genomic, transcriptomic and proteomic data in Alzheimer's disease",
           221
          ],
          [
           "Single-cell RNA sequencing of adult mouse testes",
           47
          ],
          [
           "Whole genome sequencing data for two individuals of Pakistani descent",
           2
          ],
          [
           "Time-lapse confocal imaging datasets to assess structural and dynamic properties of subcellular nanostructures",
           16
          ],
          [
           "Survey of local impacts of biofuel crop production and adoption of ethanol stoves in southern Africa",
           15
          ],
          [
           "Mimi-PAGE, an open-source implementation of the PAGE09 integrated assessment model",
           22
          ],
          [
           "Reference data on thickness and mechanics of tissue layers and anthropometry of musculoskeletal extremities",
           7
          ],
          [
           "An open database of productivity in Vietnam's social sciences and humanities for public use",
           45
          ],
          [
           "Generation and characterization of thiol-deficient Mycobacterium tuberculosis mutants",
           9
          ],
          [
           "De novo transcriptome assembly of fluorine accumulator tea plant Camellia sinensis with fluoride treatments",
           7
          ],
          [
           "Transcriptomes of cochlear inner and outer hair cells from adult mice",
           47
          ],
          [
           "Free-electron laser data for multiple-particle fluctuation scattering analysis",
           6
          ],
          [
           "RNA-seq of macrophages of amoeboid or mesenchymal migratory phenotype due to specific structure of environment",
           11
          ],
          [
           "Flow cytometry analysis of adrenoceptors expression in human adipose-derived mesenchymal stem/stromal cells",
           9
          ],
          [
           "Evaluation of a novel cloud-based software platform for structured experiment design and linked data analytics",
           9
          ],
          [
           "Embryonic transcriptome sequencing of the ocellate spot skate Okamejei kenojei",
           10
          ],
          [
           "A de novo transcriptome assembly of the zebra bullhead shark, Heterodontus zebra",
           10
          ],
          [
           "Global-scale phylogenetic linguistic inference from lexical resources",
           35
          ],
          [
           "An underwater observation dataset for fish classification and fishery assessment",
           21
          ],
          [
           "A database of annual atmospheric acid and nutrient deposition to China’s forests",
           13
          ],
          [
           "A radiogenomic dataset of non-small cell lung cancer",
           171
          ],
          [
           "Gridded emissions and land-use data for 2005–2100 under diverse socioeconomic and climate mitigation scenarios",
           42
          ],
          [
           "A database of marine larval fish assemblages in Australian temperate and subtropical waters",
           13
          ],
          [
           "Analysis of impact metrics for the Protein Data Bank",
           22
          ],
          [
           "Cross-Linguistic Data Formats, advancing data sharing and re-use in comparative linguistics",
           63
          ],
          [
           "A large electroencephalographic motor imagery dataset for electroencephalographic brain computer interfaces",
           101
          ],
          [
           "Methane transport in agricultural soil after injection of isotopically-enriched methane in the sub-surface",
           1
          ],
          [
           "First draft genome sequence of the rock bream in the family Oplegnathidae",
           4
          ],
          [
           "Combining tensile testing and structural analysis at the single collagen fibril level",
           14
          ],
          [
           "Spread of a model invasive alien species, the harlequin ladybird Harmonia axyridis in Britain and Ireland",
           23
          ],
          [
           "Household economy, forest dependency & opportunity costs of conservation in eastern rainforests of Madagascar",
           7
          ],
          [
           "Exploiting deep learning and volunteered geographic information for mapping buildings in Kano, Nigeria",
           19
          ],
          [
           "A European Multi Lake Survey dataset of environmental variables, phytoplankton pigments and cyanotoxins",
           34
          ],
          [
           "A large-scale dataset of in vivo pharmacology assay results",
           8
          ],
          [
           "Open grid model of Australia’s National Electricity Market allowing backtesting against historic data",
           18
          ],
          [
           "Lipid profiling of C. elegans strains administered pro-longevity drugs and drug combinations",
           9
          ],
          [
           "In-depth data on the network structure and hourly activity of the Central Chilean power grid",
           19
          ],
          [
           "Transcriptomic profiling for prolonged drought in Dendrobium catenatum",
           22
          ],
          [
           "Present and future Köppen-Geiger climate classification maps at 1-km resolution",
           3283
          ],
          [
           "The temporal network of mobile phone users in Changchun Municipality, Northeast China",
           6
          ],
          [
           "Datasets from a research project examining the role of politics in social psychological research",
           0
          ],
          [
           "A 3D geological model of a structurally complex Alpine region as a basis for interdisciplinary research",
           40
          ],
          [
           "Global distribution data for cattle, buffaloes, horses, sheep, goats, pigs, chickens and ducks in 2010",
           337
          ],
          [
           "GHWR, a multi-method global heatwave and warm-spell record and toolbox",
           47
          ],
          [
           "LogMPIE, pan-India profiling of the human gut microbiome using 16S rRNA sequencing",
           19
          ],
          [
           "Methylome of human skeletal muscle after acute & chronic resistance exercise training, detraining & retraining",
           51
          ],
          [
           "Meta-mining of copy number profiles of high-risk neuroblastoma tumors",
           20
          ],
          [
           "Comprehensive transcriptome analysis of Sarcophaga peregrina, a forensically important fly species",
           12
          ],
          [
           "Complete genome sequencing of Comamonas kerstersii 8943, a causative agent for peritonitis",
           12
          ],
          [
           "X-ray computed microtomography of Megachirella wachtleri",
           3
          ],
          [
           "De novo assembly and annotation of three Leptosphaeria genomes using Oxford Nanopore MinION sequencing",
           45
          ],
          [
           "Brain metastasis DNA methylomes, a novel resource for the identification of biological and clinical features",
           18
          ],
          [
           "A high-resolution streamflow and hydrological metrics dataset for ecological modeling using a regression model",
           20
          ],
          [
           "A global dataset of air temperature derived from satellite remote sensing and weather stations",
           97
          ],
          [
           "Enabling precision medicine in neonatology, an integrated repository for preterm birth research",
           8
          ],
          [
           "Fluctuations in anthropogenic nighttime lights from satellite imagery for five cities in Niger and Nigeria",
           14
          ],
          [
           "Transcriptome profiling in the spathe of Anthurium andraeanum ‘Albama’ and its anthocyanin-loss mutant ‘Xueyu’",
           2
          ],
          [
           "Top soil physical and chemical properties in Kazakhstan across a north-south gradient",
           8
          ],
          [
           "RNA-seq transcriptomic profiling of crassulacean acid metabolism pathway in Dendrobium catenatum",
           20
          ],
          [
           "PaleoClim, high spatial resolution paleoclimate surfaces for global land areas",
           265
          ],
          [
           "EEG, behavioural and physiological recordings following a painful procedure in human neonates",
           18
          ],
          [
           "High content organelle trafficking enables disease state profiling as powerful tool for disease modelling",
           24
          ],
          [
           "Small non-coding RNA expression in mouse nephrogenic mesenchymal progenitors",
           5
          ],
          [
           "A longitudinal plasma lipidomics dataset from children who developed islet autoimmunity and type 1 diabetes",
           22
          ],
          [
           "Phase contrast time-lapse microscopy datasets with automated and manual cell tracking annotations",
           31
          ],
          [
           "Complementary proteomics strategies capture an ataxin-1 interactome in Neuro-2a cells",
           8
          ],
          [
           "GloPL, a global data base on pollen limitation of plant reproduction",
           82
          ],
          [
           "Combined RNA-seq and RAT-seq mapping of long noncoding RNAs in pluripotent reprogramming",
           16
          ],
          [
           "A reference set of curated biomedical data and metadata from clinical case reports",
           21
          ],
          [
           "A dataset of clinically generated visual questions and answers about radiology images",
           101
          ],
          [
           "Anthropomorphic breast model repository for research and development of microwave breast imaging technologies",
           13
          ],
          [
           "A data citation roadmap for scientific publishers",
           84
          ],
          [
           "Generation and quality control of lipidomics data for the alzheimer’s disease neuroimaging initiative cohort",
           45
          ],
          [
           "High-resolution gridded soil moisture and soil temperature datasets for the Indian monsoon region",
           33
          ],
          [
           "Columbia Open Health Data, clinical concept prevalence and co-occurrence from electronic health records",
           32
          ],
          [
           "Comprehensive geological dataset describing a crystalline rock mass for hydraulic stimulation experiments",
           37
          ],
          [
           "Unified field studies of the algae testbed public-private partnership as the benchmark for algae agronomics",
           19
          ],
          [
           "Overview and experience of the YODA Project with clinical trial data sharing after 5 years",
           40
          ],
          [
           "In-vivo probabilistic atlas of human thalamic nuclei based on diffusion- weighted magnetic resonance imaging",
           58
          ],
          [
           "Transcriptomic study of Herpes simplex virus type-1 using full-length sequencing techniques",
           14
          ],
          [
           "Genome-wide polyadenylation site mapping datasets in the rice blast fungus Magnaporthe oryzae",
           3
          ],
          [
           "Gene expression profiling of the olfactory tissues of sex-separated and sex-combined female and male mice",
           10
          ],
          [
           "Three-dimensional motion capture data during repetitive overarm throwing practice",
           14
          ],
          [
           "Transcriptome-wide analysis of a baculovirus using nanopore sequencing",
           8
          ],
          [
           "Genome analysis of Mycobacterium avium subspecies hominissuis strain 109",
           14
          ],
          [
           "Transcript- and protein-level analyses of the response of human eosinophils to glucocorticoids",
           6
          ],
          [
           "An annotated test-retest collection of prostate multiparametric MRI",
           27
          ],
          [
           "A linked open data representation of patents registered in the US from 2005–2017",
           1
          ],
          [
           "Unbalanced historical phenotypic data from seed regeneration of a barley ex situ collection",
           11
          ],
          [
           "Polysome profiling followed by RNA-seq of cardiac differentiation stages in hESCs",
           14
          ],
          [
           "Comparative shotgun metagenomic data of the silkworm Bombyx mori gut microbiome",
           38
          ],
          [
           "ZuCo, a simultaneous EEG and eye-tracking resource for natural sentence reading",
           50
          ],
          [
           "The metabolic regimes of 356 rivers in the United States",
           65
          ],
          [
           "Building an octaploid genome and transcriptome of the medicinal plant Pogostemon cablin from Lamiales",
           17
          ],
          [
           "Outlier analyses of the Protein Data Bank archive using a probability-density-ranking approach",
           7
          ],
          [
           "Transcriptome and protein interaction profiling in cancer cells with mutations in histone H3.3",
           4
          ],
          [
           "Time-resolved synchrotron X-ray micro-tomography datasets of drainage and imbibition in carbonate rocks",
           25
          ],
          [
           "Transcriptome profiling of a beach-adapted wild legume for dissecting novel mechanisms of salinity tolerance",
           6
          ],
          [
           "Gene-gene and gene-environment interaction data for platinum-based chemotherapy in non-small cell lung cancer",
           8
          ],
          [
           "Nationwide registry of sepsis patients in Japan focused on disseminated intravascular coagulation 2011–2013",
           16
          ],
          [
           "Effective fetch and relative exposure index maps for the Laurentian Great Lakes",
           22
          ],
          [
           "De novo transcriptome assembly and its annotation for the black ant Formica fusca at the larval stage",
           11
          ],
          [
           "Construction of the REACHES climate database based on historical documents of China",
           19
          ],
          [
           "A protein-protein interaction map of the TNF-induced NF-κB signal transduction pathway",
           50
          ],
          [
           "Extensive and deep sequencing of the Venter/HuRef genome for developing and benchmarking genome analysis tools",
           6
          ],
          [
           "A preclinical micro-computed tomography database including 3D whole body organ segmentations",
           18
          ],
          [
           "The downed and dead wood inventory of forests in the United States",
           32
          ],
          [
           "Probabilistic record linkage of de-identified research datasets with discrepancies using diagnosis codes",
           21
          ],
          [
           "The CHRS Data Portal, an easily accessible public repository for PERSIANN global satellite precipitation data",
           185
          ],
          [
           "Transcriptomic profiles of tissues from rats treated with anticancer drug combinations",
           0
          ],
          [
           "The sequence and de novo assembly of hog deer genome",
           8
          ],
          [
           "The OpenEar library of 3D models of the human temporal bone based on computed tomography and micro-slicing",
           44
          ],
          [
           "A global dataset of CO2 emissions and ancillary data related to emissions for 343 cities",
           67
          ],
          [
           "A long-term, temporally consistent, gridded daily meteorological dataset for northwestern North America",
           50
          ],
          [
           "A cloud-free MODIS snow cover dataset for the contiguous United States from 2000 to 2017",
           37
          ],
          [
           "GFPLAIN250m, a global high-resolution dataset of Earth’s floodplains",
           95
          ],
          [
           "Episodes of fever in neutropenia in pediatric patients with cancer in Bern, Switzerland, 1993–2012",
           10
          ],
          [
           "A collection of rumen bacteriome data from 334 mid-lactation dairy cows",
           12
          ],
          [
           "A global database of water vapor isotopes measured with high temporal resolution infrared laser spectroscopy",
           36
          ],
          [
           "PEPCONF, a diverse data set of peptide conformational energies",
           27
          ],
          [
           "Computed tomography data collection of the complete human mandible and valid clinical ground truth models",
           22
          ],
          [
           "Manually-parcellated gyral data accounting for all known anatomical variability",
           1
          ],
          [
           "An X-ray computed micro-tomography dataset for oil removal from carbonate porous media",
           11
          ],
          [
           "Qresp, a tool for curating, discovering and exploring reproducible scientific papers",
           25
          ],
          [
           "Whole-exome sequencing data of suicide victims who had suffered from major depressive disorder",
           3
          ],
          [
           "The sequence and de novo assembly of Oxygymnocypris stewartii genome",
           24
          ],
          [
           "The effect of 16S rRNA region choice on bacterial community metabarcoding results",
           219
          ],
          [
           "Population projections for U.S. counties by age, sex, and race controlled to shared socioeconomic pathway",
           69
          ],
          [
           "RNA-Seq profiling in peripheral blood mononuclear cells of amyotrophic lateral sclerosis patients and controls",
           18
          ],
          [
           "A metagenomic survey of soil microbial communities along a rehabilitation chronosequence after iron ore mining",
           36
          ],
          [
           "An open source web application for distributed geospatial data exploration",
           2
          ],
          [
           "A mind-brain-body dataset of MRI, EEG, cognition, emotion, and peripheral physiology in young and old adults",
           161
          ],
          [
           "MicroRNA expression profiles across blood and different tissues in cattle",
           27
          ],
          [
           "A stream classification system for the conterminous United States",
           37
          ],
          [
           "A functional connectome phenotyping dataset including cognitive state and personality measures",
           46
          ],
          [
           "Characterization of deep neural network features by decodability from human brain activity",
           15
          ],
          [
           "Generation of a zebrafish SWATH-MS spectral library to quantify 10,000 proteins",
           31
          ],
          [
           "A draft genome assembly of the solar-powered sea slug Elysia chlorotica",
           35
          ],
          [
           "A dynamic view of the proteomic landscape during differentiation of ReNcell VM cells, an immortalized human neural progenitor line",
           29
          ],
          [
           "Sex-specific median life expectancies from ex situ populations for 330 animal species",
           11
          ],
          [
           "The variable quality of metadata about biological samples used in biomedical experiments",
           49
          ],
          [
           "I-BLEND, a campus-scale commercial and residential buildings electrical energy dataset",
           33
          ],
          [
           "Stable isotope variations of daily precipitation from 2014–2018 in the central United States",
           17
          ],
          [
           "Multiyear microgrid data from a research building in Tsukuba, Japan",
           13
          ],
          [
           "Automated evaluation of consistency within the PubChem Compound database",
           17
          ],
          [
           "Long noncoding RNA and mRNA expression profiles following igf3 knockdown in common carp, Cyprinus carpio",
           31
          ],
          [
           "The temporal geographically-explicit network of public transport in Changchun City, Northeast China",
           7
          ],
          [
           "A 1980–2018 global fire danger re-analysis dataset for the Canadian Fire Weather Indices",
           41
          ],
          [
           "Map of physical interactions between extracellular domains of Arabidopsis leucine-rich repeat receptor kinases",
           15
          ],
          [
           "Global transcriptome analysis of pig induced pluripotent stem cells derived from six and four reprogramming factors",
           10
          ],
          [
           "Assessing data availability and research reproducibility in hydrology and water resources",
           65
          ],
          [
           "Draft genomic and transcriptome resources for marine chelicerate Tachypleus tridentatus",
           12
          ],
          [
           "Brain-wide distribution of reporter expression in five transgenic tetracycline-transactivator mouse lines",
           1
          ],
          [
           "An emissions-socioeconomic inventory of Chinese cities",
           119
          ],
          [
           "Single-cell RNA-seq of cultured human adipose-derived mesenchymal stem cells",
           56
          ],
          [
           "A longitudinal neuroimaging dataset on arithmetic processing in school children",
           15
          ],
          [
           "A dataset of neonatal EEG recordings with seizure annotations",
           91
          ],
          [
           "Epigenetic and transcriptional profiling of triple negative breast cancer",
           13
          ],
          [
           "Three-dimensional time-resolved trajectories from laboratory insect swarms",
           23
          ],
          [
           "The Subnational Human Development Database",
           135
          ],
          [
           "High resolution annual average air pollution concentration maps for the Netherlands",
           30
          ],
          [
           "Circumpolar permafrost maps and geohazard indices for near-future infrastructure risk assessments",
           57
          ],
          [
           "Field-recorded data on habitat, density, growth and movement of Nephrops norvegicus",
           7
          ],
          [
           "Genome-wide identification and characterization of long noncoding and circular RNAs in germline stem cells",
           14
          ],
          [
           "Synthesis, optical imaging, and absorption spectroscopy data for 179072 metal oxides",
           14
          ],
          [
           "Genome sequence and transcriptomic profiles of a marine bacterium, Pseudoalteromonas agarivorans Hao 2018",
           7
          ],
          [
           "Targeted enrichment by solution-based hybrid capture to identify genetic sequence variants in barley",
           22
          ],
          [
           "The survey and reference assisted assembly of the Octopus vulgaris genome",
           48
          ],
          [
           "Collected mass spectrometry data on monoterpene indole alkaloids from natural product chemistry research",
           38
          ],
          [
           "MHz data collection of a microcrystalline mixture of different jack bean proteins",
           5
          ],
          [
           "Geo-referenced population-specific microsatellite data across American continents, the MacroPopGen Database",
           26
          ],
          [
           "A 204-subject multimodal neuroimaging dataset to study language processing",
           39
          ],
          [
           "MarTurtSI, a global database of stable isotope analyses of marine turtles",
           13
          ],
          [
           "Multi-year whole-blood transcriptome data for the study of onset and progression of Parkinson’s Disease",
           6
          ],
          [
           "Multi-channel EEG recordings during a sustained-attention driving task",
           155
          ],
          [
           "Nutrient, pigment, suspended matter and turbidity measurements in the Belgian part of the North Sea",
           17
          ],
          [
           "A database seed for a community-driven material intensity research platform",
           72
          ],
          [
           "Phospho serine and threonine analysis of normal and mutated granulocyte colony stimulating factor receptors",
           29
          ],
          [
           "A data citation roadmap for scholarly data repositories",
           47
          ],
          [
           "Physical activity, sleep and cardiovascular health data for 50,000 individuals from the MyHeart Counts Study",
           43
          ],
          [
           "High resolution paddy rice maps in cloud-prone Bangladesh and Northeast India using Sentinel-1 data",
           112
          ],
          [
           "Crowdsourced MRI quality metrics and expert quality annotations for training of humans and machines",
           32
          ],
          [
           "A pupil size, eye-tracking and neuropsychological dataset from ADHD children during a cognitive task",
           14
          ],
          [
           "A statistical atlas of cerebral arteries generated using multi-center MRA datasets from healthy subjects",
           40
          ],
          [
           "Statistically downscaled climate dataset for East Africa",
           67
          ],
          [
           "Data from the Human Penguin Project, a cross-national dataset testing social thermoregulation principles",
           10
          ],
          [
           "Permittivity of ex vivo healthy and diseased murine skeletal muscle from 10 kHz to 1 MHz",
           30
          ],
          [
           "A dataset of publication records for Nobel laureates",
           46
          ],
          [
           "High-resolution global urban growth projection based on multiple applications of the SLEUTH urban growth model",
           105
          ],
          [
           "Extended regions of suspected mis-assembly in the rat reference genome",
           17
          ],
          [
           "Atlas of RNA sequencing profiles for normal human tissues",
           78
          ],
          [
           "MIReAD, a minimum information standard for reporting arthropod abundance data",
           22
          ],
          [
           "Harmonising topographic & remotely sensed datasets, a reference dataset for shoreline and beach change analysis",
           19
          ],
          [
           "Characterization of CA-MRSA TCH1516 exposed to nafcillin in bacteriological and physiological media",
           7
          ],
          [
           "A multi-species repository of social networks",
           33
          ],
          [
           "A high throughput imaging database of toxicological effects of nanomaterials tested on HepaRG cells",
           16
          ],
          [
           "A long-term dataset of lake surface water temperature over the Tibetan Plateau derived from AVHRR 1981–2015",
           28
          ],
          [
           "BOLD5000, a public fMRI dataset while viewing 5000 visual images",
           70
          ],
          [
           "The Global Gridded Crop Model Intercomparison phase 1 simulation dataset",
           61
          ],
          [
           "A database of atmospheric nitrogen concentration and deposition from the nationwide monitoring network in China",
           54
          ],
          [
           "BioWordVec, improving biomedical word embeddings with subword information and MeSH",
           222
          ],
          [
           "Ecological traits of the world’s primates",
           40
          ],
          [
           "Worldwide measurements of bioturbation intensity, ventilation rate, and the mixing depth of marine sediments",
           55
          ],
          [
           "Local level estimates of food, drink and tobacco expenditure for Great Britain",
           11
          ],
          [
           "A global, empirical, harmonised dataset of soil organic carbon changes under perennial crops",
           14
          ],
          [
           "Flow and detailed 3D morphodynamic data from laboratory experiments of fluvial dike breaching",
           8
          ],
          [
           "A database of optimal integration times for Lagrangian studies of atmospheric moisture sources and sinks",
           42
          ],
          [
           "Draft genome of the big-headed turtle Platysternon megacephalum",
           14
          ],
          [
           "Urban link travel speed dataset from a megacity road network",
           25
          ],
          [
           "A data set of inland lake catchment boundaries for the Qiangtang Plateau",
           8
          ],
          [
           "Geometric description of self-interaction potential in symmetric protein complexes",
           4
          ],
          [
           "Dry season soil water potential maps of a 50 hectare tropical forest plot on Barro Colorado Island, Panama",
           17
          ],
          [
           "Transcriptomic profiles of 33 opium poppy samples in different tissues, growth phases, and cultivars",
           7
          ],
          [
           "An ATAC-seq atlas of chromatin accessibility in mouse tissues",
           64
          ],
          [
           "A database of geopositioned onchocerciasis prevalence data",
           7
          ],
          [
           "The genome resources for conservation of Indo-Pacific humpback dolphin, Sousa chinensis",
           5
          ],
          [
           "The open diffusion data derivatives, brain data upcycling via integrated publishing of derivatives and reproducible open cloud services",
           51
          ],
          [
           "Inter-urban mobility via cellular position tracking in the southeast Songliao Basin, Northeast China",
           5
          ],
          [
           "Longitudinal 16S rRNA data derived from limb regenerative tissue samples of axolotl Ambystoma mexicanum",
           12
          ],
          [
           "The FLUXCOM ensemble of global land-atmosphere energy fluxes",
           368
          ],
          [
           "Kalium 2.0, a comprehensive database of polypeptide ligands of potassium channels",
           27
          ],
          [
           "Catalysis-Hub.org, an open electronic structure database for surface reactions",
           183
          ],
          [
           "High-throughput calculations of catalytic properties of bimetallic alloy surfaces",
           85
          ],
          [
           "33 years of globally calibrated wave height and wind speed data based on altimeter observations",
           188
          ],
          [
           "A Landsat-based vegetation trend product of the Tibetan Plateau for the time-period 1990–2018",
           37
          ],
          [
           "CFTI5Med, the new release of the catalogue of strong earthquakes in Italy and in the Mediterranean area",
           110
          ],
          [
           "PathoPhenoDB, linking human pathogens to their phenotypes in support of infectious disease research",
           12
          ],
          [
           "Posterior samples of the parameters of binary black holes from Advanced LIGO, Virgo’s second observing run",
           7
          ],
          [
           "Transcriptome of dorsal root ganglia caudal to a spinal cord injury with modulated behavioral activity",
           6
          ],
          [
           "YSTAFDB, a unified database of material stocks and flows for sustainability science",
           16
          ],
          [
           "2DMatPedia, an open computational database of two-dimensional materials from top-down and bottom-up approaches",
           226
          ],
          [
           "Biodiversity data rescue in the framework of a long-term Kenya-Belgium cooperation in marine sciences",
           1
          ],
          [
           "Activity/exercise-induced changes in the liver transcriptome after chronic spinal cord injury",
           8
          ],
          [
           "Hypothalamus-pituitary-gonad axis transcriptome profiling for sex differentiation in Acipenser sinensis",
           12
          ],
          [
           "Transcriptome profiles of three Muscat table grape cultivars to dissect the mechanism of terpene biosynthesis",
           4
          ],
          [
           "Long non-coding and coding RNA profiling using strand-specific RNA-seq in human hypertrophic cardiomyopathy",
           42
          ],
          [
           "Multi omics analysis of fibrotic kidneys in two mouse models",
           24
          ],
          [
           "High-coverage, long-read sequencing of Han Chinese trio reference samples",
           10
          ],
          [
           "Multiplex RNA single molecule FISH of inducible mRNAs in single yeast cells",
           14
          ],
          [
           "A spatiotemporal natural-human database to evaluate road development impacts in an Amazon trinational frontier",
           6
          ],
          [
           "Multitask learning and benchmarking with clinical time series data",
           332
          ],
          [
           "Bilateral international migration flow estimates for 200 countries",
           61
          ],
          [
           "Transcriptome sequence resource for the cucurbit powdery mildew pathogen Podosphaera xanthii",
           10
          ],
          [
           "Whole genome resequencing data for three rockfish species of Sebastes",
           16
          ],
          [
           "Variation in trends of consumption based carbon accounts",
           25
          ],
          [
           "Mapping global development potential for renewable energy, fossil fuels, mining and agriculture sectors",
           67
          ],
          [
           "Open data on health-related neighbourhood features in Great Britain",
           15
          ],
          [
           "fMRI data of mixed gambles from the Neuroimaging Analysis Replication and Prediction Study",
           22
          ],
          [
           "A dataset of distribution and diversity of ticks in China",
           48
          ],
          [
           "A high-resolution gridded dataset to assess electrification in sub-Saharan Africa",
           70
          ],
          [
           "A dataset of egg size and shape from more than 6,700 insect species",
           28
          ],
          [
           "Temperatures and blood counts in pediatric patients treated with chemotherapy for cancer, NCT01683370",
           2
          ],
          [
           "A multimodal dataset of human gait at different walking speeds established on injury-free adult participants",
           72
          ],
          [
           "Energy refinement and analysis of structures in the QM9 database via a highly accurate quantum chemical method",
           18
          ],
          [
           "Single-cell RNA sequencing of a European and an African lymphoblastoid cell line",
           16
          ],
          [
           "High-throughput analysis of the human thymic Vδ1+ T cell receptor repertoire",
           24
          ],
          [
           "A DNA barcode reference library of French Polynesian shore fishes",
           22
          ],
          [
           "A draft genome for Spatholobus suberectus",
           25
          ],
          [
           "Six years of ecosystem-atmosphere greenhouse gas fluxes measured in a sub-boreal forest",
           23
          ],
          [
           "Metagenomics and transcriptomics data from human colorectal cancer",
           5
          ],
          [
           "FLOTROP, a massive contribution to plant diversity data for open ecosystems in northern tropical Africa",
           9
          ],
          [
           "Global ocean synoptic thermocline gradient, isothermal-layer depth, and other upper ocean parameters",
           10
          ],
          [
           "A seafloor habitat map for the Australian continental shelf",
           18
          ],
          [
           "Analysis-ready datasets for insecticide resistance phenotype and genotype frequency in African malaria vectors",
           22
          ],
          [
           "The tea plant reference genome and improved gene annotation using long-read and paired-end sequencing data",
           22
          ],
          [
           "A macaque connectome for large-scale network simulations in TheVirtualBrain",
           37
          ],
          [
           "The genome assembly of asparagus bean, Vigna unguiculata ssp. sesquipedialis",
           18
          ],
          [
           "Social dynamics of short term variability in key measures of household and community wellbeing in Bangladesh",
           1
          ],
          [
           "HARCI-EU, a harmonized gridded dataset of critical infrastructures in Europe for large-scale risk assessments",
           12
          ],
          [
           "De novo phased assembly of the Vitis riparia grape genome",
           39
          ],
          [
           "Transcriptome sequencing, molecular markers, and transcription factor discovery of Platanus acerifolia in the presence of Corythucha ciliata",
           4
          ],
          [
           "Microbial metagenomes and metatranscriptomes during a coastal phytoplankton bloom",
           34
          ],
          [
           "X chromosome genetic data in a Spanish children cohort, dataset description and analysis pipeline",
           4
          ],
          [
           "Transcriptome profiling of interaction effects of soybean cyst nematodes and soybean aphids on soybean",
           12
          ],
          [
           "Deep single-cell RNA sequencing data of individual T cells from treatment-naïve colorectal cancer patients",
           44
          ],
          [
           "Chromosome assembly of Collichthys lucidus, a fish of Sciaenidae with a multiple sex chromosome system",
           26
          ],
          [
           "Temporally replicated DNA methylation patterns in great tit using reduced representation bisulfite sequencing",
           15
          ],
          [
           "A spatial database of health facilities managed by the public health sector in sub Saharan Africa",
           106
          ],
          [
           "High-throughput computation and evaluation of raman spectra",
           16
          ],
          [
           "Historical phenotypic data from seven decades of seed regeneration in a wheat ex situ collection",
           15
          ],
          [
           "Microbiomes of Velloziaceae from phosphorus-impoverished soils of the campos rupestres, a biodiversity hotspot",
           7
          ],
          [
           "A new global gridded anthropogenic heat flux dataset with high spatial resolution and long-term time series",
           41
          ],
          [
           "Development of high-resolution daily gridded temperature datasets for the central north region of Egypt",
           38
          ],
          [
           "Linking in silico MS/MS spectra with chemistry data to improve identification of unknowns",
           32
          ],
          [
           "Dataset of three-dimensional traces of roads",
           2
          ],
          [
           "AqSolDB, a curated reference set of aqueous solubility and 2D descriptors for a diverse set of compounds",
           89
          ],
          [
           "MOD-LSP, MODIS-based parameters for hydrologic modeling of North American land cover change",
           15
          ],
          [
           "Dynamic responses, GPS positions and environmental conditions of two light rail vehicles in Pittsburgh",
           5
          ],
          [
           "GCN250, new global gridded curve numbers for hydrologic modeling and design",
           56
          ],
          [
           "DRAMP 2.0, an updated data repository of antimicrobial peptides",
           216
          ],
          [
           "PlatformTM, a standards-based data custodianship platform for translational medicine research",
           5
          ],
          [
           "HENA, heterogeneous network-based data set for Alzheimer’s disease",
           31
          ],
          [
           "Whole-exome and whole-transcriptome sequencing of canine mammary gland tumors",
           21
          ],
          [
           "Creating a surrogate commuter network from Australian Bureau of Statistics census data",
           20
          ],
          [
           "Quantum mechanical static dipole polarizabilities in the QM7b and AlphaML showcase databases",
           28
          ],
          [
           "City-scale car traffic and parking density maps from Uber Movement travel time data",
           8
          ],
          [
           "Global tissue-specific transcriptome analysis of Citrus sinensis fruit across six developmental stages",
           13
          ],
          [
           "Globe-LFMC, a global plant water status database for vegetation ecophysiology and wildfire applications",
           48
          ],
          [
           "Death anxiety, exposure to death, mortuary preferences, and religiosity in five countries",
           9
          ],
          [
           "A global view on the effect of water uptake on aerosol particle light scattering",
           26
          ],
          [
           "RNA-Seq analysis and de novo transcriptome assembly of Cry toxin susceptible and tolerant Achaea janata larvae",
           6
          ],
          [
           "Hybrid genome assembly and annotation of Danionella translucida",
           16
          ],
          [
           "Sixteen years of bathymetry and waves at San Diego beaches",
           49
          ],
          [
           "A dataset describing a suite of novel antibody reagents for the RAS signaling network",
           5
          ],
          [
           "UASOL, a large-scale high-resolution outdoor stereo dataset",
           11
          ],
          [
           "Bacterial succession along a sediment porewater gradient at Lake Neusiedl in Austria",
           20
          ],
          [
           "Dataset on equine cartilage near infrared spectra, composition, and functional properties",
           5
          ],
          [
           "Consistently dated Atlantic sediment cores over the last 40 thousand years",
           60
          ],
          [
           "Creating reproducible pharmacogenomic analysis pipelines",
           4
          ],
          [
           "Human hand kinematic data during feeding and cooking tasks",
           17
          ],
          [
           "Discharge performance and dynamic behavior of refuellable zinc-air battery",
           32
          ],
          [
           "BioExcel Building Blocks, a software library for interoperable biomolecular simulation workflows",
           36
          ],
          [
           "PEST-CHEMGRIDS, global gridded maps of the top 20 crop-specific pesticide application rates from 2015 to 2025",
           162
          ],
          [
           "The RNA-mediated estrogen receptor α interactome of hormone-dependent human breast cancer cell nuclei",
           19
          ],
          [
           "Evaluating FAIR maturity through a scalable, automated, community-governed framework",
           82
          ],
          [
           "CommonMind Consortium provides transcriptomic and epigenomic data for Schizophrenia and Bipolar Disorder",
           121
          ],
          [
           "Reference gene and small RNA data from multiple tissues of Davidia involucrata Baill",
           4
          ],
          [
           "Bayesian ages for pollen records since the last glaciation in North America",
           20
          ],
          [
           "A dataset of cetacean occurrences in the Eastern North Atlantic",
           8
          ],
          [
           "Longitudinal RNA-Seq analysis of acute and chronic neurogenic skeletal muscle atrophy",
           15
          ],
          [
           "PalmTraits 1.0, a species-level functional trait database of palms worldwide",
           51
          ],
          [
           "Temporary dense seismic network during the 2016 Central Italy seismic emergency for microzonation studies",
           17
          ],
          [
           "De novo transcriptome assembly and analysis of the freshwater araphid diatom Fragilaria radians, Lake Baikal",
           14
          ],
          [
           "De novo transcriptomes of 14 gammarid individuals for proteogenomic analysis of seven taxonomic groups",
           22
          ],
          [
           "The sequence and de novo assembly of Takifugu bimaculatus genome using PacBio and Hi-C technologies",
           26
          ],
          [
           "SEEDS, simultaneous recordings of high-density EMG and finger joint angles during multiple hand movements",
           21
          ],
          [
           "Updating the global occurrence of Culicoides imicola, a vector for emerging viral diseases",
           12
          ],
          [
           "Time series of heat demand and heat pump efficiency for energy system modeling",
           101
          ],
          [
           "The sequencing and de novo assembly of the Larimichthys crocea genome using PacBio and Hi-C technologies",
           32
          ],
          [
           "Small non-coding RNA transcriptome of four high-altitude vertebrates and their low-altitude relatives",
           7
          ],
          [
           "Temperature affected guided wave propagation in a composite plate complementing the Open Guided Waves Platform",
           41
          ],
          [
           "The ENERTALK dataset, 15 Hz electricity consumption data from 22 houses in Korea",
           53
          ],
          [
           "Compendiums of cancer transcriptomes for machine learning applications",
           14
          ],
          [
           "ClimCKmap, a spatially, temporally and climatically explicit distribution database for the Italian fauna",
           2
          ],
          [
           "A dataset of continuous affect annotations and physiological signals for emotion analysis",
           104
          ],
          [
           "Transcriptomic profiling of cotton Gossypium hirsutum challenged with low-temperature gradients stress",
           14
          ],
          [
           "Upper limb activity of twenty myoelectric prosthesis users and twenty healthy anatomically intact adults",
           12
          ],
          [
           "The Forest Observation System, building a global reference dataset for remote sensing of forest biomass",
           47
          ],
          [
           "Microsatellite genotypes of the South African Cape vulture, Gyps coprotheres",
           1
          ],
          [
           "Sample descriptors linked to metagenomic sequencing data from human and animal enteric samples from Vietnam",
           2
          ],
          [
           "Text-mined dataset of inorganic materials synthesis recipes",
           139
          ],
          [
           "Transcriptomic profiling of sesame during waterlogging and recovery",
           21
          ],
          [
           "Tracing diagnosis trajectories over millions of patients reveal an unexpected risk in schizophrenia",
           11
          ],
          [
           "Mercury concentrations in biota in the Mediterranean Sea, a compilation of 40 years of surveys",
           36
          ],
          [
           "Fungi of French Guiana gathered in a taxonomic, environmental and molecular dataset",
           6
          ],
          [
           "Metagenomes and metatranscriptomes from boreal potential and actual acid sulfate soil materials",
           6
          ],
          [
           "Linkage disequilibrium maps for European and African populations constructed from whole genome sequence data",
           10
          ],
          [
           "Bile acids targeted metabolomics and medication classification data in the ADNI1 and ADNIGO/2 cohorts",
           14
          ],
          [
           "High-density EEG mobile brain/body imaging data recorded during a challenging auditory gait pacing task",
           14
          ],
          [
           "An accurate registration of the BigBrain dataset with the MNI PD25 and ICBM152 atlases",
           32
          ],
          [
           "Deciphering tea tree chloroplast and mitochondrial genomes of Camellia sinensis var. assamica",
           28
          ],
          [
           "QM-sym, a symmetrized quantum chemistry database of 135 kilo molecules",
           11
          ],
          [
           "The FluPRINT dataset, a multidimensional analysis of the influenza vaccine imprint on the immune system",
           9
          ],
          [
           "A shell dataset, for shell features extraction and recognition",
           8
          ],
          [
           "Comparative transcriptome profiling of immune response against Vibrio harveyi infection in Chinese tongue sole",
           22
          ],
          [
           "16S rDNA based skin microbiome data of healthy individuals and leprosy patients from India",
           8
          ],
          [
           "Draft genome sequences of two oriental melons, Cucumis melo L. var. makuwa",
           13
          ],
          [
           "A cone-beam X-ray computed tomography data collection designed for machine learning",
           31
          ],
          [
           "Chromosome-level genome assembly of golden pompano (Trachinotus ovatus) in the family Carangidae",
           44
          ],
          [
           "Classification of GABAergic interneurons by leading neuroscientists",
           14
          ],
          [
           "Satellite-based time-series of sea-surface temperature since 1981 for climate applications",
           232
          ],
          [
           "A data set of global river networks and corresponding water resources zones divisions",
           24
          ],
          [
           "Distributed radiomics as a signature validation study using the Personal Health Train infrastructure",
           38
          ],
          [
           "Transcriptome profiling for floral development in reblooming cultivar ‘High Noon’ of Paeonia suffruticosa",
           10
          ],
          [
           "Tracking vegetation phenology across diverse biomes using Version 2.0 of the PhenoCam Dataset",
           117
          ],
          [
           "A database for using machine learning and data mining techniques for coronary artery disease diagnosis",
           60
          ],
          [
           "Multiple-data-based monthly geopotential model set LDCmgm90",
           11
          ],
          [
           "A dataset on human perception of and response to wildfire smoke",
           10
          ],
          [
           "Morphometrics of eight Chinese cavefish species",
           9
          ],
          [
           "Environmental transcriptomes of invasive dreissena, a model species in ecotoxicology and invasion biology",
           7
          ],
          [
           "Integrated open-source software for multiscale electrophysiology",
           14
          ],
          [
           "Global humid tropics forest structural condition and forest structural integrity maps",
           38
          ],
          [
           "A public data set of spatio-temporal match events in soccer competitions",
           91
          ],
          [
           "Population centroids of the world administrative units from nighttime lights 1992-2013",
           18
          ],
          [
           "A high-throughput drug combination screen of targeted small molecule inhibitors in cancer cell lines",
           24
          ],
          [
           "An updated and unified earthquake catalog from 1787 to 2018 for seismic hazard assessment studies in Mexico",
           31
          ],
          [
           "Noise-free simulation of an FT-IR imaging hyperspectral dataset of pancreatic biopsy core bound by experiment",
           4
          ],
          [
           "The SCOC database, a large, open, and global database with sediment community oxygen consumption rates",
           14
          ],
          [
           "Transcriptomic profile of cystic fibrosis airway epithelial cells undergoing repair",
           16
          ],
          [
           "Prenatal hypoxia-induced epigenomic and transcriptomic reprogramming in rat fetal and adult offspring hearts",
           17
          ],
          [
           "7 Tesla MRI of the ex vivo human brain at 100 micron resolution",
           156
          ],
          [
           "Spatial high-resolution socio-energetic data for municipal energy system analyses",
           12
          ],
          [
           "A spatio-temporal continuous soil moisture dataset over the Tibet Plateau from 2002 to 2015",
           24
          ],
          [
           "The Personal Genome Project-UK, an open access resource of human multi-omics data",
           18
          ],
          [
           "A multi-modal data resource for investigating topographic heterogeneity in patient-derived xenograft tumors",
           6
          ],
          [
           "The Signaling Pathways Project, an integrated ‘omics knowledgebase for mammalian cellular signaling pathways",
           72
          ],
          [
           "ColPortal, an integrative multiomic platform for analysing epigenetic interactions in colorectal cancer",
           10
          ],
          [
           "Multiomics analysis of tolerant interaction of potato with potato virus Y",
           14
          ],
          [
           "A multi-omics digital research object for the genetics of sleep regulation",
           8
          ],
          [
           "Structural and functional multi-platform MRI series of a single human volunteer over more than fifteen years",
           17
          ],
          [
           "STATegra, a comprehensive multi-omics dataset of B-cell differentiation in mouse",
           21
          ],
          [
           "The AgeGuess database, an open online resource on chronological and perceived ages of people aged 5–100",
           4
          ],
          [
           "Travel times to hospitals in Australia",
           20
          ],
          [
           "The Empusa code generator and its application to GBOL, an extendable ontology for genome annotation",
           0
          ],
          [
           "Annual estimates of occupancy for bryophytes, lichens and invertebrates in the UK, 1970–2015",
           37
          ],
          [
           "Geocoding of worldwide patent data",
           31
          ],
          [
           "Global soil, landuse, evapotranspiration, historical and future weather databases for SWAT Applications",
           71
          ],
          [
           "A transcriptomic study of Williams-Beuren syndrome associated genes in mouse embryonic stem cells",
           1
          ],
          [
           "A suite of global accessibility indicators",
           61
          ],
          [
           "A simulated Northern Hemisphere terrestrial climate dataset for the past 60,000 years",
           38
          ],
          [
           "Stress and productivity patterns of interrupted, synergistic, and antagonistic office activities",
           9
          ],
          [
           "Chromosome genome assembly and annotation of the yellowbelly pufferfish with PacBio and Hi-C sequencing data",
           22
          ],
          [
           "A calibrated database of kinematics and EMG of the forearm and hand during activities of daily living",
           38
          ],
          [
           "The ProMotion LMU dataset, prostate intra-fraction motion recorded by transperineal ultrasound",
           3
          ],
          [
           "A 2D hyperspectral library of mineral reflectance, from 900 to 2500 nm",
           8
          ],
          [
           "FosSahul 2.0, an updated database for the Late Quaternary fossil records of Sahul",
           16
          ],
          [
           "Full-length transcriptome sequencing from multiple tissues of duck, Anas platyrhynchos",
           17
          ],
          [
           "Arbovirus emergence in the temperate city of Córdoba, Argentina, 2009–2018",
           22
          ],
          [
           "A large-scale dataset for mitotic figure assessment on whole slide images of canine cutaneous mast cell tumor",
           30
          ],
          [
           "Arabidopsis proteome and the mass spectral assay library",
           32
          ],
          [
           "SeaFlow data v1, high-resolution abundance, size and biomass of small phytoplankton in the North Pacific",
           29
          ],
          [
           "Global map and indicators of food system sustainability",
           76
          ],
          [
           "Helium, inorganic and organic carbon isotopes of fluids and gases across the Costa Rica convergent margin",
           14
          ],
          [
           "A de novo genome assembly of the dwarfing pear rootstock Zhongai 1",
           28
          ],
          [
           "A chromosome-level genome assembly of the Chinese tupelo Nyssa sinensis",
           8
          ],
          [
           "Complete genome sequence of Sphingomonas paucimobilis AIMST S2, a xenobiotic-degrading bacterium",
           20
          ],
          [
           "flEECe, an energy use and occupant behavior dataset for net-zero energy affordable senior residential buildings",
           18
          ],
          [
           "Long-term monitoring data from a naturally ventilated office building",
           16
          ],
          [
           "Monitored data on occupants’ presence and actions in an office building",
           11
          ],
          [
           "Shotgun metagenome data of a defined mock community using Oxford Nanopore, PacBio and Illumina technologies",
           68
          ],
          [
           "Longitudinal dataset of human-building interactions in U.S. offices",
           12
          ],
          [
           "Global sea-surface iodide observations, 1967–2018",
           31
          ],
          [
           "The Scales Project, a cross-national dataset on the interpretation of thermal perception scales",
           21
          ],
          [
           "Room-level occupant counts and environmental quality from heterogeneous sensing modalities in a smart building",
           17
          ],
          [
           "A database of high-resolution MS/MS spectra for lichen metabolites",
           48
          ],
          [
           "A global wildfire dataset for the analysis of fire regimes and fire behaviour",
           129
          ],
          [
           "A manually denoised audio-visual movie watching fMRI dataset for the studyforrest project",
           5
          ],
          [
           "High-resolution behavioral time series of Japanese quail within their social environment",
           7
          ],
          [
           "Hybrid de novo whole-genome assembly and annotation of the model tapeworm Hymenolepis diminuta",
           23
          ],
          [
           "Eyasi Plateau Paleontological Expedition, Laetoli, Tanzania, fossil specimen database 1998–2005",
           4
          ],
          [
           "Transcriptome and chromatin accessibility in porcine intestinal epithelial cells upon Zearalenone exposure",
           8
          ],
          [
           "Growth phase proteomics of the heterotrophic marine bacterium Ruegeria pomeroyi",
           2
          ],
          [
           "TOFF, a database of traits of fish to promote advances in fish aquaculture",
           13
          ],
          [
           "Species occurrence of ticks in South America, and interactions with biotic and abiotic traits",
           3
          ],
          [
           "Comparative dataset of experimental and computational attributes of UV/vis absorption spectra",
           63
          ],
          [
           "Human kinematic, kinetic and EMG data during different walking and stair ascending and descending tasks",
           80
          ],
          [
           "A reference library for Canadian invertebrates with 1.5 million barcodes, voucher specimens, and DNA samples",
           57
          ],
          [
           "A global database of historic and real-time flood events based on social media",
           78
          ],
          [
           "Blood proteome profiling using aptamer-based technology for rejection biomarker discovery in transplantation",
           13
          ],
          [
           "Global hydro-environmental sub-basin and river reach characteristics at high spatial resolution",
           261
          ],
          [
           "Dataset supporting blood pressure prediction for the management of chronic hemodialysis",
           4
          ],
          [
           "Facial model collection for medical augmented reality in oncologic cranio-maxillofacial surgery",
           15
          ],
          [
           "CE-QUAL-W2 model of dam outflow elevation impact on temperature, dissolved oxygen and nutrients in a reservoir",
           20
          ],
          [
           "Interaction data from the Copenhagen Networks Study",
           84
          ],
          [
           "MIMIC-CXR, a de-identified publicly available database of chest radiographs with free-text reports",
           526
          ],
          [
           "The odonate phenotypic database, a new open data resource for comparative studies of an old insect order",
           17
          ],
          [
           "A database of geopositioned Middle East Respiratory Syndrome Coronavirus occurrences",
           14
          ],
          [
           "Pan-European groundwater to atmosphere terrestrial systems climatology from a physically consistent simulation",
           29
          ],
          [
           "The heterogeneity and change in the urban structure of metropolitan areas in the United States, 1990–2010",
           21
          ],
          [
           "Highly multiplexed immunofluorescence images and single-cell data of immune markers in tonsil and lung cancer",
           31
          ],
          [
           "Profiling the effect of nafcillin on HA-MRSA D712 using bacteriological and physiological media",
           5
          ],
          [
           "Characterization of a human liver reference material fit for proteomics applications",
           3
          ],
          [
           "Expansion of the cassava brown streak pandemic in Uganda revealed by annual field survey data for 2004 to 2017",
           19
          ],
          [
           "An extreme sea level indicator for the contiguous United States coastline",
           25
          ],
          [
           "Machine learning for the detection of early immunological markers as predictors of multi-organ dysfunction",
           15
          ],
          [
           "A longitudinal neuroimaging dataset on multisensory lexical processing in school-aged children",
           10
          ],
          [
           "PGxCorpus, a manually annotated corpus for pharmacogenomics",
           8
          ],
          [
           "Single-cell RNA sequencing of human kidney",
           136
          ],
          [
           "The GenTree Dendroecological Collection, tree-ring and wood density data from seven tree species across Europe",
           190
          ],
          [
           "The accumulation profiles of terpene metabolites in three Muscat table grape cultivars through HS-SPME-GCMS",
           16
          ],
          [
           "Depth-to-bedrock map of China at a spatial resolution of 100 meters",
           72
          ],
          [
           "A database of multi-channel intramuscular electromyogram signals during isometric hand muscles contractions",
           17
          ],
          [
           "A global database for metacommunity ecology, integrating species, traits, environment and space",
           38
          ],
          [
           "Evaluating sequence data quality from the Swift Accel-Amplicon CFTR Panel",
           2
          ],
          [
           "De novo transcriptome assembly and annotation for gene discovery in avocado, macadamia and mango",
           20
          ],
          [
           "A large calibrated database of hand movements and grasps kinematics",
           29
          ],
          [
           "PIC, a paediatric-specific intensive care database",
           52
          ],
          [
           "Transcriptome profiling of abiotic responses to heat, cold, salt, and osmotic stress of Capsicum annuum L.",
           77
          ],
          [
           "A database for global soil health assessment",
           42
          ],
          [
           "A continuously updated, geospatially rectified database of utility-scale wind turbines in the United States",
           31
          ],
          [
           "The Database of Cross-Linguistic Colexifications, reproducible analysis of cross-linguistic polysemies",
           66
          ],
          [
           "Reference tool kinematics-kinetics and tissue surface strain data during fundamental surgical acts",
           4
          ],
          [
           "Reference data on in vitro anatomy and indentation response of tissue layers of musculoskeletal extremities",
           2
          ],
          [
           "Predictive mapping of the global power system using open data",
           67
          ],
          [
           "United States wildlife and wildlife product imports from 2000–2014",
           36
          ],
          [
           "The SUSTech-SYSU dataset for automatically segmenting and classifying corneal ulcers",
           25
          ],
          [
           "High-resolution and bias-corrected CMIP5 projections for climate change impact assessments",
           232
          ],
          [
           "Four high-quality draft genome assemblies of the marine heterotrophic nanoflagellate Cafeteria roenbergensis",
           15
          ],
          [
           "GOODD, a global dataset of more than 38,000 georeferenced dams",
           222
          ],
          [
           "Reference values for resting and post exercise hemodynamic parameters in a 6–18 year old population",
           1
          ],
          [
           "The Chieti Affective Action Videos database, a resource for the study of emotions in psychology",
           24
          ],
          [
           "A chromosome-level reference genome of the hornbeam, Carpinus fangiana",
           8
          ],
          [
           "Dataset of human medial temporal lobe neurons, scalp and intracranial EEG during a verbal working memory task",
           23
          ],
          [
           "High-throughput identification of protein functional similarities using a gene-expression-based siRNA screen",
           3
          ],
          [
           "Comprehensive transcriptome data for endemic Schizothoracinae fish in the Tibetan Plateau",
           14
          ],
          [
           "The first high-resolution meteorological forcing dataset for land process studies over China",
           778
          ],
          [
           "Domestic waste emissions to European waters in the 2010s",
           20
          ],
          [
           "Land use and cover maps for Mato Grosso State in Brazil from 2001 to 2017",
           30
          ],
          [
           "RNA proximity sequencing data and analysis pipeline from a human neuroblastoma nuclear transcriptome",
           2
          ],
          [
           "Physical and chemical descriptors for predicting interfacial thermal resistance",
           13
          ],
          [
           "Nexus of grazing management with plant and soil properties in northern China grasslands",
           7
          ],
          [
           "A chromosome-scale reference genome for Giardia intestinalis WB",
           51
          ],
          [
           "A multilayer and spatial description of the Erasmus mobility network",
           14
          ],
          [
           "Generation of a global synthetic tropical cyclone hazard dataset using STORM",
           102
          ],
          [
           "Surface ruptures database related to the 26 December 2018, MW 4.9 Mt. Etna earthquake, southern Italy",
           17
          ],
          [
           "Gaze, visual, myoelectric, and inertial data of grasps for intelligent prosthetics",
           22
          ],
          [
           "Survey data on factors that influence the adoption of soil carbon enhancing practices in Western Kenya",
           3
          ],
          [
           "Chronicles of nature calendar, a long-term and large-scale multitaxon database on phenology",
           21
          ],
          [
           "Genome-wide gene expression profiling of the melon fly, Zeugodacus cucurbitae, during thirteen life stages",
           19
          ],
          [
           "The Rural Household Multiple Indicator Survey, data from 13,310 farm households in 21 countries",
           26
          ],
          [
           "Hydraulic, wash-off and sediment transport experiments in a full-scale urban drainage physical model",
           21
          ],
          [
           "A voltage and current measurement dataset for plug load appliance identification in households",
           61
          ],
          [
           "A 12-lead electrocardiogram database for arrhythmia research covering more than 10,000 patients",
           202
          ],
          [
           "A dataset of radar-recorded heart sounds and vital signs including synchronised reference sensor signals",
           30
          ],
          [
           "Thirty complete Streptomyces genome sequences for mining novel secondary metabolite biosynthetic gene clusters",
           69
          ],
          [
           "China CO2 emission accounts 2016–2017",
           596
          ],
          [
           "Molecular dynamics trajectories for 630 coarse-grained drug-membrane permeations",
           24
          ],
          [
           "Benchmark classification dataset for laser-induced breakdown spectroscopy",
           20
          ],
          [
           "High-resolution T2-FLAIR and non-contrast CT brain atlas of the elderly",
           21
          ],
          [
           "Atomic structures and orbital energies of 61,489 crystal-forming organic molecules",
           58
          ],
          [
           "Tesco Grocery 1.0, a large-scale dataset of grocery purchases in London",
           17
          ],
          [
           "Global karst springs hydrograph dataset for research and management of the world’s fastest-flowing groundwater",
           53
          ],
          [
           "Gaze, behavioral, and clinical data for phantom limbs after hand amputation from 15 amputees and 29 controls",
           6
          ],
          [
           "All-hazards dataset mined from the US National Incident Management System 1999–2014",
           23
          ],
          [
           "Data from a terminated study on iron oxide nanoparticle magnetic resonance imaging for head and neck tumors",
           6
          ],
          [
           "Fox Insight collects online, longitudinal patient-reported outcomes and genetic data on Parkinson’s disease",
           62
          ],
          [
           "The sequence and de novo assembly of the wild yak genome",
           18
          ],
          [
           "Building fault detection data to aid diagnostic algorithm creation and performance testing",
           52
          ],
          [
           "Comprehensive draft of the mouse embryonic fibroblast lysosomal proteome by mass spectrometry based proteomics",
           10
          ],
          [
           "Semantic concept schema of the linear mixed model of experimental observations",
           8
          ],
          [
           "A multi-omics dataset of heat-shock response in the yeast RNA binding protein Mip6",
           4
          ],
          [
           "Physical activity, time use, and food intakes of rural households in Ghana, India, and Nepal",
           5
          ],
          [
           "Transcriptomic resources for evolutionary studies in flat periwinkles and related species",
           2
          ],
          [
           "Four European Salmonella Typhimurium datasets collected to develop WGS-based source attribution methods",
           14
          ],
          [
           "Very high resolution, altitude-corrected, TMPA-based monthly satellite precipitation product over the CONUS",
           11
          ],
          [
           "An automatically curated first-principles database of ferroelectrics",
           41
          ],
          [
           "Longitudinal spatial dataset on travel times and distances by different travel modes in Helsinki Region",
           24
          ],
          [
           "A NWB-based dataset and processing pipeline of human single-neuron activity during a declarative memory task",
           9
          ],
          [
           "High dielectric ternary oxides from crystal structure prediction and high-throughput screening",
           10
          ],
          [
           "A socio-environmental geodatabase for integrative research in the transboundary Rio Grande/Río Bravo basin",
           11
          ],
          [
           "Provincial and gridded population projection for China under shared socioeconomic pathways from 2010 to 2100",
           228
          ],
          [
           "First draft genome for the sand-hopper Trinorchestia longiramus",
           8
          ],
          [
           "A survey of invasive plants on grassland soil microbial communities and ecosystem services",
           21
          ],
          [
           "A long-term monitoring dataset of fish assemblages in rocky tidepools on the northern coast of Taiwan",
           3
          ],
          [
           "A national-scale data set for dissolved carbon and its spatial pattern in lakes and reservoirs across China",
           15
          ],
          [
           "High-resolution mapping of spatial heterogeneity in ice wedge polygon geomorphology near Prudhoe Bay, Alaska",
           17
          ],
          [
           "An open data infrastructure for the study of anthropogenic hazards linked to georesource exploitation",
           35
          ],
          [
           "Genome assembly of six polyploid potato genomes",
           33
          ],
          [
           "Draft genomes of female and male turbot Scophthalmus maximus",
           12
          ],
          [
           "Gut microbiome diversity detected by high-coverage 16S and shotgun sequencing of paired stool and colon sample",
           34
          ],
          [
           "Survey data on factors that constrain the adoption of soil carbon enhancing technologies in Ethiopia",
           2
          ],
          [
           "The retrospective analysis of Antarctic tracking data project",
           26
          ],
          [
           "A database of freshwater fish species of the Amazon Basin",
           82
          ],
          [
           "Multidisciplinary database of permeability of fault zones and surrounding protolith rocks at world-wide sites",
           39
          ],
          [
           "The global dataset of historical yields for major crops 1981–2016",
           88
          ],
          [
           "Draft genomes of two Atlantic bay scallop subspecies Argopecten irradians irradians and A. i. concentricus",
           28
          ],
          [
           "A 12-Lead ECG database to identify origins of idiopathic ventricular arrhythmia containing 334 patients",
           18
          ],
          [
           "Epidemiological data from the COVID-19 outbreak, real-time case information",
           224
          ],
          [
           "Electron microscopy dataset for the recognition of nanoscale ordering effects and location of nanoparticles",
           22
          ],
          [
           "Rapid flood and damage mapping using synthetic aperture radar in response to Typhoon Hagibis, Japan",
           49
          ],
          [
           "Generation of a murine SWATH-MS spectral library to quantify more than 11,000 proteins",
           11
          ],
          [
           "A global database of soil nematode abundance and functional group composition",
           46
          ],
          [
           "Processing citizen science- and machine-annotated time-lapse imagery for biologically meaningful metrics",
           11
          ],
          [
           "A global ensemble of ocean wave climate projections from CMIP5-driven models",
           56
          ],
          [
           "Database of open-framework aluminophosphate structures",
           18
          ],
          [
           "A synthetic energy dataset for non-intrusive load monitoring in households",
           71
          ],
          [
           "An interactive database of Leishmania species distribution in the Americas",
           36
          ],
          [
           "Version 4 of the CRU TS monthly high-resolution gridded multivariate climate dataset",
           2232
          ],
          [
           "A 3 km spatially and temporally consistent European daily soil moisture reanalysis from 2000 to 2015",
           33
          ],
          [
           "Harmonized global maps of above and belowground biomass carbon density in the year 2010",
           182
          ],
          [
           "A platinum standard pan-genome resource that represents the population structure of Asian rice",
           84
          ],
          [
           "Epigenomic profiling of neuroblastoma cell lines",
           30
          ],
          [
           "A global database of Holocene paleotemperature records",
           165
          ],
          [
           "A dataset of multi-functional ecological traits of Brazilian bees",
           29
          ],
          [
           "A fine-tuned global distribution dataset of marine forests",
           46
          ],
          [
           "High resolution temporal profiles in the Emissions Database for Global Atmospheric Research",
           317
          ],
          [
           "Database of pharmacokinetic time-series data and parameters for 144 environmental chemicals",
           35
          ],
          [
           "FiCli, the Fish and Climate Change Database, informs climate adaptation and management for freshwater fishes",
           21
          ],
          [
           "Simultaneous human intracerebral stimulation and HD-EEG, ground-truth for source localization methods",
           31
          ],
          [
           "A draft genome assembly of spotted hyena, Crocuta crocuta",
           6
          ],
          [
           "A multidecadal assessment of climate indices over Europe",
           20
          ],
          [
           "An annual time series of weekly size-resolved aerosol properties in the megacity of Metro Manila, Philippines",
           16
          ],
          [
           "Reference exome data for Australian Aboriginal populations to support health-based research",
           0
          ],
          [
           "Harmonised global datasets of wind and solar farm locations and power",
           77
          ],
          [
           "The draft genome sequence of an upland wild rice species, Oryza granulata",
           19
          ],
          [
           "Goteo.org civic crowdfunding and match-funding data connecting Sustainable Development Goals",
           11
          ],
          [
           "DNA methylation of chronic lymphocytic leukemia with differential response to chemotherapy",
           6
          ],
          [
           "The ANI-1ccx and ANI-1x data sets, coupled-cluster and density functional theory properties for molecules",
           124
          ],
          [
           "Genome sequence analysis of multidrug-resistant Mycobacterium tuberculosis from Malaysia",
           4
          ],
          [
           "An improved high-quality genome assembly and annotation of Tibetan hulless barley",
           33
          ],
          [
           "Transcriptome and translatome profiles of Streptomyces species in different growth phases",
           17
          ],
          [
           "Reactants, products, and transition states of elementary chemical reactions based on quantum chemistry",
           80
          ],
          [
           "Traumatic life experiences and religiosity in eight countries",
           5
          ],
          [
           "Pofatu, a curated and open-access database for geochemical sourcing of archaeological materials",
           6
          ],
          [
           "CoryneRegNet 7, the reference database and analysis platform for corynebacterial gene regulatory networks",
           19
          ],
          [
           "GaitRec, a large-scale ground reaction force dataset of healthy and impaired gait",
           29
          ],
          [
           "A data set of sea surface stereo images to resolve space-time wave fields",
           28
          ],
          [
           "Large database for the analysis and prediction of spliced and non-spliced peptide generation by proteasomes",
           24
          ],
          [
           "The Ontario Climate Data Portal, a user-friendly portal of Ontario-specific climate projections",
           5
          ],
          [
           "CeutaOPEN, individual-based field observations of breeding snowy plovers Charadrius nivosus",
           6
          ],
          [
           "Global high-resolution emissions of soil NOx, sea salt aerosols, and biogenic volatile organic compounds",
           62
          ],
          [
           "A kinematic and kinetic dataset of 18 above-knee amputees walking at various speeds",
           34
          ],
          [
           "High-throughput screening platform for solid electrolytes combining hierarchical ion-transport prediction algorithms",
           107
          ],
          [
           "CAVD, towards better characterization of void space for ionic transport analysis",
           51
          ],
          [
           "PTB-XL, a large publicly available electrocardiography dataset",
           403
          ],
          [
           "Developing reliable hourly electricity demand data through screening and imputation",
           40
          ],
          [
           "Temperatures, diagnostics and treatment in pediatric cancer patients with fever in neutropenia, NCT01683370",
           2
          ],
          [
           "CassavaMap, a fine-resolution disaggregation of cassava production and harvested area in Africa in 2014",
           20
          ],
          [
           "High-throughput transcriptomic and proteomic profiling of mesenchymal-amoeboid transition in 3D collagen",
           15
          ],
          [
           "A novel real-world ecotoxicological dataset of pelagic microbial community responses to wastewater",
           4
          ],
          [
           "Multicenter dataset of multi-shell diffusion MRI in healthy traveling adults with identical settings",
           21
          ],
          [
           "Estimating nitrogen and phosphorus concentrations in streams and rivers, within a machine learning framework",
           71
          ],
          [
           "Geomorpho90m, empirical evaluation and accuracy assessment of global high-resolution geomorphometric layers",
           82
          ],
          [
           "dbPSP 2.0, an updated database of protein phosphorylation sites in prokaryotes",
           19
          ],
          [
           "A macroscopic and stereological imaging dataset of Pleuronectes platessa ovaries",
           1
          ],
          [
           "X-ray nano-tomography of complete scales from the ultra-white beetles Lepidiota stigma and Cyphochilus",
           6
          ],
          [
           "Long-term population monitoring of a territorial forest raptor species",
           7
          ],
          [
           "Vertical datum transformation grids for Mexico",
           1
          ],
          [
           "A harmonized global nighttime light dataset 1992–2018",
           271
          ],
          [
           "HISTOBREAST, a collection of brightfield microscopy images of Haematoxylin and Eosin stained breast tissue",
           4
          ],
          [
           "A synthesis of bacterial and archaeal phenotypic trait data",
           56
          ],
          [
           "Photographic database of the European cave salamanders, genus Hydromantes",
           16
          ],
          [
           "Simultaneous EEG-fMRI during a neurofeedback task, a brain imaging dataset for multimodal data integration",
           11
          ],
          [
           "Aerial surveys of waterbirds in Australia",
           19
          ],
          [
           "The global lake area, climate, and population dataset",
           37
          ],
          [
           "Genome sequence of Kobresia littledalei, the first chromosome-level genome in the family Cyperaceae",
           27
          ],
          [
           "Neural and physiological data from participants listening to affective music",
           14
          ],
          [
           "Integrated analysis of a compendium of RNA-Seq datasets for splicing factors",
           4
          ],
          [
           "Multicenter intracranial EEG dataset for classification of graphoelements and artifactual signals",
           17
          ],
          [
           "Nappe oscillations on free-overfall structures, data from laboratory experiments",
           8
          ],
          [
           "Serial scanning electron microscopy of anti-PKHD1L1 immuno-gold labeled mouse hair cell stereocilia bundles",
           6
          ],
          [
           "Chromosome-level genome assembly of Tarim red deer, Cervus elaphus yarkandensis",
           10
          ],
          [
           "Dataset of segmented nuclei in hematoxylin and eosin stained histopathology images of ten cancer types",
           36
          ],
          [
           "Multi-channel EEG recording during motor imagery of different joints from the same limb",
           25
          ],
          [
           "Massive online data annotation, crowdsourcing to generate high quality sleep spindle annotations from EEG data",
           21
          ],
          [
           "BAGLS, a multihospital Benchmark for Automatic Glottis Segmentation",
           43
          ],
          [
           "A clinically and genomically annotated nerve sheath tumor biospecimen repository",
           14
          ],
          [
           "Transcriptome data of temporal and cingulate cortex in the Rett syndrome brain",
           7
          ],
          [
           "Plant traits and vegetation data from climate warming experiments along an 1100 m elevation gradient in Gongga Mountains, China",
           14
          ],
          [
           "The Fire and Tree Mortality Database, for empirical modeling of individual tree mortality after fire",
           14
          ],
          [
           "Discharge profile of a zinc-air flow battery at various electrolyte flow rates and discharge currents",
           37
          ],
          [
           "RNA sequencing analysis of the human retina and associated ocular tissues",
           12
          ],
          [
           "Spatiotemporal force and motion in collective cell migration",
           15
          ],
          [
           "A longitudinal serum NMR-based metabolomics dataset of ischemia-reperfusion injury in adult cardiac surgery",
           10
          ],
          [
           "Domain-centric database to uncover structure of minimally characterized viral genomes",
           2
          ],
          [
           "Fetal electrocardiograms, direct and abdominal with reference heartbeat annotations",
           48
          ],
          [
           "Long-term monitoring of the Iberian ibex population in the Sierra Nevada of the southeast Iberian Peninsula",
           9
          ],
          [
           "Building a PubMed knowledge graph",
           94
          ],
          [
           "Large-scale metabolic interaction network of the mouse and human gut microbiota",
           13
          ],
          [
           "A rasterized building footprint dataset for the United States",
           47
          ],
          [
           "The BenBioDen database, a global database for meio-, macro- and megabenthic biomass and densities",
           18
          ],
          [
           "Historical dataset of administrative units with social-economic attributes for Austrian Silesia 1837–1910",
           12
          ],
          [
           "Holocene global mean surface temperature, a multi-method reconstruction approach",
           203
          ],
          [
           "MARES, a replicable pipeline and curated reference database for marine eukaryote metabarcoding",
           17
          ],
          [
           "Probabilistic identification of saccharide moieties in biomolecules and their protein complexes",
           5
          ],
          [
           "Database of literature derived cellular measurements from the murine basal ganglia",
           8
          ],
          [
           "A benchmark dataset of protein antigens for antigenicity measurement",
           4
          ],
          [
           "Liver transcriptome resources of four commercially exploited teleost species",
           7
          ],
          [
           "ERA5-based global meteorological wildfire danger maps",
           84
          ],
          [
           "Systems biology of acidophile biofilms for efficient metal extraction",
           9
          ],
          [
           "A self-organizing, living library of time-series data",
           7
          ],
          [
           "A map of African humid tropical forest aboveground biomass derived from management inventories",
           16
          ],
          [
           "Chromatin accessibility and transcriptome landscapes of Monomorium pharaonis brain",
           9
          ],
          [
           "A new climate data record of upper-tropospheric humidity from microwave observations",
           6
          ],
          [
           "COVID-19 outbreak response, a dataset to assess mobility changes in Italy following national lockdown",
           187
          ],
          [
           "Laboratory-scale hydraulic fracturing dataset for benchmarking of enhanced geothermal system simulation tools",
           8
          ],
          [
           "A database of human gait performance on irregular and uneven surfaces collected by wearable sensors",
           69
          ],
          [
           "The FLUXNET2015 dataset and the ONEFlux processing pipeline for eddy covariance data",
           735
          ],
          [
           "IDEAL, the Infectious Diseases of East African Livestock project open access database and biobank",
           2
          ],
          [
           "Meta-analytic approach for transcriptome profiling of herpes simplex virus type 1",
           6
          ],
          [
           "The International Bathymetric Chart of the Arctic Ocean Version 4.0",
           159
          ],
          [
           "Thermodynamic and transport properties of hydrogen containing streams",
           83
          ],
          [
           "Multivariate time series dataset for space weather data analytics",
           62
          ],
          [
           "Centuries of monthly and 3-hourly global ocean wave data for past, present, and future climate research",
           23
          ],
          [
           "TAASRAD19, a high-resolution weather radar reflectivity dataset for precipitation nowcasting",
           19
          ],
          [
           "GlobalFungi, a global database of fungal occurrences from high-throughput-sequencing metabarcoding studies",
           119
          ],
          [
           "A dataset describing data discovery and reuse practices in research",
           10
          ],
          [
           "A global dataset of surface water and groundwater salinity measurements from 1980–2019",
           54
          ],
          [
           "Japan prefectural emission accounts and socioeconomic data 2007 to 2015",
           11
          ],
          [
           "A three-dimensional, population-based average of the C57BL/6 mouse brain from DAPI-stained coronal slices",
           6
          ],
          [
           "Long term survey of the fish community and associated benthic fauna of the Seine estuary nursery grounds",
           1
          ],
          [
           "High-resolution terrestrial climate, bioclimate and vegetation for the last 120,000 years",
           51
          ],
          [
           "CerebrA, registration and manual label correction of Mindboggle-101 atlas for MNI-ICBM152 template",
           39
          ],
          [
           "Spatial data of Ixodes ricinus instar abundance and nymph pathogen prevalence, Scandinavia, 2016–2017",
           4
          ],
          [
           "De novo transcriptome assembly of cold stressed clones of the hexaploid Sequoia sempervirens (D. Don) Endl.",
           7
          ],
          [
           "A comprehensive, multisource database for hydrometeorological modeling of 14,425 North American watersheds",
           37
          ],
          [
           "CU-BEMS, smart building electricity consumption and indoor environmental sensor datasets",
           48
          ],
          [
           "A long-term dataset on wild bee abundance in Mid-Atlantic United States",
           10
          ],
          [
           "Outlining where humans live, the World Settlement Footprint 2015",
           161
          ],
          [
           "Quantum chemical calculations for over 200,000 organic radical species and 40,000 associated closed-shell molecules",
           61
          ],
          [
           "High-resolution monthly precipitation and temperature time series from 2006 to 2100",
           86
          ],
          [
           "Cultivar-specific transcriptome and pan-transcriptome reconstruction of tetraploid potato",
           23
          ],
          [
           "A crop type dataset for consistent land cover classification in Central Asia",
           12
          ],
          [
           "Disassembly-based bill of materials data for consumer electronic products",
           20
          ],
          [
           "Unravelling the diversity of magnetotactic bacteria through analysis of open genomic databases",
           31
          ],
          [
           "Transcriptome analysis of blood and spleen in virulent and avirulent mouse malaria infection",
           4
          ],
          [
           "Printable 3D vocal tract shapes from MRI data and their acoustic and aerodynamic properties",
           21
          ],
          [
           "A global map of terrestrial habitat types",
           96
          ],
          [
           "Mapping of 30-meter resolution tile-drained croplands using a geospatial modeling approach",
           56
          ],
          [
           "A data resource from concurrent intracranial stimulation and functional MRI of the human brain",
           14
          ],
          [
           "A database of battery materials auto-generated using ChemDataExtractor",
           85
          ],
          [
           "A consistent Great Lakes ice cover digital data set for winters 1973–2019",
           6
          ],
          [
           "A global sea state dataset from spaceborne synthetic aperture radar wave mode data",
           12
          ],
          [
           "Combining expert and crowd-sourced training data to map urban form and functions for the continental US",
           65
          ],
          [
           "A comprehensive CHO SWATH-MS spectral library for robust quantitative profiling of 10,000 proteins",
           19
          ],
          [
           "An annotated fluorescence image dataset for training nuclear segmentation methods",
           40
          ],
          [
           "A high-content image-based drug screen of clinical compounds against cell transmission of adenovirus",
           10
          ],
          [
           "ACDC, a global database of amphibian cytochrome-b sequences using reproducible curation for GenBank records",
           8
          ],
          [
           "Benchmark maps of 33 years of secondary forest age for Brazil",
           41
          ],
          [
           "CroSSED sequence, a new tool for 3D processing in geosciences using the free software 3DSlicer",
           14
          ],
          [
           "The green and blue crop water requirement WATNEEDS model and its global gridded outputs",
           45
          ],
          [
           "Arctic tidal current atlas",
           16
          ],
          [
           "Seventy-year long record of monthly water balance estimates for Earth’s largest lake system",
           15
          ],
          [
           "A fine resolution dataset of accessibility under different traffic conditions in European cities",
           12
          ],
          [
           "A national macroinvertebrate dataset collected for the biomonitoring of Ireland’s river network, 2007–2018",
           7
          ],
          [
           "910 metagenome-assembled genomes from the phytobiomes of three urban-farmed leafy Asian greens",
           15
          ],
          [
           "HIT-COVID, a global database tracking public health interventions to COVID-19",
           61
          ],
          [
           "A structured open dataset of government interventions in response to COVID-19",
           119
          ],
          [
           "Chia, a large annotated corpus of clinical trial eligibility criteria",
           20
          ],
          [
           "HyperKvasir, a comprehensive multi-class image and video dataset for gastrointestinal endoscopy",
           231
          ],
          [
           "Project IPAD, a database to catalogue the analysis of Fukushima Daiichi accident fragmental release material",
           2
          ],
          [
           "A relational database to identify differentially expressed genes in the endometrium and endometriosis lesions",
           34
          ],
          [
           "Experimental database of optical properties of organic compounds",
           47
          ],
          [
           "Kinematic dataset of actors expressing emotions",
           9
          ],
          [
           "Access to mass rapid transit in OECD urban areas",
           10
          ],
          [
           "Materials Cloud, a platform for open computational science",
           213
          ],
          [
           "A database of zooplankton biomass in Australian marine waters",
           2
          ],
          [
           "AiiDA 1.0, a scalable computational infrastructure for automated reproducible workflows and data provenance",
           159
          ],
          [
           "K-EmoCon, a multimodal sensor dataset for continuous emotion recognition in naturalistic conversations",
           87
          ],
          [
           "High-density EEG of auditory steady-state responses during stimulation of basal forebrain parvalbumin neurons",
           5
          ],
          [
           "Database of Italian present-day stress indicators, IPSI 1.4",
           30
          ],
          [
           "Large scale in silico characterization of repeat expansion variation in human genomes",
           11
          ],
          [
           "A global-scale data set of mining areas",
           123
          ],
          [
           "A dataset of clinically recorded radar vital signs with synchronised reference sensor signals",
           52
          ],
          [
           "Cross-sectional study of human coding- and non-coding RNAs in progressive stages of Helicobacter pylori infection",
           1
          ],
          [
           "An Asian-centric human movement database capturing activities of daily living",
           16
          ],
          [
           "InvaCost, a public database of the economic costs of biological invasions worldwide",
           168
          ],
          [
           "PPDIST, global 0.1° daily and 3-hourly precipitation probability distribution climatologies for 1979–2018",
           11
          ],
          [
           "Development and validation of the CHIRTS-daily quasi-global high-resolution daily temperature data set",
           47
          ],
          [
           "A high-resolution in vivo magnetic resonance imaging atlas of the human hypothalamic region",
           65
          ],
          [
           "Mapping twenty years of corn and soybean across the US Midwest using the Landsat archive",
           62
          ],
          [
           "Highly sampled measurements in a controlled atmosphere at the Biosphere 2 Landscape Evolution Observatory",
           1
          ],
          [
           "Structural models of human ACE2 variants with SARS-CoV-2 Spike protein for structure-based drug design",
           24
          ],
          [
           "A database of chlorophyll and water chemistry in freshwater lakes",
           40
          ],
          [
           "Consensus transcriptional regulatory networks of coronavirus-infected human cells",
           21
          ],
          [
           "Hourly 5-km surface total and diffuse solar radiation in China, 2007–2018",
           25
          ],
          [
           "Two hundred and fifty-four metagenome-assembled bacterial genomes from the bank vole gut microbiota",
           13
          ],
          [
           "Global terrestrial carbon fluxes of 1999–2019 estimated by upscaling eddy covariance data with a random forest",
           84
          ],
          [
           "Vegetation traits of pre-Alpine grasslands in southern Germany",
           7
          ],
          [
           "Global quantitative analysis of the human brain proteome and phosphoproteome in Alzheimer’s disease",
           57
          ],
          [
           "Multiyear in-situ L-band microwave radiometry of land surface processes on the Tibetan Plateau",
           18
          ],
          [
           "Developing the hydrological dependency structure between streamgage and reservoir networks",
           5
          ],
          [
           "A 2015 inventory of embodied carbon emissions for Chinese power transmission infrastructure projects",
           18
          ],
          [
           "A global database of plant production and carbon exchange from global change manipulative experiments",
           4
          ],
          [
           "Global land use for 2015–2100 at 0.05° resolution under diverse socioeconomic and climate scenarios",
           98
          ],
          [
           "Question-driven summarization of answers to consumer health questions",
           30
          ],
          [
           "A database for risk assessment and comparative genomic analysis of foodborne Vibrio parahaemolyticus in China",
           13
          ],
          [
           "lncRNAKB, a knowledgebase of tissue-specific functional annotation and trait association of long noncoding RNA",
           38
          ],
          [
           "Genome assembly and annotation of Meloidogyne enterolobii, an emerging parthenogenetic root-knot nematode",
           38
          ],
          [
           "Air pollution emissions from Chinese power plants based on the continuous emission monitoring systems network",
           51
          ],
          [
           "Data for training and testing radiation detection algorithms in an urban environment",
           10
          ],
          [
           "The MARAS dataset, vegetation and soil characteristics of dryland rangelands across Patagonia",
           15
          ],
          [
           "A salmon diet database for the North Pacific Ocean",
           6
          ],
          [
           "VOLCORE, a global database of visible tephra layers sampled by ocean drilling",
           7
          ],
          [
           "Approaching 80 years of snow water equivalent information by merging different data streams",
           15
          ],
          [
           "A cross-country database of COVID-19 testing",
           300
          ],
          [
           "Proteomic and transcriptomic profiling of aerial organ development in Arabidopsis",
           22
          ],
          [
           "Triple isotope variations of monthly tap water in China",
           6
          ],
          [
           "Protein ontology on the semantic web for knowledge discovery",
           10
          ],
          [
           "StableClim, continuous projections of climate stability from 21000 BP to 2100 CE at multiple spatial scales",
           12
          ],
          [
           "Genome-wide RNAi screen for genes regulating glycolytic response to vemurafenib in BRAFV600 melanoma cells",
           1
          ],
          [
           "Bias-corrected climate projections for South Asia from Coupled Model Intercomparison Project-6",
           191
          ],
          [
           "Large eQTL meta-analysis reveals differing patterns between cerebral cortical and cerebellar brain regions",
           52
          ],
          [
           "GalliForm, a database of Galliformes occurrence records from the Indo-Malay and Palaearctic, 1800–2008",
           1
          ],
          [
           "A naturalistic neuroimaging database for understanding the brain using ecological stimuli",
           40
          ],
          [
           "An analecta of visualizations for foodborne illness trends and seasonality",
           9
          ],
          [
           "Transcriptome sequencing of cochleae from constant-frequency and frequency-modulated echolocating bats",
           4
          ],
          [
           "Viral metagenomes of Lake Soyang, the largest freshwater lake in South Korea",
           14
          ],
          [
           "Whole genome sequencing data of multiple individuals of Pakistani descent",
           2
          ],
          [
           "A dataset of distribution and diversity of mosquito-associated viruses and their mosquito vectors in China",
           14
          ],
          [
           "Manually curated and harmonised transcriptomics datasets of psoriasis and atopic dermatitis patients",
           9
          ],
          [
           "Oral microbiota and dental caries data from monozygotic and dizygotic twin children",
           2
          ],
          [
           "Systematic analysis of infectious disease outcomes by age shows lowest severity in school-age children",
           64
          ],
          [
           "A new comprehensive trait database of European and Maghreb butterflies, Papilionoidea",
           40
          ],
          [
           "TILES-2018, a longitudinal physiologic and behavioral data set of hospital workers",
           41
          ],
          [
           "Harmonised LUCAS in-situ land cover and use database for field surveys from 2006 to 2018 in the European Union",
           64
          ],
          [
           "Individual Brain Charting dataset extension, second release of high-resolution fMRI data for cognitive mapping",
           19
          ],
          [
           "Coastal sea level anomalies and associated trends from Jason satellite altimetry over 2002–2018",
           61
          ],
          [
           "A contemporary baseline record of the world’s coral reefs",
           8
          ],
          [
           "A three-dimensional thalamocortical dataset for characterizing brain heterogeneity",
           11
          ],
          [
           "Draft genome of Bugula neritina, a colonial animal packing powerful symbionts and potential medicines",
           5
          ],
          [
           "CoVidAffect, real-time monitoring of mood variations following the COVID-19 outbreak in Spain",
           6
          ],
          [
           "Density functional theory-based electric field gradient database",
           13
          ],
          [
           "Simultaneous BOLD-fMRI and constant infusion FDG-PET data of the resting human brain",
           24
          ],
          [
           "Brain activity and transcriptional profiling in mice under chronic jet lag",
           5
          ],
          [
           "Long-term surveys of age structure in 13 ungulate and one ostrich species in the Serengeti, 1926–2018",
           0
          ],
          [
           "Reference exome data for a Northern Brazilian population",
           0
          ],
          [
           "SignBase, a collection of geometric signs on mobile objects in the Paleolithic",
           9
          ],
          [
           "Genome-wide identification of accessible chromatin regions in bumblebee by ATAC-seq",
           2
          ],
          [
           "SynergyAge, a curated database for synergistic and antagonistic interactions of longevity-associated genes",
           13
          ],
          [
           "A large-scale optical microscopy image dataset of potato tuber for deep learning based plant cell assessment",
           13
          ],
          [
           "The Building Data Genome Project 2, energy meter data from the ASHRAE Great Energy Predictor III competition",
           100
          ],
          [
           "A spatial-temporal continuous dataset of the transpiration to evapotranspiration ratio in China from 1981–2015",
           28
          ],
          [
           "Individual back-calculated size-at-age based on otoliths from Pacific coral reef fish species",
           8
          ],
          [
           "A real-time survey on the psychological impact of mild lockdown for COVID-19 in the Japanese population",
           27
          ],
          [
           "Geopositioning time series from offshore platforms in the Adriatic Sea",
           13
          ],
          [
           "ClimActor, harmonized transnational data on climate network participation by city and regional governments",
           11
          ],
          [
           "MFRED, 10 second interval real and reactive power for groups of 390 US apartments of varying size and vintage",
           11
          ],
          [
           "Carbon Monitor, a near-real-time daily dataset of global CO2 emission from fossil fuel and cement production",
           176
          ],
          [
           "Paired rRNA-depleted and polyA-selected RNA sequencing data and supporting multi-omics data from human T cells",
           13
          ],
          [
           "Estimation of global tropical cyclone wind speed probabilities using the STORM dataset",
           18
          ],
          [
           "Lipid content and stable isotopes of zooplankton during five winters around the northern Antarctic Peninsula",
           2
          ],
          [
           "A high-resolution map of reactive nitrogen inputs to China",
           16
          ],
          [
           "An annotated dataset of bioacoustic sensing and features of mosquitoes",
           8
          ],
          [
           "A late Pleistocene dataset of Agulhas Current variability",
           6
          ],
          [
           "CT-ORG, a new dataset for multiple organ segmentation in computed tomography",
           65
          ],
          [
           "A band-gap database for semiconducting inorganic materials calculated with hybrid functional",
           47
          ],
          [
           "SAVI, in silico generation of billions of easily synthesizable compounds through expert-system type rules",
           34
          ],
          [
           "DISPERSE, a trait database to assess the dispersal potential of European aquatic macroinvertebrates",
           85
          ],
          [
           "An fMRI dataset in response to “The Grand Budapest Hotel”, a socially-rich, naturalistic movie",
           23
          ],
          [
           "A comprehensive spectral assay library to quantify the Escherichia coli proteome by DIA/SWATH-MS",
           24
          ],
          [
           "County-level CO2 emissions and sequestration in China during 1997–2017",
           480
          ],
          [
           "Small-wedge synchrotron and serial XFEL datasets for Cysteinyl leukotriene GPCRs",
           4
          ],
          [
           "Multiscale dynamic human mobility flow dataset in the U.S. during the COVID-19 epidemic",
           140
          ],
          [
           "A harmonised, high-coverage, open dataset of solar photovoltaic installations in the UK",
           32
          ],
          [
           "Genome-wide association analysis of type 2 diabetes in the EPIC-InterAct study",
           20
          ],
          [
           "Reproducible and stable cycling performance data on secondary zinc oxygen batteries",
           5
          ],
          [
           "A new global dataset of bioclimatic indicators",
           43
          ],
          [
           "CovidCounties is an interactive real time tracker of the COVID19 pandemic at the level of US counties",
           13
          ],
          [
           "High-density surface electromyography signals during isometric contractions of elbow muscles of healthy humans",
           17
          ],
          [
           "High resolution spatiotemporal patterns of seawater temperatures across the Belize Mesoamerican Barrier Reef",
           5
          ],
          [
           "Highly accurate long-read HiFi sequencing data for five complex genomes",
           149
          ],
          [
           "QM-symex, update of the QM-sym database with excited state information for 173 kilo molecules",
           15
          ],
          [
           "The landscape of childhood vaccine exemptions in the United States",
           5
          ],
          [
           "A dataset of plant and microbial community structure after long-term grazing and mowing in a semiarid steppe",
           6
          ],
          [
           "Gen-FS coordinated proficiency test data for genomic foodborne pathogen surveillance, 2017 and 2018 exercises",
           15
          ],
          [
           "Diffraction data from aerosolized Coliphage PR772 virus particles imaged with the Linac Coherent Light Source",
           6
          ],
          [
           "A detailed open access model of the PubMed literature",
           16
          ],
          [
           "16 years of topographic surveys of rip-channelled high-energy meso-macrotidal sandy beach",
           40
          ],
          [
           "A continental-scale soil evaporation dataset derived from Soil Moisture Active Passive satellite drying rates",
           7
          ],
          [
           "The SUSTech-SYSU dataset for automated exudate detection and diabetic retinopathy grading",
           24
          ],
          [
           "Transcriptome dataset of human corneal endothelium based on ribosomal RNA-depleted RNA-Seq data",
           16
          ],
          [
           "A primary human T-cell spectral library to facilitate large scale quantitative T-cell proteomics",
           11
          ],
          [
           "North American historical monthly spatial climate dataset, 1901–2016",
           8
          ],
          [
           "Daily transcriptomes of the copepod Calanus finmarchicus during the summer solstice at high Arctic latitudes",
           6
          ],
          [
           "Chest imaging representing a COVID-19 positive rural U.S. population",
           29
          ],
          [
           "Response2covid19, a dataset of governments’ responses to COVID-19 all around the world",
           43
          ],
          [
           "LCVP, The Leipzig catalogue of vascular plants, a new taxonomic reference list for all known vascular plants",
           64
          ],
          [
           "Real-world longitudinal data collected from the SleepHealth mobile app study",
           11
          ],
          [
           "A completely annotated whole slide image dataset of canine breast cancer to aid human breast cancer research",
           30
          ],
          [
           "Soil bacterial community structures in relation to different oil palm management practices",
           12
          ],
          [
           "Mining potentially actionable kinase gene fusions in cancer cell lines with the KuNG FU database",
           1
          ],
          [
           "Data-science ready, multisite, human diffusion MRI white-matter-tract statistics",
           8
          ],
          [
           "Bioinformatic analysis of membrane and associated proteins in murine cardiomyocytes and human myocardium",
           9
          ],
          [
           "HuskinDB, a database for skin permeation of xenobiotics",
           21
          ],
          [
           "ECMWF global coupled atmosphere, ocean and sea-ice dataset for the Year of Polar Prediction 2017–2020",
           8
          ],
          [
           "ClimateEU, scale-free climate normals, historical time series, and future projections for Europe",
           59
          ],
          [
           "A behavioural dataset for studying individual differences in language skills",
           9
          ],
          [
           "Expanded dataset of mechanical properties and observed phases of multi-principal element alloys",
           66
          ],
          [
           "Design and evaluation of a data anonymization pipeline to promote Open Science on COVID-19",
           37
          ],
          [
           "Public perceptions of multiple risks during the COVID-19 pandemic in Italy and Sweden",
           24
          ],
          [
           "Genome-scale determination of 5´ and 3´ boundaries of RNA transcripts in Streptomyces genomes",
           5
          ],
          [
           "Dataset on the 6-year radiocesium transport in rivers near Fukushima Daiichi nuclear power plant",
           8
          ],
          [
           "The MoCA dataset, kinematic and multi-view visual streams of fine-grained cooking actions",
           15
          ],
          [
           "A gene expression atlas for different kinds of stress in the mouse brain",
           31
          ],
          [
           "Survey data of adolescents’ sexual and reproductive health in selected local governments in southeast Nigeria",
           3
          ],
          [
           "Plasma-MDS, a metadata schema for plasma science with examples from plasma technology",
           11
          ],
          [
           "CREAM, a component level coffeemaker electrical activity measurement dataset",
           3
          ],
          [
           "An open-source, end-to-end workflow for multidimensional photoemission spectroscopy",
           18
          ],
          [
           "Multichannel acoustic source and image dataset for the cocktail party effect in hearing aid and implant users",
           4
          ],
          [
           "Obstacles to the reuse of study metadata in ClinicalTrials.gov",
           20
          ],
          [
           "A dataset of 137Cs activity concentration and inventory in forests contaminated by the Fukushima accident",
           10
          ],
          [
           "COVIDiSTRESS Global Survey dataset on psychological and behavioural consequences of the COVID-19 outbreak",
           69
          ],
          [
           "Local sea level trends, accelerations and uncertainties over 1993–2019",
           56
          ],
          [
           "Multimodal pathophysiological dataset of gradual cerebral ischemia in a cohort of juvenile pigs",
           3
          ],
          [
           "Gridded fossil CO2 emissions and related O2 combustion consistent with national inventories 1959–2018",
           59
          ],
          [
           "The traded water footprint of global energy from 2010 to 2018",
           24
          ],
          [
           "A dataset of EEG and EOG from an auditory EOG-based communication system for patients in locked-in state",
           12
          ],
          [
           "A gridded establishment dataset as a proxy for economic activity in China",
           19
          ],
          [
           "Experimental flows through an array of emerged or slightly submerged square cylinders over a rough bed",
           2
          ],
          [
           "Ontological modeling and analysis of experimentally or clinically verified drugs against coronavirus infection",
           12
          ],
          [
           "Dataset of spiking and LFP activity invasively recorded in the human amygdala during aversive dynamic stimuli",
           4
          ],
          [
           "A catalogue of 863 Rett-syndrome-causing MECP2 mutations and lessons learned from data integration",
           13
          ],
          [
           "TreeMap, a tree-level model of conterminous US forests circa 2014 produced by imputation of FIA plot data",
           18
          ],
          [
           "A database framework for rapid screening of structure-function relationships in PFAS chemistry",
           31
          ],
          [
           "Optical motion capture dataset of selected techniques in beginner and advanced Kyokushin karate athletes",
           21
          ],
          [
           "Estimation of waste outflows for multiple product types in China from 2010–2050",
           16
          ],
          [
           "A complete dietary review of Japanese birds with special focus on molluscs",
           7
          ],
          [
           "Fast micro-computed tomography data of solute transport in porous media with different heterogeneity levels",
           5
          ],
          [
           "Functional traits of the world’s late Quaternary large-bodied avian and mammalian herbivores",
           16
          ],
          [
           "Sounding out life in the deep using acoustic data from ships of opportunity",
           14
          ],
          [
           "High-resolution, large-scale laboratory measurements of a sandy beach and dynamic cobble berm revetment",
           8
          ],
          [
           "A comprehensive database of active and potentially-active continental faults in Chile at 1:25,000 scale",
           28
          ],
          [
           "An empirical meta-analysis of the life sciences linked open data on the web",
           7
          ],
          [
           "The human O-GlcNAcome database and meta-analysis",
           132
          ],
          [
           "A dataset of remote-sensed Forel-Ule Index for global inland waters during 2000–2018",
           35
          ],
          [
           "Community-curated and standardised metadata of published ancient metagenomic samples with AncientMetagenomeDir",
           22
          ],
          [
           "A non-invasive multimodal foetal ECG–Doppler dataset for antenatal cardiology research",
           10
          ],
          [
           "A new vector-based global river network dataset accounting for variable drainage density",
           42
          ],
          [
           "A compilation of North American tree provenance trials and relevant historical climate data for seven species",
           18
          ],
          [
           "High-pH reversed-phase fractionated neural retina proteome of normal growing C57BL/6 mouse",
           10
          ],
          [
           "HD-EEG for tracking sub-second brain dynamics during cognitive tasks",
           12
          ],
          [
           "A global dataset for crop production under conventional tillage and no tillage systems",
           35
          ],
          [
           "A patient-centric dataset of images and metadata for identifying melanomas using clinical context",
           186
          ],
          [
           "Synthetic skull bone defects for automatic patient-specific craniofacial implant design",
           26
          ],
          [
           "An Indo-Pacific coral spawning database",
           39
          ],
          [
           "Nelumbo genome database, an integrative resource for gene expression and variants of Nelumbo nucifera",
           26
          ],
          [
           "An exceptionally high wave at the CNR-ISMAR oceanographic tower in the Northern Adriatic Sea",
           7
          ],
          [
           "A multi-center cross-platform single-cell RNA sequencing reference dataset",
           12
          ],
          [
           "The 10-m crop type maps in Northeast China during 2017–2019",
           167
          ],
          [
           "QM7-X, a comprehensive dataset of quantum-mechanical properties spanning the chemical space of small organic molecules",
           60
          ],
          [
           "Reference carbon cycle dataset for typical Chinese forests via colocated observations and data assimilation",
           18
          ],
          [
           "Phytoplankton morpho-functional trait dataset from French water-bodies",
           15
          ],
          [
           "Building schematic of Vienna in the late 1920s",
           2
          ],
          [
           "Mobility, exposure, and epidemiological timelines of COVID-19 infections in China outside Hubei province",
           12
          ],
          [
           "Electronic healthcare records and external outcome data for hospitalized patients with heart failure",
           37
          ],
          [
           "The Cuban Human Brain Mapping Project, a young and middle age population-based EEG, MRI, and cognition dataset",
           26
          ],
          [
           "Accelerometer data collected with a minimum set of wearable sensors from subjects with Parkinson’s disease",
           30
          ],
          [
           "Limb and trunk accelerometer data collected with wearable sensors from subjects with Parkinson’s disease",
           7
          ],
          [
           "Manually curated transcriptomics data collection for toxicogenomic assessment of engineered nanomaterials",
           21
          ],
          [
           "Genetic variation among 481 diverse soybean accessions, inferred from genomic re-sequencing",
           38
          ],
          [
           "Transcriptome and translatome of CO2 fixing acetogens under heterotrophic and autotrophic conditions",
           4
          ],
          [
           "LC-MS based plant metabolic profiles of thirteen grassland species grown in diverse neighbourhoods",
           11
          ],
          [
           "Seventy years of data from the world’s longest grazed and irrigated pasture trials",
           7
          ],
          [
           "Quantum chemical benchmark databases of gold-standard dimer interaction energies",
           42
          ],
          [
           "The Zoltar forecast archive, a tool to standardize and store interdisciplinary prediction research",
           5
          ],
          [
           "Computational scanning tunneling microscope image database",
           22
          ],
          [
           "Electrochemical metrics for corrosion resistant alloys",
           48
          ],
          [
           "Chromosome-scale genome assembly of the sea louse Caligus rogercresseyi by SMRT sequencing and Hi-C analysis",
           19
          ],
          [
           "Collegiate athlete brain data for white matter mapping and network neuroscience",
           6
          ],
          [
           "Tropical cyclone simulations over Bangladesh at convection permitting 4.4 km & 1.5 km resolution",
           9
          ],
          [
           "GDIS, a global dataset of geocoded disaster locations",
           35
          ],
          [
           "A database of high-density surface electromyogram signals comprising 65 isometric hand gestures",
           20
          ],
          [
           "Global 1-km present and future hourly anthropogenic heat flux",
           34
          ],
          [
           "The DecNef collection, fMRI data from closed-loop decoded neurofeedback experiments",
           9
          ],
          [
           "OutFin, a multi-device and multi-modal dataset for outdoor localization based on the fingerprinting approach",
           7
          ],
          [
           "A SARS-CoV-2 cytopathicity dataset generated by high-content screening of a large drug repurposing collection",
           58
          ],
          [
           "High-resolution surface faulting from the 1983 Idaho Lost River Fault Mw 6.9 earthquake and previous events",
           26
          ],
          [
           "Compilation of longitudinal microbiota data and hospitalome from hematopoietic cell transplantation patients",
           12
          ],
          [
           "Dataset on SARS-CoV-2 non-pharmaceutical interventions in Brazilian municipalities",
           23
          ],
          [
           "Worldwide continuous gap-filled MODIS land surface temperature dataset",
           43
          ],
          [
           "Water quality measurements in Buzzards Bay by the Buzzards Bay Coalition Baywatchers Program from 1992 to 2018",
           2
          ],
          [
           "Standardizing human brain parcellations",
           16
          ],
          [
           "Datasets of seed mucilage traits for Arabidopsis thaliana natural accessions with atypical outer mucilage",
           3
          ],
          [
           "Data-driven curation process for describing the blood glucose management in the intensive care unit",
           6
          ],
          [
           "Harmonized and high-quality datasets of aerosol optical depth at a US continental site, 1997–2018",
           4
          ],
          [
           "Benthic and coral reef community field data for Heron Reef, Southern Great Barrier Reef, Australia, 2002–2018",
           9
          ],
          [
           "Contaminant organisms recorded on plant product imports to South Africa 1994–2019",
           10
          ],
          [
           "The Amsterdam Open MRI Collection, a set of multimodal MRI datasets for individual difference analyses",
           52
          ],
          [
           "Fault2SHA Central Apennines database and structuring active fault data for seismic hazard assessment",
           32
          ],
          [
           "WOODIV, a database of occurrences, functional traits, and phylogenetic data for all Euro-Mediterranean trees",
           8
          ],
          [
           "NLM-Chem, a new resource for chemical entity recognition in PubMed full text literature",
           30
          ],
          [
           "EORNA, a barley gene and transcript abundance database",
           19
          ],
          [
           "AI-assisted tracking of worldwide non-pharmaceutical interventions for COVID-19",
           21
          ],
          [
           "An updated map of Trypanosoma cruzi histone post-translational modifications",
           5
          ],
          [
           "Creation and validation of a chest X-ray dataset with eye-tracking and report dictation for AI development",
           51
          ],
          [
           "Long-term and large-scale multispecies dataset tracking population changes of common European breeding birds",
           50
          ],
          [
           "Downscaling GRACE total water storage change using partial least squares regression",
           61
          ],
          [
           "A map of the extent and year of detection of oil palm plantations in Indonesia, Malaysia and Thailand",
           49
          ],
          [
           "The photosynthetic pathways of plant species surveyed in Australia’s national terrestrial monitoring network",
           7
          ],
          [
           "Continuous sensorimotor rhythm based brain computer interface learning in a large population",
           20
          ],
          [
           "A food web including parasites for kelp forests of the Santa Barbara Channel, California",
           11
          ],
          [
           "UWB-gestures, a public dataset of dynamic hand gestures acquired using impulse radar sensors",
           31
          ],
          [
           "Lower limb kinematic, kinetic, and EMG data from young healthy humans during walking at controlled speeds",
           38
          ],
          [
           "All urban areas’ energy use data across 640 districts in India for the year 2011",
           13
          ],
          [
           "Heidelberg colorectal data set for surgical data science in the sensor operating room",
           45
          ],
          [
           "Triple SILAC identified progestin-independent and dependent PRA and PRB interacting partners in breast cancer",
           7
          ],
          [
           "Database of Wannier tight-binding Hamiltonians using high-throughput density functional theory",
           21
          ],
          [
           "Fine-scale multiannual survey of benthic invertebrates in a glacier-fed stream used for hydropower generation",
           3
          ],
          [
           "LoDoPaB-CT, a benchmark dataset for low-dose computed tomography reconstruction",
           48
          ],
          [
           "Boston College daily sleep and well-being survey data during early phase of the COVID-19 pandemic",
           18
          ],
          [
           "A global occurrence database of the Atlantic blue crab Callinectes sapidus",
           50
          ],
          [
           "High spatial resolution global ocean metagenomes from Bio-GO-SHIP repeat hydrography transects",
           19
          ],
          [
           "Daily PM2.5 concentration estimates by county, ZIP code, and census tract in 11 western states 2008–2018",
           22
          ],
          [
           "ODFM, an omics data resource from microorganisms associated with fermented foods",
           11
          ],
          [
           "A resource of lipidomics and metabolomics data from individuals with undiagnosed diseases",
           9
          ],
          [
           "A multiple species, continent-wide, million-phenotype agronomic plant dataset",
           3
          ],
          [
           "An integrated landscape of protein expression in human cancer",
           32
          ],
          [
           "Population cluster data to assess the urban-rural split and electrification in Sub-Saharan Africa",
           13
          ],
          [
           "Generation of a mouse SWATH-MS spectral library to quantify 10148 proteins involved in cell reprogramming",
           5
          ],
          [
           "COVID-CT-MD, COVID-19 computed tomography scan dataset applicable in machine learning and deep learning",
           114
          ],
          [
           "In vivo human whole-brain Connectom diffusion MRI dataset at 760 µm isotropic resolution",
           27
          ],
          [
           "A magnetoencephalography dataset for motor and cognitive imagery-based brain-computer interface",
           15
          ],
          [
           "A high-resolution daily gridded meteorological dataset for Serbia made by Random Forest Spatial Interpolation",
           13
          ],
          [
           "A resource to explore the discovery of rare diseases and their causative genes",
           12
          ],
          [
           "A database of global storm surge reconstructions",
           25
          ],
          [
           "A multilevel carbon and water footprint dataset of food commodities",
           40
          ],
          [
           "The transcriptome of wild-type and immortalized corneal epithelial cells",
           5
          ],
          [
           "Comprehensive dataset of shotgun metagenomes from oxygen stratified freshwater lakes and ponds",
           34
          ],
          [
           "Micro-CT data of early physiological cancellous bone formation in the lumbar spine of female C57BL/6 mice",
           3
          ],
          [
           "DLBCL-Morph: Morphological features computed using deep learning for an annotated digital DLBCL image set",
           13
          ],
          [
           "Dengue emergence in the temperate Argentinian province of Santa Fe, 2009–2020",
           11
          ],
          [
           "Global data on earthworm abundance, biomass, diversity and corresponding environmental properties",
           31
          ],
          [
           "The Finnish Biodiversity Information Facility as a best-practice model for biodiversity data infrastructures",
           9
          ],
          [
           "Comprehensive ultrahigh resolution whole brain in vivo MRI dataset as a human phantom",
           19
          ],
          [
           "Regional zircon U-Pb geochronology for the Maniitsoq region, southwest Greenland",
           11
          ],
          [
           "A 120,000-year long climate record from a NW-Greenland deep ice core at ultra-high resolution",
           28
          ],
          [
           "Aachen-Heerlen annotated steel microstructure dataset",
           8
          ],
          [
           "A long term global daily soil moisture dataset derived from AMSR-E and AMSR2 (2002–2019)",
           56
          ],
          [
           "Kvasir-Capsule, a video capsule endoscopy dataset",
           101
          ],
          [
           "Dataset of low global warming potential refrigerant refrigeration system for fault detection and diagnostics",
           9
          ],
          [
           "The IDEAL household energy dataset, electricity, gas, contextual sensor data and survey data for 255 UK homes",
           30
          ],
          [
           "High-content siRNA 3D co-cultures to identify myoepithelial cell-derived breast cancer suppressor proteins",
           2
          ],
          [
           "Time series of useful energy consumption patterns for energy system modeling",
           23
          ],
          [
           "A deep database of medical abbreviations and acronyms for natural language processing",
           17
          ],
          [
           "Updating salamander datasets with phenotypic and stomach content information for two mainland Speleomantes",
           8
          ],
          [
           "Cric searchable image database as a public platform for conventional pap smear cytology data",
           31
          ],
          [
           "Database of ab initio L-edge X-ray absorption near edge structure",
           23
          ],
          [
           "An open tool for creating battery-electric vehicle time series from empirical data, emobpy",
           50
          ],
          [
           "TüEyeQ, a rich IQ test performance data set with eye movement, educational and socio-demographic information",
           8
          ],
          [
           "In-flight positional and energy use data set of a DJI Matrice 100 quadcopter for small package delivery",
           24
          ],
          [
           "The COUGHVID crowdsourcing dataset, a corpus for the study of large-scale cough analysis algorithms",
           155
          ],
          [
           "PERSIANN-CCS-CDR, a 3-hourly 0.04° global precipitation climate data record for heavy precipitation studies",
           80
          ],
          [
           "Dataset and validation of the approaches to study skills inventory for students",
           4
          ],
          [
           "High content genome-wide siRNA screen to investigate the coordination of cell size and RNA production",
           9
          ],
          [
           "Triton, a new species-level database of Cenozoic planktonic foraminiferal occurrences",
           16
          ],
          [
           "A dataset of daily ambulatory psychological and physiological recording for emotion research",
           14
          ],
          [
           "Chromosomal-scale de novo genome assemblies of Cynomolgus Macaque and Common Marmoset",
           8
          ],
          [
           "Eight soybean reference genome resources from varying latitudes and agronomic traits",
           13
          ],
          [
           "GlobSnow v3.0 Northern Hemisphere snow water equivalent dataset",
           64
          ],
          [
           "Charge and discharge profiles of repurposed LiFePO4 batteries based on the UL 1974 standard",
           15
          ],
          [
           "Profiling the small non-coding RNA transcriptome of the human placenta",
           6
          ],
          [
           "An automatic multi-tissue human fetal brain segmentation benchmark using the Fetal Tissue Annotation Dataset",
           56
          ],
          [
           "Electric vehicle charging stations in the workplace with high-resolution data from casual and habitual users",
           17
          ],
          [
           "The 2021 update of the EPA’s adverse outcome pathway database",
           13
          ],
          [
           "Global soil moisture data derived through machine learning trained with in-situ measurements",
           73
          ],
          [
           "CO2 emission accounts of Russia’s constituent entities 2005–2019",
           8
          ],
          [
           "China’s greenhouse gas emissions for cropping systems from 1978–2016",
           45
          ],
          [
           "Single-cell RNA sequencing of freshly isolated bovine milk cells and cultured primary mammary epithelial cells",
           7
          ],
          [
           "DEDDIAG, a domestic electricity demand dataset of individual appliances in Germany",
           14
          ],
          [
           "A comprehensive annotation dataset of intact LTR retrotransposons of 300 plant genomes",
           19
          ],
          [
           "Transcriptome of rat subcortical white matter and spinal cord after spinal injury and cortical stimulation",
           2
          ],
          [
           "Dataset of cortical activity recorded with high spatial resolution from anesthetized rats",
           4
          ],
          [
           "Scenarios of future Indian electricity demand accounting for space cooling and electric vehicle adoption",
           11
          ],
          [
           "A sub-national real-time epidemiological and vaccination database for the COVID-19 pandemic in Canada",
           18
          ],
          [
           "COVID-19 European regional tracker",
           18
          ],
          [
           "Smart Distance Lab’s art fair, experimental data on social distancing during the COVID-19 pandemic",
           8
          ],
          [
           "A global dataset of inland fisheries expert knowledge",
           4
          ],
          [
           "A DICOM dataset for evaluation of medical image de-identification",
           18
          ],
          [
           "A database of submarine landslides offshore West and Southwest Iberia",
           13
          ],
          [
           "GazeBase, a large-scale, multi-stimulus, longitudinal eye movement dataset",
           29
          ],
          [
           "Dating historical droughts from religious ceremonies, the international pro pluvia rogation database",
           1
          ],
          [
           "A multispeaker dataset of raw and reconstructed speech production real-time MRI video and 3D volumetric images",
           20
          ],
          [
           "resistancebank.org, an open-access repository for surveys of antimicrobial resistance in animals",
           9
          ],
          [
           "A multi-site, year-round turbulence microstructure atlas for the deep perialpine Lake Garda",
           8
          ],
          [
           "Gridded daily weather data for North America with comprehensive uncertainty quantification",
           96
          ],
          [
           "Data sharing practices and data availability upon request differ across scientific disciplines",
           123
          ],
          [
           "Global offshore wind turbine dataset",
           40
          ],
          [
           "309 metagenome assembled microbial genomes from deep sediment samples in the Gulfs of Kathiawar Peninsula",
           5
          ],
          [
           "Spanish electoral archive. SEA database",
           4
          ],
          [
           "The Upworthy Research Archive, a time series of 32,487 experiments in U.S. media",
           9
          ],
          [
           "Reef Cover, a coral reef classification for global habitat mapping from remote sensing",
           44
          ],
          [
           "Metagenomes, metatranscriptomes and microbiomes of naturally decomposing deadwood",
           7
          ],
          [
           "PSG-Audio, a scored polysomnography dataset with simultaneous audio recordings for sleep apnea studies",
           18
          ],
          [
           "Global data set of long-term summertime vertical temperature profiles in 153 lakes",
           6
          ],
          [
           "MiREDiBase, a manually curated database of validated and putative editing events in microRNAs",
           19
          ],
          [
           "A dataset on affiliation of venture capitalists in China between 2000 and 2016",
           5
          ],
          [
           "A curated dataset of modern and ancient high-coverage shotgun human genomes",
           2
          ],
          [
           "Reference in-vitro dataset for inertial-sensor-to-bone alignment applied to the tibiofemoral joint",
           4
          ],
          [
           "Multi-modal magnetic resonance imaging in a mouse model of concussion",
           6
          ],
          [
           "ACO2 clinicobiological dataset with extensive phenotype ontology annotation",
           3
          ],
          [
           "Quantum chemical calculations of lithium-ion battery electrolyte and interphase species",
           23
          ],
          [
           "An annotated T2-weighted magnetic resonance image collection of testicular germ and non-germ cell tumors",
           0
          ],
          [
           "A dataset of distribution and diversity of blood-sucking mites in China",
           7
          ],
          [
           "A large dataset of detection and submeter-accurate 3-D trajectories of juvenile Chinook salmon",
           3
          ],
          [
           "Biotic threats for 23 major non-native tree species in Europe",
           8
          ],
          [
           "A global database of diversified farming effects on biodiversity and yield",
           21
          ],
          [
           "A synthetic building operation dataset",
           22
          ],
          [
           "A merged microarray meta-dataset for transcriptionally profiling colorectal neoplasm formation and progression",
           7
          ],
          [
           "A near-global, high resolution land surface parameter dataset for the variable infiltration capacity model",
           9
          ],
          [
           "OPERA tau neutrino charged current interactions",
           5
          ],
          [
           "OPTIMADE, an API for exchanging materials data",
           51
          ],
          [
           "The World Checklist of Vascular Plants, a continuously updated resource for exploring global plant diversity",
           192
          ],
          [
           "Open-access quantitative MRI data of the spinal cord and reproducibility across participants, sites and manufacturers",
           26
          ],
          [
           "European primary forest database v2.0",
           28
          ],
          [
           "Community composition of aquatic fungi across the thawing Arctic",
           1
          ],
          [
           "Inter-laboratory mass spectrometry dataset based on passive sampling of drinking water for non-target analysis",
           17
          ],
          [
           "Hourly potential evapotranspiration at 0.1° resolution for the global land surface from 1981-present",
           72
          ],
          [
           "MNI-FTD templates, unbiased average templates of frontotemporal dementia variants",
           6
          ],
          [
           "Proteomic profiling dataset of chemical perturbations in multiple biological backgrounds",
           9
          ],
          [
           "A statistics-based reconstruction of high-resolution global terrestrial climate for the last 800,000 years",
           26
          ],
          [
           "A multi-site, multi-disorder resting-state magnetic resonance image database",
           42
          ],
          [
           "A high-spatial-resolution dataset of human thermal stress indices over South and East Asia",
           35
          ],
          [
           "Lake Ohrid’s tephrochronological dataset reveals 1.36 Ma of Mediterranean explosive volcanic activity",
           15
          ],
          [
           "Gutenberg Gait Database, a ground reaction force database of level overground walking in healthy individuals",
           16
          ],
          [
           "Cydrasil 3, a curated 16S rRNA gene reference package and web app for cyanobacterial phylogenetic placement",
           23
          ],
          [
           "Chromosome-scale genome sequencing, assembly and annotation of six genomes from subfamily Leishmaniinae",
           5
          ],
          [
           "The short-term mortality fluctuation data series, monitoring mortality shocks across time and space",
           25
          ],
          [
           "Materials informatics platform with three dimensional structures, workflow and thermoelectric applications",
           33
          ],
          [
           "Global process-based characterization factors of soil carbon depletion for life cycle impact assessment",
           3
          ],
          [
           "Using supervised learning to develop BaRAD, a 40-year monthly bias-adjusted global gridded radiation dataset",
           5
          ],
          [
           "Directional wave buoy data measured near Campbell Island, New Zealand",
           2
          ],
          [
           "Murine femur micro-computed tomography and biomechanical datasets for an ovariectomy-induced osteoporosis model",
           7
          ],
          [
           "ValLAI_Crop, a validation dataset for coarse-resolution satellite LAI products over Chinese cropland",
           5
          ],
          [
           "Geolocated dataset of Chinese overseas development finance",
           19
          ],
          [
           "Chinese provincial multi-regional input-output database for 2012, 2015, and 2017",
           80
          ],
          [
           "Introduction to a community dataset from an infrasound array experiment at Mt. Etna, Italy",
           1
          ],
          [
           "A database of travel-related behaviors and attitudes before, during, and after COVID-19 in the United States",
           18
          ],
          [
           "Update to the dataset of cerebral ischemia in juvenile pigs with evoked potentials",
           1
          ],
          [
           "The “Narratives” fMRI dataset for evaluating models of naturalistic language comprehension",
           28
          ],
          [
           "COVID Border Accountability Project, a hand-coded global database of border closures introduced during 2020",
           11
          ],
          [
           "Dataset for predicting single-spot proton ranges in proton therapy of prostate cancer",
           1
          ],
          [
           "Chinese environmentally extended input-output database for 2017 and 2018",
           17
          ],
          [
           "Optical breast atlas as a testbed for image reconstruction in optical mammography",
           2
          ],
          [
           "AusTraits, a curated plant trait database for the Australian flora",
           84
          ],
          [
           "A curated dataset for data-driven turbulence modelling",
           33
          ],
          [
           "Multimodal dataset of real-time 2D and static 3D MRI of healthy French speakers",
           12
          ],
          [
           "The Simrad EK60 echosounder dataset from the Malaspina circumnavigation",
           2
          ],
          [
           "An ensemble reconstruction of global monthly sea surface temperature and sea ice concentration 1000–1849",
           8
          ],
          [
           "The Avian Diet Database as a source of quantitative information on bird diets",
           8
          ],
          [
           "SOIL-WATERGRIDS, mapping dynamic changes in soil moisture and depth of water table from 1970 to 2014",
           4
          ],
          [
           "SMAP-HydroBlocks, a 30-m satellite-based soil moisture dataset for the conterminous US",
           35
          ],
          [
           "RNA-seq of peripheral blood mononuclear cells of congenital generalized lipodystrophy type 2 patients",
           4
          ],
          [
           "The changing face of floodplains in the Mississippi River Basin detected by a 60-year land use change dataset",
           20
          ],
          [
           "A text-mining based analysis of 100,000 tumours affecting dogs and cats in the United Kingdom",
           4
          ],
          [
           "Task-evoked simultaneous FDG-PET and fMRI data for measurement of neural metabolism in the human visual cortex",
           4
          ],
          [
           "Systematic phenotyping and characterization of the 5xFAD mouse model of Alzheimer’s disease",
           127
          ],
          [
           "Chromosome-scale assembly and high-density genetic map of the yellow drum, Nibea albiflora",
           9
          ],
          [
           "DUKweb, diachronic word representations from the UK Web Archive corpus",
           1
          ],
          [
           "Updating the Chieti Affective Action Videos database with older adults",
           6
          ],
          [
           "Dataset of concurrent EEG, ECG, and behavior with multiple doses of transcranial electrical stimulation",
           6
          ],
          [
           "In vivo high-resolution structural MRI-based atlas of human thalamic nuclei",
           18
          ],
          [
           "Annual dynamic dataset of global cropping intensity from 2001 to 2019",
           28
          ],
          [
           "APExpose_DE, an air quality exposure dataset for Germany 2010–2019",
           1
          ],
          [
           "Downscaling SSP-consistent global spatial urban land projections from 1/8-degree to 1-km resolution 2000–2100",
           20
          ],
          [
           "CLiP, catheter and line position dataset",
           11
          ],
          [
           "A computed tomography vertebral segmentation dataset with anatomical variations and multi-vendor scanner data",
           32
          ],
          [
           "Lower-limb kinematics and kinetics during continuously varying human locomotion",
           49
          ],
          [
           "A high-fidelity residential building occupancy detection dataset",
           16
          ],
          [
           "Characterization of hormone-producing cell types in the teleost pituitary gland using single-cell RNA-seq",
           13
          ],
          [
           "Extracellular circular RNA profiles in plasma and urine of healthy, male college athletes",
           10
          ],
          [
           "Transcriptomic analysis of loss of Gli1 in neural stem cells responding to demyelination in the mouse brain",
           3
          ],
          [
           "The normalised Sentinel-1 Global Backscatter Model, mapping Earth’s land surface with C-band microwaves",
           40
          ],
          [
           "Segmentation of vestibular schwannoma from MRI, an open annotated dataset and baseline algorithm",
           39
          ],
          [
           "A curated diverse molecular database of blood-brain barrier permeability with chemical descriptors",
           47
          ],
          [
           "Crop production and nitrogen use in European cropland and grassland 1961–2019",
           37
          ],
          [
           "Geolocation of unpublished archaeological sites in the Peruvian Amazon",
           4
          ],
          [
           "Attributes of the food and physical activity built environments from the Southern Cone of Latin America",
           6
          ],
          [
           "A palaeoclimate proxy database for water security planning in Queensland Australia",
           4
          ],
          [
           "Associations between carabid beetles and fungi in the light of 200 years of published literature",
           2
          ],
          [
           "Bias-corrected CMIP6 global dataset for dynamical downscaling of the historical and future climate (1979–2100)",
           98
          ],
          [
           "The Swiss data cube, analysis ready data archive using earth observations of Switzerland",
           32
          ],
          [
           "Whole genome and exome sequencing reference datasets from a multi-center and cross-platform benchmark study",
           17
          ],
          [
           "Accessible data curation and analytics for international-scale citizen science datasets",
           12
          ],
          [
           "Monthly direct and indirect greenhouse gases emissions from household consumption in the major Japanese cities",
           35
          ],
          [
           "Crash and disengagement data of autonomous vehicles on public roads in California",
           12
          ],
          [
           "BSE49, a diverse, high-quality benchmark dataset of separation energies of chemical bonds",
           9
          ],
          [
           "A measured energy use, solar production, and building air leakage dataset for a zero energy commercial building",
           8
          ],
          [
           "Chromosome-scale genome assembly of the high royal jelly-producing honeybees",
           3
          ],
          [
           "China material stocks and flows account for 1978–2018",
           16
          ],
          [
           "A database of global coastal conditions",
           3
          ],
          [
           "Population-specific brain [18F]-FDG PET templates of Chinese subjects for statistical parametric mapping",
           5
          ],
          [
           "CHIASM, the human brain albinism and achiasma MRI dataset",
           8
          ],
          [
           "Wide-field mosaics of the corneal subbasal nerve plexus in Parkinson’s disease using in vivo confocal microscopy",
           9
          ],
          [
           "Global daily 1 km land surface precipitation based on cloud cover-informed downscaling",
           53
          ],
          [
           "Short-read and long-read RNA sequencing of mouse hematopoietic stem cells at bulk and single-cell levels",
           2
          ],
          [
           "COVID-19 Flow-Maps an open geographic information system on COVID-19 and human mobility for Spain",
           12
          ],
          [
           "Insights into the changes in the proteome of Alzheimer disease elucidated by a meta-analysis",
           10
          ],
          [
           "ProMetIS, deep phenotyping of mouse models by combined proteomics and metabolomics analysis",
           6
          ],
          [
           "A dataset of dual calcium and voltage optical mapping in healthy and hypertrophied murine hearts",
           6
          ],
          [
           "Mobile BCI dataset of scalp- and ear-EEGs with ERP and SSVEP paradigms while standing, walking, and running",
           14
          ],
          [
           "A taxonomic, genetic and ecological data resource for the vascular plants of Britain and Ireland",
           39
          ],
          [
           "A longitudinal neuroimaging dataset on language processing in children ages 5, 7, and 9 years old",
           5
          ],
          [
           "COVID-19 patient accounts of illness severity, treatments and lasting symptoms",
           2
          ],
          [
           "Human EEG recordings for 1,854 concepts presented in rapid serial visual presentation streams",
           16
          ],
          [
           "Flipping food during grilling tasks, a dataset of utensils kinematics and dynamics, food pose and subject gaze",
           2
          ],
          [
           "Intracranial electrophysiological recordings from the human brain during memory tasks with pupillometry",
           4
          ],
          [
           "Landscape Dynamics (landDX) an open-access spatial-temporal database for the Kenya-Tanzania borderlands",
           7
          ],
          [
           "Comprehensive diffusion MRI dataset for in vivo human brain microstructure mapping using 300 mT/m gradients",
           16
          ],
          [
           "Source imaging of high-density visual evoked potentials with multi-scale brain parcellations and connectomes",
           2
          ],
          [
           "A hydrological simulation dataset of the Upper Colorado River Basin from 1983 to 2019",
           14
          ],
          [
           "Global holiday datasets for understanding seasonal human mobility and population dynamics",
           16
          ],
          [
           "Global gridded crop harvested area, production, yield, and monthly physical area data circa 2015",
           32
          ],
          [
           "ICEO, a biological ontology for representing and analyzing bacterial integrative and conjugative elements",
           5
          ],
          [
           "ECD-UY, detailed household electricity consumption dataset of Uruguay",
           16
          ],
          [
           "A crowdsourced global data set for validating built-up surface layers",
           13
          ],
          [
           "A synthetic population dataset for estimating small area health and socio-economic outcomes in Great Britain",
           12
          ],
          [
           "Psychophysiology of positive and negative emotions, dataset of 1157 cases and 8 biosignals",
           15
          ],
          [
           "An EPA database on the effects of engineered nanomaterials-NaKnowBase",
           6
          ],
          [
           "Proteomic cellular signatures of kinase inhibitor-induced cardiotoxicity",
           2
          ],
          [
           "Fourteen years of continuous soil moisture records from plant and biocrust-dominated microsites",
           0
          ],
          [
           "A global coral-bleaching database, 1980–2020",
           28
          ],
          [
           "A kinematic and EMG dataset of online adjustment of reach-to-grasp movements to visual perturbations",
           9
          ],
          [
           "ROSIE, a database of reptilian offspring sex ratios and sex-determining mechanisms, beginning with Testudines",
           4
          ],
          [
           "Peeking into a black box, the fairness and generalizability of a MIMIC-III benchmarking model",
           31
          ],
          [
           "p3k14c, a synthetic global database of archaeological radiocarbon dates",
           40
          ],
          [
           "Confocal imaging dataset to assess endothelial cell orientation during extreme glucose conditions",
           1
          ],
          [
           "Histopathological whole slide image dataset for classification of treatment effectiveness to ovarian cancer",
           8
          ],
          [
           "Dataset of human intracranial recordings during famous landmark identification",
           2
          ],
          [
           "SpermTree, a species-level database of sperm morphology spanning the animal tree of life",
           14
          ],
          [
           "gga-miRNOME, a microRNA-sequencing dataset from chick embryonic tissues",
           4
          ],
          [
           "A reusable neural network pipeline for unidirectional fiber segmentation",
           5
          ],
          [
           "An Australian rental housing conditions research infrastructure",
           5
          ],
          [
           "EU-Trees4F, a dataset on the future distribution of European tree species",
           32
          ],
          [
           "GLOBathy, the global lakes bathymetry dataset",
           33
          ],
          [
           "Establishment of reference standards for multifaceted mosaic variant analysis",
           4
          ],
          [
           "ResOpsUS, a dataset of historical reservoir operations in the contiguous United States",
           25
          ],
          [
           "French crop yield, area and production data for ten staple crops from 1900 to 2018 at county resolution",
           5
          ],
          [
           "A 24-hour population distribution dataset based on mobile phone data from Helsinki Metropolitan Area, Finland",
           23
          ],
          [
           "Efficient compressed database of equilibrated configurations of ring-linear polymer blends for MD simulations",
           5
          ],
          [
           "RNA-seq profiling of white and brown adipocyte differentiation treated with epigallocatechin gallate",
           3
          ],
          [
           "UK daily meteorology, air quality, and pollen measurements for 2016–2019, with estimates for missing data",
           7
          ],
          [
           "Mass cytometric and transcriptomic profiling of epithelial-mesenchymal transitions in human mammary cell lines",
           3
          ],
          [
           "A construction classification system database for understanding resource use in building construction",
           15
          ],
          [
           "Tropical larval and juvenile fish critical swimming speed (U-crit) and morphology data",
           6
          ],
          [
           "Simultaneous visualization of DNA loci in single cells by combinatorial multi-color iFISH",
           3
          ],
          [
           "Four years of daily stable water isotope data in stream water and precipitation from three Swiss catchments",
           9
          ],
          [
           "Climate Stability Index maps, a global high resolution cartography of climate stability from Pliocene to 2100",
           14
          ],
          [
           "Organic materials repurposing, a data set for theoretical predictions of new applications for existing compounds",
           18
          ],
          [
           "A FAIR and AI-ready Higgs boson decay dataset",
           14
          ],
          [
           "Thinking out loud, an open-access EEG-based BCI dataset for inner speech recognition",
           26
          ],
          [
           "A holistic genome dataset of bacteria, archaea and viruses of the Pearl River estuary",
           13
          ],
          [
           "Whole genome sequences of 234 indigenous African chickens from Ethiopia",
           4
          ],
          [
           "Stable isotope variations of dew under three different climates",
           0
          ],
          [
           "A 14-year time series of marine megafauna bycatch in the Italian midwater pair trawl fishery",
           5
          ],
          [
           "The Digital Brain Tumour Atlas, an open histopathology resource",
           17
          ],
          [
           "Dataset on electrical single-family house and heat pump load profiles in Germany",
           26
          ],
          [
           "A global dataset for the projected impacts of climate change on four major crops",
           41
          ],
          [
           "A database of common vampire bat reports",
           5
          ],
          [
           "Large scale dataset of real space electronic charge density of cubic inorganic materials from density functional theory (DFT) calculations",
           3
          ],
          [
           "A large-scale study on research code quality and execution",
           36
          ],
          [
           "Zeo-1, a computational data set of zeolite structures",
           4
          ],
          [
           "Worldwide diversity of endophytic fungi and insects associated with dormant tree twigs",
           6
          ],
          [
           "Dataset of ultralow temperature refrigeration for COVID 19 vaccine distribution solution",
           9
          ],
          [
           "Southern ocean sea level anomaly in the sea ice-covered sector from multimission satellite observations",
           12
          ],
          [
           "A dataset of 175k stable and metastable materials calculated with the PBEsol and SCAN functionals",
           16
          ],
          [
           "Data on the diets of Salish Sea harbour seals from DNA metabarcoding",
           12
          ],
          [
           "Short-read and long-read full-length transcriptome of mouse neural stem cells across neurodevelopmental stages",
           2
          ],
          [
           "Vectorized rooftop area data for 90 cities in China",
           59
          ],
          [
           "Validation and refinement of cropland data layer using a spatial-temporal decision tree algorithm",
           38
          ],
          [
           "Boosting the predictive performance with aqueous solubility dataset curation",
           14
          ],
          [
           "A reference set of clinically relevant adverse drug-drug interactions",
           14
          ],
          [
           "China’s environmental policy intensity for 1978–2019",
           36
          ],
          [
           "A comprehensive catalogue of plant-pollinator interactions for Chile",
           4
          ],
          [
           "VIB5 database with accurate ab initio quantum chemical molecular potential energy surfaces",
           3
          ],
          [
           "A building height dataset across China in 2017 estimated by the spatially-informed approach",
           29
          ],
          [
           "MOFSimplify, machine learning models with extracted stability data of three thousand metal–organic frameworks",
           44
          ],
          [
           "Global monthly gridded atmospheric carbon dioxide concentrations under the historical and future scenarios",
           67
          ],
          [
           "Housing unit and urbanization estimates for the continental U.S. in consistent tract boundaries, 1940–2019",
           9
          ],
          [
           "Global seasonal Sentinel-1 interferometric coherence and backscatter data set",
           24
          ],
          [
           "FAIRly big: A framework for computationally reproducible processing of large-scale data",
           12
          ],
          [
           "1024-channel electrophysiological recordings in macaque V1 and V4 during resting state",
           7
          ],
          [
           "High spatial resolution dataset of La Mobilière insurance customers",
           0
          ],
          [
           "A long-term dataset of topography and nearshore bathymetry at the macrotidal pocket beach of Porsmilin, France",
           13
          ],
          [
           "Dataset of first appearances of the scholarly bibliographic references on Wikipedia articles",
           1
          ],
          [
           "Comprehensive RNA dataset of tissue and plasma from patients with esophageal cancer or precursor lesions",
           0
          ],
          [
           "A global urban microwave backscatter time series data set for 1993–2020 using ERS, QuikSCAT, and ASCAT data",
           9
          ],
          [
           "The Carbon Catalogue, carbon footprints of 866 commercial products from 8 industry sectors and 5 continents",
           7
          ],
          [
           "Vital signs in pediatric oncology patients assessed by continuous recording with a wearable device, NCT04134429",
           5
          ],
          [
           "Analysis of metabolic dynamics during drought stress in Arabidopsis plants",
           14
          ],
          [
           "Open multimodal iEEG-fMRI dataset from naturalistic stimulation with a short audiovisual film",
           7
          ],
          [
           "The demography of COVID-19 deaths database, a gateway to well-documented international data",
           9
          ],
          [
           "SkewDB, a comprehensive database of GC and 10 other skews for over 30,000 chromosomes and plasmids",
           8
          ],
          [
           "Multi-scanner and multi-modal lumbar vertebral body and intervertebral disc segmentation database",
           5
          ],
          [
           "Big data collection in pharmaceutical manufacturing and its use for product quality predictions",
           6
          ],
          [
           "R code and downstream analysis objects for the scRNA-seq atlas of normal and tumorigenic human breast tissue",
           8
          ],
          [
           "Three-dimensional structured illumination microscopy data of mitochondria and lysosomes in cardiomyoblasts under normal and galactose-adapted conditions",
           8
          ],
          [
           "Autonomic aging – A dataset to quantify changes of cardiovascular autonomic function during healthy aging",
           18
          ],
          [
           "City- and county-level spatio-temporal energy consumption and efficiency datasets for China from 1997 to 2017",
           34
          ],
          [
           "A nearly complete database on the records and ecology of the rarest boreal tiger moth from 1840s to 2020",
           1
          ],
          [
           "Functional movement screen dataset collected with two Azure Kinect depth sensors",
           13
          ],
          [
           "Daily motionless activities: A dataset with accelerometer, magnetometer, gyroscope, environment, and GPS data",
           5
          ],
          [
           "Single-cell RNA sequencing of adult rat testes after Leydig cell elimination and restoration",
           6
          ],
          [
           "Open access dataset of task-free hemodynamic activity in 4-month-old infants during sleep using fNIRS",
           4
          ],
          [
           "GO-SHIP Easy Ocean: Gridded ship-based hydrographic section of temperature, salinity, and dissolved oxygen",
           9
          ],
          [
           "An expert-curated global database of online newspaper articles on spiders and spider bites",
           7
          ],
          [
           "‘Citizens’ Attitudes Under Covid19’, a cross-country panel survey of public opinion in 11 advanced democracies",
           9
          ],
          [
           "1 km land use/land cover change of China under comprehensive socioeconomic and climate scenarios for 2020–2100",
           30
          ],
          [
           "Neurocognitive aging data release with behavioral, structural and multi-echo functional MRI measures",
           14
          ],
          [
           "Native range estimates for red-listed vascular plants",
           8
          ],
          [
           "Introducing AfroGrid, a unified framework for environmental conflict research in Africa",
           8
          ],
          [
           "A dataset of eye gaze images for calibration-free eye tracking augmented reality headset",
           2
          ],
          [
           "The Dual Mechanisms of Cognitive Control dataset, a theoretically-guided within-subject task fMRI battery",
           3
          ],
          [
           "Calcium Imaging and Electrophysiology of hippocampal Activity under Anesthesia and natural Sleep in Mice",
           1
          ],
          [
           "Comprehensive spectral libraries for various rabbit eye tissue proteomes",
           7
          ],
          [
           "LHC physics dataset for unsupervised New Physics detection at 40 MHz",
           12
          ],
          [
           "A worldwide epidemiological database for COVID-19 at fine-grained spatial resolution",
           19
          ],
          [
           "Categorized contrast enhanced mammography dataset for diagnostic and artificial intelligence research",
           14
          ],
          [
           "Reproducible long-term cycling data of Al2O3 coated LiNi0.70Co0.15Mn0.15O2 cathodes for lithium-ion batteries",
           8
          ],
          [
           "Accumulation-depuration data collection in support of toxicokinetic modelling",
           4
          ],
          [
           "Scientific data from precipitation driver response model intercomparison project",
           7
          ],
          [
           "Linking genomic and epidemiologic information to advance the study of COVID-19",
           3
          ],
          [
           "Comparative microelectrode array data of the functional development of hPSC-derived and rat neuronal networks",
           6
          ],
          [
           "A comprehensive LFQ benchmark dataset on modern day acquisition strategies in proteomics",
           20
          ],
          [
           "An improved daily standardized precipitation index dataset for mainland China from 1961 to 2018",
           37
          ],
          [
           "Aluminum alloy compositions and properties extracted from a corpus of scientific manuscripts and US patents",
           12
          ],
          [
           "A citizen centred urban network for weather and air quality in Australian schools",
           6
          ],
          [
           "Source files of the Carbohydrate Structure Database: the way to sophisticated analysis of natural glycans",
           5
          ],
          [
           "Global land projection based on plant functional types with a 1-km resolution under socio-climatic scenarios",
           66
          ],
          [
           "High resolution optical mapping of cardiac electrophysiology in pre-clinical models",
           10
          ],
          [
           "Surrounding road density of child care centers in Australia",
           0
          ],
          [
           "Updating global urbanization projections under the Shared Socioeconomic Pathways",
           23
          ],
          [
           "Caltech Conte Center, a multimodal data resource for exploring social cognition and decision-making",
           1
          ],
          [
           "The Mexican magnetic resonance imaging dataset of patients with cocaine use disorder: SUDMEX CONN",
           10
          ],
          [
           "SINBAD, structural, experimental and clinical characterization of STAT inhibitors and their potential applications",
           2
          ],
          [
           "1H NMR based urinary metabolites profiling dataset of canine mammary tumors",
           4
          ],
          [
           "A residential labeled dataset for smart meter data analytics",
           16
          ],
          [
           "Drivers of tropical forest loss between 2008 and 2019",
           17
          ],
          [
           "A global map of planting years of plantations",
           31
          ],
          [
           "MeadoWatch: a long-term community-science database of wildflower phenology in Mount Rainier National Park",
           1
          ],
          [
           "A biologging database of juvenile white sharks from the northeast Pacific",
           2
          ],
          [
           "A hierarchical inventory of the world’s mountains for global comparative mountain science",
           28
          ],
          [
           "Global spatiotemporally continuous MODIS land surface temperature dataset",
           43
          ],
          [
           "A spatially-explicit harmonized global dataset of critical infrastructure",
           26
          ],
          [
           "Processing of visual and non-visual naturalistic spatial information in the \"parahippocampal place area\"",
           4
          ],
          [
           "A dataset of non-pharmaceutical interventions on SARS-CoV-2 in Europe",
           7
          ],
          [
           "Morphological evolution of creek networks in 10 restored coastal wetlands in the UK",
           3
          ],
          [
           "AB-DB: Force-Field parameters, MD trajectories, QM-based data, and Descriptors of Antimicrobials",
           5
          ],
          [
           "Datasets for characterizing extreme events relevant to hydrologic design over the conterminous United States",
           8
          ],
          [
           "fastMRI+, Clinical pathology annotations for knee and brain fully sampled magnetic resonance imaging data",
           19
          ],
          [
           "DarkCideS 1.0, a global database for bats in karsts and caves",
           7
          ],
          [
           "Proteome metabolome and transcriptome data for three Symbiodiniaceae under ambient and heat stress conditions",
           17
          ],
          [
           "A three-year dataset supporting research on building energy management and occupancy analytics",
           30
          ],
          [
           "Emognition dataset: emotion recognition with self-reports, facial expressions, and physiology using wearables",
           36
          ],
          [
           "Multi-decadal ocean temperature time-series and climatologies from Australia’s long-term National Reference Stations",
           6
          ],
          [
           "Deciphering Bitcoin Blockchain Data by Cohort Analysis",
           9
          ],
          [
           "Laboratory modelling of urban flooding",
           7
          ],
          [
           "Global nature run data with realistic high-resolution carbon weather for the year of the Paris Agreement",
           4
          ],
          [
           "A multi-million image Serial Femtosecond Crystallography dataset collected at the European XFEL",
           6
          ],
          [
           "Digitising historical sea level records in the Thames Estuary, UK",
           2
          ],
          [
           "Databases of quantum periods for Fano manifolds",
           2
          ],
          [
           "Developing a large-scale dataset of flood fatalities for territories in the Euro-Mediterranean region, FFEM-DB",
           22
          ],
          [
           "COVID-19 Open-Data a global-scale spatially granular meta-dataset for coronavirus disease",
           4
          ],
          [
           "Annual 30-m big Lake Maps of the Tibetan Plateau in 1991–2018",
           17
          ],
          [
           "The brainstem connectome database",
           1
          ],
          [
           "China’s provincial process CO2 emissions from cement production during 1993–2019",
           29
          ],
          [
           "FAIR Genomes metadata schema promoting Next Generation Sequencing data reuse in Dutch healthcare and research",
           7
          ],
          [
           "Ultra-deep sequencing data from a liquid biopsy proficiency study demonstrating analytic validity",
           5
          ],
          [
           "The PeptideAtlas of a widely cultivated fish Labeo rohita: A resource for the Aquaculture Community",
           11
          ],
          [
           "Development and application of high resolution SPEI drought dataset for Central Asia",
           20
          ],
          [
           "Bilateral international migration flow estimates updated and refined by sex",
           9
          ],
          [
           "A meteorological dataset of the West African monsoon during the 2016 DACCIWA campaign",
           0
          ],
          [
           "A global record of annual terrestrial Human Footprint dataset from 2000 to 2018",
           129
          ],
          [
           "The ProkaBioDen database, a global database of benthic prokaryotic biomasses and densities in the marine realm",
           0
          ],
          [
           "OSASUD: A dataset of stroke unit recordings for the detection of Obstructive Sleep Apnea Syndrome",
           11
          ],
          [
           "DOPAMAP, high-resolution images of dopamine 1 and 2 receptor expression in developing and adult mouse brains",
           5
          ],
          [
           "Curation of a list of chemicals in biosolids from EPA National Sewage Sludge Surveys & Biennial Review Reports",
           11
          ],
          [
           "Electrophysiological dataset from macaque visual cortical area MST in response to a novel motion stimulus",
           1
          ],
          [
           "A multi-modal open dataset for mental-disorder analysis",
           48
          ],
          [
           "U.S. national water and energy land dataset for integrated multisector dynamics research",
           1
          ],
          [
           "GEOM, energy-annotated molecular conformations for property prediction and molecular generation",
           72
          ],
          [
           "AJILE12: Long-term naturalistic human intracranial neural recordings and pose",
           5
          ],
          [
           "HORDB a comprehensive database of peptide hormones",
           6
          ],
          [
           "A compilation of experimental data on the mechanical properties and microstructural features of Ti-alloys",
           32
          ],
          [
           "Whole-genome sequences of 37 breeding line Bombyx mori strains and their phenotypes established since 1960s",
           4
          ],
          [
           "A European-wide dataset to uncover adaptive traits of Listeria monocytogenes to diverse ecological niches",
           10
          ],
          [
           "A high-resolution 4D terrestrial laser scan dataset of the Kijkduin beach-dune system, The Netherlands",
           8
          ],
          [
           "High-throughput inverse design and Bayesian optimization of functionalities: spin splitting in two-dimensional compounds",
           5
          ],
          [
           "MASCDB, a database of images, descriptors and microphysical properties of individual snowflakes in free fall",
           7
          ],
          [
           "Auto-generated database of semiconductor band gaps using ChemDataExtractor",
           21
          ],
          [
           "USEEIO v2.0, The US Environmentally-Extended Input-Output Model v2.0",
           21
          ],
          [
           "A database of refractive indices and dielectric constants auto-generated using ChemDataExtractor",
           18
          ],
          [
           "RA-MAP, molecular immunological landscapes in early rheumatoid arthritis and healthy vaccine recipients",
           7
          ],
          [
           "Global forest management data for 2015 at a 100 m resolution",
           42
          ],
          [
           "Comprehensive 16S rRNA and metagenomic data from the gut microbiome of aging and rejuvenation mouse models",
           2
          ],
          [
           "Arboviral disease record data - Dengue and Chikungunya, Brazil, 2013–2020",
           9
          ],
          [
           "A dataset of winter wheat aboveground biomass in China during 2007–2015 based on data assimilation",
           19
          ],
          [
           "QUaternary fault strain INdicators database - QUIN 1.0 - first release from the Apennines of central Italy",
           25
          ],
          [
           "Comprehensive microRNA-seq transcriptomic profiling across 11 organs, 4 ages, and 2 sexes of Fischer 344 rats",
           2
          ],
          [
           "Global 1 km × 1 km gridded revised real gross domestic product and electricity consumption during 1992–2019 based on calibrated nighttime light data",
           131
          ],
          [
           "Habitat Protection Indexes - new monitoring measures for the conservation of coastal and marine habitats",
           5
          ],
          [
           "A studyforrest extension, MEG recordings while watching the audio-visual movie “Forrest Gump”",
           3
          ],
          [
           "Spatial distribution data of cultural sites from the Paleolithic to Bronze Age in Xinjiang, China",
           2
          ],
          [
           "A species diversity dataset of beetles by three passive acquisition methods in Tei Tong Tsai (Hong Kong)",
           2
          ],
          [
           "Simulated carbon K edge spectral database of organic molecules",
           8
          ],
          [
           "A global 0.05° dataset for gross primary production of sunlit and shaded vegetation canopies from 1992 to 2020",
           37
          ],
          [
           "Motor evoked potentials for multiple sclerosis, a multiyear follow-up dataset",
           4
          ],
          [
           "Temporal disaggregation of hourly precipitation under changing climate over the Southeast United States",
           16
          ],
          [
           "A global inventory of animal diversity measured in different grazing treatments",
           5
          ],
          [
           "Cloud-based applications for accessing satellite Earth observations to support malaria early warning",
           6
          ],
          [
           "Quantifying yeast colony morphologies with feature engineering from time-lapse photography",
           2
          ],
          [
           "Using open-source data to construct 20 metre resolution maps of children’s travel time to the nearest health facility",
           3
          ],
          [
           "A benchmark dataset for Hydrogen Combustion",
           8
          ],
          [
           "A compilation of fecal microbiome shotgun metagenomics from hematopoietic cell transplantation patients",
           7
          ],
          [
           "The VISTA datasets, a combination of inertial sensors and depth cameras data for activity recognition",
           3
          ],
          [
           "Monitoring microseismicity of the Hengill Geothermal Field in Iceland",
           11
          ],
          [
           "Global gridded GDP data set consistent with the shared socioeconomic pathways",
           49
          ],
          [
           "A solar energy desalination analysis tool, sedat, with data and models for selecting technologies and regions",
           4
          ],
          [
           "A pediatric wrist trauma X-ray dataset (GRAZPEDWRI-DX) for machine learning",
           18
          ],
          [
           "Characterizing storm-induced coastal change hazards along the United States West Coast",
           7
          ],
          [
           "Nine-day continuous recording of EEG and 2-hour of high-density EEG under chronic sleep restriction in mice",
           2
          ],
          [
           "Datasets on South Korean manufacturing factories’ electricity consumption and demand response participation",
           5
          ],
          [
           "A global database of land management, land-use change and climate change effects on soil organic carbon",
           11
          ],
          [
           "Machine-learning ready data on the thermal power consumption of the Mars Express Spacecraft",
           2
          ],
          [
           "Chromosome-scale genome assembly of an important medicinal plant honeysuckle",
           7
          ],
          [
           "MusMorph, a database of standardized mouse morphology data for morphometric meta-analyses",
           2
          ],
          [
           "VenomMaps: Updated species distribution maps and models for New World pitvipers (Viperidae: Crotalinae)",
           7
          ],
          [
           "Bottom-up estimates of reactive nitrogen loss from Chinese wheat production in 2014",
           5
          ],
          [
           "Dataset of solution-based inorganic materials synthesis procedures extracted from the scientific literature",
           28
          ],
          [
           "Text-mined dataset of gold nanoparticle synthesis procedures, morphologies, and size entities",
           28
          ],
          [
           "CYCLANDS: Cycling geo-located accidents, their details and severities",
           5
          ],
          [
           "A trait database and updated checklist for European subterranean spiders",
           15
          ],
          [
           "Plant phenotype relationship corpus for biomedical relationships between plants and phenotypes",
           4
          ],
          [
           "Whales from space dataset, an annotated satellite image dataset of whales for training machine learning models",
           9
          ],
          [
           "Multi sequence average templates for aging and neurodegenerative disease populations",
           3
          ],
          [
           "Proteomic and transcriptomic profiles of human urothelial cancer cells with histone deacetylase 5 overexpression",
           5
          ],
          [
           "A high-speed railway network dataset from train operation records and weather data",
           9
          ],
          [
           "Perceptions and behavior of clinical researchers and research support staff regarding data FAIRification",
           2
          ],
          [
           "Spatial and temporal data to study residential heat decarbonisation pathways in England and Wales",
           8
          ],
          [
           "FAIR and Interactive Data Graphics from a Scientific Knowledge Graph",
           12
          ],
          [
           "Downburst-like experimental impinging jet measurements at the WindEEE Dome",
           9
          ],
          [
           "A comprehensive database of crystal-bearing magmas for the calibration of a rheological model",
           8
          ],
          [
           "USACE Coastal and Hydraulics Laboratory Quality Controlled, Consistent Measurement Archive",
           7
          ],
          [
           "California wildfire spread derived using VIIRS satellite observations and an object-based tracking system",
           20
          ],
          [
           "eldBETA: A Large Eldercare-oriented Benchmark Database of SSVEP-BCI for the Aging Population",
           12
          ],
          [
           "The long-tail effect of the COVID-19 lockdown on Italians’ quality of life, sleep and physical activity",
           10
          ],
          [
           "Disaggregated data on age and sex for the first 250 days of the COVID-19 pandemic in Bucharest, Romania",
           9
          ],
          [
           "Recovery of metagenome-assembled genomes from the phyllosphere of 110 rice genotypes",
           8
          ],
          [
           "A multimodal sensor dataset for continuous stress detection of nurses in a hospital",
           33
          ],
          [
           "Paired field and water measurements from drainage management practices in row-crop agriculture",
           2
          ],
          [
           "GriddingMachine, a database and software for Earth system modeling at global and regional scales",
           6
          ],
          [
           "CoV2K model, a comprehensive representation of SARS-CoV-2 knowledge and data interplay",
           10
          ],
          [
           "China industrial environmental database 1998–2015",
           3
          ],
          [
           "AnimalTraits - a curated animal trait database for body mass, metabolic rate and brain size",
           22
          ],
          [
           "NASA Global Daily Downscaled Projections, CMIP6",
           150
          ],
          [
           "A multiscale X-ray phase-contrast tomography dataset of a whole human left lung",
           6
          ],
          [
           "Understanding occupants’ behaviour, engagement, emotion, and comfort indoors with heterogeneous sensors and wearables",
           23
          ],
          [
           "CDCDB: A large and continuously updated drug combination database",
           10
          ],
          [
           "A database of physical therapy exercises with variability of execution collected by wearable sensors",
           4
          ],
          [
           "Inter-species cell detection - datasets on pulmonary hemosiderophages in equine, human and feline specimens",
           2
          ],
          [
           "Voluntary consensus based geospatial data standards for the global illegal trade in wild fauna and flora",
           5
          ],
          [
           "Implementation of a MS/MS database for isoquinoline alkaloids and other annonaceous metabolites",
           6
          ],
          [
           "Historical long-term cultivar×climate suitability data to inform viticultural adaptation to climate change",
           8
          ],
          [
           "The International Bathymetric Chart of the Southern Ocean Version 2",
           39
          ],
          [
           "BIRAFFE2, a multimodal dataset for emotion-based personalization in rich affective game environments",
           7
          ],
          [
           "QMugs, quantum mechanical properties of drug-like molecules",
           47
          ],
          [
           "A global dataset to parametrize critical nitrogen dilution curves for major crop species",
           12
          ],
          [
           "A large-scale multi-label 12-lead electrocardiogram database with standardized diagnostic statements",
           7
          ],
          [
           "A dataset of distribution of antibiotic occurrence in solid environmental matrices in China",
           10
          ],
          [
           "PeSTK db a comprehensive data repository of Probiotic Serine Threonine kinases",
           2
          ],
          [
           "VitalDB, a high-fidelity multi-parameter vital signs database in surgical patients",
           43
          ],
          [
           "A collection of 3D geomodels of the Los Humeros and Acoculco geothermal systems (Mexico)",
           6
          ],
          [
           "Mobile device-based Bluetooth Low Energy Database for range estimation in indoor environments",
           5
          ],
          [
           "A 10-hour within-participant magnetoencephalography narrative dataset to test models of language comprehension",
           5
          ],
          [
           "Indoor heat measurement data from low-income households in rural and urban South Asia",
           8
          ],
          [
           "A Chinese multi-modal neuroimaging data release for increasing diversity of human brain mapping",
           4
          ],
          [
           "Ultra-deep multi-oncopanel sequencing of benchmarking samples with a wide range of variant allele frequencies",
           2
          ],
          [
           "Dynamic World, Near real-time global 10 m land use land cover mapping",
           284
          ],
          [
           "A global database of woody tissue carbon concentrations",
           8
          ],
          [
           "CAN-SAR: A database of Canadian species at risk information",
           4
          ],
          [
           "Auto-generating databases of Yield Strength and Grain Size using ChemDataExtractor",
           16
          ],
          [
           "Pancreatic cancer cells spectral library by DIA-MS and the phenotype analysis of gemcitabine sensitivity",
           6
          ],
          [
           "PAPILA: Dataset with fundus images and clinical data of both eyes of the same patient for glaucoma assessment",
           31
          ],
          [
           "A cross-verified database of notable people, 3500BC-2018AD",
           9
          ],
          [
           "The DeepFish computer vision dataset for fish instance segmentation, classification, and size estimation",
           12
          ],
          [
           "A database of anti-coronavirus peptides",
           15
          ],
          [
           "Optimising the classification of feature-based attention in frequency-tagged electroencephalography data",
           3
          ],
          [
           "Development of a Flame Retardant and an Organohalogen Flame Retardant Chemical Inventory",
           26
          ],
          [
           "YouTube Dataset on Mobile Streaming for Internet Traffic Modeling and Streaming Analysis",
           16
          ],
          [
           "Novel inorganic crystal structures predicted using autonomous simulation agents",
           10
          ],
          [
           "Metabolic profilings of rat INS-1 β-cells under changing levels of essential amino acids",
           1
          ],
          [
           "Environmental risks to humans, the first database of valence and arousal ratings for images of natural hazards",
           3
          ],
          [
           "A global database for conducting systematic reviews and meta-analyses in innovation and quality management",
           2
          ],
          [
           "Implementing the reuse of public DIA proteomics datasets: from the PRIDE database to Expression Atlas",
           12
          ],
          [
           "The two decades brainclinics research archive for insights in neurophysiology (TDBRAIN) database",
           26
          ],
          [
           "A longitudinal multi-scanner multimodal human neuroimaging dataset",
           5
          ],
          [
           "Hourly rainfall data from rain gauge networks and weather radar up to 2020 across the Hawaiian Islands",
           6
          ],
          [
           "A map of bat virus receptors derived from single-cell multiomics",
           1
          ],
          [
           "A global long-term ocean surface daily/0.05° net radiation product from 1983–2020",
           4
          ],
          [
           "Integrating Data Directly into Publications with Augmented Reality and Web-Based Technologies – Schol-AR",
           4
          ],
          [
           "Genotypic and tissue-specific variation of Populus nigra transcriptome profiles in response to drought",
           0
          ],
          [
           "Enhancing the REMBRANDT MRI collection with expert segmentation labels and quantitative radiomic features",
           3
          ],
          [
           "A longitudinal resource for studying connectome development and its psychiatric associations during childhood",
           12
          ],
          [
           "Datasets for benchmarking antimicrobial resistance genes in bacterial metagenomic and whole genome sequencing",
           4
          ],
          [
           "Plant tissue characteristics of Miscanthus x giganteus",
           1
          ],
          [
           "A dataset of diversity and distribution of rodents and shrews in China",
           6
          ],
          [
           "Biological traits of marine benthic invertebrates in Northwest Europe",
           12
          ],
          [
           "In toto light sheet fluorescence microscopy live imaging datasets of Ceratitis capitata embryonic development",
           2
          ],
          [
           "FutureStreams, a global dataset of future streamflow and water temperature",
           16
          ],
          [
           "Glacier thickness and ice volume of the Northern Andes",
           10
          ],
          [
           "Monthly spatial dynamics of the Bay of Biscay hake-sole-Norway lobster fishery: an ISIS-Fish database",
           2
          ],
          [
           "A dataset of simulated patient-physician medical interviews with a focus on respiratory cases",
           5
          ],
          [
           "Datasets of skills-rating questionnaires for advanced service design through expert knowledge elicitation",
           1
          ],
          [
           "500 metagenome-assembled microbial genomes from 30 subtropical estuaries in South China",
           11
          ],
          [
           "Gridded value-added of primary, secondary and tertiary industries in China under Shard Socioeconomic Pathways",
           22
          ],
          [
           "Protective Policy Index (PPI) global dataset of origins and stringency of COVID 19 mitigation policies",
           15
          ],
          [
           "CF-Seq, an accessible web application for rapid re-analysis of cystic fibrosis pathogen RNA sequencing studies",
           3
          ],
          [
           "A database of animal metagenomes",
           9
          ],
          [
           "Long-term ice phenology records spanning up to 578 years for 78 lakes around the Northern Hemisphere",
           11
          ],
          [
           "Improvement of eukaryotic protein predictions from soil metagenomes",
           1
          ],
          [
           "A large, curated, open-source stroke neuroimaging dataset to improve lesion segmentation algorithms",
           38
          ],
          [
           "A harmonized chemical monitoring database for support of exposure assessments",
           9
          ],
          [
           "Greenhouse gas emissions from municipal wastewater treatment facilities in China from 2006 to 2019",
           45
          ],
          [
           "Generating FAIR research data in experimental tribology",
           9
          ],
          [
           "Lexibank, a public repository of standardized wordlists with computed phonological and lexical features",
           20
          ],
          [
           "The OceanDNA MAG catalog contains over 50,000 prokaryotic genomes originated from various marine environments",
           28
          ],
          [
           "PISCOeo_pm, a reference evapotranspiration gridded database based on FAO Penman-Monteith in Peru",
           10
          ],
          [
           "Charge balance calculations for mixed salt systems applied to a large dataset from the built environment",
           5
          ],
          [
           "Better force fields start with better data: A data set of cation dipeptide interactions",
           4
          ],
          [
           "Wet-Bulb Globe Temperature, Universal Thermal Climate Index, and Other Heat Metrics for US Counties, 2000–2020",
           24
          ],
          [
           "Perovskite- and Dye-Sensitized Solar-Cell Device Databases Auto-generated Using ChemDataExtractor",
           27
          ],
          [
           "A curated, ontology-based, large-scale knowledge graph of artificial intelligence tasks and benchmarks",
           11
          ],
          [
           "Transcriptome dataset of omental and subcutaneous adipose tissues from gestational diabetes patients",
           0
          ],
          [
           "Pupillometry and electroencephalography in the digit span task",
           7
          ],
          [
           "A focus groups study on data sharing and research data management",
           14
          ],
          [
           "X-ray computed microtomography datasets for osteogenic nanofibrous coated titanium implants",
           1
          ],
          [
           "Daily precipitation dataset at 0.1° for the Yarlung Zangbo River basin from 2001 to 2015",
           3
          ],
          [
           "REFLACX, a dataset of reports and eye-tracking data for localization of abnormalities in chest x-rays",
           10
          ],
          [
           "Gridded maps of wetlands dynamics over mid-low latitudes for 1980–2020 based on TOPMODEL",
           9
          ],
          [
           "A multisource database tracking the impact of the COVID-19 pandemic on the communities of Boston, MA, USA",
           4
          ],
          [
           "Chinese adult brain atlas with functional and white matter parcellation",
           2
          ],
          [
           "The diversity of quinoa morphological traits and seed metabolic composition",
           13
          ],
          [
           "ReaLSAT, a global dataset of reservoir and lake surface area variations",
           22
          ],
          [
           "Presenting the Compendium Isotoporum Medii Aevi, a Multi-Isotope Database for Medieval Europe",
           10
          ],
          [
           "Real-world sensor dataset for city inbound-outbound critical intersection analysis",
           5
          ],
          [
           "Scaling up SoccerNet with multi-view spatial localization and re-identification",
           15
          ],
          [
           "COVIDiSTRESS diverse dataset on psychological and behavioural outcomes one year into the COVID-19 pandemic",
           17
          ],
          [
           "The NEON Daily Isotopic Composition of Environmental Exchanges Dataset",
           4
          ],
          [
           "A multi-scale time-series dataset with benchmark for machine learning in decarbonized energy grids",
           24
          ],
          [
           "A global ensemble of ocean wave climate statistics from contemporary wave reanalysis and hindcasts",
           18
          ],
          [
           "Global hydro-environmental lake characteristics at high spatial resolution",
           25
          ],
          [
           "Discrete typing units of Trypanosoma cruzi: Geographical and biological distribution in the Americas",
           30
          ],
          [
           "NORA3-WP: A high-resolution offshore wind power dataset for the Baltic, North, Norwegian, and Barents Seas",
           5
          ],
          [
           "A multi-city urban atmospheric greenhouse gas measurement data synthesis",
           8
          ],
          [
           "Sea ice surface temperatures from helicopter-borne thermal infrared imaging during the MOSAiC expedition",
           10
          ],
          [
           "A human single-neuron dataset for face perception",
           5
          ],
          [
           "Large Scale Genome-Centric Metagenomic Data from the Gut Microbiome of Food-Producing Animals and Humans",
           2
          ],
          [
           "ORMEF: a Mediterranean database of exotic fish records",
           10
          ],
          [
           "Tree-ring data set for dendroclimatic reconstructions and dendrochronological dating in European Russia",
           6
          ],
          [
           "A Global Building Occupant Behavior Database",
           50
          ],
          [
           "HunCRC: annotated pathological slides to enhance deep learning applications in colorectal cancer screening",
           8
          ],
          [
           "A high-resolution climate simulation dataset for the past 540 million years",
           36
          ],
          [
           "Finger Movement Recognition via High-Density Electromyography of Intrinsic and Extrinsic Hand Muscles",
           11
          ],
          [
           "Identification of stress-related genes by co-expression network analysis based on the improved turbot genome",
           8
          ],
          [
           "Long-term observation of the egg and chick size in the nests of Larus ichthyaetus in Lake Chany, Russia",
           0
          ],
          [
           "Advancing early warning capabilities with CHIRPS-compatible NCEP GEFS precipitation forecasts",
           11
          ],
          [
           "PSHG-TISS: A collection of polarization-resolved second harmonic generation microscopy images of fixed tissues",
           9
          ],
          [
           "An 8-year record of phytoplankton productivity and nutrient distributions from surface waters of Saanich Inlet",
           0
          ],
          [
           "3D model of the geometric nest structure, the “mystery circle,” constructed by pufferfish",
           0
          ],
          [
           "Spatial and Temporal Characterization of Activity in Public Space, 2019–2020",
           12
          ],
          [
           "CaliPopGen: A genetic and life history database for the fauna and flora of California",
           5
          ],
          [
           "Accounting for the aircraft emissions of China’s domestic routes during 2014–2019",
           21
          ],
          [
           "The Australian Shark-Incident Database for quantifying temporal and spatial patterns of shark-human conflict",
           8
          ],
          [
           "Fatigue dataset of high-entropy alloys",
           9
          ],
          [
           "LepTraits 1.0 A globally comprehensive dataset of butterfly traits",
           22
          ],
          [
           "Food webs for three burn severities after wildfire in the Eldorado National Forest, California",
           2
          ],
          [
           "Fisheries dataset on moulting patterns and shell quality of American lobsters H. americanus in Atlantic Canada",
           2
          ],
          [
           "HistoML, a markup language for representation and exchange of histopathological features in pathology images",
           2
          ],
          [
           "EEG Dataset for RSVP and P300 Speller Brain-Computer Interfaces",
           23
          ],
          [
           "CovidPubGraph: A FAIR Knowledge Graph of COVID-19 Publications",
           7
          ],
          [
           "Country Compendium of the Global Register of Introduced and Invasive Species",
           21
          ],
          [
           "A 26-year time series of mortality and growth of the Pacific oyster C. gigas recorded along French coasts",
           6
          ],
          [
           "Proteomic characterisation of triple negative breast cancer cells following CDK4/6 inhibition",
           8
          ],
          [
           "The RETA Benchmark for Retinal Vascular Tree Analysis",
           4
          ],
          [
           "The Toronto older adults gait archive: video and 3D inertial motion capture data of older adults’ walking",
           5
          ],
          [
           "The heterogeneous pharmacological medical biochemical network PharMeBINet",
           5
          ],
          [
           "A geospatial inventory of regulatory information for wine protected designations of origin in Europe",
           12
          ],
          [
           "Reference database of teeth images from the Family Bovidae",
           2
          ],
          [
           "Gait analysis dataset of healthy volunteers and patients before and 6 months after total hip arthroplasty",
           7
          ],
          [
           "An atlas of endogenous DNA double-strand breaks arising during human neural cell fate determination",
           5
          ],
          [
           "European primary datasets of alien bacteria and viruses",
           1
          ],
          [
           "Myctobase, a circumpolar database of mesopelagic fishes for new insights into deep pelagic prey fields",
           6
          ],
          [
           "GloSEM: High-resolution global estimates of present and future soil displacement in croplands by water erosion",
           32
          ],
          [
           "Cytopathic SARS-CoV-2 screening on VERO-E6 cells in a large-scale repurposing effort",
           19
          ],
          [
           "Materials information extraction via automatically generated corpus",
           9
          ],
          [
           "Agricultural SandboxNL: A national-scale database of parcel-level processed Sentinel-1 SAR data",
           8
          ],
          [
           "An annotated image dataset for training mosquito species recognition system on human skin",
           2
          ],
          [
           "The database of eye-movement measures on words in Chinese reading",
           6
          ],
          [
           "The draft genome sequence of the Brahminy blindsnake Indotyphlops braminus",
           1
          ],
          [
           "Making marine image data FAIR",
           17
          ],
          [
           "Mapping 20 years of irrigated croplands in China using MODIS and statistics and existing irrigation products",
           33
          ],
          [
           "A chromosome-level genome assembly of the jade perch (Scortum barcoo)",
           4
          ],
          [
           "Version 3 of the Global Aridity Index and Potential Evapotranspiration Database",
           212
          ],
          [
           "Reconstructed SPECT images of 177Lu homogeneous cylindrical phantom used for calibration and texture analysis",
           0
          ],
          [
           "A resource for assessing dynamic binary choices in the adult brain using EEG and mouse-tracking",
           5
          ],
          [
           "A three-year data set of gaseous field emissions from crop sequence at three sites in Germany",
           0
          ],
          [
           "High accuracy barrier heights, enthalpies, and rate coefficients for chemical reactions",
           27
          ],
          [
           "Transcriptomic study of anastasis for reversal of ethanol-induced apoptosis in mouse primary liver cells",
           4
          ],
          [
           "A 0.01-degree gridded precipitation dataset for Japan, 1926-2020",
           2
          ],
          [
           "A large collection of real-world pediatric sleep studies",
           14
          ],
          [
           "Three years of hourly data from 3021 smart heat meters installed in Danish residential buildings",
           10
          ],
          [
           "A global, historical database of tuna, billfish, and saury larval distributions",
           4
          ],
          [
           "VinDr-CXR: An open dataset of chest X-rays with radiologist’s annotations",
           105
          ],
          [
           "Sarafu Community Inclusion Currency 2020–2021",
           8
          ],
          [
           "Ancient Reef Traits, a database of trait information for reef-building organisms over the Phanerozoic",
           5
          ],
          [
           "A long-term reconstructed TROPOMI solar-induced fluorescence dataset using machine learning algorithms",
           23
          ],
          [
           "A consistent and corrected nighttime light dataset (CCNL 1992–2013) from DMSP-OLS data",
           19
          ],
          [
           "Energy audit and carbon footprint in trawl fisheries",
           25
          ],
          [
           "Automatic question answering for multiple stakeholders, the epidemic question answering dataset",
           4
          ],
          [
           "The Multilingual Picture Database",
           8
          ],
          [
           "A quantum chemical molecular dynamics repository of solvated ions",
           10
          ],
          [
           "An update on global mining land use",
           49
          ],
          [
           "The near-global ocean mesoscale eddy atmospheric-oceanic-biological interaction observational dataset",
           28
          ],
          [
           "Dataset of Speech Production in intracranial Electroencephalography",
           11
          ],
          [
           "Expert tumor annotations and radiomics for locally advanced breast cancer in DCE-MRI for ACRIN 6657/I-SPY1",
           6
          ],
          [
           "Dataset on social and psychological effects of COVID-19 pandemic in Turkey",
           3
          ],
          [
           "SARS-ANI: a global open access dataset of reported SARS-CoV-2 events in animals",
           18
          ],
          [
           "Single-cell RNA-seq of primary bone marrow neutrophils from female and male adult mice",
           5
          ],
          [
           "Observing the Central Arctic Atmosphere and Surface with University of Colorado uncrewed aircraft systems",
           10
          ],
          [
           "Cereal grain mineral micronutrient and soil chemistry data from GeoNutrition surveys in Ethiopia and Malawi",
           13
          ],
          [
           "Global Soil Hydraulic Properties dataset based on legacy site observations and robust parameterization",
           12
          ],
          [
           "A curated binary pattern multitarget dataset of focused ATP-binding cassette transporter inhibitors",
           17
          ],
          [
           "Community established best practice recommendations for tephra studies—from collection through analysis",
           16
          ],
          [
           "A high spatial resolution land surface phenology dataset for AmeriFlux and NEON sites",
           16
          ],
          [
           "Standard metadata for 3D microscopy",
           7
          ],
          [
           "Mapping hydrologic alteration and ecological consequences in stream reaches of the conterminous United States",
           8
          ],
          [
           "The role of plant functional groups mediating climate impacts on carbon and biodiversity of alpine grasslands",
           8
          ],
          [
           "Datasets of fingertip forces while grasping a handle with unsteady thumb platform",
           1
          ],
          [
           "High-resolution Digital Surface Model of the 2021 eruption deposit of Cumbre Vieja volcano, La Palma, Spain",
           44
          ],
          [
           "The University of Pennsylvania glioblastoma (UPenn-GBM) cohort: advanced MRI, clinical, genomics, & radiomics",
           38
          ],
          [
           "The ProMotion LMU dataset (2022 edition), prostate intra-fraction motion recorded by transperineal ultrasound",
           4
          ],
          [
           "Country-level fire perimeter datasets (2001–2021)",
           10
          ],
          [
           "ISARIC-COVID-19 dataset: A Prospective, Standardized, Global Dataset of Patients Hospitalized with COVID-19",
           29
          ],
          [
           "Utility-driven assessment of anonymized data via clustering",
           5
          ],
          [
           "Single cell transcriptome sequencing of inspiratory neurons of the preBötzinger complex in neonatal mice",
           1
          ],
          [
           "The United States COVID-19 Forecast Hub dataset",
           34
          ],
          [
           "Dataset of identified scholars mentioned in acknowledgement statements",
           4
          ],
          [
           "DNA barcode reference library for the West Sahara-Sahel reptiles",
           5
          ],
          [
           "Multi-modal Dataset of a Polycrystalline Metallic Material: 3D Microstructure and Deformation Fields",
           19
          ],
          [
           "A dataset of mentorship in bioscience with semantic and demographic estimations",
           4
          ],
          [
           "Daily 1 km terrain resolving maps of surface fine particulate matter for the western United States 2003–2021",
           6
          ],
          [
           "A simultaneous electroencephalography and eye-tracking dataset in elite athletes during alertness and concentration tasks",
           6
          ],
          [
           "Compilation of longitudinal gut microbiome, serum metabolome, and clinical data in acute myeloid leukemia",
           3
          ],
          [
           "Chromosome-level assembly of Gymnocypris eckloni genome",
           7
          ],
          [
           "ExAgBov: A public database of annotated variations from hundreds of bovine whole-exome sequencing samples",
           2
          ],
          [
           "Muscle and adipose tissue segmentations at the third cervical vertebral level in patients with head and neck cancer",
           5
          ],
          [
           "A full year of turbulence measurements from a drift campaign in the Arctic Ocean 2019–2020",
           14
          ],
          [
           "Developing a high-resolution gridded rainfall product for Bangladesh during 1901–2018",
           13
          ],
          [
           "A Multi-Modal Gait Database of Natural Everyday-Walk in an Urban Environment",
           12
          ],
          [
           "OPERAnet, a multimodal activity recognition dataset acquired from radio frequency and vision-based sensors",
           22
          ],
          [
           "FIVES: A Fundus Image Dataset for Artificial Intelligence based Vessel Segmentation",
           55
          ],
          [
           "Near-real-time MODIS-derived vegetation index data products and online services for CONUS based on NASA LANCE",
           5
          ],
          [
           "SeEn: Sequential enriched datasets for sequence-aware recommendations",
           0
          ],
          [
           "Male fathead minnow transcriptomes and associated chemical analytes in the Milwaukee estuary system",
           1
          ],
          [
           "Maps of cropping patterns in China during 2015–2021",
           37
          ],
          [
           "A multimodal psychological, physiological and behavioural dataset for human emotions in driving tasks",
           29
          ],
          [
           "A global dataset of seaweed net primary productivity",
           25
          ],
          [
           "Chromosome-level genome assembly of largemouth bass (Micropterus salmoides) using PacBio and Hi-C technologies",
           5
          ],
          [
           "CRITTERBASE, a science-driven data warehouse for marine biota",
           5
          ],
          [
           "Metagenome sequencing and 768 microbial genomes from cold seep in South China Sea",
           5
          ],
          [
           "Human brain structural connectivity matrices–ready for modelling",
           9
          ],
          [
           "Global dataset of species-specific inland recreational fisheries harvest for consumption",
           10
          ],
          [
           "Statistically enriched geospatial datasets of Brazilian municipalities for data-driven modeling",
           4
          ],
          [
           "BRAX, Brazilian labeled chest x-ray dataset",
           10
          ],
          [
           "The Leaf Clinical Trials Corpus: a new resource for query generation from clinical trial eligibility criteria",
           7
          ],
          [
           "Absolute protein quantitation of the mouse macrophage Toll-like receptor and chemotaxis pathways",
           2
          ],
          [
           "Nine out of ten samples were mistakenly switched by The Orang-utan Genome Consortium",
           2
          ],
          [
           "A high-resolution Orbitrap Mass spectral library for trace volatile compounds in fruit wines",
           2
          ],
          [
           "Baseline proteomics characterisation of the emerging host biomanufacturing organism Halomonas bluephagenesis",
           2
          ],
          [
           "Gridded land use data for the conterminous United States 1940–2015",
           5
          ],
          [
           "A global dataset for prevalence of Salmonella Gallinarum between 1945 and 2021",
           24
          ],
          [
           "The gill transcriptome of threatened European freshwater mussels",
           12
          ],
          [
           "An Artificial Intelligence Dataset for Solar Energy Locations in India",
           10
          ],
          [
           "A bankfull geometry dataset for major exorheic rivers on the Qinghai-Tibet Plateau",
           6
          ],
          [
           "Fundamental social motives measured across forty-two cultures in two waves",
           6
          ],
          [
           "An Electroencephalography-based Database for studying the Effects of Acoustic Therapies for Tinnitus Treatment",
           3
          ],
          [
           "Global data on fertilizer use by crop and by country",
           38
          ],
          [
           "Lightweight Distributed Provenance Model for Complex Real–world Environments",
           10
          ],
          [
           "China economy-wide material flow account database from 1990 to 2020",
           1
          ],
          [
           "A dataset of road-killed vertebrates collected via citizen science from 2014–2020",
           6
          ],
          [
           "Simplifying complex fault data for systems-level analysis: Earthquake geology inputs for U.S. NSHM 2023",
           13
          ],
          [
           "An insight in proteome profiling of Tuta absoluta larvae after entomopathogenic fungal infection",
           3
          ],
          [
           "An annotated image dataset of medically and forensically important flies for deep learning model training",
           4
          ],
          [
           "FunAndes – A functional trait database of Andean plants",
           10
          ],
          [
           "EPIC: Annotated epileptic EEG independent components for artifact reduction",
           1
          ],
          [
           "Strong ground motion data of the 2015 Gorkha Nepal earthquake sequence in the Kathmandu Valley",
           7
          ],
          [
           "An fMRI dataset for whole-body somatotopic mapping in humans",
           3
          ],
          [
           "A multi-scale probabilistic atlas of the human connectome",
           8
          ],
          [
           "qMRI-BIDS: An extension to the brain imaging data structure for quantitative magnetic resonance imaging data",
           12
          ],
          [
           "A comprehensive data set of physical and human-dimensional attributes for China’s lake basins",
           10
          ],
          [
           "The NIMH intramural healthy volunteer dataset: A comprehensive MEG, MRI, and behavioral resource",
           6
          ],
          [
           "RSDB: A rare skin disease database to link drugs with potential drug targets for rare skin diseases",
           4
          ],
          [
           "Dasymetric population mapping based on US census data and 30-m gridded estimates of impervious surface",
           7
          ],
          [
           "ADTC-InSAR: a tropospheric correction database for Andean volcanoes",
           1
          ],
          [
           "Mass spectrometry data on specialized metabolome of medicinal plants used in East Asian traditional medicine",
           8
          ],
          [
           "Harmonized nitrogen and phosphorus concentrations in the Mississippi/Atchafalaya River Basin from 1980 to 2018",
           3
          ],
          [
           "Global inventory of suitable, cultivable and available cropland under different scenarios and policies",
           7
          ],
          [
           "Real-world behavioral dataset from two fully remote smartphone-based randomized clinical trials for depression",
           4
          ],
          [
           "Two multi-temporal datasets to track debris flow after the 2008 Wenchuan earthquake",
           9
          ],
          [
           "Le Petit Prince multilingual naturalistic fMRI corpus",
           10
          ],
          [
           "Probabilistic atlas for the language network based on precision fMRI data from >800 individuals",
           37
          ],
          [
           "Identifying Datasets for Cross-Study Analysis in dbGaP using PhenX",
           1
          ],
          [
           "A multidevice and multimodal dataset for human energy expenditure estimation using wearable devices",
           8
          ],
          [
           "TILES-2019: A longitudinal physiologic and behavioral data set of medical residents in an intensive care unit",
           7
          ],
          [
           "Atmospheric temperature, water vapour and liquid water path from two microwave radiometers during MOSAiC",
           159
          ],
          [
           "Carbon Monitor Cities near-real-time daily estimates of CO2 emissions from 1500 cities worldwide",
           24
          ],
          [
           "A large EEG dataset for studying cross-session variability in motor imagery brain-computer interface",
           17
          ],
          [
           "A chromosome-level genome assembly of the redfin culter (Chanodichthys erythropterus)",
           3
          ],
          [
           "Gabi wheat a panel of European elite lines as central stock for wheat genetic research",
           5
          ],
          [
           "A harmonized dataset of sediment diatoms from hundreds of lakes in the northeastern United States",
           5
          ],
          [
           "An open source delineation and hierarchical classification of UK retail agglomerations",
           6
          ],
          [
           "High-resolution global maps of tidal flat ecosystems from 1984 to 2019",
           18
          ],
          [
           "ASL-BIDS, the brain imaging data structure extension for arterial spin labeling",
           14
          ],
          [
           "A proteomic and RNA-seq transcriptomic dataset of capsaicin-aggravated mouse chronic colitis model",
           5
          ],
          [
           "Geographical clusters of dengue outbreak in Singapore during the Covid-19 nationwide lockdown of 2020",
           5
          ],
          [
           "TRFs and tiRNAs sequence in acute rejection for vascularized composite allotransplantation",
           4
          ],
          [
           "PLAS-5k: Dataset of Protein-Ligand Affinities from Molecular Dynamics for Machine Learning Applications",
           6
          ],
          [
           "Geographical characterisation of British urban form and function using the spatial signatures framework",
           11
          ],
          [
           "A multi-sensor human gait dataset captured through an optical system and inertial measurement units",
           7
          ],
          [
           "Five years calibrated observations from the University of Bonn X-band weather radar (BoXPol)",
           6
          ],
          [
           "Gene expression profiles of specific chicken skeletal muscles",
           3
          ],
          [
           "Datasets of in vitro clonogenic assays showing low dose hyper-radiosensitivity and induced radioresistance",
           2
          ],
          [
           "CatLC: Catalonia Multiresolution Land Cover Dataset",
           1
          ],
          [
           "AMC 12 atomic mass compilation data extrapolated for atomic masses of nuclei far from the valley of stability",
           1
          ],
          [
           "MilkyBase, a database of human milk composition as a function of maternal-, infant- and measurement conditions",
           3
          ],
          [
           "Chromosomal-scale genome assembly of the near-extinction big-head schizothorcin (Aspiorhynchus laticeps)",
           3
          ],
          [
           "A global dataset of microbial community in ticks from metagenome study",
           1
          ],
          [
           "Sharkipedia: a curated open access database of shark and ray life history traits and abundance time-series",
           13
          ],
          [
           "Intravital microscopy datasets examining key nephron segments of transplanted decellularized kidneys",
           14
          ],
          [
           "Quantitative 3D OPT and LSFM datasets of pancreata from mice with streptozotocin-induced diabetes",
           1
          ],
          [
           "Projecting 1 km-grid population distributions from 2020 to 2100 globally under shared socioeconomic pathways",
           43
          ],
          [
           "The Criminal Justice Administrative Records System: A next-generation research data platform",
           3
          ],
          [
           "Draft genome assemblies of four manakins",
           1
          ],
          [
           "A georeferenced rRNA amplicon database of aquatic microbiomes from South America",
           3
          ],
          [
           "A test-retest resting, and cognitive state EEG dataset during multiple subject-driven states",
           9
          ],
          [
           "A dataset of hourly sea surface temperature from drifting buoys",
           7
          ],
          [
           "Social Support and Network Formation in a Small-Scale Horticulturalist Population",
           2
          ],
          [
           "An Open MRI Dataset For Multiscale Neuroscience",
           21
          ],
          [
           "Human and economic impacts of natural disasters: can we trust the global data?",
           37
          ],
          [
           "Putting pesticides on the map for pollinator research and conservation",
           12
          ],
          [
           "A national-scale land cover reference dataset from local crowdsourcing initiatives in Indonesia",
           1
          ],
          [
           "World carbon pricing database: sources and methods",
           12
          ],
          [
           "Solar and wind power data from the Chinese State Grid Renewable Energy Generation Forecasting Competition",
           24
          ],
          [
           "Bacteria communities and water quality parameters in riverine water and sediments near wastewater discharges",
           4
          ],
          [
           "Crosswalks among stewardship maturity assessment approaches promoting trustworthy FAIR data and repositories",
           1
          ],
          [
           "A behavioral and brain imaging dataset with focus on emotion regulation of women with fibromyalgia",
           5
          ],
          [
           "Inflation of test accuracy due to data leakage in deep learning-based classification of OCT images",
           27
          ],
          [
           "Public opinion towards global distribution of COVID-19 vaccines - Data from Germany and the United States",
           0
          ],
          [
           "Predicting skin permeability using HuskinDB",
           9
          ],
          [
           "QDataSet, quantum datasets for machine learning",
           9
          ],
          [
           "A comprehensive genomic and transcriptomic dataset of triple-negative breast cancers",
           3
          ],
          [
           "A 10 m resolution urban green space map for major Latin American cities from Sentinel-2 remote sensing images and OpenStreetMap",
           16
          ],
          [
           "A chromosome-scale reference genome for Spironucleus salmonicida",
           1
          ],
          [
           "Pan-tumor CAnine cuTaneous Cancer Histology (CATCH) dataset",
           8
          ],
          [
           "Optical emissivity dataset of multi-material heterogeneous designs generated with automated figure extraction",
           4
          ],
          [
           "A synchronized multimodal neuroimaging dataset for studying brain language processing",
           5
          ],
          [
           "Machine actionable metadata models",
           10
          ],
          [
           "From raw measurements to human pose - a dataset with low-cost and high-end inertial-magnetic sensor data",
           2
          ],
          [
           "COLONOMICS - integrative omics data of one hundred paired normal-tumoral samples from colon cancer patients",
           8
          ],
          [
           "A manually curated compendium of expression profiles for the microbial cell factory Corynebacterium glutamicum",
           2
          ],
          [
           "Niche deconvolution of the glioblastoma proteome reveals a distinct infiltrative phenotype within the proneural transcriptomic subgroup",
           4
          ],
          [
           "A Dataset of 3D Structural and Simulated Transport Properties of Complex Porous Media",
           7
          ],
          [
           "A whole-body FDG-PET/CT Dataset with manually annotated Tumor Lesions",
           60
          ],
          [
           "Large-scale audio dataset for emergency vehicle sirens and road noises",
           8
          ],
          [
           "Toward practical transparent verifiable and long-term reproducible research using Guix",
           7
          ],
          [
           "Reference bioimaging to assess the phenotypic trait diversity of bryophytes within the family Scapaniaceae",
           2
          ],
          [
           "A comprehensive database of amphibian heat tolerance",
           14
          ],
          [
           "A multi-camera and multimodal dataset for posture and gait analysis",
           10
          ],
          [
           "Rhode Island gastroenterology video capsule endoscopy data set",
           4
          ],
          [
           "A high spatial resolution dataset for anthropogenic atmospheric mercury emissions in China during 1998–2014",
           6
          ],
          [
           "TumorMet: A repository of tumor metabolic networks derived from context-specific Genome-Scale Metabolic Models",
           2
          ],
          [
           "Multimodal Data for the Detection of Freezing of Gait in Parkinson’s Disease",
           13
          ],
          [
           "A highway vehicle routing dataset during the 2019 Kincade Fire evacuation",
           1
          ],
          [
           "Size-fractionated microbiome observed during an eight-month long sampling in Jiaozhou Bay and the Yellow Sea",
           2
          ],
          [
           "High-content, arrayed compound screens with rhinovirus, influenza A virus and herpes simplex virus infections",
           2
          ],
          [
           "De novo transcriptome reconstruction in aquacultured early life stages of the cephalopod Octopus vulgaris",
           8
          ],
          [
           "Lake volume variation in the endorheic basin of the Tibetan Plateau from 1989 to 2019",
           3
          ],
          [
           "Long-term annual soil nitrogen surplus across Europe (1850–2019)",
           12
          ],
          [
           "Metabolite profiling of Arabidopsis mutants of lower glycolysis",
           3
          ],
          [
           "The Ecology-Culture Dataset: A new resource for investigating cultural variation",
           4
          ],
          [
           "Nitrate transport velocity data in the global unsaturated zones",
           5
          ],
          [
           "An analysis-ready and quality controlled resource for pediatric brain white-matter research",
           9
          ],
          [
           "Coral community data Heron Island Great Barrier Reef 1962–2016",
           1
          ],
          [
           "A detailed behavioral, videographic, and neural dataset on object recognition in mice",
           3
          ],
          [
           "Brain de novo transcriptome assembly of a toad species showing polymorphic anti-predatory behavior",
           4
          ],
          [
           "Optical mapping compendium of structural variants across global cattle breeds",
           1
          ],
          [
           "Fine-scale population spatialization data of China in 2018 based on real location-based big data",
           7
          ],
          [
           "OSeMOSYS Global, an open-source, open data global electricity system model generator",
           16
          ],
          [
           "Introducing the FAIR Principles for research software",
           97
          ],
          [
           "An interactive mass spectrometry atlas of histone posttranslational modifications in T-cell acute leukemia",
           2
          ],
          [
           "GABB: A global dataset of alpine breeding birds and their ecological traits",
           10
          ],
          [
           "Dataset of parent-child hyperscanning functional near-infrared spectroscopy recordings",
           6
          ],
          [
           "Integrated database for economic complexity",
           6
          ],
          [
           "Implementation of FAIR principles in the IPCC: the WGI AR6 Atlas repository",
           28
          ],
          [
           "Movement-related artefacts (MR-ART) dataset of matched motion-corrupted and clean structural MRI brain scans",
           20
          ],
          [
           "Distribution of soil macrofauna across different habitats in the Eastern European Alps",
           3
          ],
          [
           "Spatial transcriptome profiling of normal human liver",
           8
          ],
          [
           "A minimum data standard for vector competence experiments",
           11
          ],
          [
           "ReSurveyGermany: Vegetation-plot time-series over the past hundred years in Germany",
           7
          ],
          [
           "The Immune Signatures data resource, a compendium of systems vaccinology datasets",
           9
          ],
          [
           "A ten-year (2009–2018) database of cancer mortality rates in Italy",
           4
          ],
          [
           "High-resolution crop yield and water productivity dataset generated using random forest and remote sensing",
           19
          ],
          [
           "CT and cone-beam CT of ablative radiation therapy for pancreatic cancer with expert organ-at-risk contours",
           2
          ],
          [
           "Long-term monitoring dataset of fish assemblages in rocky tidepools on the southern coast of Taiwan",
           0
          ],
          [
           "A data set of distributed global population and water withdrawal from 1960 to 2020",
           5
          ],
          [
           "Effects of heat stress on 16S rDNA, metagenome and metabolome in Holstein cows at different growth stages",
           4
          ],
          [
           "Thirty Years of Nutrient Biogeochemistry in the Barents Sea and the adjoining Arctic Ocean, 1990–2019",
           9
          ],
          [
           "Molecular structural dataset of lignin macromolecule elucidating experimental structural compositions",
           15
          ],
          [
           "MicroLib: A library of 3D microstructures generated from 2D micrographs using SliceGAN",
           12
          ],
          [
           "Density-of-states similarity descriptor for unsupervised learning from materials data",
           12
          ],
          [
           "Comparative sensitivity of social media data and their acceptable use in research",
           6
          ],
          [
           "A thermoelectric materials database auto-generated from the scientific literature using ChemDataExtractor",
           20
          ],
          [
           "High-resolution bathymetries and shorelines for the Great Lakes of the White Nile basin",
           7
          ],
          [
           "A comprehensive ultra-wideband dataset for non-cooperative contextual sensing",
           5
          ],
          [
           "A dataset comprised of binding interactions for 104,972 antibodies against a SARS-CoV-2 peptide",
           9
          ],
          [
           "Elaboration of a new framework for fine-grained epidemiological annotation",
           1
          ],
          [
           "Database of SARS-CoV-2 and coronaviruses kinetics relevant for assessing persistence in food processing plants",
           2
          ],
          [
           "Freshwater microbial metagenomes sampled across different water body characteristics, space and time in Israel",
           2
          ],
          [
           "Benchmarking emergency department prediction models with machine learning and public electronic health records",
           15
          ],
          [
           "Hansbreen Snowpit Dataset – over 30-year of detailed snow research on an Arctic glacier",
           2
          ],
          [
           "Harvesting metadata in clinical care: a crosswalk between FHIR, OMOP, CDISC and openEHR metadata",
           10
          ],
          [
           "A representation-independent electronic charge density database for crystalline materials",
           6
          ],
          [
           "HiFi chromosome-scale diploid assemblies of the grape rootstocks 110R, Kober 5BB, and 101–14 Mgt",
           5
          ],
          [
           "Multiorder hydrologic Position for Europe — a Set of Features for Machine Learning and Analysis in Hydrology",
           2
          ],
          [
           "LifeSnaps, a 4-month multi-modal dataset capturing unobtrusive snapshots of our lives in the wild",
           7
          ],
          [
           "An all-Africa dataset of energy model “supply regions” for solar photovoltaic and wind power",
           12
          ],
          [
           "Integrated analyses reveal evolutionarily conserved and specific injury response genes in dorsal root ganglion",
           2
          ],
          [
           "Mountain- and brown hare genetic polymorphisms to survey local adaptations and conservation status of the heath hare (Lepus timidus sylvaticus, Nilsson 1831)",
           1
          ],
          [
           "Transcriptomic profiling of rose flower under treatment of various phytohormones and plant growth regulators",
           6
          ],
          [
           "American election results at the precinct level",
           7
          ],
          [
           "Chromosome-level genome assembly of Nibea coibor using PacBio HiFi reads and Hi-C technologies",
           4
          ],
          [
           "Chromosome-level genome assembly of the bar-headed goose (Anser indicus)",
           4
          ],
          [
           "A combined microbial and biogeochemical dataset from high-latitude ecosystems with respect to methane cycle",
           6
          ],
          [
           "A database of seed plants on taxonomy, geography and ecology in the Qinling-Daba Mountains and adjacent areas",
           1
          ],
          [
           "Phenotypic trait variation in a long-term multisite common garden experiment of Scots pine in Scotland",
           2
          ],
          [
           "Human mobile robot interaction in the retail environment",
           9
          ],
          [
           "Revised monthly energy generation estimates for 1,500 hydroelectric power plants in the United States",
           6
          ],
          [
           "Pre- and post-surgery brain tumor multimodal magnetic resonance imaging data optimized for large scale computational modelling",
           4
          ],
          [
           "A western United States snow reanalysis dataset over the Landsat era from water years 1985 to 2021",
           13
          ],
          [
           "A﻿ curated collection of human vaccination response signatures",
           2
          ],
          [
           "The African Development Corridors Database: a new tool to assess the impacts of infrastructure investments",
           3
          ],
          [
           "Sentinel2GlobalLULC: A Sentinel-2 RGB image tile dataset for global land use/cover mapping with deep learning",
           16
          ],
          [
           "Neighborhood Emission Mapping Operation (NEMO): A 1-km anthropogenic emission dataset in the United States",
           8
          ],
          [
           "Rethinking clinical study data: why we should respect analysis results as data",
           1
          ],
          [
           "pISA-tree - a data management framework for life science research projects using a standardised directory tree",
           2
          ],
          [
           "Assessing data bias in visual surveys from a cetacean monitoring programme",
           1
          ],
          [
           "A global dataset of pandemic- and epidemic-prone disease outbreaks",
           3
          ],
          [
           "Near-real-time daily estimates of fossil fuel CO2 emissions from major high-emission cities in China",
           9
          ],
          [
           "FAIR principles for AI models with a practical application for accelerated high energy diffraction microscopy",
           10
          ],
          [
           "A dataset of a proxy variable for the poultry trade flows in China",
           3
          ],
          [
           "Global Ocean Particulate Organic Phosphorus, Carbon, Oxygen for Respiration, and Nitrogen (GO-POPCORN)",
           3
          ],
          [
           "WES data from 286 diffuse gliomas under the 2021 WHO Classification of Tumors of the Central Nervous System",
           4
          ],
          [
           "A century-long eddy-resolving simulation of global oceanic large- and mesoscale state",
           3
          ],
          [
           "Global soil moisture data fusion by Triple Collocation Analysis from 2011 to 2018",
           5
          ],
          [
           "Simulated redistricting plans for the analysis and evaluation of redistricting in the United States",
           5
          ],
          [
           "Benchmarking second and third-generation sequencing platforms for microbial metagenomics",
           36
          ],
          [
           "The Health Gym: synthetic health-related datasets for the development of reinforcement learning algorithms",
           13
          ],
          [
           "On-field optical imaging data for the pre-identification and estimation of leaf deformities",
           4
          ],
          [
           "Building the European Social Innovation Database with Natural Language Processing and Machine Learning",
           3
          ],
          [
           "Modeling community standards for metadata as templates makes data FAIR",
           11
          ],
          [
           "The ImSURE phantoms: a digital dataset for radiomic software benchmarking and investigation",
           2
          ],
          [
           "High-resolution European daily soil moisture derived with machine learning (2003–2020)",
           4
          ],
          [
           "Enabling FAIR data in Earth and environmental science with community-centric (meta)data reporting formats",
           9
          ],
          [
           "Multi-omics HeCaToS dataset of repeated dose toxicity for cardiotoxic & hepatotoxic compounds",
           4
          ],
          [
           "NETome: A model to Decode the Human Genome and Proteome of Neutrophil Extracellular Traps",
           3
          ],
          [
           "High-quality Japanese flounder genome aids in identifying stress-related genes using gene coexpression network",
           3
          ],
          [
           "A global dynamic runoff application and dataset based on the assimilation of GPM, SMAP, and GCN250 curve number datasets",
           5
          ],
          [
           "Evolving collaboration, dependencies, and use in the Rust Open Source Software ecosystem",
           5
          ],
          [
           "A biomechanics dataset of healthy human walking at various speeds, step lengths and step widths",
           7
          ],
          [
           "An expert curated global legume checklist improves the accuracy of occurrence, biodiversity and taxonomic data",
           4
          ],
          [
           "COVID-19 in Switzerland real-time epidemiological analyses powered by EpiGraphHub",
           1
          ],
          [
           "SARS-CoV-2 RNA levels in Scotland’s wastewater",
           3
          ],
          [
           "A comprehensive suite of earthquake catalogues for the 2016-2017 Central Italy seismic sequence",
           6
          ],
          [
           "High-resolution estimates of social distancing feasibility, mapped for urban areas in sub-Saharan Africa",
           4
          ],
          [
           "Unifying the identification of biomedical entities with the Bioregistry",
           12
          ],
          [
           "So2Sat POP - A Curated Benchmark Data Set for Population Estimation from Space on a Continental Scale",
           5
          ],
          [
           "MesopTroph, a database of trophic parameters to study interactions in mesopelagic food webs",
           5
          ],
          [
           "Neuromodulatory effects of theta burst stimulation to the prefrontal cortex",
           2
          ],
          [
           "LivWell: a sub-national Dataset on the Living Conditions of Women and their Well-being for 52 Countries",
           6
          ],
          [
           "The Altered States Database: Psychometric data from a systematic literature review",
           7
          ],
          [
           "An fMRI Dataset for Concept Representation with Semantic Feature Annotations",
           4
          ],
          [
           "MaHPIC malaria systems biology data from Plasmodium cynomolgi sporozoite longitudinal infections in macaques",
           1
          ],
          [
           "Year-round trace gas measurements in the central Arctic during the MOSAiC expedition",
           10
          ],
          [
           "A resource for automated search and collation of geochemical datasets from journal supplements",
           3
          ],
          [
           "TractoInferno - A large-scale, open-source, multi-site database for machine learning dMRI tractography",
           10
          ],
          [
           "SURE 2.0 – New release of the worldwide database of surface ruptures for fault displacement hazard analyses",
           8
          ],
          [
           "COVID-19 SeroHub, an online repository of SARS-CoV-2 seroprevalence studies in the United States",
           6
          ],
          [
           "Construction motion data library: an integrated motion dataset for on-site activity recognition",
           11
          ],
          [
           "Thirty years of volcano geodesy from space at Campi Flegrei caldera (Italy)",
           7
          ],
          [
           "A new two-decade (2001–2019) high-resolution agricultural primary productivity dataset for India",
           1
          ],
          [
           "RedDB, a computational database of electroactive molecules for aqueous redox flow batteries",
           18
          ],
          [
           "Proteomic overview of hepatocellular carcinoma cell lines and generation of the spectral library",
           0
          ],
          [
           "Comprehensive transcriptome data to identify downstream genes of testosterone signalling in dermal papilla cells",
           1
          ],
          [
           "Data on medication adherence in adults with neurological disorders: The NeuroGerAd study",
           3
          ],
          [
           "HeliantHOME, a public and centralized database of phenotypic sunflower data",
           2
          ],
          [
           "Mechanical Unloading of Engineered Human Meniscus Models Under Simulated Microgravity: A Transcriptomic Study",
           2
          ],
          [
           "Multi-day dataset of forearm and wrist electromyogram for hand gesture recognition and biometrics",
           13
          ],
          [
           "A database of water chemistry in eastern Siberian rivers",
           3
          ],
          [
           "Mass cytometry analysis of blood from peanut-sensitized tolerant and clinically allergic infants",
           0
          ],
          [
           "A Dataset with Multibeam Forward-Looking Sonar for Underwater Object Detection",
           20
          ],
          [
           "SOMAS: a platform for data-driven material discovery in redox flow battery development",
           8
          ],
          [
           "Ice phenology dataset reconstructed from remote sensing and modelling for lakes over the Tibetan Plateau",
           8
          ],
          [
           "Single-cell chromatin landscapes of mouse skin development",
           1
          ],
          [
           "China’s Gridded Manufacturing Dataset",
           2
          ],
          [
           "N-Omniglot, a large-scale neuromorphic dataset for spatio-temporal sparse few-shot learning",
           6
          ],
          [
           "GPS data from 2019 and 2020 campaigns in the Chesapeake Bay region towards quantifying vertical land motions",
           2
          ],
          [
           "The HA4M dataset: Multi-Modal Monitoring of an assembly task for Human Action recognition in Manufacturing",
           13
          ],
          [
           "Area of Habitat maps for the world’s terrestrial birds and mammals",
           11
          ],
          [
           "High-resolution circa-2020 map of urban lakes in China",
           8
          ],
          [
           "EyeT4Empathy: Dataset of foraging for visual information, gaze typing and empathy assessment",
           3
          ],
          [
           "A multi-omics longitudinal aging dataset in primary human fibroblasts with mitochondrial perturbations",
           12
          ],
          [
           "Chromosomal-level genome assembly of potato tuberworm, Phthorimaea operculella: a pest of solanaceous crops",
           6
          ],
          [
           "Long-term High Resolution Image Dataset of Antarctic Coastal Benthic Fauna",
           1
          ],
          [
           "COVID-BEHAVE dataset: measuring human behaviour during the COVID-19 pandemic",
           0
          ],
          [
           "The PhanSST global database of Phanerozoic sea surface temperature proxy data",
           11
          ],
          [
           "Particle filtration efficiency measured using sodium chloride and polystyrene latex sphere test methods",
           7
          ],
          [
           "The global spectrum of plant form and function: enhanced species-level trait dataset",
           20
          ],
          [
           "Cov-caldas: A new COVID-19 chest X-Ray dataset from state of Caldas-Colombia",
           2
          ],
          [
           "A massive dataset of the NeuroCognitive Performance Test, a web-based cognitive assessment",
           3
          ],
          [
           "Bulk RNA sequencing analysis of developing human induced pluripotent cell-derived retinal organoids",
           6
          ],
          [
           "Mining of novel secondary metabolite biosynthetic gene clusters from acid mine drainage",
           2
          ],
          [
           "ISLES 2022: A multi-center magnetic resonance imaging stroke lesion segmentation dataset",
           28
          ],
          [
           "Extensive proteome and functional genomic profiling of variability between genetically identical human B-lymphoblastoid cells",
           0
          ],
          [
           "DeepLontar dataset for handwritten Balinese character detection and syllable recognition on Lontar manuscript",
           0
          ],
          [
           "Gapless genome assembly of East Asian finless porpoise",
           3
          ],
          [
           "An open time-series simulated dataset covering various accidents for nuclear power plants",
           13
          ],
          [
           "The MetroPT dataset for predictive maintenance",
           11
          ],
          [
           "Marine phytoplankton community data and corresponding environmental properties from eastern Norway, 1896–2020",
           1
          ],
          [
           "The China plant trait database version 2",
           10
          ],
          [
           "A data set of global river networks and corresponding water resources zones divisions v2",
           3
          ],
          [
           "The LUMIERE dataset: Longitudinal Glioblastoma MRI with expert RANO evaluation",
           6
          ],
          [
           "A Brazilian classified data set for prognosis of tuberculosis, between January 2001 and April 2020",
           0
          ],
          [
           "A global ocean dissolved organic phosphorus concentration database (DOPv2021)",
           11
          ],
          [
           "The PAD-US-AR dataset: Measuring accessible and recreational parks in the contiguous United States",
           4
          ],
          [
           "Comparative transcriptome profiles of four sexually size dimorphic fish",
           4
          ],
          [
           "Datasets of a Multizone Office Building under Different HVAC System Operation Scenarios",
           5
          ],
          [
           "Statistical biases due to anonymization evaluated in an open clinical dataset from COVID-19 patients",
           3
          ],
          [
           "Longitudinal data collection to follow social network and language development dynamics at preschool",
           2
          ],
          [
           "Transition1x - a dataset for building generalizable reactive machine learning potentials",
           25
          ],
          [
           "A 3D geomodel of the deep aquifers in the Orléans area of the southern Paris Basin (France)",
           3
          ],
          [
           "CloudSEN12, a global dataset for semantic understanding of cloud and cloud shadow in Sentinel-2",
           21
          ],
          [
           "Chromosome-level genome assembly of the Siberian chipmunk (Tamias sibiricus)",
           4
          ],
          [
           "A speech corpus of Quechua Collao for automatic dimensional emotion recognition",
           1
          ],
          [
           "A Raman spectral reference library of potential anthropogenic and biological ocean polymers",
           5
          ],
          [
           "A Python library to check the level of anonymity of a dataset",
           3
          ],
          [
           "Large-scale genotyping and phenotyping of a worldwide winter wheat genebank for its use in pre-breeding",
           5
          ],
          [
           "IDSEM, an invoices database of the Spanish electricity market",
           0
          ],
          [
           "A repository for the publication and sharing of heterogeneous materials data",
           6
          ],
          [
           "On Using Simulation to Predict the Performance of Robot Swarms",
           2
          ],
          [
           "MOSAiC-ACA and AFLUX - Arctic airborne campaigns characterizing the exit area of MOSAiC",
           17
          ],
          [
           "A transcriptome dataset for gonadectomy-induced changes in rat spinal cord",
           1
          ],
          [
           "Image dataset for benchmarking automated fish detection and classification algorithms",
           7
          ],
          [
           "MIMIC-IV, a freely accessible electronic health record dataset",
           280
          ],
          [
           "Observation based climatology Martian atmospheric waves perturbation Datasets",
           13
          ],
          [
           "Familydemic Cross Country and Gender Dataset on work and family outcomes during COVID-19 pandemic",
           6
          ],
          [
           "A dataset to assess mobility changes in Chile following local quarantines",
           4
          ],
          [
           "SPICE, A Dataset of Drug-like Molecules and Peptides for Training Machine Learning Potentials",
           32
          ],
          [
           "A Europe-wide inventory of citizen-led energy action with data from 29 countries and over 10000 initiatives",
           21
          ],
          [
           "Citizen science helps in the study of fungal diversity in New Jersey",
           3
          ],
          [
           "Global-scale parameters for ecological models",
           4
          ],
          [
           "A dataset for plain language adaptation of biomedical abstracts",
           3
          ],
          [
           "Functional group analyses of herpetofauna in South Korea using a large dataset",
           3
          ],
          [
           "Single-nucleus profiling of adult mice sub-ventricular zone after blast-related traumatic brain injury",
           3
          ],
          [
           "A benchmark dataset for binary segmentation and quantification of dust emissions from unsealed roads",
           3
          ],
          [
           "RePP Africa – a georeferenced and curated database on existing and proposed wind, solar, and hydropower plants",
           6
          ],
          [
           "A large database linking the rumen bacterial composition and milk traits in Lacaune sheep",
           1
          ],
          [
           "InvitroSPI and a large database of proteasome-generated spliced and non-spliced peptides",
           2
          ],
          [
           "Chromosome-level haplotype-resolved genome assembly for Takifugu ocellatus using PacBio and Hi-C technologies",
           2
          ],
          [
           "NeuroLINCS Proteomics: Defining human-derived iPSC proteomes and protein signatures of pluripotency",
           5
          ],
          [
           "A 30-year dataset of CO2 in flowing freshwaters in the United States",
           3
          ],
          [
           "Dataset on child vaccination in Brazil from 1996 to 2021",
           1
          ],
          [
           "A literature-derived dataset on risk factors for dry eye disease",
           4
          ],
          [
           "A Non-Laboratory Gait Dataset of Full Body Kinematics and Egocentric Vision",
           5
          ],
          [
           "GWAS Explorer: an open-source tool to explore, visualize, and access GWAS summary statistics in the PLCO Atlas",
           4
          ],
          [
           "The Dresden Surgical Anatomy Dataset for Abdominal Organ Segmentation in Surgical Data Science",
           16
          ],
          [
           "Interbasin water transfers in the United States and Canada",
           15
          ],
          [
           "Satellite-derived multivariate world-wide lake physical variable timeseries for climate studies",
           22
          ],
          [
           "Eagle-449: A volumetric, whole-brain compilation of brain atlases for vestibular functional MRI research",
           2
          ],
          [
           "The database for extracting numerical and visual properties of numerosity processing in the Chinese population",
           3
          ],
          [
           "Genome sequencing and assembly of Lathyrus sativus - a nutrient-rich hardy legume crop",
           6
          ],
          [
           "Multimodality annotated hepatocellular carcinoma data set including pre- and post-TACE with imaging segmentation",
           9
          ],
          [
           "Three Dimensional Lower Extremity Musculoskeletal Geometry of the Visible Human Female and Male",
           4
          ],
          [
           "Conductivity experiments for electrolyte formulations and their automated analysis",
           5
          ],
          [
           "Dataset for Fracture and Impact Toughness of High-Entropy Alloys",
           3
          ],
          [
           "Chinese diabetes datasets for data-driven machine learning",
           12
          ],
          [
           "Chromosome-level genome assembly of the Colorado potato beetle, Leptinotarsa decemlineata",
           6
          ],
          [
           "MedMNIST v2 - A large-scale lightweight benchmark for 2D and 3D biomedical image classification",
           139
          ],
          [
           "Bioclimatic atlas of the terrestrial Arctic",
           1
          ],
          [
           "Mobility recorded by wearable devices and gold standards: the Mobilise-D procedure for data standardization",
           10
          ],
          [
           "The global historical climate database HCLIM",
           13
          ],
          [
           "Aerodynamic characterisation of porous fairings: pressure drop and Laser Doppler Velocimetry measurements",
           3
          ],
          [
           "Deep phenotyping and genomic data from a nationally representative study on dementia in India",
           4
          ],
          [
           "A 1.2 Billion Pixel Human-Labeled Dataset for Data-Driven Classification of Coastal Environments",
           6
          ],
          [
           "CLIMBra - Climate Change Dataset for Brazil",
           19
          ],
          [
           "A large scale 16S ribosomal RNA gene amplicon dataset of hand, foot and mouth patients and healthy individuals",
           1
          ],
          [
           "Establishment of a Chinese critical care database from electronic healthcare records in a tertiary care medical center",
           4
          ],
          [
           "Brain Data Standards - A method for building data-driven cell-type ontologies",
           4
          ],
          [
           "A database of synthetic inelastic neutron scattering spectra from molecules and crystals",
           3
          ],
          [
           "An open database on global coal and metal mine production",
           13
          ],
          [
           "Three-dimensional chromatin architecture datasets for aging and Alzheimer’s disease",
           4
          ],
          [
           "China’s process-related greenhouse gas emission dataset 1990–2020",
           13
          ],
          [
           "City-scale holographic traffic flow data based on vehicular trajectory resampling",
           7
          ],
          [
           "Fine-resolution global maps of root biomass carbon colonized by arbuscular and ectomycorrhizal fungi",
           3
          ],
          [
           "A large dataset of scientific text reuse in Open-Access publications",
           2
          ],
          [
           "A crowdsourced dataset of aerial images with annotated solar photovoltaic arrays and installation metadata",
           19
          ],
          [
           "Real-world measurements of ground reaction forces of normal gait of young adults wearing various footwear",
           5
          ],
          [
           "Quality control and removal of technical variation of NMR metabolic biomarker data in ~120,000 UK Biobank participants",
           26
          ],
          [
           "AerialWaste dataset for landfill discovery in aerial and satellite images",
           10
          ],
          [
           "Caravan - A global community dataset for large-sample hydrology",
           43
          ],
          [
           "An RNA-seq time series of the medaka pituitary gland during sexual maturation",
           1
          ],
          [
           "Reaction profiles for quantum chemistry-computed [3 + 2] cycloaddition reactions",
           13
          ],
          [
           "Trajetorias: a dataset of environmental, epidemiological, and economic indicators for the Brazilian Amazon",
           2
          ],
          [
           "Building a knowledge graph to enable precision medicine",
           67
          ],
          [
           "A high-resolution gridded grazing dataset of grassland ecosystem on the Qinghai–Tibet Plateau in 1982–2015",
           7
          ],
          [
           "Near-real-time global gridded daily CO2 emissions 2021",
           15
          ],
          [
           "Chákṣu: A glaucoma specific fundus image database",
           3
          ],
          [
           "COVID-Dynamic: A large-scale longitudinal study of socioemotional and behavioral change across the pandemic",
           4
          ],
          [
           "Digital 3D Brain MRI Arterial Territories Atlas",
           15
          ],
          [
           "Database of daily Lagrangian Arctic sea ice parcel drift tracks with coincident ice and atmospheric conditions",
           2
          ],
          [
           "Annotated Datasets of Oil Palm Fruit Bunch Piles for Ripeness Grading Using Deep Learning",
           11
          ],
          [
           "A multi-centre polyp detection and segmentation dataset for generalisability assessment",
           29
          ],
          [
           "High resolution synthetic residential energy use profiles for the United States",
           14
          ],
          [
           "Datasets for learning of unknown characteristics of dynamical systems",
           1
          ],
          [
           "Eco-ISEA3H, a machine learning ready spatial database for ecometric and species distribution modeling",
           8
          ],
          [
           "A chromosome-level reference genome of the wax gourd (Benincasa hispida)",
           6
          ],
          [
           "Gridded Datasets for Japan: Total, Male, and Female Populations from 2001–2020",
           1
          ],
          [
           "High-throughput computation of Raman spectra from first principles",
           13
          ],
          [
           "Benthic biota of Chilean fjords and channels in 25 years of cruises of the National Oceanographic Committee",
           0
          ],
          [
           "Data Archive for the BRAIN Initiative (DABI)",
           6
          ],
          [
           "Trait biases in microbial reference genomes",
           6
          ],
          [
           "Open multi-session and multi-task EEG cognitive Dataset for passive brain-computer Interface Applications",
           11
          ],
          [
           "A subnational reproductive, maternal, newborn, child, and adolescent health and development atlas of India",
           1
          ],
          [
           "The Psychological Science Accelerator’s COVID-19 rapid-response dataset",
           1
          ],
          [
           "User-focused evaluation of National Ecological Observatory Network streamflow estimates",
           8
          ],
          [
           "Assessing ternary materials for fluoride-ion batteries",
           1
          ],
          [
           "Soil, leaf and fruit nutrient data for pear orchards located in the Circum-Bohai Bay and Loess Plateau regions",
           3
          ],
          [
           "A dataset of definitive endoderm and hepatocyte differentiations from human induced pluripotent stem cells",
           0
          ],
          [
           "Chromosome-scale genome assembly of a natural diploid kiwifruit (Actinidia chinensis var. deliciosa)",
           8
          ],
          [
           "A longitudinal microstructural MRI dataset in healthy C57Bl/6 mice at 9.4 Tesla",
           2
          ],
          [
           "Deep learning based atomic defect detection framework for two-dimensional materials",
           8
          ],
          [
           "WS22 database, Wigner Sampling and geometry interpolation for configurationally diverse molecular datasets﻿",
           10
          ],
          [
           "City-scale synthetic individual-level vehicle trip data",
           5
          ],
          [
           "Full-length transcriptome from different life stages of cobia (Rachycentron canadum, Rachycentridae)",
           2
          ],
          [
           "GLORIA - A globally representative hyperspectral in situ dataset for optical sensing of water quality",
           31
          ],
          [
           "Global long term daily 1 km surface soil moisture dataset with physics informed machine learning",
           9
          ],
          [
           "Individual structure mapping over six million trees for New York City USA",
           6
          ],
          [
           "Harmonized and Open Energy Dataset for Modeling a Highly Renewable Brazilian Power System",
           5
          ],
          [
           "A large dataset of semantic ratings and its computational extension",
           6
          ],
          [
           "A large-scale dataset for end-to-end table recognition in the wild",
           2
          ],
          [
           "Developing a standardized but extendable framework to increase the findability of infectious disease datasets",
           5
          ],
          [
           "An Open Dataset of Annotated Metaphase Cell Images for Chromosome Identification",
           4
          ],
          [
           "The shape parameters of coal and gangue particles derived from 3D scanning",
           4
          ],
          [
           "Transcript annotation of Chinese sturgeon (Acipenser sinensis) using Iso-seq and RNA-seq data",
           4
          ],
          [
           "The temporal behavior of the murine T cell receptor repertoire following Immunotherapy",
           0
          ],
          [
           "Global Dam Tracker: A database of more than 35,000 dams with location, catchment, and attribute information",
           25
          ],
          [
           "All-hazards dataset mined from the US National Incident Management System 1999–2020",
           13
          ],
          [
           "Policy relevant health related liveability indicator datasets for addresses in Australia’s 21 largest cities",
           5
          ],
          [
           "Genome-wide hydroxymethylation profiles in liver of female Nile tilapia with distinct growth performance",
           2
          ],
          [
           "The Three Terms Task - an open benchmark to compare human and artificial semantic representations",
           1
          ],
          [
           "Mapping the terraces on the Loess Plateau based on a deep learning-based model at 1.89 m resolution",
           6
          ],
          [
           "Identifying tumour microenvironment-related signature that correlates with prognosis and immunotherapy response in breast cancer",
           7
          ],
          [
           "PLEIAData: consumption, HVAC, temperature, weather and motion sensor data for smart buildings applications",
           3
          ],
          [
           "Protein interactors of 3-O sulfated heparan sulfates in human MCI and age-matched control cerebrospinal fluid",
           3
          ],
          [
           "An Online Mammography Database with Biopsy Confirmed Types",
           9
          ],
          [
           "WAVES – The Lucile Packard Children’s Hospital Pediatric Physiological Waveforms Dataset",
           1
          ],
          [
           "A Global Database of Soil Plant Available Phosphorus",
           26
          ],
          [
           "COVID-19 non-pharmaceutical interventions: data annotation for rapidly changing local policy information",
           1
          ],
          [
           "A global synthesis of high-resolution stable isotope data from benthic foraminifera of the last deglaciation",
           4
          ],
          [
           "FAIRification of health-related data using semantic web technologies in the Swiss Personalized Health Network",
           6
          ],
          [
           "Validated names for experimental studies on race and ethnicity",
           15
          ],
          [
           "Neonatal EEG graded for severity of background abnormalities in hypoxic-ischaemic encephalopathy",
           6
          ],
          [
           "Annotated computed tomography coronary angiogram images and associated data of normal and diseased arteries",
           9
          ],
          [
           "A kinematic, imaging and electromyography dataset for human muscular manipulability index prediction",
           1
          ],
          [
           "A global daily soil moisture dataset derived from Chinese FengYun Microwave Radiation Imager (MWRI)(2010–2019)",
           3
          ],
          [
           "SARS-CoV-2 receptor-binding domain deep mutational AlphaFold2 structures",
           1
          ],
          [
           "LocalView, a database of public meetings for the study of local politics and policy-making in the United States",
           3
          ],
          [
           "Newly reconstructed Arctic surface air temperatures for 1979–2021 with deep learning method",
           1
          ],
          [
           "The Ocean Carbon and Acidification Data System",
           6
          ],
          [
           "IceLines – A new data set of Antarctic ice shelf front positions",
           8
          ],
          [
           "A 21-year dataset (2000–2020) of gap-free global daily surface soil moisture at 1-km grid resolution",
           25
          ],
          [
           "First assessment of underwater sound levels in the Northern Adriatic Sea at the basin scale",
           5
          ],
          [
           "A dataset of rodent cerebrovasculature from in vivo multiphoton fluorescence microscopy imaging",
           6
          ],
          [
           "Agrimonia: a dataset on livestock, meteorology and air quality in the Lombardy region, Italy",
           11
          ],
          [
           "High-resolution livestock seasonal distribution data on the Qinghai-Tibet Plateau in 2020",
           13
          ],
          [
           "Evaluating explainability for graph neural networks",
           23
          ],
          [
           "Statistical performance indicators and index—a new tool to measure country statistical capacity",
           8
          ],
          [
           "Comprehensive exploration of graphically defined reaction spaces",
           15
          ],
          [
           "EUBUCCO v0.1: European building stock characteristics in a common and open database for 200+ million individual buildings",
           24
          ],
          [
           "A Timm-Nissl multiplane microscopic atlas of rat brain zincergic terminal fields and metal-containing glia",
           0
          ],
          [
           "The Superfund Research Program Analytics Portal: linking environmental chemical exposure to biological phenotypes",
           1
          ],
          [
           "A synthetic population for agent-based modelling in Canada",
           4
          ],
          [
           "A benchmark for machine-learning based non-invasive blood pressure estimation using photoplethysmogram",
           13
          ],
          [
           "Survey data on preferences and attitudes towards participatory irrigation management in India and Pakistan",
           0
          ],
          [
           "Brightfield vs Fluorescent Staining Dataset–A Test Bed Image Set for Machine Learning based Virtual Staining",
           4
          ],
          [
           "Improved chromosomal-level genome assembly and re-annotation of leopard coral grouper",
           3
          ],
          [
           "Chinese industrial air pollution emissions based on the continuous emission monitoring systems network",
           11
          ],
          [
           "Genome assembly of the ectoparasitoid wasp Theocolax elegans",
           3
          ],
          [
           "Large scale crowdsourced radiotherapy segmentations across a variety of cancer anatomic sites",
           6
          ],
          [
           "An intracochlear electrocochleography dataset - from raw data to objective analysis using deep learning",
           5
          ],
          [
           "A Long-term Consistent Artificial Intelligence and Remote Sensing-based Soil Moisture Dataset",
           12
          ],
          [
           "A dataset for medical instructional video classification and question answering",
           13
          ],
          [
           "High-resolution calibrated and validated Synthetic Aperture Radar Ocean surface wind data around Australia",
           1
          ],
          [
           "A multi-sensor dataset with annotated activities of daily living recorded in a residential setting",
           2
          ],
          [
           "HIDSAG: Hyperspectral Image Database for Supervised Analysis in Geometallurgy",
           0
          ],
          [
           "Healthy Cities, A comprehensive dataset for environmental determinants of health in England cities",
           6
          ],
          [
           "The first full host plant dataset of Curculionidae Scolytinae of the world: tribe Xyleborini LeConte, 1876",
           11
          ],
          [
           "An integrated single-cell transcriptomic dataset for non-small cell lung cancer",
           13
          ],
          [
           "Specimen, biological structure, and spatial ontologies in support of a Human Reference Atlas",
           3
          ],
          [
           "A database of freshwater macroinvertebrate occurrence records across Cuba",
           0
          ],
          [
           "BioASQ-QA: A manually curated corpus for Biomedical Question Answering",
           4
          ],
          [
           "The HAInich: A multidisciplinary vision data-set for a better understanding of the forest ecosystem",
           3
          ],
          [
           "Crop Type Maps for Operational Global Agricultural Monitoring",
           13
          ],
          [
           "SARS-CoV2 billion-compound docking",
           8
          ],
          [
           "Chromosome-level genome assembly of the critically endangered Baer’s pochard (Aythya baeri)",
           1
          ],
          [
           "National contributions to climate change due to historical emissions of carbon dioxide, methane, and nitrous oxide since 1850",
           101
          ],
          [
           "A corpus of CO2 electrocatalytic reduction process extracted from the scientific literature",
           7
          ],
          [
           "Resonant inelastic x-ray scattering data for Ruddlesden-Popper and reduced Ruddlesden-Popper nickelates",
           2
          ],
          [
           "A Large-Scale Dataset of Three-Dimensional Solar Magnetic Fields Extrapolated by Nonlinear Force-Free Method",
           1
          ],
          [
           "A dataset of asymptomatic human gait and movements obtained from markers, IMUs, insoles and force plates",
           7
          ],
          [
           "GazeBaseVR, a large-scale, longitudinal, binocular eye-tracking dataset collected in virtual reality",
           5
          ],
          [
           "A dataset on corporate sustainability disclosure",
           9
          ],
          [
           "Baseline high-resolution maps of organic carbon content in Australian soils",
           4
          ],
          [
           "A large-scale repository of spoken narratives in French, German and Spanish from Cantonese-speaking learners",
           0
          ],
          [
           "Data and Tools Integration in the Canadian Open Neuroscience Platform",
           4
          ],
          [
           "A century and a half precipitation oxygen isoscape for China generated using data fusion and bias correction",
           5
          ],
          [
           "Characterizing uncertainty in Community Land Model version 5 hydrological applications in the United States",
           5
          ],
          [
           "The Materials Provenance Store",
           4
          ],
          [
           "A collection of read depth profiles at structural variant breakpoints",
           1
          ],
          [
           "River dataset as a potential fluvial transportation network for healthcare access in the Amazon region",
           1
          ],
          [
           "Late-season corn stalk nitrate measurements across the US Midwest from 2006 to 2018",
           2
          ],
          [
           "Cross-platform dataset of multiplex fluorescent cellular object image annotations",
           0
          ],
          [
           "Cholec80-CVS: An open dataset with an evaluation of Strasberg’s critical view of safety for AI",
           4
          ],
          [
           "The Queensland Twin Adolescent Brain Project, a longitudinal study of adolescent brain development",
           6
          ],
          [
           "A standardized catalogue of spectral indices to advance the use of remote sensing in Earth system research",
           30
          ],
          [
           "Genome-wide chromatin accessibility and gene expression profiling during flatfish metamorphosis",
           1
          ],
          [
           "AmelHap: Leveraging drone whole-genome sequence data to create a honey bee HapMap",
           2
          ],
          [
           "Global monthly sectoral water use for 2010–2100 at 0.5° resolution across alternative futures",
           4
          ],
          [
           "Introduced and invasive alien species of Antarctica and the Southern Ocean Islands",
           5
          ],
          [
           "A 2.5° × 2.5° gridded drought/flood grades dataset for eastern China during the last millennium",
           4
          ],
          [
           "Genomic resources for population analyses of an invasive insect pest Oryctes rhinoceros",
           1
          ],
          [
           "Unified access to up-to-date residue-level annotations from UniProtKB and other biological databases for PDB data",
           2
          ],
          [
           "Interactome dynamics of RAF1-BRAF kinase monomers and dimers",
           5
          ],
          [
           "A dataset of global ocean alkaline phosphatase activity",
           7
          ],
          [
           "Afro-TB dataset as a large scale genomic data of Mycobacterium tuberuclosis in Africa",
           1
          ],
          [
           "A new kinematic dataset of lower limbs action for balance testing",
           1
          ],
          [
           "Big Field of View MRI T1w and FLAIR Template - NMRI225",
           0
          ],
          [
           "A comprehensive dataset of annotated brain metastasis MR images with clinical and radiomic data",
           15
          ],
          [
           "A peptide-centric quantitative proteomics dataset for the phenotypic assessment of Alzheimer’s disease",
           5
          ],
          [
           "A distributable German clinical corpus containing cardiovascular clinical routine doctor’s letters",
           2
          ],
          [
           "Open science and data sharing in cognitive neuroscience with MouseBytes and MouseBytes+",
           1
          ],
          [
           "An inventory of native-alien populations in South Africa",
           6
          ],
          [
           "CarbonMonitor-Power near-real-time monitoring of global power generation on hourly to daily scales",
           4
          ],
          [
           "Integrated transcriptome catalog of Tenualosa ilisha as a resource for gene discovery and expression profiling",
           4
          ],
          [
           "A chromosome-level genome assembly of the yellow-throated marten (Martes flavigula)",
           0
          ],
          [
           "The chromosome-level genome of Cherax quadricarinatus",
           5
          ],
          [
           "European multi regional input output data for 2008–2018",
           1
          ],
          [
           "The BlueBio project’s database: web-mapping cooperation to create value for the Blue Bioeconomy",
           0
          ],
          [
           "Comprehensive assessment of the utilization of manure in China’s croplands based on national farmer survey data",
           6
          ],
          [
           "Gapless genome assembly of Fusarium verticillioides, a filamentous fungus threatening plant and human health",
           5
          ],
          [
           "A new open, high-resolution, multishell, diffusion-weighted imaging dataset of the living squirrel monkey",
           1
          ],
          [
           "HIT-UAV: A high-altitude infrared thermal dataset for Unmanned Aerial Vehicle-based object detection",
           21
          ],
          [
           "Two decades of fumigation data from the Soybean Free Air Concentration Enrichment facility",
           4
          ],
          [
           "Global 3-hourly wind-wave and swell data for wave climate and wave energy resource research from 1950 to 2100",
           3
          ],
          [
           "CRAFTED: An exploratory database of simulated adsorption isotherms of metal-organic frameworks",
           13
          ],
          [
           "Product, building, and infrastructure material stocks dataset for 337 Chinese cities between 1978 and 2020",
           8
          ],
          [
           "A Large-scale Synthetic Pathological Dataset for Deep Learning-enabled Segmentation of Breast Cancer",
           23
          ],
          [
           "High throughput calculations for a dataset of bilayer materials",
           3
          ],
          [
           "Estimating social bias in data sharing behaviours: an open science experiment",
           1
          ],
          [
           "Estimating GRACE terrestrial water storage anomaly using an improved point mass solution",
           6
          ],
          [
           "Three-Dimensional Motion Capture Data of a Movement Screen from 183 Athletes",
           2
          ],
          [
           "Complete Global Total Electron Content Map Dataset based on a Video Imputation Algorithm VISTA",
           6
          ],
          [
           "Very High Resolution Projections over Italy under different CMIP5 IPCC scenarios",
           7
          ],
          [
           "Five decades of breeding populations census for 12 species of colonial waterbirds in northwestern Italy",
           1
          ],
          [
           "Insider trading",
           2
          ],
          [
           "De novo transcriptomes of six calanoid copepods (Crustacea): a resource for the discovery of novel genes",
           4
          ],
          [
           "Multi-modal brain magnetic resonance imaging database covering marmosets with a wide age range",
           9
          ],
          [
           "PediCXR: An open, large-scale chest radiograph dataset for interpretation of common thoracic diseases in children",
           7
          ],
          [
           "Generating Detailed Spectral Libraries for Canine Proteomes Obtained from Serum and Urine",
           2
          ],
          [
           "Dataset of theoretical multinary perovskite oxides",
           8
          ],
          [
           "OpCitance: Citation contexts identified from the PubMed Central open access articles",
           2
          ],
          [
           "Network Analysis of Academic Medical Center Websites in the United States",
           0
          ],
          [
           "Fatigue database of additively manufactured alloys",
           5
          ],
          [
           "A dataset of direct observations of sea ice drift and waves in ice",
           3
          ],
          [
           "Chromosome-level genome assembly of bean flower thrips Megalurothrips usitatus (Thysanoptera: Thripidae)",
           6
          ],
          [
           "A species-level trait dataset of bats in Europe and beyond",
           6
          ],
          [
           "A high-quality chromosomal-level genome assembly of Greater Scaup (Aythya marila)",
           0
          ],
          [
           "A 10-km CMIP6 downscaled dataset of temperature and precipitation for historical and future Vietnam climate",
           13
          ],
          [
           "Thirty years of nutrients and biogeochemistry in the Norwegian, Greenland and Iceland Seas, 1990–2019",
           1
          ],
          [
           "Inter-basin surface water transfers database for public water supplies in conterminous United States, 1986–2015",
           2
          ],
          [
           "Coastal survey data for Perranporth Beach and Start Bay in southwest England (2006–2021)",
           8
          ],
          [
           "In-depth Temporal Transcriptome Profiling of Monkeypox and Host Cells using Nanopore Sequencing",
           5
          ],
          [
           "Quantitative Mass Spectrometry Analysis of Cerebrospinal Fluid Protein Biomarkers in Alzheimer’s Disease",
           12
          ],
          [
           "Haplotype-resolved genome assembly of Coriaria nepalensis a non-legume nitrogen-fixing shrub",
           0
          ],
          [
           "VISEM-Tracking, a human spermatozoa tracking dataset",
           5
          ],
          [
           "Thermal Bridges on Building Rooftops",
           2
          ],
          [
           "Chromosome-level genome assembly of Microplitis manilae Ashmead, 1904 (Hymenoptera: Braconidae)",
           2
          ],
          [
           "M4Raw: A multi-contrast, multi-repetition, multi-channel MRI k-space dataset for low-field MRI research",
           7
          ],
          [
           "Sustained year-round oceanographic measurements from Rothera Research Station, Antarctica, 1997–2017",
           8
          ],
          [
           "A spatio-temporal dataset on food flows for four West African cities",
           1
          ],
          [
           "A multi-omic resource of wheat seed tissues for nutrient deposition and improvement for human health",
           4
          ],
          [
           "Crowd cluster data in the USA for analysis of human response to COVID-19 events and policies",
           1
          ],
          [
           "Allele-aware chromosome-level genome assembly of the autohexaploid Diospyros kaki Thunb",
           5
          ],
          [
           "Social and moral psychology of COVID-19 across 69 countries",
           15
          ],
          [
           "An annotated human blastocyst dataset to benchmark deep learning architectures for in vitro fertilization",
           1
          ],
          [
           "Global transmission suitability maps for dengue virus transmitted by Aedes aegypti from 1981 to 2019",
           9
          ],
          [
           "Database covering the prayer movements which were not available previously",
           8
          ],
          [
           "Chromosome-level genome assembly of the spotted alfalfa aphid Therioaphis trifolii",
           0
          ],
          [
           "Electricity supply quality and use among rural and peri-urban households and small firms in Nigeria",
           3
          ],
          [
           "VinDr-Mammo: A large-scale benchmark dataset for computer-aided diagnosis in full-field digital mammography",
           24
          ],
          [
           "PTB-XL+, a comprehensive electrocardiographic feature dataset",
           8
          ],
          [
           "An inventory of greenhouse gas emissions due to natural gas pipeline incidents in the United States and Canada from 1980s to 2021",
           16
          ],
          [
           "Watershed carbon yield derived from gauge observations and river network connectivity in the United States",
           1
          ],
          [
           "Long-term daily hydrometeorological drought indices, soil moisture, and evapotranspiration for ICOS sites",
           8
          ],
          [
           "Integrated microbiome-metabolome-genome axis data of Laiwu and Lulai pigs",
           1
          ],
          [
           "A synthesis of hydroclimatic, ecological, and socioeconomic data for transdisciplinary research in the Mekong",
           10
          ],
          [
           "Scientific echosounder data provide a predator’s view of Antarctic krill (Euphausia superba)",
           0
          ],
          [
           "Responses of pyramidal cell somata and apical dendrites in mouse visual cortex over multiple days",
           2
          ],
          [
           "MSHF: A Multi-Source Heterogeneous Fundus (MSHF) Dataset for Image Quality Assessment",
           18
          ],
          [
           "An interprovincial input–output database distinguishing firm ownership in China from 1997 to 2017",
           2
          ],
          [
           "A continent-wide detailed geological map dataset of Antarctica",
           8
          ],
          [
           "M100 ExaData: a data collection campaign on the CINECA’s Marconi100 Tier-0 supercomputer",
           4
          ],
          [
           "Empirical distributions of traffic loads from one year of weigh-in-motion data",
           1
          ],
          [
           "67 million natural product-like compound database generated via molecular language processing",
           7
          ],
          [
           "Aviation carbon transfer and compensation of international routes in Africa from 2019 to 2021",
           5
          ],
          [
           "A global dataset of sequence, diversity and biosafety recommendation of arbovirus and arthropod-specific virus",
           2
          ],
          [
           "The chromosome-level genome assembly and genes involved in biosynthesis of nervonic acid of Malania oleifera",
           2
          ],
          [
           "FAIR in action - a flexible framework to guide FAIRification",
           8
          ],
          [
           "iOBPdb A Database for Experimentally Determined Functional Characterization of Insect Odorant Binding Proteins",
           4
          ],
          [
           "Race and ethnicity data for first, middle, and surnames",
           4
          ],
          [
           "The FAIR Cookbook - the essential resource for and by FAIR doers",
           20
          ],
          [
           "Ten years of morphodynamic data at a micro-tidal urban beach: Cala Millor (Western Mediterranean Sea)",
           3
          ],
          [
           "Transcriptomic profiling of induced steatosis in human and mouse precision-cut liver slices",
           2
          ],
          [
           "Flora diversity survey and establishment of a plant DNA barcode database of Lomas ecosystems in Peru",
           1
          ],
          [
           "The iratebirds Citizen Science Project: a Dataset on Birds’ Visual Aesthetic Attractiveness to Humans",
           4
          ],
          [
           "FOPPA: an open database of French public procurement award notices from 2010–2020",
           2
          ],
          [
           "VegAnn, Vegetation Annotation of multi-crop RGB images acquired under diverse conditions for segmentation",
           7
          ],
          [
           "Vegetation photosynthetic phenology dataset in northern terrestrial ecosystems",
           7
          ],
          [
           "Database of human well-being and eco-sustainability under planetary pressures of the Belt and Road 1990–2018",
           1
          ],
          [
           "A database of low-energy atomically precise nanoclusters",
           7
          ],
          [
           "Forearm sEMG data from young healthy humans during the execution of hand movements",
           1
          ],
          [
           "ChillsDB: A Gold Standard for Aesthetic Chills Stimuli",
           3
          ],
          [
           "Eighteen years of upland grassland carbon flux data: reference datasets, processing, and gap-filling procedure",
           1
          ],
          [
           "Rootstock–scion interaction affects Malus transcriptome profiles in response to cadmium",
           1
          ],
          [
           "AraDiv: a dataset of functional traits and leaf hyperspectral reflectance of Arabidopsis thaliana",
           0
          ],
          [
           "The first high-quality chromosome-level genome of the Sipuncula Sipunculus nudus using HiFi and Hi-C data",
           1
          ],
          [
           "IngridKG: A FAIR Knowledge Graph of Graffiti",
           0
          ],
          [
           "Analysis-ready optical underwater images of Manganese-nodule covered seafloor of the Clarion-Clipperton Zone",
           1
          ],
          [
           "A genomic data archive from the Network for Pancreatic Organ donors with Diabetes",
           3
          ],
          [
           "Historical global ocean wave data simulated with CMIP6 anthropogenic and natural forcings",
           5
          ],
          [
           "Global 30 meters spatiotemporal 3D urban expansion dataset from 1990 to 2010",
           14
          ],
          [
           "A diverse and multi-modal gait dataset of indoor and outdoor walks acquired using multiple cameras and sensors",
           3
          ],
          [
           "SensEURCity: A multi-city air quality dataset collected for 2020/2021 using open low-cost sensor systems",
           3
          ],
          [
           "A Chinese soil conservation dataset preventing soil water erosion from 1992 to 2019",
           13
          ],
          [
           "A Taxonomically-verified and Vouchered Checklist of the Vascular Plants of the Republic of Guinea",
           5
          ],
          [
           "Global trends and forecasts of breast cancer incidence and deaths",
           59
          ],
          [
           "A compendium of bacterial and archaeal single-cell amplified genomes from oxygen deficient marine waters",
           0
          ],
          [
           "De novo transcriptome assembly and annotation for gene discovery in Salamandra salamandra at the larval stage",
           4
          ],
          [
           "CHQ- SocioEmo: Identifying Social and Emotional Support Needs in Consumer-Health Questions",
           1
          ],
          [
           "Measuring Subnational Trade Competitiveness",
           4
          ],
          [
           "Full-Stokes polarization multispectral images of various stereoscopic objects",
           8
          ],
          [
           "SRAM-Based PUF Readouts",
           3
          ],
          [
           "An open database of computed bulk ternary transition metal dichalcogenides",
           3
          ],
          [
           "High-resolution maps of critical loads for sulfur and nitrogen in China",
           5
          ],
          [
           "An improved global vegetation health index dataset in detecting vegetation drought",
           26
          ],
          [
           "Chimera: An atlas of regular vines on up to 8 nodes",
           2
          ],
          [
           "Integrative omics framework for characterization of coral reef ecosystems from the Tara Pacific expedition",
           8
          ],
          [
           "A labeled dataset for building HVAC systems operating in faulted and fault-free states",
           3
          ],
          [
           "Open science resources from the Tara Pacific expedition across coral reef and surface ocean ecosystems",
           13
          ],
          [
           "SciSciNet: A large-scale open data lake for the science of science research",
           21
          ],
          [
           "MOSAIC - A Unified Trait Database to Complement Structured Population Models",
           3
          ],
          [
           "Chromosome-level genome assembly and annotation of the prickly nightshade Solanum rostratum Dunal",
           6
          ],
          [
           "PacBio Hi-Fi genome assembly of the Iberian dolphin freshwater mussel Unio delphinus Spengler, 1793",
           5
          ],
          [
           "De novo transcriptome assembly and gene annotation for the toxic dinoflagellate Dinophysis",
           3
          ],
          [
           "Curated and harmonized gut microbiome 16S rRNA amplicon data from dietary fiber intervention studies in humans",
           1
          ],
          [
           "Mechanosensitive changes in the expression of genes in colorectal cancer-associated fibroblasts",
           2
          ],
          [
           "A battery dataset for electric vertical takeoff and landing aircraft",
           16
          ],
          [
           "A tiled multi-city urban objects dataset for city-scale building energy simulation",
           3
          ],
          [
           "POLCOVID: a multicenter multiclass chest X-ray database (Poland, 2020–2021)",
           3
          ],
          [
           "K-EmoPhone: A Mobile and Wearable Dataset with In-Situ Emotion, Stress, and Attention Labels",
           4
          ],
          [
           "An EEG database for the cognitive assessment of motor imagery during walking with a lower-limb exoskeleton",
           3
          ],
          [
           "Simulated sulfur K-edge X-ray absorption spectroscopy database of lithium thiophosphate solid electrolytes",
           6
          ],
          [
           "PANGAEA - Data Publisher for Earth & Environmental Science",
           12
          ],
          [
           "Full-band, multi-angle, multi-scale, and temporal dynamic field spectral measurements in China",
           1
          ],
          [
           "The FORCIS database: A global census of planktonic Foraminifera from ocean waters",
           7
          ],
          [
           "A revised landslide inventory of the Campania region (Italy)",
           4
          ],
          [
           "How to establish and maintain a multimodal animal research dataset using DataLad",
           0
          ],
          [
           "A materials data framework and dataset for elastomeric foam impact mitigating materials",
           5
          ],
          [
           "ICESat-2 river surface slope (IRIS): A global reach-scale water surface slope dataset",
           5
          ],
          [
           "Gap-free genome assembly of anadromous Coilia nasus",
           7
          ],
          [
           "Meta-analysis of single-cell and single-nucleus transcriptomics reveals kidney cell type consensus signatures",
           4
          ],
          [
           "Surface electromyogram, kinematic, and kinetic dataset of lower limb walking for movement intent recognition",
           8
          ],
          [
           "A 100-member ensemble simulations of global historical (1951–2010) wave heights",
           3
          ],
          [
           "Full scale, microscopically resolved tomographies of sandstone and carbonate rocks augmented by experimental porosity and permeability values",
           3
          ],
          [
           "1 km-resolution gridded dataset of phosphorus rate for rice wheat and maize in China over 2004–2016",
           3
          ],
          [
           "Unified real-time environmental-epidemiological data for multiscale modeling of the COVID-19 pandemic",
           5
          ],
          [
           "An intra-annual 30-m dataset of small lakes of the Qilian Mountains for the period 1987–2020",
           2
          ],
          [
           "CORE: A Global Aggregation Service for Open Access Papers",
           2
          ],
          [
           "Coding and noncoding transcriptomes of NODULIN HOMEOBOX (NDX)-deficient Arabidopsis inflorescence",
           2
          ],
          [
           "Carbon Monitor Europe near-real-time daily CO2 emissions for 27 EU countries and the United Kingdom",
           8
          ],
          [
           "A Bos taurus sequencing methods benchmark for assembly, haplotyping, and variant calling",
           2
          ],
          [
           "Home monitoring with connected mobile devices for asthma attack prediction with machine learning",
           2
          ],
          [
           "A synthetic dataset of Danish residential electricity prosumers",
           2
          ],
          [
           "Population, land use and economic exposure estimates for Europe at 100 m resolution from 1870 to 2020",
           4
          ],
          [
           "Genome-resolved carbon processing potential of tropical peat microbiomes from an oil palm plantation",
           1
          ],
          [
           "GepLiver: an integrative liver expression atlas spanning developmental stages and liver disease phases",
           5
          ],
          [
           "Transcriptom and miRNA data of PUFA-enriched stimulated murine macrophage and human endothelial cell lines",
           1
          ],
          [
           "Bimodal electroencephalography-functional magnetic resonance imaging dataset for inner-speech recognition",
           2
          ],
          [
           "HerpSexDet: the herpetological database of sex determination and sex reversal",
           5
          ],
          [
           "Host nasopharyngeal transcriptome dataset of a SARS-CoV-2 positive Italian cohort",
           2
          ],
          [
           "A physiological signal database of children with different special needs for stress recognition",
           5
          ],
          [
           "Children’s dental panoramic radiographs dataset for caries segmentation and dental disease detection",
           11
          ],
          [
           "A draft genome assembly of reef-building octocoral Heliopora coerulea",
           3
          ],
          [
           "A high spatial resolution dataset of China’s biomass resource potential",
           14
          ],
          [
           "EEG-based BCI Dataset of Semantic Concepts for Imagination and Perception Tasks",
           3
          ],
          [
           "High-density scalp electroencephalogram dataset during sensorimotor rhythm-based brain-computer interfacing",
           2
          ],
          [
           "A dataset of micro biodiversity in benthic sediment at a global scale",
           1
          ],
          [
           "Identifying and sharing per-and polyfluoroalkyl substances hot-spot areas and exposures in drinking water",
           1
          ],
          [
           "Single-cell transcriptome dataset of human and mouse in vitro adipogenesis models",
           1
          ],
          [
           "A proposed FAIR approach for disseminating geospatial information system maps",
           1
          ],
          [
           "A chromosome-level genome assembly of tomato pinworm, Tuta absoluta",
           3
          ],
          [
           "A Comprehensive dataset for Australian mine production 1799 to 2021",
           4
          ],
          [
           "Characterisation of physical and mechanical properties of seven particulate materials proposed as traction enhancers",
           1
          ],
          [
           "Long non-coding RNA and circular RNA and coding RNA profiling of plasma exosomes of osteosarcoma by RNA seq",
           0
          ],
          [
           "A phylotranscriptomic dataset of angiosperm species under cold stress",
           3
          ],
          [
           "Coswara: A respiratory sounds and symptoms dataset for remote screening of SARS-CoV-2 infection",
           12
          ],
          [
           "A Database of Snow on Sea Ice in the Central Arctic Collected during the MOSAiC expedition",
           6
          ],
          [
           "A large expert-curated cryo-EM image dataset for machine learning protein particle picking",
           8
          ],
          [
           "An Observation-Based Dataset of Global Sub-Daily Precipitation Indices (GSDR-I)",
           0
          ],
          [
           "Human viral nucleic acids concentrations in wastewater solids from Central and Coastal California USA",
           14
          ],
          [
           "A ten-year numerical hindcast of hydrodynamics and sediment dynamics in the Loire Estuary",
           0
          ],
          [
           "Sea ice drift tracks from autonomous buoys in the MOSAiC Distributed Network",
           6
          ],
          [
           "Medium-throughput image-based phenotypic siRNA screen to unveil the molecular basis of B cell polarization",
           0
          ],
          [
           "DOCU-CLIM: A global documentary climate dataset for climate reconstructions",
           8
          ],
          [
           "Global climatological data of ocean thermohaline parameters derived from WOA18",
           1
          ],
          [
           "Ocean Sciences with the Spilhaus Projection: A Seamless Ocean Map for Spatial Data Recognition",
           2
          ],
          [
           "Chromosome-level assemblies of cultivated water chestnut Trapa bicornis and its wild relative Trapa incisa",
           1
          ],
          [
           "Simulated Inherent Optical Properties of Aquatic Particles using The Equivalent Algal Populations (EAP) model",
           2
          ],
          [
           "Plot-level estimates of aboveground biomass and soil organic carbon stocks from Nepal’s forest inventory",
           2
          ],
          [
           "HANDdata – first-person dataset including proximity and kinematics measurements from reach-to-grasp actions",
           3
          ],
          [
           "A guide to sharing open healthcare data under the General Data Protection Regulation",
           19
          ],
          [
           "A curated gene and biological system annotation of adverse outcome pathways related to human health",
           4
          ],
          [
           "HeiPorSPECTRAL - the Heidelberg Porcine HyperSPECTRAL Imaging Dataset of 20 Physiological Organs",
           8
          ],
          [
           "Biodiversity of Philippine marine fishes: A DNA barcode reference library based on voucher specimens",
           7
          ],
          [
           "Comprehensive green growth indicators across countries and territories",
           13
          ],
          [
           "Robotic monitoring of grasslands: a dataset from the EU Natura2000 habitat 6210* in the central Apennines (Italy)",
           5
          ],
          [
           "Ensemble of CMIP6 derived reference and potential evapotranspiration with radiative and advective components",
           5
          ],
          [
           "A large-scale fMRI dataset for human action recognition",
           1
          ],
          [
           "Signing data citations enables data verification and citation persistence",
           3
          ],
          [
           "An open dataset for intelligent recognition and classification of abnormal condition in longwall mining",
           8
          ],
          [
           "Chinese Soil Moisture Observation Network and Time Series Data Set for High Resolution Satellite Applications",
           2
          ],
          [
           "Mutational signatures reveal mutual exclusivity of homologous recombination and mismatch repair deficiencies in colorectal and stomach tumors",
           2
          ],
          [
           "GNSS land subsidence observations along the northern coastline of Java, Indonesia",
           7
          ],
          [
           "Global volcanic rock classification of Holocene volcanoes",
           1
          ],
          [
           "Inventory of landslides triggered by an extreme rainfall event in Marche-Umbria, Italy, on 15 September 2022",
           14
          ],
          [
           "DOSE – Global data set of reported sub-national economic output",
           4
          ],
          [
           "Helicopter-borne RGB orthomosaics and photogrammetric digital elevation models from the MOSAiC Expedition",
           5
          ],
          [
           "Home-to-school pedestrian mobility GPS data from a citizen science experiment in the Barcelona area",
           3
          ],
          [
           "A soil database from Queretaro, Mexico for assessment of crop and irrigation water requirements",
           1
          ],
          [
           "A harmonized resource of integrated prostate cancer clinical, -omic, and signature features",
           1
          ],
          [
           "High-density Surface and Intramuscular EMG Data from the Tibialis Anterior During Dynamic Contractions",
           1
          ],
          [
           "A beginner’s guide into curated analyses of open access datasets for biomarker discovery in neurodegeneration",
           1
          ],
          [
           "Single cell transcriptome sequencing of stimulated and frozen human peripheral blood mononuclear cells",
           6
          ],
          [
           "Dataset of annual metal scrap circularity of titanium industry in China from 2005 to 2020",
           1
          ],
          [
           "Chromosome-level genome assembly of the Asian aspen Populus davidiana Dode",
           3
          ],
          [
           "High-resolution gridded population datasets for Latin America and the Caribbean using official statistics",
           1
          ],
          [
           "Satellite mapping of maize cropland in one-season planting areas of China",
           5
          ],
          [
           "Extension and update of multiscale monthly household carbon footprint in Japan from 2011 to 2022",
           7
          ],
          [
           "The European Tertiary Education Register, the reference dataset on European Higher Education Institutions",
           5
          ],
          [
           "MetaFlux: Meta-learning global carbon fluxes from sparse spatiotemporal observations",
           2
          ],
          [
           "Haplotype-resolved chromosomal-level assembly of wasabi (Eutrema japonicum) genome",
           1
          ],
          [
           "A global database for modeling tumor-immune cell communication",
           3
          ],
          [
           "From mobile crowdsourcing to crowd-trusted food price in Nigeria: statistical pre-processing and post-sampling",
           1
          ],
          [
           "A dataset on energy efficiency grade of white goods in mainland China at regional and household levels",
           1
          ],
          [
           "Transcriptomic and lipidomic profiling of subcutaneous and visceral adipose tissues in 15 vertebrates",
           2
          ],
          [
           "A haplotype-resolved genome assembly of Rhododendron vialii based on PacBio HiFi reads and Hi-C data",
           8
          ],
          [
           "Patient-derived glioblastoma cell lines with conserved genome profiles of the original tissue",
           3
          ],
          [
           "Fatigue database of complex metallic alloys",
           4
          ],
          [
           "Magnetic resonance imaging datasets with anatomical fiducials for quality control and registration",
           0
          ],
          [
           "Atomic structures, conformers and thermodynamic properties of 32k atmospheric molecules",
           3
          ],
          [
           "Chromosome genome assembly and annotation of the spiny red gurnard (Chelidonichthys spinosus)",
           2
          ],
          [
           "High-resolution CMIP6 climate projections for Ethiopia using the gridded statistical downscaling method",
           8
          ],
          [
           "The benefits and struggles of FAIR data: the case of reusing plant phenotyping data",
           2
          ],
          [
           "A multi-omics dataset of human transcriptome and proteome stable reference",
           2
          ],
          [
           "Positive and Negative Affect Schedule in early COVID-19 pandemic",
           0
          ],
          [
           "Library of rough hailstone backscattering coefficients at 2.8 GHz",
           0
          ],
          [
           "Chromosome-level genome assembly of the sea cucumber Apostichopus japonicus",
           7
          ],
          [
           "A geopositioned and evidence-graded pan-species compendium of Mayaro virus occurrence",
           2
          ],
          [
           "Database of lower limb kinematics and electromyography during gait-related activities in able-bodied subjects",
           2
          ],
          [
           "Comparison of goat and cow milk-derived extracellular vesicle miRNomes",
           4
          ],
          [
           "Single-nucleus chromatin landscapes during zebrafish early embryogenesis",
           1
          ],
          [
           "A detailed land use/land cover map for the European Alps macro region",
           2
          ],
          [
           "Chromosome-level genome assembly of watershield (Brasenia schreberi)",
           2
          ],
          [
           "Anatomical structures, cell types, and biomarkers of the healthy human blood vasculature",
           0
          ],
          [
           "A high-resolution large-scale dataset of pathological and normal white blood cells",
           0
          ],
          [
           "The daily updated Dutch national database on COVID-19 epidemiology, vaccination and sewage surveillance",
           7
          ],
          [
           "The Translational Data Catalog - discoverable biomedical datasets",
           1
          ],
          [
           "Multi-campaign ship and aircraft observations of marine cloud condensation nuclei and droplet concentrations",
           1
          ],
          [
           "Elastic modulus data for additively and conventionally manufactured variants of Ti-6Al-4V, IN718 and AISI 316 L",
           3
          ],
          [
           "Citizens’ Perceptions of Research and Innovation Dilemmas: Insights from a Large-Scale Survey in Four European Regions",
           0
          ],
          [
           "An open presurgery MRI dataset of people with epilepsy and focal cortical dysplasia type II",
           2
          ],
          [
           "Realization times of energetic modernization measures for buildings based on interviews with craftworkers",
           0
          ],
          [
           "Effects of Candidatus Liberibacter asiaticus infection on metagenome of Diaphorina citri gut endosymbiont",
           5
          ],
          [
           "A new daily quarter degree sea level anomaly product from CryoSat-2 for ocean science and applications",
           1
          ],
          [
           "A dataset for assessing phytolith data for implementation of the FAIR data principles",
           1
          ],
          [
           "Spatial database of planted forests in East Asia",
           8
          ],
          [
           "Airflow and dynamic circumference of abdomen and thorax for adults at varied continuous positive airway pressure ventilation settings and breath rates",
           1
          ],
          [
           "Human displacements, fatalities, and economic damages linked to remotely observed floods",
           4
          ],
          [
           "A comprehensive multi-domain dataset for mitotic figure detection",
           10
          ],
          [
           "Dataset of metals and metalloids in food crops and soils sampled across the mining region of Moquegua in Peru",
           1
          ],
          [
           "Chromosome-level genome assembly of Chouioia cunea Yang, the parasitic wasp of the fall webworm",
           3
          ],
          [
           "Global nitrogen deposition inputs to cropland at national scale from 1961 to 2020",
           4
          ],
          [
           "AtOM, an ontology model to standardize use of brain atlases in tools, workflows, and data infrastructures",
           3
          ],
          [
           "Data scheme and data format for transferable force fields for molecular simulation",
           5
          ],
          [
           "A pipeline to further enhance quality, integrity and reusability of the NCCID clinical data",
           2
          ],
          [
           "A multi-predator trophic database for the California Current Large Marine Ecosystem",
           6
          ],
          [
           "Flow dynamics in rivers with riffle-pool morphology: a dataset from case studies and field experiments",
           0
          ],
          [
           "Open data for COVID-19 policy analysis and mapping",
           1
          ],
          [
           "Genome-wide identification of accessible chromatin regions by ATAC-seq upon induction of the transcription factor bZIP11 in Arabidopsis",
           1
          ],
          [
           "A paired dataset of T1- and T2-weighted MRI at 3 Tesla and 7 Tesla",
           3
          ],
          [
           "Human alterations of the global floodplains 1992–2019",
           11
          ],
          [
           "Genome assembly of the Korean intertidal mud-creeper Batillaria attramentaria",
           3
          ],
          [
           "Annotated dataset for deep-learning-based bacterial colony detection",
           5
          ],
          [
           "A chromosome-level reference genome assembly of the Reeve’s moray eel (Gymnothorax reevesii)",
           1
          ],
          [
           "Multimodal neuroimaging data from a 5-week heart rate variability biofeedback randomized clinical trial",
           3
          ],
          [
           "A Dataset of 10,000 Situations for Research in Computational Social Sciences Psychology and the Humanities",
           2
          ],
          [
           "NZTD - The New Zealand Trait Database for shallow-water marine benthic invertebrates",
           3
          ],
          [
           "Dataset of mechanical properties and electrical conductivity of copper-based alloys",
           5
          ],
          [
           "A chromosome-level genome assembly of a deep-sea starfish (Zoroaster cf. ophiactis)",
           2
          ],
          [
           "Genome assembly of two diploid and one auto-tetraploid Cyclocarya paliurus genomes",
           1
          ],
          [
           "NeuMa - the absolute Neuromarketing dataset en route to an holistic understanding of consumer behaviour",
           5
          ],
          [
           "Chromosome-scale genomes of commercial timber trees (Ochroma pyramidale, Mesua ferrea, and Tectona grandis)",
           8
          ],
          [
           "DIPS-Plus: The enhanced database of interacting protein structures for interface prediction",
           1
          ],
          [
           "Terabyte-scale supervised 3D training and benchmarking dataset of the mouse kidney",
           1
          ],
          [
           "A chromosome-level genome assembly for the astaxanthin-producing microalga Haematococcus pluvialis",
           3
          ],
          [
           "Proteomic profiling across breast cancer cell lines and models",
           4
          ],
          [
           "Proteome changes of fibroblasts and endothelial cells upon incubation with human cytomegalovirus subviral Dense Bodies",
           0
          ],
          [
           "Continuous observations of the surface energy budget and meteorology over the Arctic sea ice during MOSAiC",
           13
          ],
          [
           "EUSEDcollab: a network of data from European catchments to monitor net soil erosion by water",
           9
          ],
          [
           "Household and plot-level survey data on adoption, outcomes, and perceptions of early sown wheat and zero tillage in Northwest India",
           0
          ],
          [
           "Structure prediction of novel isoforms from uveal melanoma by AlphaFold",
           0
          ],
          [
           "Pixel-level annotated dataset of computed tomography angiography images of acute pulmonary embolism",
           0
          ],
          [
           "FracAtlas: A Dataset for Fracture Classification, Localization and Segmentation of Musculoskeletal Radiographs",
           7
          ],
          [
           "Gene expression genetics of the striatum of Diversity Outbred mice",
           1
          ],
          [
           "GRAPE: A multi-modal dataset of longitudinal follow-up visual field and fundus images for glaucoma management",
           6
          ],
          [
           "Hyperlocal environmental data with a mobile platform in urban environments",
           4
          ],
          [
           "ReCANVo: A database of real-world communicative and affective nonverbal vocalizations",
           5
          ],
          [
           "SPRC19: A Database of State Policy Responses to COVID-19 in the United States",
           0
          ],
          [
           "Three-dimensional topology dataset of folded radar stratigraphy in northern Greenland",
           1
          ],
          [
           "MedalCare-XL: 16,900 healthy and pathological synthetic 12 lead ECGs from electrophysiological simulations",
           7
          ],
          [
           "Clinical trial data sharing: a cross-sectional study of outcomes associated with two U.S. National Institutes of Health models",
           2
          ],
          [
           "Dataset on the psychosocial impact in families with children with developmental and epileptic encephalopathies",
           2
          ],
          [
           "ThoughtSource: A central hub for large language model reasoning data",
           15
          ],
          [
           "A cardiotoxicity dataset for breast cancer patients",
           0
          ],
          [
           "Geometrical digital twins of the as-built microstructure of three-leaf stone masonry walls with laser scanning",
           2
          ],
          [
           "Profile observations of the Arctic atmospheric boundary layer with the BELUGA tethered balloon during MOSAiC",
           2
          ],
          [
           "Unraveling the whole genome DNA methylation profile of zebrafish kidney marrow by Oxford Nanopore sequencing",
           0
          ],
          [
           "Metagenome sequencing and 103 microbial genomes from ballast water and sediments",
           1
          ],
          [
           "High-quality wild barley genome assemblies and annotation with Nanopore long reads and Hi-C sequencing data",
           3
          ],
          [
           "A multi-modal panel dataset to understand the psychological impact of the pandemic",
           0
          ],
          [
           "On reliability of annotations in contextual emotion imagery",
           0
          ],
          [
           "The first chromosome-level genome assembly of Entomobrya proxima Folsom, 1924 (Collembola: Entomobryidae)",
           2
          ],
          [
           "Chromosome-level genome assembly of the caenogastropod snail Rapana venosa",
           2
          ],
          [
           "Release of cognitive and multimodal MRI data including real-world tasks and hippocampal subfield segmentations",
           3
          ],
          [
           "Spatial patterns of vascular plant species richness in Poland - a data set",
           0
          ],
          [
           "Two excited-state datasets for quantum chemical UV-vis spectra of organic molecules",
           2
          ],
          [
           "A longitudinal resource for population neuroscience of school-age children and adolescents in China",
           3
          ],
          [
           "DUO-GAIT: A gait dataset for walking under dual-task and fatigue conditions with inertial measurement units",
           4
          ],
          [
           "Concurrent datasets on land cover and river monitoring in Fukushima decontaminated catchment during 2013–2018",
           0
          ],
          [
           "A Data Set of Signals from an Antenna for Detection of Partial Discharges in Overhead Insulated Power Line",
           3
          ],
          [
           "AIMD-Chig: Exploring the conformational space of a 166-atom protein Chignolin with ab initio molecular dynamics",
           6
          ],
          [
           "A large public dataset of annotated clinical MRIs and metadata of patients with acute stroke",
           2
          ],
          [
           "Chinese electricity-focused input-output dataset with detailed coal power and alternative energy for 2018",
           2
          ],
          [
           "Spatial and Temporal Availability of Cloud-free Optical Observations in the Tropics to Monitor Deforestation",
           4
          ],
          [
           "A magnetoencephalography dataset during three-dimensional reaching movements for brain-computer interfaces",
           2
          ],
          [
           "DiaTrend: A dataset from advanced diabetes technology to enable development of novel analytic solutions",
           3
          ],
          [
           "Chromosome-level genome assembly of Korean native cattle and pangenome graph of 14 Bos taurus assemblies",
           2
          ],
          [
           "A large-scale fMRI dataset for the visual processing of naturalistic scenes",
           0
          ],
          [
           "An open-access dataset of naturalistic viewing using simultaneous EEG-fMRI",
           1
          ],
          [
           "A natural language fMRI dataset for voxelwise encoding models",
           2
          ],
          [
           "Making Biomedical Research Software FAIR: Actionable Step-by-step Guidelines with a User-support Tool",
           2
          ],
          [
           "Machine learning-ready remote sensing data for Maya archaeology",
           3
          ],
          [
           "Greenhouse gas emissions from U.S. crude oil pipeline accidents: 1968 to 2020",
           6
          ],
          [
           "A Multi-Stain Breast Cancer Histological Whole-Slide-Image Data Set from Routine Diagnostics",
           1
          ],
          [
           "A database with frailty, functional and inertial gait metrics for the research of fall causes in older adults",
           2
          ],
          [
           "The sequence and de novo assembly of the genome of the Indian oil sardine, Sardinella longiceps",
           2
          ],
          [
           "A Dementia mortality rates dataset in Italy (2012–2019)",
           2
          ],
          [
           "A decade of urban fires: Portuguese events between 2013 and 2022",
           0
          ],
          [
           "Digitization of the Australian Parliamentary Debates, 1998–2022",
           0
          ],
          [
           "Label-free tumor cells classification using deep learning and high-content imaging",
           4
          ],
          [
           "Development of global monthly dataset of CMIP6 climate variables for estimating evapotranspiration",
           3
          ],
          [
           "re3data – Indexing the Global Research Data Repository Landscape Since 2012",
           2
          ],
          [
           "Chromosomal level genome assembly of medicinal plant Sophora flavescens",
           2
          ],
          [
           "Genomic analysis of phylogroup D Escherichia coli strains using novel de-novo reference-based guided assembly",
           1
          ],
          [
           "A Real-world Dataset and Benchmark For Foundation Model Adaptation in Medical Image Classification",
           7
          ],
          [
           "Standardised images of novel objects created with generative adversarial networks",
           1
          ],
          [
           "2DeteCT - A large 2D expandable, trainable, experimental Computed Tomography dataset for machine learning",
           4
          ],
          [
           "CA-discharge: Geo-Located Discharge Time Series for Mountainous Rivers in Central Asia",
           2
          ],
          [
           "Plant traits and associated data from a warming experiment, a seabird colony, and along elevation in Svalbard",
           2
          ],
          [
           "Single-cell RNA sequencing of murine hearts for studying the development of the cardiac conduction system",
           4
          ],
          [
           "A large EEG database with users’ profile information for motor imagery brain-computer interface research",
           3
          ],
          [
           "Accurate GW frontier orbital energies of 134 kilo molecules",
           1
          ],
          [
           "A chromosome-level genome assembly of the parasitoid wasp Eretmocerus hayati",
           1
          ],
          [
           "Surface albedo measurements and surface type classification from helicopter-based observations during MOSAiC",
           3
          ],
          [
           "Genome sequence and annotation of Periconia digitata a hopeful biocontrol agent of phytopathogenic oomycetes",
           0
          ],
          [
           "Aci-bench: a Novel Ambient Clinical Intelligence Dataset for Benchmarking Automatic Visit Note Generation",
           3
          ],
          [
           "Development of an integrated and inferenceable RDF database of glycan, pathogen and disease resources",
           0
          ],
          [
           "Spatial–temporal distribution of global production–living–ecological space during the period 2000–2020",
           8
          ],
          [
           "Applying FAIR4RS principles to develop an integrated modeling environment for the magnetic confinement fusion",
           0
          ],
          [
           "RNA sequencing transcriptomics and metabolomics in three poultry breeds",
           0
          ],
          [
           "Monitoring of carbon-water fluxes at Eurasian meteorological stations using random forest and remote sensing",
           3
          ],
          [
           "SECURES-Met: A European meteorological data set suitable for electricity modelling applications",
           0
          ],
          [
           "A pan-European dataset revealing variability in lithic technology, toolkits, and artefact shapes ~15-11 kya",
           3
          ],
          [
           "Comparative physiology of canopy tree leaves in evergreen and deciduous forests in lowland Thailand",
           2
          ],
          [
           "Multi-omic atlas of the parahippocampal gyrus in Alzheimer’s disease",
           1
          ],
          [
           "Chromosome level genome assembly of oriental armyworm Mythimna separata",
           4
          ],
          [
           "An RFI-suppressed SMOS L-band multi-angular brightness temperature dataset spanning over a decade (since 2010)",
           1
          ],
          [
           "A review of the machine learning datasets in mammography, their adherence to the FAIR principles and the outlook for the future",
           6
          ],
          [
           "SC2EGSet: StarCraft II Esport Replay and Game-state Dataset",
           3
          ],
          [
           "A comprehensive genomic catalog from global cold seeps",
           4
          ],
          [
           "A chromosome-level genome assembly of the darkbarbel catfish Pelteobagrus vachelli",
           1
          ],
          [
           "Chromosome level genome assembly of colored calla lily (Zantedeschia elliottiana)",
           3
          ],
          [
           "Ontology for the Avida digital evolution platform",
           2
          ],
          [
           "A 10-m resolution impervious surface area map for the greater Mekong subregion from remote sensing images",
           2
          ],
          [
           "The first high-quality chromosome-level genome of Eretmochelys imbricata using HiFi and Hi-C data",
           0
          ],
          [
           "One high quality genome and two transcriptome datasets for new species of Mantamonas, a deep-branching eukaryote clade",
           1
          ],
          [
           "Reservoir inventory for China in 2016 and 2021",
           0
          ],
          [
           "TIHM: An open dataset for remote healthcare monitoring in dementia",
           1
          ],
          [
           "EWELD: A Large-Scale Industrial and Commercial Load Dataset in Extreme Weather Events",
           0
          ],
          [
           "DISCOVER-EEG: an open, fully automated EEG pipeline for biomarker discovery in clinical neuroscience",
           2
          ],
          [
           "Global crop-specific nitrogen fertilization dataset in 1961–2020",
           13
          ],
          [
           "A high-resolution daily global dataset of statistically downscaled CMIP6 models for climate impact analyses",
           9
          ],
          [
           "EuroCrops: The Largest Harmonized Open Crop Dataset Across the European Union",
           4
          ],
          [
           "A Quantum-Chemical Bonding Database for Solid-State Materials",
           5
          ],
          [
           "AmeriFlux BASE data pipeline to support network growth and data sharing",
           3
          ],
          [
           "Comparison of miRNA transcriptome of exosomes in three categories of somatic cells with derived iPSCs",
           2
          ],
          [
           "A quantum chemical interaction energy dataset for accurately modeling protein-ligand interactions",
           7
          ],
          [
           "Open access dataset integrating EEG and fNIRS during Stroop tasks",
           3
          ],
          [
           "A framework for FAIR robotic datasets",
           2
          ],
          [
           "An intensive longitudinal dataset of in-game player behaviour and well-being in PowerWash Simulator",
           2
          ],
          [
           "Prevalence of anxiety, depression, mania, insomnia, stress, suicidal ideation, psychotic experiences, & loneliness in UK university students",
           3
          ],
          [
           "Shear modulus reduction and damping ratios curves joined with engineering geological units in Italy",
           2
          ],
          [
           "A dataset on African bats’ functional traits",
           0
          ],
          [
           "A pseudoproxy emulation of the PAGES 2k database using a hierarchy of proxy system models",
           2
          ],
          [
           "A scATAC-seq atlas of chromatin accessibility in axolotl brain regions",
           1
          ],
          [
           "CLSoilMaps: A national soil gridded database of physical and hydraulic soil properties for Chile",
           2
          ],
          [
           "Whole genomes from bacteria collected at diagnostic units around the world 2020",
           2
          ],
          [
           "The phased telomere-to-telomere reference genome of Musa acuminata, a main contributor to banana cultivars",
           6
          ],
          [
           "Hourly emissions of air pollutants and greenhouse gases from open biomass burning in China during 2016–2020",
           2
          ],
          [
           "DrugMechDB: A Curated Database of Drug Mechanisms",
           1
          ],
          [
           "KINECAL: A Dataset for Falls-Risk Assessment and Balance Impairment Analysis",
           1
          ],
          [
           "A daily high-resolution (1 km) human thermal index collection over the North China Plain from 2003 to 2020",
           0
          ],
          [
           "A large-scale LC-MS dataset of murine liver proteome from time course of heavy water metabolic labeling",
           3
          ],
          [
           "Single-nucleus transcriptomic mapping of blast-induced traumatic brain injury in mice hippocampus",
           4
          ],
          [
           "ChoCo: a Chord Corpus and a Data Transformation Workflow for Musical Harmony Knowledge Graphs",
           6
          ],
          [
           "Points for energy renovation (PointER): A point cloud dataset of a million buildings linked to energy features",
           0
          ],
          [
           "Experts’ assessments of migration scenarios between the Middle East & North Africa and Europe",
           0
          ],
          [
           "The first high-quality genome assembly and annotation of Patiria pectinifera",
           0
          ],
          [
           "A solar panel dataset of very high resolution satellite imagery to support the Sustainable Development Goals",
           4
          ],
          [
           "Cancer-specific association between Tau (MAPT) and cellular pathways, clinical outcome, and drug response",
           4
          ],
          [
           "The efferent connections of the orbitofrontal, posterior parietal, and insular cortex of the rat brain",
           0
          ],
          [
           "A Real-World Benchmark for Sentinel-2 Multi-Image Super-Resolution",
           4
          ],
          [
           "Organ-oriented proteogenomics functional atlas of three aquatic invertebrate sentinel species",
           1
          ],
          [
           "Multimodal video and IMU kinematic dataset on daily life activities using affordable devices",
           1
          ],
          [
           "A WAV file dataset of bottlenose dolphin whistles, clicks, and pulse sounds during trawling interactions",
           0
          ],
          [
           "A Dataset for Electricity Market Studies on Western and Northeastern Power Grids in the United States",
           0
          ],
          [
           "Automated Construction of a Photocatalysis Dataset for Water-Splitting Applications",
           4
          ],
          [
           "Metagenomic data from surface seawater of the east coast of South Korea",
           1
          ],
          [
           "Multi-view emotional expressions dataset using 2D pose estimation",
           1
          ],
          [
           "The floodplain inundation history of the Murray-Darling Basin through two-monthly maximum water depth maps",
           3
          ],
          [
           "Towards interoperability in infection control: a standard data model for microbiology",
           2
          ],
          [
           "Integrated Transcriptome Analysis of Long Noncoding RNA and mRNA in Developing and Aging Mouse Retina",
           1
          ],
          [
           "Integrative GWAS and co-localisation analysis suggests novel genes associated with age-related multimorbidity",
           1
          ],
          [
           "A twenty-year dataset of high-resolution maize distribution in China",
           8
          ],
          [
           "A chromosome-level reference genome of the Antarctic blackfin icefish Chaenocephalus aceratus",
           0
          ],
          [
           "Acoustic Characterization of Edzna: A Measurement Dataset",
           1
          ],
          [
           "A synthetic data set to benchmark anti-money laundering methods",
           2
          ],
          [
           "A chromosome-level reference genome of an aromatic medicinal plant Adenosma buchneroides",
           4
          ],
          [
           "Continental United States climate projections based on thermodynamic modification of historical weather",
           6
          ],
          [
           "Identifying immune checkpoint-related lncRNA biomarkers for immunotherapy response and prognosis in cancers",
           2
          ],
          [
           "The Chinese thermal comfort dataset",
           7
          ],
          [
           "ecolo-zip: A global, rich and granular characterization of biogeophysical ecology for 1.5 million postal codes",
           0
          ],
          [
           "Shared metabolic shifts in endothelial cells in stroke and Alzheimer’s disease revealed by integrated analysis",
           0
          ],
          [
           "A Global Feature-Rich Network Dataset of Cities and Dashboard for Comprehensive Urban Analyses",
           3
          ],
          [
           "A biomass map of the Brazilian Amazon from multisource remote sensing",
           5
          ],
          [
           "An open dataset with electrohysterogram records of pregnancies ending in induced and cesarean section delivery",
           1
          ],
          [
           "Endomapper dataset of complete calibrated endoscopy procedures",
           15
          ],
          [
           "Multi-year belowground data of minirhizotron facilities in Selhausen",
           2
          ],
          [
           "Scalable Infrastructure Supporting Reproducible Nationwide Healthcare Data Analysis toward FAIR Stewardship",
           6
          ],
          [
           "ALFI: Cell cycle phenotype annotations of label-free time-lapse imaging data from cultured human cells",
           0
          ],
          [
           "Chromosome-level genome assembly of an important wolfberry fruit fly (Neoceratitis asiatica Becker)",
           2
          ],
          [
           "The R package for DICOM to brain imaging data structure conversion",
           3
          ],
          [
           "A high throughput screen for pharmacological inhibitors of the carbohydrate response element",
           0
          ],
          [
           "Collection of X-ray micro computed tomography images of shells of planktic foraminifera with curated taxonomy",
           1
          ],
          [
           "Long- and short-read RNA sequencing from five reproductive organs of boar",
           1
          ],
          [
           "Transcriptome profiling of Fraxinus excelsior genotypes infested by emerald ash borer",
           0
          ],
          [
           "A comprehensive dataset of animal-associated sarbecoviruses",
           1
          ],
          [
           "Homologous Pairs of Low and High Temperature Originating Proteins Spanning the Known Prokaryotic Universe",
           0
          ],
          [
           "Creating a dataset of historic roads in Sydney from scanned maps",
           2
          ],
          [
           "ELMAS: a one-year dataset of hourly electrical load profiles from 424 French industrial and tertiary sectors",
           1
          ],
          [
           "A global dataset for the production and usage of cereal residues in the period 1997–2021",
           3
          ],
          [
           "Twitter Sentiment Geographical Index Dataset",
           0
          ],
          [
           "ZTBus: A Large Dataset of Time-Resolved City Bus Driving Missions",
           0
          ],
          [
           "The 10-m cotton maps in Xinjiang, China during 2018–2021",
           3
          ],
          [
           "HP-LSP: A reference of land surface phenology from fused Harmonized Landsat and Sentinel-2 with PhenoCam data",
           2
          ],
          [
           "CherryChèvre: A fine-grained dataset for goat detection in natural environments",
           2
          ],
          [
           "Measurements of aerosol microphysical and chemical properties in the central Arctic atmosphere during MOSAiC",
           2
          ],
          [
           "Characterization of immune microenvironment in patients with HPV-positive and negative head and neck cancer",
           6
          ],
          [
           "MUSE-RASA captures human dimension in climate-energy-economic models via global geoAI-ML agent datasets",
           1
          ],
          [
           "Transcriptomes of aging brain, heart, muscle, and spleen from female and male African turquoise killifish",
           3
          ],
          [
           "Global co-expression network for key factor selection on environmental stress RNA-seq dataset in Capsicum annuum",
           3
          ],
          [
           "A database of atmospheric inorganic nitrogen deposition fluxes in China from satellite monitoring",
           1
          ],
          [
           "Global database of cement production assets and upstream suppliers",
           10
          ],
          [
           "A comprehensive spectral assay library to quantify the Halobacterium salinarum NRC-1 proteome by DIA/SWATH-MS",
           2
          ],
          [
           "A high-quality chromosome-level wild rice genome of Oryza coarctata",
           1
          ],
          [
           "Spatiotemporal estimation of nutrient data from the northwest pacific and east asian seas",
           0
          ],
          [
           "Biochemical data documenting variations in mucilage polysaccharides in a range of glycosyltransferase mutants",
           0
          ],
          [
           "Assessment of Surgical Tasks Using Neuroimaging Dataset (ASTaUND)",
           0
          ],
          [
           "Dynamic changes in the transcriptome of tRNA-derived small RNAs related with fat metabolism",
           1
          ],
          [
           "A Spitzoid Tumor dataset with clinical metadata and Whole Slide Images for Deep Learning models",
           2
          ],
          [
           "Fully resolved assembly of Fusarium proliferatum DSM106835 genome",
           3
          ],
          [
           "Chromosome-scale genomes of five Hongmu species in Leguminosae",
           3
          ],
          [
           "A high spatial resolution dataset for methylmercury exposure in Guangdong-Hong Kong-Macao Greater Bay Area",
           1
          ],
          [
           "An experimental dataset on yields of pulses across Europe",
           1
          ],
          [
           "Metagenome sequencing and recovery of 444 metagenome-assembled genomes from the biofloc aquaculture system",
           1
          ],
          [
           "Inertial measurement data from loose clothing worn on the lower body during everyday activities",
           0
          ],
          [
           "City-scale Vehicle Trajectory Data from Traffic Camera Videos",
           3
          ],
          [
           "IRIDIA-AF, a large paroxysmal atrial fibrillation long-term electrocardiogram monitoring database",
           2
          ],
          [
           "One-year dataset of hourly air quality parameters from 100 air purifiers used in China residential buildings",
           2
          ],
          [
           "A dataset of skin lesion images collected in Argentina for the evaluation of AI tools in this population",
           4
          ],
          [
           "Two long read-based genome assembly and annotation of polyploidy woody plants, Hibiscus syriacus L. using PacBio and Nanopore platforms",
           5
          ],
          [
           "Tryp: a dataset of microscopy images of unstained thick blood smears for trypanosome detection",
           0
          ],
          [
           "Hydrological model-based streamflow reconstruction for Indian sub-continental river basins, 1951–2021",
           6
          ],
          [
           "A benchmark dataset for machine learning in ecotoxicology",
           7
          ],
          [
           "A comparison of neuroelectrophysiology databases",
           3
          ],
          [
           "Anthropogenic pollen indicators: Global food plants and Latin American human indicators in the pollen record",
           2
          ],
          [
           "Tethered Balloon-Borne Turbulence Measurements in Winter and Spring during the MOSAiC Expedition",
           1
          ],
          [
           "De novo transcriptome assembly of an Antarctic nematode for the study of thermal adaptation in marine parasites",
           4
          ],
          [
           "Europe PMC annotated full-text corpus for gene/proteins, diseases and organisms",
           1
          ],
          [
           "Land cover dataset of the China Central-Asia West-Asia Economic Corridor from 1993 to 2018",
           4
          ],
          [
           "The NOAA NCEI marine microplastics database",
           9
          ],
          [
           "SONAR, a nursing activity dataset with inertial sensors",
           0
          ],
          [
           "Restructuring and serving web-accessible streamflow data from the NOAA National Water Model historic simulations",
           3
          ],
          [
           "Digital elevation models of the sea-ice surface from airborne laser scanning during MOSAiC",
           5
          ],
          [
           "Contact Endoscopy – Narrow Band Imaging (CE-NBI) data set for laryngeal lesion assessment",
           2
          ],
          [
           "An ocean front dataset for the Mediterranean sea and southwest Indian ocean",
           1
          ],
          [
           "A spatio-temporal dataset of plant pests’ first introductions across the EU and potential entry pathways",
           5
          ],
          [
           "Non-pharmaceutical interventions to combat COVID-19 in the Americas described through daily sub-national data",
           1
          ],
          [
           "1-km resolution rebound surfaces and paleotopography of glaciated North America since the Last Glacial Maximum",
           5
          ],
          [
           "High-resolution (1 km) Köppen-Geiger maps for 1901–2099 based on constrained CMIP6 projections",
           49
          ],
          [
           "A geospatial database of close-to-reality travel times to obstetric emergency care in 15 Nigerian conurbations",
           6
          ],
          [
           "LESO: A ten-year ensemble of satellite-derived intercontinental hourly surface ozone concentrations",
           3
          ],
          [
           "How are exclusively data journals indexed in major scholarly databases? An examination of four databases",
           1
          ],
          [
           "A Large Finer-grained Affective Computing EEG Dataset",
           4
          ],
          [
           "PADAPT 1.0 – the Pannonian Dataset of Plant Traits",
           8
          ],
          [
           "Chromosome-scale assembly of the wild wheat relative Aegilops umbellulata",
           4
          ],
          [
           "Land cover and forest health indicator datasets for central India using very-high resolution satellite data",
           1
          ],
          [
           "Indoor UWB Positioning and Position Tracking Data Set",
           4
          ],
          [
           "Hyperspectral images of grapevine leaves including healthy leaves and leaves with biotic and abiotic symptoms",
           0
          ],
          [
           "A global long-term daily reanalysis of reference evapotranspiration for drought and food-security monitoring",
           5
          ],
          [
           "A trait dataset for freshwater mussels of the United States of America",
           1
          ],
          [
           "Mapping the spatial heterogeneity of global land use and land cover from 2020 to 2100 at a 1 km resolution",
           14
          ],
          [
           "SM2RAIN-Climate, a monthly global long-term rainfall dataset for climatological studies",
           1
          ],
          [
           "Dropsonde observations during the Aerosol Cloud meTeorology Interactions oVer the western ATlantic Experiment",
           3
          ],
          [
           "A chromosome-level genome assembly of the Asian giant softshell turtle Pelochelys cantorii",
           2
          ],
          [
           "A globally synthesised and flagged bee occurrence dataset and cleaning workflow",
           9
          ],
          [
           "Subjective data models in bioinformatics and how wet lab and computational biologists conceptualise data",
           0
          ],
          [
           "Integrating databases for spatial analysis of parasite-host associations and the novel Brazilian dataset",
           0
          ],
          [
           "Profiling mitochondria-polyribosome lncRNAs associated with pluripotency",
           0
          ],
          [
           "CreelCat, a Catalog of United States Inland Creel and Angler Survey Data",
           0
          ],
          [
           "A chromosome-level genome assembly of the Korean crossbred pig Nanchukmacdon (Sus scrofa)",
           2
          ],
          [
           "Chromosome-level genome assembly and annotation of Zicaitai (Brassica rapa var. purpuraria)",
           1
          ],
          [
           "Transcriptional profiling of early differentiation of primary human mesenchymal stem cells into chondrocytes",
           3
          ],
          [
           "Database of segmentations and surface models of bones of the entire lower body created from cadaver CT scans",
           1
          ],
          [
           "Chromosome-level genome assembly of the northern Pacific seastar Asterias amurensis",
           0
          ],
          [
           "Gap-free genome assembly of Salangid icefish Neosalanx taihuensis",
           1
          ],
          [
           "Mapping annual 10-m maize cropland changes in China during 2017–2021",
           4
          ],
          [
           "FAIR EVA: Bringing institutional multidisciplinary repositories into the FAIR picture",
           1
          ],
          [
           "An Open Science MRI Database of over 100 Synaesthetic Brains and Accompanying Deep Phenotypic Information",
           0
          ],
          [
           "A dataset for benchmarking Neotropical anuran calls identification in passive acoustic monitoring",
           2
          ],
          [
           "The smarty4covid dataset and knowledge base as a framework for interpretable physiological audio data analysis",
           1
          ],
          [
           "OIMHS: An Optical Coherence Tomography Image Dataset Based on Macular Hole Manual Segmentation",
           1
          ],
          [
           "The stage- and sex-specific transcriptome of the human parasite Schistosoma mansoni",
           4
          ],
          [
           "Dataset of in-situ coaxial monitoring and print’s cross-section images by Direct Energy Deposition fabrication",
           2
          ],
          [
           "DeepPatent2: A Large-Scale Benchmarking Corpus for Technical Drawing Understanding",
           0
          ],
          [
           "Monitoring the West Nile virus outbreaks in Italy using open access data",
           4
          ],
          [
           "A uniform human multimodal dataset for emotion perception and judgment",
           1
          ],
          [
           "Improved high-quality reference genome of red drum facilitates the processes of resistance-related gene exploration",
           1
          ],
          [
           "Georectified polygon database of ground-mounted large-scale solar photovoltaic sites in the United States",
           0
          ],
          [
           "An annotated grain kernel image database for visual quality inspection",
           3
          ],
          [
           "DOES - A multimodal dataset for supervised and unsupervised analysis of steel scrap",
           2
          ],
          [
           "The EPOS multi-disciplinary Data Portal for integrated access to solid Earth science datasets",
           0
          ],
          [
           "Daylong acoustic recordings of grazing and rumination activities in dairy cows",
           2
          ],
          [
           "FIKElectricity: A Electricity Consumption Dataset from Three Restaurant Kitchens in Portugal",
           1
          ],
          [
           "MultiXC-QM9: Large dataset of molecular and reaction energies from multi-level quantum chemical methods",
           3
          ],
          [
           "A brain MRI dataset and baseline evaluations for tumor recurrence prediction after Gamma Knife radiotherapy",
           0
          ],
          [
           "Harmonized geospatial data to support infrastructure siting feasibility planning for energy system transitions",
           2
          ],
          [
           "Birds of a feather flock together: a dataset for Clock and Adcyap1 genes from migration genetics studies",
           2
          ],
          [
           "High-density EMG, IMU, kinetic, and kinematic open-source data for comprehensive locomotion activities",
           1
          ],
          [
           "A chromosome-level genome assembly of Korean mint (Agastache rugosa)",
           1
          ],
          [
           "A dataset of branched fatty acid esters of hydroxy fatty acids diversity in foods",
           1
          ],
          [
           "Carbon footprint and embodied nutrition evaluation of 388 recipes",
           2
          ],
          [
           "MMLKG: Knowledge Graph for Mathematical Definitions, Statements and Proofs",
           1
          ],
          [
           "Interaction networks of Escherichia coli replication proteins under different bacterial growth conditions",
           2
          ],
          [
           "tRNA-derived small RNA dataset in multiple organs of intrauterine growth-restricted pig",
           0
          ],
          [
           "3D surgical instrument collection for computer vision and extended reality",
           2
          ],
          [
           "Global dataset of soil organic carbon in tidal marshes",
           5
          ],
          [
           "Twenty-nine years of continuous monthly capture-mark-recapture data of multimammate mice (Mastomys natalensis) in Morogoro, Tanzania",
           2
          ],
          [
           "Rapid surveillance of New York City healthcare center egress behaviors during the 2020 COVID-19 lockdown",
           1
          ],
          [
           "A labeled data set of underwater images of fish and crab species from five mesohabitats in Puget Sound WA USA",
           0
          ],
          [
           "A Large Ensemble Global Dataset for Climate Impact Assessments",
           0
          ],
          [
           "Improved global 250 m 8-day NDVI and EVI products from 2000–2021 using the LSTM model",
           6
          ],
          [
           "CenSoc: Public Linked Administrative Mortality Records for Individual-level Research",
           0
          ],
          [
           "A chromosome-level genome assembly of the Knoxia roxburghii (Rubiaceae)",
           1
          ],
          [
           "Transcriptome profiles of Streptomyces clavuligerus strains producing different titers of clavulanic acid",
           0
          ],
          [
           "Canada Source Watershed Polygons (Can-SWaP): A dataset for the protection of Canada’s municipal water supply",
           0
          ],
          [
           "Chromosome genome assembly and whole genome sequencing of 110 individuals of Conogethes punctiferalis (Guenée)",
           1
          ],
          [
           "CELLULAR, A Cell Autophagy Imaging Dataset",
           2
          ],
          [
           "The seafloor from a trait perspective. A comprehensive life history dataset of soft sediment macrozoobenthos",
           1
          ],
          [
           "Shotgun metagenomes from productive lakes in an urban region of Sweden",
           1
          ],
          [
           "City-level population projection for China under different pathways from 2010 to 2100",
           3
          ],
          [
           "Photos and rendered images of LEGO bricks",
           0
          ],
          [
           "Stemness signature and targeted therapeutic drugs identification for Triple Negative Breast Cancer",
           2
          ],
          [
           "Electromyography and kinematics data of the hand in activities of daily living with special interest for ergonomics",
           0
          ],
          [
           "Genomic data resources of the Brain Somatic Mosaicism Network for neuropsychiatric diseases",
           0
          ],
          [
           "Automatic segmentation framework of X-Ray tomography data for multi-phase rock using Swin Transformer approach",
           0
          ],
          [
           "3DSC - a dataset of superconductors including crystal structures",
           3
          ],
          [
           "An Australian housing conditions data infrastructure",
           0
          ],
          [
           "Venom-gland transcriptomics and venom proteomics of the Tibellus oblongus spider",
           1
          ],
          [
           "A manually annotated corpus in French for the study of urbanization and the natural risk prevention",
           0
          ],
          [
           "A DNA barcode library for woody plants in tropical and subtropical China",
           1
          ],
          [
           "Fragment contribution models for predicting skin permeability using HuskinDB",
           0
          ],
          [
           "A global daily evapotranspiration deficit index dataset for quantifying drought severity from 1979 to 2022",
           2
          ],
          [
           "Solar active region magnetogram image dataset for studies of space weather",
           0
          ],
          [
           "Biogeochemistry of upland to wetland soils, sediments, and surface waters across Mid-Atlantic and Great Lakes coastal interfaces",
           2
          ],
          [
           "Dataset of user interactions across four large pilots on the use of augmented reality in learning experiences",
           0
          ],
          [
           "Coming in handy: CeTI-Age — A comprehensive database of kinematic hand movements across the lifespan",
           2
          ],
          [
           "Chromosome-scale genomes of commercially important mahoganies, Swietenia macrophylla and Khaya senegalensis",
           2
          ],
          [
           "FollowNet: A Comprehensive Benchmark for Car-Following Behavior Modeling",
           6
          ],
          [
           "Plasma metabolomics profiling of 580 patients from an Early Detection Research Network prostate cancer cohort",
           0
          ],
          [
           "High-throughput density functional theory screening of double transition metal MXene precursors",
           0
          ],
          [
           "Chromosome-level genome assembly of Przevalski’s partridge (Alectoris magna)",
           0
          ],
          [
           "Structured dataset of human-machine interactions enabling adaptive user interfaces",
           1
          ],
          [
           "The Alien Flora of Australia (AFA), a unified Australian national dataset on plant invasion",
           3
          ],
          [
           "Antarctic daily mesoscale air temperature dataset derived from MODIS land and ice surface temperature",
           0
          ],
          [
           "Grammars Across Time Analyzed (GATA): a dataset of 52 languages",
           0
          ],
          [
           "A proteomic meta-analysis refinement of plasma extracellular vesicles",
           2
          ],
          [
           "Over a decade of atmospheric mercury monitoring at Amsterdam Island in the French Southern and Antarctic Lands",
           0
          ],
          [
           "Functional trait dataset of benthic macroinvertebrates in South Korean streams",
           0
          ],
          [
           "Positron emission tomography dataset of [11C]carbon dioxide storage in coal for geo-sequestration application",
           0
          ],
          [
           "Gridded livestock density database and spatial trends for Kazakhstan",
           8
          ],
          [
           "A dynamic and collaborative database for morphogeometric information of trilobites",
           1
          ],
          [
           "Reconstructing aerosol optical depth using spatiotemporal Long Short-Term Memory convolutional autoencoder",
           1
          ],
          [
           "Genomics and transcriptomics of the Chinese mitten crabs (Eriocheir sinensis)",
           0
          ],
          [
           "Chromosome-level genome assembly of the flower thrips Frankliniella intonsa",
           3
          ],
          [
           "A multi-omics dataset for the analysis of frontotemporal dementia genetic subtypes",
           0
          ],
          [
           "Robotic monitoring of Alpine screes: a dataset from the EU Natura2000 habitat 8110 in the Italian Alps",
           2
          ],
          [
           "De novo transcriptome assembly of hyperaccumulating Noccaea praecox for gene discovery",
           1
          ],
          [
           "Chromosome-level genome assembly of an agricultural pest Zeugodacus tau (Diptera: Tephritidae)",
           0
          ],
          [
           "High-resolution grids of daily air temperature for Peru - the new PISCOt v1.2 dataset",
           1
          ],
          [
           "Robotic monitoring of forests: a dataset from the EU habitat 9210* in the Tuscan Apennines (central Italy)",
           2
          ],
          [
           "A new database of the analysis of the physiological needs in amateur female basketball during official matches",
           2
          ],
          [
           "Annotating Macromolecular Complexes in the Protein Data Bank: Improving the FAIRness of Structure Data",
           0
          ],
          [
           "EarSet: A Multi-Modal Dataset for Studying the Impact of Head and Facial Movements on In-Ear PPG Signals",
           2
          ],
          [
           "HALD, a human aging and longevity knowledge graph for precision gerontology and geroscience analyses",
           0
          ],
          [
           "A full-body motion capture gait dataset of 138 able-bodied adults across the life span and 50 stroke survivors",
           5
          ],
          [
           "Passive microwave Arctic sea ice melt onset dates from the advanced horizontal range algorithm 1979–2022",
           0
          ],
          [
           "Real-time speech MRI datasets with corresponding articulator ground-truth segmentations",
           0
          ],
          [
           "MultiPro: DDA-PASEF and diaPASEF acquired cell line proteomic datasets with deliberate batch effects",
           2
          ],
          [
           "District-scale surface temperatures generated from high-resolution longitudinal thermal infrared images",
           2
          ],
          [
           "A Satellite Imagery Dataset for Long-Term Sustainable Development in United States Cities",
           2
          ],
          [
           "Unveiling Hypothalamic Molecular Signatures via Retrograde Viral Tracing and Single-Cell Transcriptomics",
           1
          ],
          [
           "Next-Generation Intensity-Duration-Frequency Curves for Diverse Land across the Continental United States",
           0
          ],
          [
           "Introducing MEG-MASC a high-quality magneto-encephalography dataset for evaluating natural speech processing",
           0
          ],
          [
           "Chronic disease outcome metadata from German observational studies – public availability and FAIR principles",
           0
          ],
          [
           "NONAN GaitPrint: An IMU gait database of healthy young adults",
           3
          ],
          [
           "Emissions of pesticides in the European Union: a new regional-level dataset",
           1
          ],
          [
           "The OREGANO knowledge graph for computational drug repurposing",
           2
          ],
          [
           "Postfire biodiversity database for eastern Iberia",
           0
          ],
          [
           "Chromosome-scale genome assembly of sweet tea (Lithocarpus polystachyus Rehder)",
           3
          ],
          [
           "High-resolution electric power load data of an industrial park with multiple types of buildings in China",
           1
          ],
          [
           "A Chinese Face Dataset with Dynamic Expressions and Diverse Ages Synthesized by Deep Learning",
           0
          ],
          [
           "A dataset of proteomic changes during human heat stress and heat acclimation",
           0
          ],
          [
           "Georeferenced dataset of maritime piracy in the Gulf of Guinea from 2010 to 2021",
           0
          ],
          [
           "A global land cover training dataset from 1984 to 2020",
           4
          ],
          [
           "The UCLA Cosmochemistry Database",
           1
          ],
          [
           "A future for digital public goods for monitoring SDG indicators",
           2
          ],
          [
           "A database of hourly wind speed and modeled generation for US wind plants based on three meteorological models",
           2
          ],
          [
           "Chromosome-level genome assembly of chub mackerel (Scomber japonicus) from the Indo-Pacific Ocean",
           0
          ],
          [
           "RNAseq of diverse spring wheat cultivars released during last 110 years",
           3
          ],
          [
           "Canadian Covid-19 pandemic public health mitigation measures at the province level",
           1
          ],
          [
           "A news-based climate policy uncertainty index for China",
           21
          ],
          [
           "Haplotype-resolved genome of heterozygous African cassava cultivar TMEB117 (Manihot esculenta)",
           2
          ],
          [
           "A Drosophila heart optical coherence microscopy dataset for automatic video segmentation",
           2
          ],
          [
           "The BrainLat project, a multimodal neuroimaging dataset of neurodegeneration from underrepresented backgrounds",
           3
          ],
          [
           "Labelled dataset for Ultra-Low Temperature Freezer to aid dynamic modelling & fault detection and diagnostics",
           1
          ],
          [
           "Chromosome-level genome assembly and annotation of the Antarctica whitefin plunderfish Pogonophryne albipinna",
           0
          ],
          [
           "Deep learning downscaled high-resolution daily near surface meteorological datasets over East Asia",
           3
          ],
          [
           "Chromosome-level genome assembly of the Asian spongy moths Lymantria dispar asiatica",
           0
          ],
          [
           "Assembly of the poorly differentiated Verasper variegatus W chromosome by different sequencing technologies",
           1
          ],
          [
           "An integrated individual-level trait-based phytoplankton dataset from transitional waters",
           1
          ],
          [
           "Towards understanding policy design through text-as-data approaches: The policy design annotations (POLIANNA) dataset",
           2
          ],
          [
           "A comprehensive multimodal dataset for contactless lip reading and acoustic analysis",
           0
          ],
          [
           "Chromatic dispersion and thermal coefficients of hygroscopic liquids: 5 glycols and glycerol",
           1
          ],
          [
           "Hong Kong Corpus of Chinese Sentence and Passage Reading",
           0
          ],
          [
           "Surface oxygen concentration on the Qinghai-Tibet Plateau (2017–2022)",
           1
          ],
          [
           "Haplotype-resolved chromosomal-level genome assembly of Buzhaye (Microcos paniculata)",
           0
          ],
          [
           "Chromosome-level genome assembly of the Stoliczka’s Asian trident bat (Aselliscus stoliczkanus)",
           0
          ],
          [
           "PolLimCrop, a global dataset of pollen limitation in crops",
           2
          ],
          [
           "CrySyS dataset of CAN traffic logs containing fabrication and masquerade attacks",
           2
          ],
          [
           "A dataset of low-carbon energy transition index for Chinese cities 2003–2019",
           6
          ],
          [
           "Gap-free 16-year (2005–2020) sub-diurnal surface meteorological observations across Florida",
           1
          ],
          [
           "Global inventory of species categorized by known underwater sonifery",
           3
          ],
          [
           "Long-term gridded land evapotranspiration reconstruction using Deep Forest with high generalizability",
           2
          ],
          [
           "A large-scale dataset of patient summaries for retrieval-based clinical decision support systems",
           2
          ],
          [
           "American local government elections database",
           1
          ],
          [
           "Single-cell transcriptome sequencing of plant leaf expressing anti-HER2 VHH–FcK cancer therapeutic protein",
           0
          ],
          [
           "A dataset of formulation compositions for self-emulsifying drug delivery systems",
           1
          ],
          [
           "The Mediterranean archive of isotopic data, a dataset to explore lifeways from the Neolithic to the Iron Age",
           1
          ],
          [
           "RescueNet: A High Resolution UAV Semantic Segmentation Dataset for Natural Disaster Damage Assessment",
           3
          ],
          [
           "T1DiabetesGranada: a longitudinal multi-modal dataset of type 1 diabetes mellitus",
           0
          ],
          [
           "Gridded material stocks in China based on geographical and geometric configurations of the built-environment",
           2
          ],
          [
           "A multimodal dataset of real world mobility activities in Parkinson’s disease",
           0
          ],
          [
           "MarFERReT, an open-source, version-controlled reference library of marine microbial eukaryote functional genes",
           2
          ],
          [
           "Improved chromosome-level genome assembly of Indian sandalwood (Santalum album)",
           1
          ],
          [
           "A global database of bird nest traits",
           0
          ],
          [
           "A pre-failure narrow concrete cracks dataset for engineering structures damage classification and segmentation",
           1
          ],
          [
           "A chromosome-scale assembly of the early-flowering Prunus campanulata and comparative genomics of cherries",
           0
          ],
          [
           "A human lower-limb biomechanics and wearable sensors dataset during cyclic and non-cyclic activities",
           0
          ],
          [
           "ChillsDB 2.0: Individual Differences in Aesthetic Chills Among 2,900+ Southern California Participants",
           2
          ],
          [
           "Chromosomal-level assembly of Tokudaia osimensis, Tokudaia tokunoshimensis, and Tokudaia muenninki genomes",
           1
          ],
          [
           "Transcriptomic datasets of Verticillium wilt resistant and non-resistant Gossypium barbadense varieties during pathogen inoculation",
           1
          ],
          [
           "A comprehensive dataset of U.S. federal laws (1789–2022)",
           0
          ],
          [
           "Labeled temperate hardwood tree stomatal image datasets from seven taxa of Populus and 17 hardwood species",
           4
          ],
          [
           "An annotated wing interferential pattern dataset of dipteran insects of medical interest for deep learning",
           3
          ],
          [
           "A publicly available newborn ear shape dataset for medical diagnosis of auricular deformities",
           0
          ],
          [
           "Faunal remains data from Paleolithic-early Iron Age archaeological sites in the Qinghai-Tibet Plateau in China",
           2
          ],
          [
           "A dataset of digital holograms of normal and thalassemic cells",
           5
          ],
          [
           "East Australian Current velocity, temperature and salinity data products",
           0
          ],
          [
           "High-resolution ethograms, accelerometer recordings, and behavioral time series of Japanese quail",
           0
          ],
          [
           "A global dataset on phosphorus in agricultural soils",
           1
          ],
          [
           "Drone-Person Tracking in Uniform Appearance Crowd: A New Dataset",
           0
          ],
          [
           "PatagoniaMet: A multi-source hydrometeorological dataset for Western Patagonia",
           0
          ],
          [
           "Drought Atlas of India, 1901–2020",
           5
          ],
          [
           "Open source and reproducible and inexpensive infrastructure for data challenges and education",
           0
          ],
          [
           "CAS Landslide Dataset: A Large-Scale and Multisensor Dataset for Deep Learning-Based Landslide Detection",
           6
          ],
          [
           "A global dataset of experimental intercropping and agroforestry studies in horticulture",
           2
          ],
          [
           "A comprehensive dataset on spatiotemporal variation of microbial plankton communities in the Baltic Sea",
           0
          ],
          [
           "SWECO25: a cross-thematic raster database for ecological research in Switzerland",
           5
          ],
          [
           "Global fine-resolution data on springtail abundance and community structure",
           1
          ],
          [
           "Dataset of United States Incident Management Situation Reports from 2007 to 2021",
           2
          ],
          [
           "Dataset for Automatic Region-based Coronary Artery Disease Diagnostics Using X-Ray Angiography Images",
           2
          ],
          [
           "A multilayered urban tree dataset of point clouds, quantitative structure and graph models",
           1
          ],
          [
           "FISHGLOB_data: an integrated dataset of fish biodiversity sampled with scientific bottom-trawl surveys",
           3
          ],
          [
           "Genome assembly and population genomic data of a pulmonate snail Ellobium chinense",
           0
          ],
          [
           "Multi-frequency steady-state visual evoked potential dataset",
           2
          ],
          [
           "The 100-protein NMR spectra dataset: A resource for biomolecular NMR data analysis",
           1
          ],
          [
           "Enrichment of lung cancer computed tomography collections with AI-derived annotations",
           1
          ],
          [
           "RNA and phosphoprotein profiles of TP53- and PTEN-knockouts in MCF10A at baseline and responding to DNA damage",
           0
          ],
          [
           "A biologging database of mobulid rays from the Gulf of California, Mexico",
           0
          ],
          [
           "A Dataset of Amphibian Species in U.S. National Parks",
           1
          ],
          [
           "Chromosome-level assembly of Triplophysa yarkandensis genome based on the single molecule real-time sequencing",
           0
          ],
          [
           "Chromosomal-scale genome assembly and annotation of the land slug (Meghimatium bilineatum)",
           1
          ],
          [
           "Changes in oscillatory patterns of microstate sequence in patients with first-episode psychosis",
           0
          ],
          [
           "High-resolution climate projection dataset based on CMIP6 for Peru and Ecuador: BASD-CMIP6-PE",
           3
          ],
          [
           "Optimized spatial information for 1990, 2000, and 2010 U.S. census microdata",
           0
          ],
          [
           "ModE-RA: a global monthly paleo-reanalysis of the modern era 1421 to 2008",
           5
          ],
          [
           "Quantitative catalogue of mammalian mitotic chromosome-associated RNAs",
           0
          ],
          [
           "Constructing a finer-grained representation of clinical trial results from ClinicalTrials.gov",
           0
          ],
          [
           "Single molecule real-time sequencing data sets of Hypericum perforatum L. plantlets and cell suspension cultures",
           0
          ],
          [
           "Gene modelling and annotation for the Hawaiian bobtail squid, Euprymna scolopes",
           1
          ],
          [
           "Cytochrome oxidase I DNA barcodes of crocodilians meat selling in Hong Kong",
           0
          ],
          [
           "Near-chromosomal-level genome of the red palm weevil (Rhynchophorus ferrugineus), a potential resource for genome-based pest control",
           2
          ],
          [
           "An RNA-seq atlas of mouse brain areas during fasting and diet-induced obesity",
           0
          ],
          [
           "A comprehensive dataset of photonic features on spectral converters for energy harvesting",
           3
          ],
          [
           "Measuring the presence and incidence of cholera in Hindustan: New data from primary sources for the colonial era",
           0
          ],
          [
           "A database of mapped global fishing activity 1950–2017",
           1
          ],
          [
           "A global dataset of biochar application effects on crop yield, soil properties, and greenhouse gas emissions",
           2
          ],
          [
           "De novo chromosome-level genome assembly of Chinese motherwort (Leonurus japonicus)",
           0
          ],
          [
           "Chromosome-level genome assembly of humpback grouper using PacBio HiFi reads and Hi-C technologies",
           2
          ],
          [
           "Bridging the gap in fishing effort mapping: a spatially-explicit fisheries dataset for Campanian MPAs, Italy",
           0
          ],
          [
           "Enhanced U-Pb detrital zircon, Lu-Hf zircon, δ18O zircon, and Sm-Nd whole rock global databases",
           4
          ],
          [
           "Seawater physics and chemistry along the Med-SHIP transects in the Mediterranean Sea in 2016",
           1
          ],
          [
           "Public transport accessibility indicators to urban and regional services in Great Britain",
           1
          ],
          [
           "Delineation of endorheic drainage basins in the MERIT-Plus dataset for 5 and 15 minute upscaled river networks",
           0
          ],
          [
           "An electricity smart meter dataset of Spanish households: insights into consumption patterns",
           2
          ],
          [
           "Curated mode-of-action data and effect concentrations for chemicals relevant for the aquatic environment",
           3
          ],
          [
           "A bite force database of 654 insect species",
           3
          ],
          [
           "Simulated outcomes for durotomy repair in minimally invasive spine surgery",
           0
          ],
          [
           "Occupant behavior, thermal environment, and appliance electricity use of a single-family apartment in China",
           3
          ],
          [
           "An ensemble of bias-adjusted CMIP6 climate simulations based on a high-resolution North American reanalysis",
           1
          ],
          [
           "Haplotype-resolved chromosome-scale genomes of the Asian and African Savannah Elephants",
           1
          ],
          [
           "Plant macrofossil data for 48-0 ka in the USGS North American Packrat Midden Database, version 5.0",
           0
          ],
          [
           "The Pelagic Species Trait Database, an open data resource to support trait-based ocean research",
           2
          ],
          [
           "Genomic resources for a historical collection of cultivated two-row European spring barley genotypes",
           2
          ],
          [
           "Remotely sensed above-ground storage tank dataset for object detection and infrastructure assessment",
           1
          ],
          [
           "Chromosome-level assembly and gene annotation of Decapterus maruadsi genome using Nanopore and Hi-C technologies",
           2
          ],
          [
           "High-resolution temporal gravity field data products: Monthly mass grids and spherical harmonics from 1994 to 2021",
           2
          ],
          [
           "High-resolution repeat topography of drifting ice floes in the Arctic Ocean from terrestrial laser scanning",
           1
          ],
          [
           "Chromosome-scale Genome assembly of the critically endangered White-eared Night-Heron (Gorsachius magnificus)",
           0
          ],
          [
           "Multi-cohort shotgun metagenomic analysis of oral and gut microbiota overlap in healthy adults",
           0
          ],
          [
           "National-scale remotely sensed lake trophic state from 1984 through 2020",
           3
          ],
          [
           "Micro computed tomography images of capillary actions in rough and irregular granular materials",
           0
          ],
          [
           "Optimizing drug combination and mechanism analysis based on risk pathway crosstalk in pan cancer",
           1
          ],
          [
           "RailFOD23: A dataset for foreign object detection on railroad transmission lines",
           4
          ],
          [
           "Hourly values of an advanced human-biometeorological index for diverse populations from 1991 to 2020 in Greece",
           1
          ],
          [
           "A detailed database of sub-annual Spanish demographic statistics: 2005–2021",
           0
          ],
          [
           "Mock community taxonomic classification performance of publicly available shotgun metagenomics pipelines",
           1
          ],
          [
           "A database of thermally activated delayed fluorescent molecules auto-generated from scientific literature with ChemDataExtractor",
           0
          ],
          [
           "The Multi-temporal and Multi-dimensional Global Urban Centre Database to Delineate and Analyse World Cities",
           2
          ],
          [
           "A dataset of oracle characters for benchmarking machine learning algorithms",
           0
          ],
          [
           "Geospatial data on the sediments of Lake Balaton",
           0
          ],
          [
           "Depth-dependent microbial metagenomes sampled in the northeastern Indian Ocean",
           1
          ],
          [
           "Projected income data under different shared socioeconomic pathways for Washington state",
           0
          ],
          [
           "A comparative wordlist for investigating distant relations among languages in Lowland South America",
           0
          ],
          [
           "Benchmark for welding gun fault prediction with multivariate time series data",
           1
          ],
          [
           "A chromosome-level genome assembly of the Echiura Urechis unicinctus",
           0
          ],
          [
           "Mobility networks in Greater Mexico City",
           2
          ],
          [
           "Dataset of human-single neuron activity during a Sternberg working memory task",
           1
          ],
          [
           "Refractiveindex.info database of optical constants",
           57
          ],
          [
           "A chromosome-level genome assembly of a free-living white-crowned sparrow (Zonotrichia leucophrys gambelii)",
           1
          ],
          [
           "German yield and area data for 11 crops from 1979 to 2021 at a harmonized spatial resolution of 397 districts",
           1
          ],
          [
           "COMPAS-2: a dataset of cata-condensed hetero-polycyclic aromatic systems",
           2
          ],
          [
           "Wind and structural loads data measured on parabolic trough solar collectors at an operational power plant",
           1
          ],
          [
           "Annotated dataset for training deep learning models to detect astrocytes in human brain tissue",
           0
          ],
          [
           "An 8-model ensemble of CMIP6-derived ocean surface wave climate",
           0
          ],
          [
           "A new high-resolution global topographic factor dataset calculated based on SRTM",
           0
          ],
          [
           "Open Fundus Photograph Dataset with Pathologic Myopia Recognition and Anatomical Structure Annotation",
           2
          ],
          [
           "A database of computed Raman spectra of inorganic compounds with accurate hybrid functionals",
           1
          ],
          [
           "Whole genome sequencing of a novel sea anemone (Actinostola sp.) from a deep-sea hydrothermal vent",
           0
          ],
          [
           "An open dataset on individual perceptions of transport policies",
           1
          ],
          [
           "A dataset of global tropical cyclone wind and surface wave measurements from buoy and satellite platforms",
           2
          ],
          [
           "Shoreline classification maps and ground truth data for the Neuse River Estuary, North Carolina",
           1
          ],
          [
           "A public dataset of dogs vital signs recorded with ultra wideband radar and reference sensors",
           1
          ],
          [
           "Mass spectrometry-based proteomics data from thousands of HeLa control samples",
           1
          ],
          [
           "A Time-of-Flight and Radar Dataset of a neonatal Thorax Simulator with synchronized Reference Sensor Signals for respiratory Rate Detection",
           0
          ],
          [
           "Australian atmospheric pressure and sea level data during the 2022 Hunga-Tonga Hunga-Ha’apai volcano tsunami",
           0
          ],
          [
           "Urban water and electricity demand data for understanding climate change impacts on the water-energy nexus",
           0
          ],
          [
           "Manually annotated and curated Dataset of diverse Weed Species in Maize and Sorghum for Computer Vision",
           0
          ],
          [
           "Efficacy of MRI data harmonization in the age of machine learning: a multicenter study across 36 datasets",
           4
          ],
          [
           "Electricity and natural gas tariffs at United States wastewater treatment plants",
           0
          ],
          [
           "Quantum computing dataset of maximum independent set problem on king lattice of over hundred Rydberg atoms",
           1
          ],
          [
           "A real-world dataset of group emotion experiences based on physiological data",
           1
          ],
          [
           "High frequency Lunar Penetrating Radar quality control, editing and processing of Chang’E-4 lunar mission",
           1
          ],
          [
           "A consolidated and geolocated facility list in Senegal from triangulating secondary data",
           0
          ],
          [
           "A 31-year (1990–2020) global gridded population dataset generated by cluster analysis and statistical learning",
           0
          ],
          [
           "DNA methylome, R-loop and clinical exome profiling of patients with sporadic amyotrophic lateral sclerosis",
           1
          ],
          [
           "Chromosome-level genome of spider Pardosa pseudoannulata and cuticle protein genes in environmental stresses",
           1
          ],
          [
           "The first host plant dataset of Curculionidae Scolytinae of the world: miscellaneous Tribes",
           0
          ],
          [
           "Chromosome-level genome assembly of the giant ladybug Megalocaria dilatata",
           0
          ],
          [
           "A data set of symptoms and needs of individuals affected by COVID-19",
           1
          ],
          [
           "Chromosome-level genome assembly of Hippophae gyantsensis",
           1
          ],
          [
           "A chromosome-level genome assembly of a deep-sea symbiotic Aplacophora mollusc Chaetoderma sp.",
           2
          ],
          [
           "A chromosome-level genome assembly of Sesamia inferens",
           1
          ],
          [
           "A North Atlantic synthetic tropical cyclone track, intensity, and rainfall dataset",
           0
          ],
          [
           "A neuromorphic dataset for tabletop object segmentation in indoor cluttered environment",
           2
          ],
          [
           "An EEG motor imagery dataset for brain computer interface in acute stroke patients",
           2
          ],
          [
           "Global seasonal prediction of fire danger",
           3
          ],
          [
           "Fluorescence microscopy and correlative brightfield videos of mitochondria and vesicles in H9c2 cardiomyoblasts",
           0
          ],
          [
           "AVDOS-VR: Affective Video Database with Physiological Signals and Continuous Ratings Collected Remotely in VR",
           0
          ],
          [
           "Semi-automated sequence curation for reliable reference datasets in ITS2 vascular plant DNA (meta-)barcoding",
           0
          ],
          [
           "Chromosome-level genome assemblies of Nicotiana tabacum, Nicotiana sylvestris, and Nicotiana tomentosiformis",
           0
          ],
          [
           "Not just crop or forest: an integrated land cover map for agricultural and natural areas",
           1
          ],
          [
           "City-level building operation and end-use carbon emissions dataset from China for 2015–2020",
           6
          ],
          [
           "Extended-wavelength diffuse reflectance spectroscopy dataset of animal tissues for bone-related biomedical applications",
           0
          ],
          [
           "Multidimensional well-being of US households at a fine spatial scale using fused household surveys",
           0
          ],
          [
           "Whole-genome resource sequences of 57 indigenous Ethiopian goats",
           2
          ],
          [
           "An 800-year record of benthic foraminifer images and 2D morphometrics from the Santa Barbara Basin",
           0
          ],
          [
           "TrackdAT, an acoustic telemetry metadata dataset to support aquatic animal tracking research",
           0
          ],
          [
           "Patient level dataset to study the effect of COVID-19 in people with Multiple Sclerosis",
           0
          ],
          [
           "Acting Emotions: a comprehensive dataset of elicited emotions",
           0
          ],
          [
           "CORESIDENCE: National and subnational data on household size and composition around the world, 1964–2021",
           0
          ],
          [
           "Automatically Generated Datasets: Present and Potential Self-Cleaning Coating Materials",
           2
          ],
          [
           "Curated benchmark dataset for ultrasound based breast lesion analysis",
           4
          ],
          [
           "The Swedish National Facility for Magnetoencephalography Parkinson’s disease dataset",
           1
          ],
          [
           "Chromosome-level genome assembly and annotation of the yellow grouper, Epinephelus awoara",
           2
          ],
          [
           "A clinical microscopy dataset to develop a deep learning diagnostic test for urinary tract infection",
           0
          ],
          [
           "DEBBIES Dataset to study Life Histories across Ectotherms",
           0
          ],
          [
           "Marine picoplankton metagenomes and MAGs from eleven vertical profiles obtained by the Malaspina Expedition",
           2
          ],
          [
           "An fMRI Dataset on Social Reward Processing and Decision Making in Younger and Older Adults",
           1
          ],
          [
           "Pig-eRNAdb: a comprehensive enhancer and eRNA dataset of pigs",
           0
          ],
          [
           "Single Cell Map of Human Azoospermia Testis Caused by Cyclophosphamide Chemotherapy",
           2
          ],
          [
           "A single cell RNAseq benchmark experiment embedding “controlled” cancer heterogeneity",
           0
          ],
          [
           "De novo Phased Genome Assembly, Annotation and Population Genotyping of Alectoris Chukar",
           0
          ],
          [
           "Chromosome level genome assembly of endangered medicinal plant Anisodus tanguticus",
           0
          ],
          [
           "Chromosome-level genome assembly and annotation of eel goby (Odontamblyopus rebecca)",
           0
          ],
          [
           "miR-Blood – a small RNA atlas of human blood components",
           0
          ],
          [
           "Phytoplankton optical fingerprint libraries for development of phytoplankton ocean color satellite products",
           0
          ],
          [
           "ArcTiCA: Arctic tidal constituents atlas",
           1
          ],
          [
           "Two chromosome-level genomes of Smittia aterrima and Smittia pratorum (Diptera, Chironomidae)",
           0
          ],
          [
           "Chromosome-level genome assembly of Acrossocheilus fasciatus using PacBio sequencing and Hi-C technology",
           1
          ],
          [
           "Whole-genome variants dataset of 209 local chickens from China",
           0
          ],
          [
           "Development of Groundwater Levels Dataset for Chile since 1970",
           0
          ],
          [
           "Homologous Recombination Deficiency Unrelated to Platinum and PARP Inhibitor Response in Cell Line Libraries",
           2
          ],
          [
           "Preoperative CT and survival data for patients undergoing resection of colorectal liver metastases",
           1
          ],
          [
           "Knowledge and Instance Mapping: architecture for premeditated interoperability of disparate data for materials",
           2
          ],
          [
           "Chromosome level genome assembly of the Etruscan shrew Suncus etruscus",
           0
          ],
          [
           "Naïve Bayes Classifiers and accompanying dataset for Pseudomonas syringae isolate characterization",
           0
          ],
          [
           "Telomere-to-telomere gapless genome assembly of the Chinese sea bass (Lateolabrax maculatus)",
           0
          ],
          [
           "An open relaxation-diffusion MRI dataset in neurosurgical studies",
           0
          ],
          [
           "ezBIDS: Guided standardization of neuroimaging data interoperable with major data archives and platforms",
           4
          ],
          [
           "PLAS-20k: Extended Dataset of Protein-Ligand Affinities from MD Simulations for Machine Learning Applications",
           3
          ],
          [
           "The Allen Ancient DNA Resource (AADR) a curated compendium of ancient human genomes",
           27
          ],
          [
           "Fluorescent Neuronal Cells v2: multi-task, multi-format annotations for deep learning in microscopy",
           0
          ],
          [
           "A 10-m annual grazing intensity dataset in 2015–2021 for the largest temperate meadow steppe in China",
           0
          ],
          [
           "Chromosome-level genome assembly and annotation of rare and endangered tropical bivalve, Tridacna crocea",
           0
          ],
          [
           "A benchmark GaoFen-7 dataset for building extraction from satellite images",
           0
          ],
          [
           "A dataset of behavioral measures on Chinese word production in picture naming",
           0
          ],
          [
           "Chromosome-scale genome assembly of Lepus oiostolus (Lepus, Leporidae)",
           0
          ],
          [
           "Functional trait dataset of European groundwater Amphipoda: Niphargidae and Typhlogammaridae",
           4
          ],
          [
           "QUIN 2.0 - new release of the QUaternary fault strain INdicators database from the Southern Apennines of Italy",
           4
          ],
          [
           "The bii4africa dataset of faunal and floral population intactness estimates across Africa’s major land uses",
           2
          ],
          [
           "Nearshore wave buoy data from southeastern Australia for coastal research and management",
           1
          ],
          [
           "Chromosomal level genome assemblies of two Malus crabapple cultivars Flame and Royalty",
           0
          ],
          [
           "A high-quality genome assembly of the waterlily aphid Rhopalosiphum nymphaeae",
           0
          ],
          [
           "Chromosome-level genome assembly of the Japanese sawyer beetle Monochamus alternatus",
           1
          ],
          [
           "Recovery of 1887 metagenome-assembled genomes from the South China Sea",
           0
          ],
          [
           "A 10-m national-scale map of ground-mounted photovoltaic power stations in China of 2020",
           3
          ],
          [
           "An open dataset for human SSVEPs in the frequency range of 1-60 Hz",
           2
          ],
          [
           "Mapping urban form into local climate zones for the continental US from 1986–2020",
           1
          ],
          [
           "From MS/MS library implementation to molecular networks: Exploring oxylipin diversity with NEO-MSMS",
           1
          ],
          [
           "U.S. cereal rye winter cover crop growth database",
           1
          ],
          [
           "County-scale dataset indicating the effects of disasters on crops in Taiwan from 2003 to 2022",
           0
          ],
          [
           "Harmonizing government responses to the COVID-19 pandemic",
           1
          ],
          [
           "ShetlandsUAVmetry: unmanned aerial vehicle-based photogrammetric dataset for Antarctic environmental research",
           0
          ],
          [
           "Water footprints and crop water use of 175 individual crops for 1990–2019 simulated with a global crop model",
           4
          ],
          [
           "A Clinical Breathomics Dataset",
           2
          ],
          [
           "High-resolution Annual Dynamic dataset of Curve Number from 2008 to 2021 over Conterminous United States",
           0
          ],
          [
           "Metabolism Regimes in Regulated Rivers of the Illinois River Basin, USA",
           3
          ],
          [
           "Assessment of Self-report, Palpation, and Surface Electromyography Dataset During Isometric Muscle Contraction",
           0
          ],
          [
           "Transitioning from MODIS to VIIRS Global Water Reservoir Product",
           2
          ],
          [
           "A comprehensive database of exosome molecular biomarkers and disease-gene associations",
           1
          ],
          [
           "AndroDex: Android Dex Images of Obfuscated Malware",
           1
          ],
          [
           "A biological ocean data reformatting effort",
           0
          ],
          [
           "Multimodal single-neuron, intracranial EEG, and fMRI brain responses during movie watching in human patients",
           0
          ],
          [
           "A 30-m annual corn residue coverage dataset from 2013 to 2021 in Northeast China",
           1
          ],
          [
           "China’s low-carbon policy intensity dataset from national- to prefecture-level over 2007–2022",
           0
          ],
          [
           "MatKG: An autonomously generated knowledge graph in Material Science",
           2
          ],
          [
           "The draft genome of Spiraea crenata L. (Rosaceae) – the first complete genome in tribe Spiraeeae",
           1
          ],
          [
           "A chromosome-level genome assembly of the forestry pest Coronaproctus castanopsis",
           1
          ],
          [
           "Whole Genome Sequence Dataset of Mycobacterium tuberculosis Strains from Patients of Campania Region",
           0
          ],
          [
           "Beyond MD17: the reactive xxMD dataset",
           1
          ],
          [
           "An update of skin permeability data based on a systematic review of recent research",
           2
          ],
          [
           "The first global multi-timescale daily SPEI dataset from 1982 to 2021",
           0
          ],
          [
           "Plant trait and vegetation data along a 1314 m elevation gradient with fire history in Puna grasslands, Perú",
           1
          ],
          [
           "lncRNA-miRNA-mRNA network in kidney transcriptome of Labeo rohita under hypersaline environment",
           0
          ],
          [
           "Pedigree genome data of an early-matured Geng/japonica glutinous rice mega variety Longgeng 57",
           0
          ],
          [
           "Sea water temperature and light intensity at high-Arctic subtidal shallows – 16 years perspective",
           0
          ],
          [
           "Nature’s contribution to poverty alleviation, human wellbeing and the SDGs",
           0
          ],
          [
           "Ground far-red sun-induced chlorophyll fluorescence and vegetation indices in the US Midwestern agroecosystems",
           0
          ],
          [
           "Ethnicity data resource in population-wide health records: completeness, coverage and granularity of diversity",
           1
          ],
          [
           "A dataset of genetic diversity studies in the China Seas",
           0
          ],
          [
           "Quantitative description of six fish species’ gut contents and prey abundances in the Baltic Sea (1968–1978)",
           2
          ],
          [
           "High-resolution land use/cover forecasts for Switzerland in the 21st century",
           2
          ],
          [
           "A deep learning dataset for sample preparation artefacts detection in multispectral high-content microscopy",
           0
          ],
          [
           "Chromosome-level genome assembly of the silver pomfret Pampus argenteus",
           0
          ],
          [
           "Chromosome-level genome assembly and annotation of the Yunling cattle with PacBio and Hi-C sequencing data",
           2
          ],
          [
           "Band-by-band spectral radiative kernels based on the ERA5 reanalysis",
           1
          ],
          [
           "Remote Sensing-Based Extension of GRDC Discharge Time Series - A Monthly Product with Uncertainty Estimates",
           1
          ],
          [
           "A simulated ‘sandbox’ for exploring the modifiable areal unit problem in aggregation and disaggregation",
           0
          ],
          [
           "Robotic monitoring of dunes: a dataset from the EU habitats 2110 and 2120 in Sardinia (Italy)",
           1
          ],
          [
           "The Dresden in vivo OCT dataset for automatic middle ear segmentation",
           0
          ],
          [
           "High-quality genome assembly of a C. crossoptilon and related functional and genetics data resources",
           0
          ],
          [
           "Salmonellosis outbreak archive in China: data collection and assembly",
           3
          ],
          [
           "ReptTraits: a comprehensive dataset of ecological traits in reptiles",
           2
          ],
          [
           "A dataset for predicting cloud cover over Europe",
           0
          ],
          [
           "Harmonized diffusion MRI data and white matter measures from the Adolescent Brain Cognitive Development Study",
           2
          ],
          [
           "A high altitude respiration and SpO2 dataset for assessing the human response to hypoxia",
           0
          ],
          [
           "Pan-chloroplast genomes for accession-specific marker development in Hibiscus syriacus",
           1
          ],
          [
           "A database on the abundance of environmental antibiotic resistance genes",
           3
          ],
          [
           "City-level livestock methane emissions in China from 2010 to 2020",
           0
          ],
          [
           "A multiomics dataset for the study of RNA modifications in human macrophage differentiation and polarisation",
           1
          ],
          [
           "GEOWEALTH-US: Spatial wealth inequality data for the United States, 1960–2020",
           1
          ],
          [
           "A city-level dataset of heavy metal emissions into the atmosphere across China from 2015–2020",
           0
          ],
          [
           "Open datasets and code for multi-scale relations on structure, function and neuro-genetics in the human brain",
           0
          ],
          [
           "Wind turbine database for intelligent operation and maintenance strategies",
           2
          ],
          [
           "Brain tumor segmentation using synthetic MR images - A comparison of GANs and diffusion models",
           1
          ],
          [
           "Leuven-Haifa High-Resolution Fundus Image Dataset for Retinal Blood Vessel Segmentation and Glaucoma Diagnosis",
           0
          ],
          [
           "A large dataset of annotated incident reports on medication errors",
           0
          ],
          [
           "A large open access dataset of brain metastasis 3D segmentations on MRI with clinical and imaging information",
           0
          ],
          [
           "A dataset for multi-faceted analysis of electric vehicle charging transactions",
           0
          ],
          [
           "High resolution climate change observations and projections for the evaluation of heat-related extremes",
           0
          ],
          [
           "Cancer-Alterome: a literature-mined resource for regulatory events caused by genetic alterations in cancer",
           0
          ],
          [
           "Lumbar spine segmentation in MR images: a dataset and a public benchmark",
           1
          ],
          [
           "A comprehensive dataset of environmentally contaminated sites in the state of São Paulo in Brazil",
           0
          ],
          [
           "Fine-grained urban blue-green-gray landscape dataset for 36 Chinese cities based on deep learning network",
           2
          ],
          [
           "A dataset of recorded electricity outages by United States county 2014–2022",
           0
          ],
          [
           "HEvOD: A database of hurricane evacuation orders in the United States",
           0
          ],
          [
           "Chromosome-level genome assembly of Platycarya strobilacea",
           0
          ],
          [
           "Chromosome-scale genome assemblies of Himalopsyche anomala and Eubasilissa splendida (Insecta: Trichoptera)",
           0
          ],
          [
           "Harmonised statistics and maps of forest biomass and increment in Europe",
           0
          ],
          [
           "A global dataset on species occurrences and functional traits of Schizothoracinae fish",
           0
          ],
          [
           "DeltaDTM: A global coastal digital terrain model",
           3
          ],
          [
           "An Integrated Multi-Source Dataset for Measuring Settlement Evolution in the United States from 1810 to 2020",
           1
          ],
          [
           "GOES-R land surface products at Western Hemisphere eddy covariance tower locations",
           1
          ],
          [
           "PEARL-Neuro Database: EEG, fMRI, health and lifestyle data of middle-aged people at risk of dementia",
           0
          ],
          [
           "A chromosome-level genome for the flower thrips Frankliniella intonsa",
           1
          ],
          [
           "A chromosome-level genome assembly of yellow stem borer (Scirpophaga incertulas)",
           0
          ],
          [
           "A haplotype-resolved genome provides insight into allele-specific expression in wild walnut (Juglans regia L.)",
           0
          ],
          [
           "MCSdb, a database of proteins residing in membrane contact sites",
           2
          ],
          [
           "High resolution spatiotemporal modeling of long term anthropogenic nutrient discharge in China",
           0
          ],
          [
           "A database of in situ water temperatures for large inland lakes across the coterminous United States",
           0
          ],
          [
           "De novo transcriptome for Chiloscyllium griseum, a long-tail carpet shark of the Indian waters",
           0
          ],
          [
           "FishSNP: a high quality cross-species SNP database of fishes",
           0
          ],
          [
           "24-hour average PM2.5 concentration caused by aircraft in Chinese airports from Jan. 2006 to Dec. 2023",
           0
          ],
          [
           "A new circa 2007 biomass map for China differs significantly from existing maps",
           0
          ],
          [
           "Integrative cross-species analysis reveals conserved and unique signatures in fatty skeletal muscles",
           0
          ],
          [
           "Single-cell integrative analysis reveals consensus cancer cell states and clinical relevance in breast cancer",
           0
          ],
          [
           "EUPRO - A reference database on project-based R&D collaboration networks",
           0
          ],
          [
           "Multi-omics dataset of bovine mammary epithelial cells stimulated by ten different essential amino acids",
           0
          ],
          [
           "NuInsSeg: A fully annotated dataset for nuclei instance segmentation in H&E-stained histological images",
           1
          ],
          [
           "A Georeferenced Dataset for Mapping and Assessing Subgrade Defects in China’s High-Speed Railways",
           1
          ],
          [
           "An extensive database on the traits and occurrences of amphibian species in Turkey",
           2
          ],
          [
           "Dataset of the suitability of major food crops in Africa under climate change",
           0
          ],
          [
           "A global dataset of publicly available dengue case count data",
           2
          ],
          [
           "High quality assemblies of four indigenous chicken genomes and related functional data resources",
           2
          ],
          [
           "Transcriptomic profiling of Poa pratensis L. under treatment of various phytohormones",
           0
          ],
          [
           "HYADES - A Global Archive of Annual Maxima Daily Precipitation",
           0
          ],
          [
           "Engagnition: A multi-dimensional dataset for engagement recognition of children with autism spectrum disorder",
           0
          ],
          [
           "A synthetic digital city dataset for robustness and generalisation of depth estimation models",
           0
          ],
          [
           "Mapping of secondary forest age in China using stacked generalization and Landsat time series",
           1
          ],
          [
           "Will we ever be able to accurately predict solubility?",
           1
          ],
          [
           "Dataset on the effects of psychological care on depression and suicide ideation in underrepresented children",
           0
          ],
          [
           "The Arctic Plant Aboveground Biomass Synthesis Dataset",
           2
          ],
          [
           "Global spatial dataset of mangrove genus distribution in seaward and riverine margins",
           0
          ],
          [
           "Harmonized disposable income dataset for Europe at subnational level",
           0
          ],
          [
           "A comprehensive historical and geolocalized database of mining activities in Canada",
           2
          ],
          [
           "A Dataset of Electrical Components for Mesh Segmentation and Computational Geometry Research",
           1
          ],
          [
           "A chromosome-level genome assembly of the pig-nosed turtle (Carettochelys insculpta)",
           0
          ],
          [
           "Global annual wetland dataset at 30 m with a fine classification system from 2000 to 2022",
           2
          ],
          [
           "A near-complete genome assembly of Monochamus alternatus a major vector beetle of pinewood nematode",
           0
          ],
          [
           "Experiments on hydraulic jumps over uneven bed for turbulent flow modelling validation in river flow and hydraulic structures",
           0
          ],
          [
           "Multi-organ single-cell transcriptomics of immune cells uncovered organ-specific gene expression and functions",
           0
          ],
          [
           "Survey data linking coastal visit behaviours to socio-demographic and health profiles",
           0
          ],
          [
           "Compound Matrix-Based Project Database (CMPD)",
           0
          ],
          [
           "A dataset of thermal preferences for Mediterranean demersal and benthic macrofauna",
           0
          ],
          [
           "A chromosome-level genome assembly of East Asia endemic minnow Zacco platypus",
           0
          ],
          [
           "The extrachromosomal circular DNA atlas of aged and young mouse brains",
           0
          ],
          [
           "Genome assembly of a symbiotic balantidia (Balantidium ctenopharyngodoni) in fish hindgut",
           0
          ],
          [
           "BM-BronchoLC - A rich bronchoscopy dataset for anatomical landmarks and lung cancer lesion recognition",
           0
          ],
          [
           "A high-quality chromosome-level genome assembly of the Chinese medaka Oryzias sinensis",
           0
          ],
          [
           "Harnessing Big Data in Critical Care: Exploring a new European Dataset",
           1
          ],
          [
           "Satellite-based time-series of sea-surface temperature since 1980 for climate applications",
           1
          ],
          [
           "A unified dataset for the city-scale traffic assignment model in 20 U.S. cities",
           0
          ],
          [
           "Three years of weekly DEMs, aerial orthomosaics and surveyed shoreline positions at Waikīkī Beach, Hawai‘i",
           0
          ],
          [
           "A multimodal driver monitoring benchmark dataset for driver modeling in assisted driving automation",
           0
          ],
          [
           "A compendium of multi-omics data illuminating host responses to lethal human virus infections",
           0
          ],
          [
           "Registered multi-device/staining histology image dataset for domain-agnostic machine learning models",
           0
          ],
          [
           "Up-bottom assessments of nutrient supply and gaseous pollutant from Chinese wheat straw field management",
           0
          ],
          [
           "Mapping Road Surface Type of Kenya Using OpenStreetMap and High-resolution Google Satellite Imagery",
           0
          ],
          [
           "Globe-LFMC 2.0, an enhanced and updated dataset for live fuel moisture content research",
           1
          ],
          [
           "Physiological data for affective computing in HRI with anthropomorphic service robots: the AFFECT-HRI data set",
           0
          ],
          [
           "A database of groundwater wells in the United States",
           0
          ],
          [
           "South American Archaeological Isotopic Database, a regional-scale multi-isotope data compendium for research",
           0
          ],
          [
           "LiDAR-based reference aboveground biomass maps for tropical forests of South Asia and Central Africa",
           2
          ],
          [
           "Morphometric dataset of Varanus salvator for non-invasive sex identification using machine learning",
           0
          ],
          [
           "Dataset of building locations in Poland in the 1970s and 1980s",
           0
          ],
          [
           "A chromosome-level genome assembly of the spider mite Tetranychus piercei McGregor",
           0
          ],
          [
           "Chromosome-level genome assembly of milk thistle (Silybum marianum (L.) Gaertn.)",
           2
          ],
          [
           "MultiSenseBadminton: Wearable Sensor–Based Biomechanical Dataset for Evaluation of Badminton Performance",
           2
          ],
          [
           "An integrated metagenomic, metabolomic and transcriptomic survey of Populus across genotypes and environments",
           1
          ],
          [
           "The chromosomal-scale genome sequencing and assembly of Athetis lepigone",
           0
          ],
          [
           "Physicochemical characteristics of lakes along the southern Baltic Sea coast",
           0
          ],
          [
           "Vectorized dataset of silted land formed by check dams on the Chinese Loess Plateau",
           1
          ],
          [
           "A dataset for fine-grained seed recognition",
           1
          ],
          [
           "Large language model enhanced corpus of CO2 reduction electrocatalysts and synthesis procedures",
           0
          ],
          [
           "From home energy management systems to energy communities: methods and data",
           0
          ],
          [
           "CARM30: China annual rapeseed maps at 30 m spatial resolution from 2000 to 2022 using multi-source data",
           1
          ],
          [
           "A large normative connectome for exploring the tractographic correlates of focal brain interventions",
           1
          ],
          [
           "The chromosome-level genome assembly of the giant dobsonfly Acanthacorydalis orientalis (McLachlan, 1899)",
           0
          ],
          [
           "Single-cell RNA-sequencing of virus-specific cellular immune responses in chronic hepatitis B patients",
           0
          ],
          [
           "The first absolute gravity and height reference network in Sicily",
           0
          ],
          [
           "A monthly gridded burned area database of national wildland fire data",
           1
          ],
          [
           "EEG and fNIRS datasets based on Stroop task during two weeks of high-altitude exposure in new immigrants",
           0
          ],
          [
           "The Caribbean and Mesoamerica Biogeochemical Isotope Overview (CAMBIO)",
           0
          ],
          [
           "Standardised Versioning of Datasets: a FAIR–compliant Proposal",
           0
          ],
          [
           "High-quality faba bean reference transcripts generated using PacBio and Illumina RNA-seq data",
           0
          ],
          [
           "Fisheries Inspection in Portuguese Waters from 2015 to 2023",
           0
          ],
          [
           "High resolution optical and acoustic remote sensing datasets of the Puck Lagoon",
           4
          ],
          [
           "ForCenS-LGM: a dataset of planktonic foraminifera species assemblage composition for the Last Glacial Maximum",
           0
          ],
          [
           "A global database on coral recovery following marine heatwaves",
           0
          ],
          [
           "Transcriptome profiling of aerial and subterranean peanut pod development",
           1
          ],
          [
           "CT Cadaveric dataset for Radiomics features stability assessment in lumbar vertebrae",
           0
          ],
          [
           "The BALA project: A pioneering monitoring of Azorean forest invertebrates over two decades (1999–2022)",
           1
          ],
          [
           "An open source knowledge graph ecosystem for the life sciences",
           2
          ],
          [
           "A document-level information extraction pipeline for layered cathode materials for sodium-ion batteries",
           0
          ],
          [
           "High-resolution freshwater dissolved calcium and pH data layers for Canada and the United States",
           0
          ],
          [
           "Three de novo assembled wild cacao genomes from the Upper Amazon",
           1
          ],
          [
           "OCTDL: Optical Coherence Tomography Dataset for Image-Based Deep Learning Methods",
           2
          ],
          [
           "Automated BigSMILES conversion workflow and dataset for homopolymeric macromolecules",
           0
          ],
          [
           "A multimodal physiological dataset for driving behaviour analysis",
           1
          ],
          [
           "The Plegma dataset: Domestic appliance-level and aggregate electricity demand with metadata from Greece",
           0
          ],
          [
           "Cataract-1K Dataset for Deep-Learning-Assisted Analysis of Cataract Surgery Videos",
           0
          ],
          [
           "The transcriptome assembly of the European freshwater mussel Unio elongatulus C. Pfeiffer, 1825",
           0
          ],
          [
           "Homogenized gridded dataset for drought and hydrometeorological modeling for the continental United States",
           0
          ],
          [
           "A dataset for soil organic carbon in agricultural systems for the Southeast Asia region",
           1
          ],
          [
           "The landscape of abiotic and biotic stress-responsive splice variants with deep RNA-seq datasets in hot pepper",
           2
          ],
          [
           "Open access EEG dataset of repeated measurements from a single subject for microstate analysis",
           0
          ],
          [
           "First telomere-to-telomere gapless assembly of the rice blast fungus Pyricularia oryzae",
           0
          ],
          [
           "Bulk and single-cell transcriptome datasets of the mouse fetal and adult rete ovarii and surrounding tissues",
           0
          ],
          [
           "A global dataset of carbon pumping by the world’s largest tropical rivers",
           1
          ],
          [
           "Sea-surface pCO2 maps for the Bay of Bengal based on advanced machine learning algorithms",
           0
          ],
          [
           "TOPMed imputed genomics enhances genomic atlas of the human proteome in brain, cerebrospinal fluid, and plasma",
           1
          ],
          [
           "An EEG Dataset of Neural Signatures in a Competitive Two-Player Game Encouraging Deceptive Behavior",
           0
          ],
          [
           "A construction waste landfill dataset of two districts in Beijing, China from high resolution satellite images",
           2
          ],
          [
           "Phenomics and transcriptomic profiling of fruit development in distinct apple varieties",
           0
          ],
          [
           "High-quality chromosome-level genome assembly of Nicotiana benthamiana",
           0
          ],
          [
           "Spatiotemporal atmospheric in-situ carbon dioxide data over the Indian sites-data perspective",
           0
          ],
          [
           "Total irrigation by crop in the Continental United States from 2008 to 2020",
           0
          ],
          [
           "High spatial resolution elevation change dataset derived from ICESat-2 crossover points on the Tibetan Plateau",
           0
          ],
          [
           "Towards Gender Harmony Dataset: Gender Beliefs and Gender Stereotypes in 62 Countries",
           0
          ],
          [
           "Multi-year time series of daily solute and isotope measurements from three Swiss pre-Alpine catchments",
           0
          ],
          [
           "The first chromosome-level genome of the stag beetle Dorcus hopei Saunders, 1854 (Coleoptera: Lucanidae)",
           1
          ],
          [
           "YJMob100K: City-scale and longitudinal dataset of anonymized human mobility trajectories",
           1
          ],
          [
           "RADReef: A global Holocene Reef Rate of Accretion Dataset",
           0
          ],
          [
           "Long-term dataset for contaminants in fish, mussels, and bird eggs from the Baltic Sea",
           1
          ],
          [
           "FastMRI Prostate: A public, biparametric MRI dataset to advance machine learning for prostate cancer imaging",
           3
          ],
          [
           "Chromosome-level genome assembly of marine diatom Skeletonema tropicum",
           0
          ],
          [
           "Bias-corrected NESM3 global dataset for dynamical downscaling under 1.5 °C and 2 °C global warming scenarios",
           0
          ],
          [
           "A comprehensive dataset of protein-protein interactions and ligand binding pockets for advancing drug discovery",
           2
          ],
          [
           "RAS Dataset: A 3D Cardiac LGE-MRI Dataset for Segmentation of Right Atrial Cavity",
           0
          ],
          [
           "A Prolonged Artificial Nighttime-light Dataset of China (1984-2020)",
           6
          ],
          [
           "A dataset of storm surge reconstructions in the Western North Pacific using CNN",
           0
          ],
          [
           "Chromosome-scale genome assembly and annotation of Cotoneaster glaucophyllus",
           0
          ],
          [
           "Chromosome-level genome assembly of the diploid oat species Avena longiglumis",
           0
          ],
          [
           "Comprehensive mass spectrometric metabolomic profiling of a chemically diverse collection of plants of the Celastraceae family",
           0
          ],
          [
           "CROPGRIDS: a global geo-referenced dataset of 173 crops",
           0
          ],
          [
           "The Mexican dataset of a repetitive transcranial magnetic stimulation clinical trial on cocaine use disorder patients: SUDMEX TMS",
           0
          ],
          [
           "Single-unit data for sensory neuroscience: Responses from the auditory nerve of young-adult and aging gerbils",
           0
          ],
          [
           "An annotated street view image dataset for automated road damage detection",
           1
          ],
          [
           "Large-scale uterine myoma MRI dataset covering all FIGO types with pixel-level annotations",
           0
          ],
          [
           "Nuclear and mitochondrial genomes of Polylopha cassiicola: the first assembly in Chlidanotinae (Tortricidae)",
           0
          ],
          [
           "Chromosome-level genome assembly of the predatory stink bug Arma custos",
           1
          ],
          [
           "Measurements of dune erosion processes during the RealDune/REFLEX experiments",
           2
          ],
          [
           "Chromosome-scale genome assembly of bread wheat’s wild relative Triticum timopheevii",
           1
          ],
          [
           "RASMI: Global ranges of building material intensities differentiated by region, structure, and function",
           1
          ],
          [
           "Large-scale annotated dataset for cochlear hair cell detection and classification",
           0
          ],
          [
           "A new commercial boundary dataset for metropolitan areas in the USA and Canada, built from open data",
           0
          ],
          [
           "The Imperial College Storm Model (IRIS) Dataset",
           0
          ],
          [
           "HiMIC-Monthly: A 1 km high-resolution atmospheric moisture index collection over China, 2003–2020",
           1
          ],
          [
           "A resting-state EEG dataset for sleep deprivation",
           1
          ],
          [
           "Chromosome-level genome assembly of the yellow-cheek carp Elopichthys bambusa",
           0
          ],
          [
           "Students’ performance, attitude, and classroom observation data to assess the effect of problem-based learning approach supplemented by YouTube videos in Ugandan classroom",
           0
          ],
          [
           "Normative volumes and relaxation times at 3T during brain development",
           0
          ],
          [
           "Full-length transcriptome analysis of a bloom-forming dinoflagellate Prorocentrum shikokuense (Dinophyceae)",
           0
          ],
          [
           "Chromosome-level genome assembly of the pygmy grasshopper Eucriotettix oculatus (Orthoptera: Tetrigoidea)",
           0
          ],
          [
           "A dataset for fatigue estimation during shoulder internal and external rotation movements using wearables",
           0
          ],
          [
           "Mannose-binding lectin gene sequence data in Kelantan population",
           0
          ],
          [
           "Semantic integration of diverse data in materials science: Assessing Orowan strengthening",
           0
          ],
          [
           "Phylogenomics and genetic analysis of solvent-producing Clostridium species",
           1
          ],
          [
           "Mapping annual 10-m soybean cropland with spatiotemporal sample migration",
           1
          ],
          [
           "Numbers of articles in the three Japanese national newspapers, 1872–2021",
           0
          ],
          [
           "PSFHS: Intrapartum ultrasound image dataset for AI-based segmentation of pubic symphysis and fetal head",
           0
          ],
          [
           "Chromosome-level genome assembly of the bethylid ectoparasitoid wasp Sclerodermus sp. ‘alternatusi’",
           0
          ],
          [
           "Time-course RNAseq data of murine AB1 mesothelioma and Renca renal cancer following immune checkpoint therapy",
           0
          ],
          [
           "Intra-Individual Paired Mass Spectrometry Dataset for Decoding Solar-Induced Proteomic Changes in Facial Skin",
           0
          ],
          [
           "A point-of-use drinking water quality dataset from fieldwork in Detroit, Michigan",
           0
          ],
          [
           "A dataset for measuring the impact of research data and their curation",
           0
          ],
          [
           "A global dataset of terrestrial evapotranspiration and soil moisture dynamics from 1982 to 2020",
           0
          ],
          [
           "City level water withdrawal and scarcity accounts of China",
           0
          ],
          [
           "Chromosome-level genome assembly of the threatened resource plant Cinnamomum chago",
           0
          ],
          [
           "Binary dataset for machine learning applications to tropical cyclone formation prediction",
           0
          ],
          [
           "A regionally refined quarter-degree global atmospheric rivers database based on ERA5",
           1
          ],
          [
           "High resolution Tibetan Plateau regional reanalysis 1961-present",
           0
          ],
          [
           "An improved chromosome-level genome assembly and annotation of Echeneis naucrates",
           0
          ],
          [
           "A high-resolution dataset of water bodies distribution over the Tibetan Plateau",
           1
          ],
          [
           "The phased Solanum okadae genome and Petota pangenome analysis of 23 other potato wild relatives and hybrids",
           0
          ],
          [
           "PacBio Hi-Fi genome assembly of Sipha maydis, a model for the study of multipartite mutualism in insects",
           0
          ],
          [
           "A Dataset for Evaluating Contextualized Representation of Biomedical Concepts in Language Models",
           0
          ],
          [
           "Chromosome-level genome assembly of Odontothrips loti Haliday (Thysanoptera: Thripidae)",
           0
          ],
          [
           "A chromosome-level haplotype-resolved genome assembly of oriental tobacco budworm (Helicoverpa assulta)",
           0
          ],
          [
           "A road surface reconstruction dataset for autonomous driving",
           3
          ],
          [
           "Cryo2StructData: A Large Labeled Cryo-EM Density Map Dataset for AI-based Modeling of Protein Structures",
           2
          ],
          [
           "A high-quality chromosome-scale genome assembly of blood orange, an important pigmented sweet orange variety",
           0
          ],
          [
           "County-level intensity of carbon emissions from crop farming in China during 2000–2019",
           0
          ],
          [
           "Metagenomics datasets of water and sediments from eutrophication-impacted artificial lakes in South Africa",
           0
          ],
          [
           "A comprehensive laser image dataset for real-time measurement of wheelset geometric parameters",
           1
          ],
          [
           "Initiating PeriCBD to probe perinatal influences on neurodevelopment during 3–10 years in China",
           0
          ],
          [
           "Comprehensive energy demand and usage data for building automation",
           0
          ],
          [
           "Getting your DUCs in a row - standardising the representation of Digital Use Conditions",
           2
          ],
          [
           "A global time series of traffic volumes on extra-urban roads",
           0
          ],
          [
           "Common conditions of use elements. Atomic concepts for consistent and effective information governance",
           1
          ],
          [
           "Genome-wide profiling of angiogenic cis-regulatory elements unravels cis-regulatory SNPs for vascular abnormality",
           1
          ],
          [
           "User factors affecting the use of digital services in five European regions and countries",
           0
          ],
          [
           "Chromosomal-level genome assembly and annotation of the tropical sea cucumber Holothuria scabra",
           0
          ],
          [
           "Co-located ecological data for exploring top- and subsoil carbon dynamics across grassland-woodland contrasts",
           0
          ],
          [
           "Multispectral analysis-ready satellite data for three East African mountain ecosystems",
           1
          ],
          [
           "Transcriptome dynamics of Gossypium purpurascens in response to abiotic stresses by Iso-seq and RNA-seq data",
           0
          ],
          [
           "Integrated de novo transcriptome of Culex pipiens mosquito larvae as a resource for genetic control strategies",
           0
          ],
          [
           "InsectSound1000 An insect sound dataset for deep learning based acoustic insect recognition",
           1
          ],
          [
           "A dataset of 40’000 trees with section-wise measured stem diameter and branch volume from across Switzerland",
           0
          ],
          [
           "Global WaterPack - The development of global surface water over the past 20 years at daily temporal resolution",
           0
          ],
          [
           "Metagenomic sequencing and reconstruction of 82 microbial genomes from barley seed communities",
           0
          ],
          [
           "How accurate are existing land cover maps for agriculture in Sub-Saharan Africa?",
           0
          ],
          [
           "SAROS: A dataset for whole-body region and organ segmentation in CT imaging",
           0
          ],
          [
           "A chromosome-level genome assembly of an avivorous bat species (Nyctalus aviator)",
           0
          ],
          [
           "A tree-based corpus annotated with Cyber-Syndrome, symptoms, and acupoints",
           0
          ],
          [
           "A maturity model for catalogues of semantic artefacts",
           1
          ],
          [
           "Prototyping an Ontological Framework for Cellular Senescence Mechanisms: A Homeostasis Imbalance Perspective",
           0
          ],
          [
           "ROSPaCe: Intrusion Detection Dataset for a ROS2-Based Cyber-Physical System and IoT Networks",
           0
          ],
          [
           "Dataset of weekly intra-treatment diffusion weighted imaging in head and neck cancer patients treated with MR-Linac",
           0
          ],
          [
           "Extension of Japan’s Prefectural Emission Accounting and Enrichment of Socioeconomic Data from 1990 to 2020",
           0
          ],
          [
           "De novo transcriptome assembly database for 100 tissues from each of seven species of domestic herbivore",
           0
          ],
          [
           "Open e-commerce 1.0, five years of crowdsourced U.S. Amazon purchase histories with user demographics",
           0
          ],
          [
           "Analysis of AlphaMissense data in different protein groups and structural context",
           0
          ],
          [
           "Transient dataset of household appliances with Intensive switching events",
           0
          ],
          [
           "Parsimonious estimation of hourly surface ozone concentration across China during 2015–2020",
           1
          ],
          [
           "ReMIND: The Brain Resection Multimodal Imaging Database",
           2
          ],
          [
           "DS-PACK: Tool assembly for the end-to-end support of controlled access human data sharing",
           0
          ],
          [
           "The Poses for Equine Research Dataset (PFERD)",
           1
          ],
          [
           "A longitudinal electrophysiological and behavior dataset for PD rat in response to deep brain stimulation",
           0
          ],
          [
           "A multi-institutional meningioma MRI dataset for automated multi-sequence image segmentation",
           1
          ],
          [
           "Comparing built-up area datasets to assess urban exposure to coastal hazards in Europe",
           0
          ],
          [
           "Proteomics profiling of the honeybee parasite Tropilaelaps mercedesae across post-embryonic development",
           0
          ],
          [
           "A fully haplotype-resolved and nearly gap-free genome assembly of wheat stripe rust fungus",
           0
          ],
          [
           "Prostate intra-fraction motion recorded by transperineal ultrasound",
           0
          ],
          [
           "Tensile testing data of additive manufactured ASTM D638 standard specimens with embedded internal geometrical features",
           1
          ],
          [
           "FAIR assessment of nanosafety data reusability with community standards",
           0
          ],
          [
           "Cloud micro- and macrophysical properties from ground-based remote sensing during the MOSAiC drift experiment",
           0
          ],
          [
           "Exploring SureChEMBL from a drug discovery perspective",
           1
          ],
          [
           "A baseline structure inventory with critical attribution for the US and its territories",
           0
          ],
          [
           "LNDb v4: pulmonary nodule annotation from medical reports",
           0
          ],
          [
           "Employing discrete global grid systems for reproducible data obfuscation",
           0
          ],
          [
           "CheXmask: a large-scale dataset of anatomical segmentation masks for multi-center chest x-ray images",
           0
          ],
          [
           "An aggregated dataset of serial morbidity and titer measurements from influenza A virus-infected ferrets",
           1
          ],
          [
           "The BELSAR dataset: Mono- and bistatic full-pol L-band SAR for agriculture and hydrology",
           1
          ],
          [
           "A large and diverse brain organoid dataset of 1,400 cross-laboratory images of 64 trackable brain organoids",
           0
          ],
          [
           "ATOMIX benchmark datasets for dissipation rate measurements using shear probes",
           2
          ],
          [
           "A dataset of ambient sensors in a meeting room for activity recognition",
           1
          ],
          [
           "Exploring Alashan Ground Squirrel (Spermophilus alashanicus) Diversity: Metagenomic and Transcriptomic Datasets from the Helan Mountains",
           0
          ],
          [
           "Endosymbionts of citrus leafminer Phyllocnistis citrella Stainton among different citrus orchards in China",
           0
          ],
          [
           "Smart device interest, perceived usefulness, and preferences in rural Alabama seniors",
           0
          ],
          [
           "De novo transcriptome assembly of a lipoxygenase knock-down strain in the diatom Pseudo-nitzschia arenysensis",
           0
          ],
          [
           "The first chromosomal-level genome assembly and annotation of white suckerfish Remora albescens",
           0
          ],
          [
           "BRAIN - Holocene archaeo-data for assessing plant-cultural diversity in Italy and other Mediterranean regions",
           0
          ],
          [
           "A high-quality chromosome-level genome assembly of Ficus hirta",
           0
          ],
          [
           "From Planning Stage Towards FAIR Data: A Practical Metadatasheet For Biomedical Scientists",
           0
          ],
          [
           "A daily gap-free normalized difference vegetation index dataset from 1981 to 2023 in China",
           0
          ],
          [
           "Metricizing policy texts: Comprehensive dataset on China’s Agri-policy intensity spanning 1982–2023",
           0
          ],
          [
           "Geolocated fish spawning habitats",
           0
          ],
          [
           "Typical and extreme weather datasets for studying the resilience of buildings to climate change and heatwaves",
           1
          ],
          [
           "Simulated Sea Surface Salinity Data from a 1/48° Ocean Model",
           0
          ],
          [
           "Computer-aided pattern scoring – A multitarget dataset-driven workflow to predict ligands of orphan targets",
           3
          ],
          [
           "BOLD: Blood-gas and Oximetry Linked Dataset",
           0
          ],
          [
           "A unified dataset for pre-processed climate indicators weighted by gridded economic activity",
           0
          ],
          [
           "Construction of high-quality genomes and gene catalogue for culturable microbes of sugarcane (Saccharum spp.)",
           1
          ],
          [
           "The reference genome of Macropodus opercularis (the paradise fish)",
           0
          ],
          [
           "DCTPep, the data of cancer therapy peptides",
           1
          ],
          [
           "The SPECTRAL Perfusion Arm Clamping dAtaset (SPECTRALPACA) for video-rate functional imaging of the skin",
           0
          ],
          [
           "The AusTraits plant dictionary",
           1
          ],
          [
           "Head model dataset for mixed reality navigation in neurosurgical interventions for intracranial lesions",
           1
          ],
          [
           "Maritime Freight Carbon Emission in the U.S. using AIS data from 2018 to 2022",
           0
          ],
          [
           "REAL-Colon: A dataset for developing real-world AI applications in colonoscopy",
           2
          ],
          [
           "A fundus image dataset for intelligent retinopathy of prematurity system",
           1
          ],
          [
           "Long non-coding RNAs expression and regulation across different brain regions in primates",
           0
          ],
          [
           "An fNIRS dataset for driving risk cognition of passengers in highly automated driving scenarios",
           0
          ],
          [
           "A 2-year longitudinal study examining the change in psychosocial factors under the COVID-19 pandemic in Japan",
           0
          ],
          [
           "ACcoding: A graph-based dataset for online judge programming",
           1
          ],
          [
           "ChineseEEG: A Chinese Linguistic Corpora EEG Dataset for Semantic Alignment and Neural Decoding",
           0
          ],
          [
           "Detection of differential bait proteoforms through immunoprecipitation-mass spectrometry data analysis",
           0
          ],
          [
           "The chromosome-level genome assembly of the dwarfing apple interstock Malus hybrid ‘SH6’",
           0
          ],
          [
           "Dataset of Finite Element Models of Normal and Deformed Thoracolumbar Spine",
           0
          ],
          [
           "A large-scale multivariate soccer athlete health, performance, and position monitoring dataset",
           0
          ],
          [
           "A chromosome-scale genome assembly of the nipa palm hispid beetle Octodonta nipae",
           0
          ],
          [
           "A global dataset of diel activity patterns in insect communities",
           0
          ],
          [
           "Direct comparison of mass cytometry and single-cell RNA sequencing of human peripheral blood mononuclear cells",
           0
          ],
          [
           "Micro-CT data of complete metamorphosis process in Harmonia axyridis",
           0
          ],
          [
           "Chromosome-level genome assembly and annotation of the cold-water species Ophiura sarsii",
           0
          ],
          [
           "The chromosome-level genomes of the herbal magnoliids Warburgia ugandensis and Saururus chinensis",
           0
          ],
          [
           "Global high-resolution growth projections dataset for rooftop area consistent with the shared socioeconomic pathways, 2020–2050",
           0
          ],
          [
           "3D motion analysis dataset of healthy young adult volunteers walking and running on overground and treadmill",
           0
          ],
          [
           "Time-of-Flight MRA of Intracranial Aneurysms with Interval Surveillance, Clinical Segmentation and Annotations",
           0
          ],
          [
           "Global Spore Sampling Project: A global, standardized dataset of airborne fungal DNA",
           1
          ],
          [
           "A labelled dataset to classify direct deforestation drivers from Earth Observation imagery in Cameroon",
           0
          ],
          [
           "Gender board diversity across Europe throughout four decades",
           0
          ],
          [
           "Precipitation data in Seoul, Korea during 1778–1907",
           0
          ],
          [
           "Protein family annotation for the Unified Human Gastrointestinal Proteome by DPCfam clustering",
           0
          ],
          [
           "Assessing Spatial Representativeness of Global Flux Tower Eddy-Covariance Measurements Using Data from FLUXNET2015",
           0
          ],
          [
           "A nineteenth-century urban Ottoman population micro dataset: Data extraction and relational database curation from the 1840s pre-census Bursa population registers",
           0
          ],
          [
           "Chromosome-level genome assembly of ridgetail white shrimp Exopalaemon carinicauda",
           0
          ],
          [
           "Chromosome-level genome assembly of Solanum pimpinellifolium",
           0
          ],
          [
           "Chromosome-level genome assembly of the western flower thrips Frankliniella occidentalis",
           0
          ],
          [
           "Ensemble of global climate simulations for temperature in historical, 1.5 °C and 2.0 °C scenarios from HadAM4",
           0
          ],
          [
           "Gap-free chromosome-level genomes of male and female spotted longbarbel catfish Hemibagrus guttatus",
           0
          ],
          [
           "Chromosome-level genome assembly of the snakefly Mongoloraphidia duomilia (Raphidioptera: Raphidiidae)",
           0
          ],
          [
           "A dataset describing chip parameters for rock breaking by chisel pick under deep-sea hydrostatic pressure",
           0
          ],
          [
           "Single-cell transcriptome atlas of testes from mice with high-fat diets",
           0
          ],
          [
           "Publication, funding, and experimental data in support of Human Reference Atlas construction and usage",
           0
          ],
          [
           "Harmonizing existing climate change mitigation policy datasets with a hybrid machine learning approach",
           0
          ],
          [
           "Single chamber Mg/Ca analyses of Globigerinoides ruber for paleo-proxy calibration using femtosecond LA-ICP-MS",
           0
          ],
          [
           "AgEvidence: a dataset to explore agro-ecological effects of conservation agriculture",
           0
          ],
          [
           "Multiparametric MRI dataset for susceptibility-based radiomic feature extraction and analysis",
           0
          ],
          [
           "Error-Reduced Digital Elevation Model of the Qinghai-Tibet Plateau using ICESat-2 and Fusion Model",
           0
          ],
          [
           "Individual Brain Charting dataset extension, third release for movie watching and retinotopy data",
           0
          ],
          [
           "A global dataset for assessing nitrogen-related plant traits using drone imagery in major field crop species",
           0
          ],
          [
           "Haplotype-resolved chromosome-level genome assembly of Ehretia macrophylla",
           0
          ],
          [
           "A Transcriptomic Dataset of Embryonic Murine Telencephalon",
           0
          ],
          [
           "A cell atlas of the adult female Aedes aegypti midgut revealed by single-cell RNA sequencing",
           1
          ],
          [
           "Whole genome sequences of 70 indigenous Ethiopian cattle",
           0
          ],
          [
           "A haplotype-resolved genome assembly of Malus domestica ‘Red Fuji’",
           0
          ],
          [
           "De novo transcriptomes of cave and surface isopod crustaceans: insights from 11 species across three suborders",
           0
          ],
          [
           "Multi-center Korean cohort study based on RNA-sequencing data targeting COPD patients",
           0
          ],
          [
           "CLEMD, a circuit-level electrical measurements dataset for electrical energy management",
           0
          ],
          [
           "Folding the human proteome using BioNeMo: A fused dataset of structural models for machine learning purposes",
           1
          ],
          [
           "Harmonized Database of Western U.S. Water Rights (HarDWR) v.1",
           0
          ],
          [
           "Type B Aortic Dissection CTA Collection with True and False Lumen Expert Annotations for the Development of AI-based Algorithms",
           0
          ],
          [
           "The Pan-Canadian Chemical Library: A Mechanism to Open Academic Chemistry to High-Throughput Virtual Screening",
           0
          ],
          [
           "A harmonized global gridded transpiration product based on collocation analysis",
           0
          ],
          [
           "Experimental data on filling and emptying of a large-scale pipeline",
           0
          ],
          [
           "A materials terminology knowledge graph automatically constructed from text corpus",
           0
          ],
          [
           "Time series of freshwater macroinvertebrate abundances and site characteristics of European streams and rivers",
           0
          ],
          [
           "Haplotype-resolved chromosome-level genome assembly of Huyou (Citrus changshanensis)",
           0
          ],
          [
           "Three-dimensional reconstruction of high latitude bamboo coral via X-ray microfocus Computed Tomography",
           0
          ],
          [
           "Chromosome-scale genome assembly of oil-tea tree Camellia crapnelliana",
           0
          ],
          [
           "Chromosome-level genome assembly of the freshwater mussel Sinosolenaia oleivora (Heude, 1877)",
           0
          ],
          [
           "A Clinical Bacterial Dataset for Deep Learning in Microbiological Rapid On-Site Evaluation",
           0
          ],
          [
           "DustSCAN: A Five Year (2018-2022) Hourly Dataset of Dust Plumes From SEVIRI",
           0
          ],
          [
           "A Global Multi-Source Tropical Cyclone Precipitation (MSTCP) Dataset",
           0
          ],
          [
           "AidData’s Geospatial Global Chinese Development Finance Dataset",
           0
          ],
          [
           "A dataset on survey designs and quality of social and behavioral science surveys during the COVID-19 pandemic",
           0
          ],
          [
           "Integrative transcriptomic and proteomic profiling of the effects of cell confluency on gene expression",
           0
          ],
          [
           "MEDUSA: Marine benthic Ecological Data from Underwater imagery Surveys of sub-Antarctic Crozet environments",
           0
          ],
          [
           "Chromosome-level genome assembly and annotation of a potential model organism Gossypium arboreum ZB-1",
           0
          ],
          [
           "Chlorophyll a in lakes and streams of the United States (2005–2022)",
           0
          ],
          [
           "GLAMOUR: GLobAl building MOrphology dataset for URban hydroclimate modelling",
           0
          ],
          [
           "Single-nucleus chromatin landscape dataset of mouse brain development and aging",
           0
          ],
          [
           "Fox Insight at 5 years - a cohort of 54,000 participants contributing longitudinal patient-reported outcome, genetic, and microbiome data relating to Parkinson’s disease",
           0
          ],
          [
           "A dataset of human capital-weighted population estimates for 185 countries from 1970 to 2100",
           0
          ],
          [
           "Comprehensive Dataset on Electrical Load Profiles for Energy Community in Ireland",
           0
          ],
          [
           "Chromosome-scale genome assembly of medicinal plant Tinospora sagittata (Oliv.) Gagnep. from the Menispermaceae family",
           0
          ],
          [
           "An AS-OCT image dataset for deep learning-enabled segmentation and 3D reconstruction for keratitis",
           0
          ],
          [
           "3D atlas of the human fetal chondrocranium in the middle trimester",
           0
          ],
          [
           "A Data Set of Synthetic Utterances for Computational Personality Analysis",
           0
          ],
          [
           "Neurophysiological recordings from parietal areas of macaque brain during an instructed-delay reaching task",
           0
          ],
          [
           "Biomedical Data Repository Concepts and Management Principles",
           0
          ],
          [
           "A high-quality dataset featuring classified and annotated cervical spine X-ray atlas",
           0
          ],
          [
           "Annual dynamics of global remote industrial heat sources dataset from 2012 to 2021",
           0
          ],
          [
           "Abrasivity database of different genetic rocks based on CERCHAR Abrasivity Test",
           0
          ],
          [
           "Transcriptomic annotation of the Chungtien schizothoracin (Ptychobarbus chungtienensis) using Iso-seq and RNA-seq data",
           0
          ],
          [
           "CaRDS - the statewide California Residential water Demand and Supply open dataset",
           0
          ],
          [
           "A near-infrared spectroscopy dataset of coal and coal-measure rock under diverse conditions",
           0
          ],
          [
           "VectAbundance: a spatio-temporal database of Aedes mosquitoes observations",
           0
          ],
          [
           "A multimodal framework for extraction and fusion of satellite images and public health data",
           0
          ],
          [
           "The Global Historical Climatology Network Monthly Precipitation Dataset, Version 4",
           0
          ],
          [
           "Microscopy Image Dataset for Deep Learning-Based Quantitative Assessment of Pulmonary Vascular Changes",
           0
          ],
          [
           "ForametCeTera, a novel CT scan dataset to expedite classification research of (non-)foraminifera",
           0
          ],
          [
           "Chromosomal-scale genome assembly of the Mediterranean mussel Mytilus galloprovincialis",
           0
          ],
          [
           "Chromosome-level genome assembly of the cottony cushion scale Icerya purchasi",
           0
          ],
          [
           "An experienced racial-ethnic diversity dataset in the United States using human mobility data",
           0
          ],
          [
           "Embodied CO2 emissions of equity portfolios for Chinese asset managers",
           0
          ],
          [
           "Complete genome of the Listeria monocytogenes strain AUF, used as a live listeriosis veterinary vaccine",
           0
          ],
          [
           "BCN20000: Dermoscopic Lesions in the Wild",
           0
          ],
          [
           "Chromosome-level genome assembly of the cereal cyst nematode Heterodera flipjevi",
           0
          ],
          [
           "A biomechanics and energetics dataset of neurotypical adults walking with and without kinematic constraints",
           0
          ],
          [
           "Daily station-level records of air temperature, snow depth, and ground temperature in the Northern Hemisphere",
           0
          ],
          [
           "EmoWear: Wearable Physiological and Motion Dataset for Emotion Recognition and Context Awareness",
           0
          ],
          [
           "SDWPF: A Dataset for Spatial Dynamic Wind Power Forecasting over a Large Turbine Array",
           0
          ],
          [
           "A chromosome-level genome of the striated frogfish (Antennarius striatus)",
           0
          ],
          [
           "Resource demands in telco data centers",
           0
          ],
          [
           "Chromosome-level genome assembly of Euphorbia tirucalli (Euphorbiaceae), a highly stress-tolerant oil plant",
           0
          ],
          [
           "A dataset of trophic state index for nation-scale lakes in China from 40-year Landsat observations",
           1
          ],
          [
           "SARS-CoV-2 viral titer measurements in Ontario, Canada wastewaters throughout the COVID-19 pandemic",
           1
          ],
          [
           "Chromosome-scale genome assemblies of sexually dimorphic male and female Acrossocheilus fasciatus",
           0
          ],
          [
           "INSPIRE, a publicly available research dataset for perioperative medicine",
           0
          ],
          [
           "A complete reference genome of broomcorn millet",
           0
          ],
          [
           "A dataset of high-resolution digital elevation models of the Skeiðarársandur kettle holes, Southern Iceland",
           0
          ],
          [
           "Carbon dioxide fluxes in Alpine grasslands at the Nivolet Plain, Gran Paradiso National Park, Italy 2017–2023",
           0
          ],
          [
           "The Lifespan Disparity Dataset: An open repository on inequality and polarization in length of life (1950–2021)",
           0
          ],
          [
           "An EEG & eye-tracking dataset of ALS patients & healthy people during eye-tracking-based spelling system usage",
           0
          ],
          [
           "A thermosurvey dataset: Older adults’ experiences and adaptation to urban heat and climate change",
           1
          ],
          [
           "O armário: Fruiting phenology data for 4,462 plant taxa in Portugal (1926–2013)",
           0
          ],
          [
           "CN+: Vehicular Dataset at Traffic Light Regulated Intersection in Bremen, Germany",
           0
          ],
          [
           "CODC-v1: a quality-controlled and bias-corrected ocean temperature profile database from 1940–2023",
           1
          ],
          [
           "Twenty-nine newly sequenced genomes and a comprehensive genome dataset for the insect endosymbiont Buchnera",
           0
          ],
          [
           "Chromosome-level genome assembly and annotation of the social amoeba Dictyostelium firmibasis",
           0
          ],
          [
           "Chromosome-level genome assembly of Cnidium monnieri, a highly demanded traditional Chinese medicine",
           0
          ],
          [
           "A Military Audio Dataset for Situational Awareness and Surveillance",
           0
          ],
          [
           "Microbial co-occurrence network demonstrates spatial and climatic trends for global soil diversity",
           0
          ],
          [
           "Chromosome-level assembly of the synthetic hexaploid wheat-derived cultivar Chuanmai 104",
           0
          ],
          [
           "Validation and refinement of cropland map in southwestern China by harnessing ten contemporary datasets",
           0
          ],
          [
           "Chromosome-level genome of the long-tailed marine-living ornate spiny lobster, Panulirus ornatus",
           0
          ],
          [
           "Making Mathematical Research Data FAIR: Pathways to Improved Data Sharing",
           0
          ],
          [
           "A study on interoperability between two Personal Health Train infrastructures in leukodystrophy data analysis",
           0
          ],
          [
           "Integrating Iso-seq and RNA-seq data for the reannotation of the greater amberjack genome",
           0
          ],
          [
           "Spatially distributed atmospheric boundary layer properties in Houston – A value-added observational dataset",
           0
          ],
          [
           "Multi-year aboveground data of minirhizotron facilities in Selhausen",
           0
          ],
          [
           "Histological Hyperspectral Glioblastoma Dataset (HistologyHSI-GB)",
           0
          ],
          [
           "Selected annotated instance segmentation sub-volumes from a large scale CT data-set of a historic aircraft",
           0
          ],
          [
           "Transcriptome sequencing of seven deep marine invertebrates",
           0
          ],
          [
           "Characterization of an expanded set of assays for immunomodulatory proteins using targeted mass spectrometry",
           0
          ],
          [
           "The Subnational Corruption Database: Grand and petty corruption in 1,473 regions of 178 countries, 1995–2022",
           1
          ],
          [
           "Machine Learning-Enhanced Extraction of Biomarkers for High-Grade Serous Ovarian Cancer from Proteomics Data",
           0
          ],
          [
           "A multi-omics dataset of the response to early plant polysaccharide ingestion in rabbits",
           0
          ],
          [
           "CMRxRecon: A publicly available k-space dataset and benchmark to advance deep learning for cardiac MRI",
           0
          ],
          [
           "The Swedish Cervical Screening Cohort",
           0
          ],
          [
           "Features and quality metrics datasets for video coding in DASH",
           0
          ],
          [
           "Nuclear and mitochondrial genomes of the plum fruit moth Grapholita funebrana",
           0
          ],
          [
           "A morphological traits dataset of Heteroptera sampled in biodiversity priority areas of Southwest China",
           0
          ],
          [
           "Computed tomography reconstructions of burrow networks for the Opheliid polychaete, Armandia cirrhosa",
           0
          ],
          [
           "Automated generation of consistent annual maximum NDVI on coal bases with a new algorithm",
           0
          ],
          [
           "Molecular signatures of premature aging in Major Depression and Substance Use Disorders",
           0
          ],
          [
           "National-scale 10-m maps of cropland use intensity in China during 2018–2023",
           0
          ],
          [
           "ROCOv2: Radiology Objects in COntext Version 2, an Updated Multimodal Image Dataset",
           0
          ],
          [
           "High-resolution transcriptome datasets during embryogenesis of plant-parasitic nematodes",
           0
          ],
          [
           "A High-Resolution Digital Bathymetric Elevation Model Derived from ICESat-2 for Adam’s Bridge",
           0
          ],
          [
           "Catalogue of drought events in peninsular Spanish along 1916–2020 period",
           0
          ],
          [
           "In-ice light measurements during the MOSAiC expedition",
           0
          ],
          [
           "Integrated machine learning algorithms reveal a bone metastasis-related signature of circulating tumor cells in prostate cancer",
           0
          ],
          [
           "A large-scale and PCR-referenced vocal audio dataset for COVID-19",
           0
          ],
          [
           "Four years monitoring of the endangered European plethodontid salamanders",
           0
          ],
          [
           "Comprehensive Collection of Whole-Slide Images and Genomic Profiles for Patients with Bladder Cancer",
           0
          ],
          [
           "A multimodal physiological and psychological dataset for human with mental stress induced myocardial ischemia",
           0
          ],
          [
           "Time-course transcriptome data of silk glands in day 0–7 last-instar larvae of Bombyx mori (w1 pnd strain)",
           0
          ],
          [
           "The genome assembly and annotation of the cricket Gryllus longicercus",
           0
          ],
          [
           "A global dataset of the fraction of absorbed photosynthetically active radiation for 1982–2022",
           0
          ],
          [
           "A dataset of riverine nitrogen yield across watersheds in the Conterminous United States",
           1
          ],
          [
           "A Phanerozoic gridded dataset for palaeogeographic reconstructions",
           0
          ],
          [
           "Chromosome-level genome assembly of Guide Black-Fur sheep (Ovis aries)",
           0
          ],
          [
           "A high-precision oasis dataset for China from remote sensing images",
           1
          ],
          [
           "A mapped dataset of surface ocean acidification indicators in large marine ecosystems of the United States",
           0
          ],
          [
           "1 Million Segmented Red Blood Cells With 240 K Classified in 9 Shapes and 47 K Patches of 25 Manual Blood Smears",
           0
          ],
          [
           "HVSMR-2.0: A 3D cardiovascular MR dataset for whole-heart segmentation in congenital heart disease",
           0
          ],
          [
           "A single-cell chromatin accessibility dataset of human primed and naïve pluripotent stem cell-derived teratoma",
           0
          ],
          [
           "Cellular morphological trait dataset for extant coccolithophores from the Atlantic Ocean",
           0
          ],
          [
           "SignEEG v1.0: Multimodal Dataset with Electroencephalography and Hand-written Signature for Biometric Systems",
           0
          ],
          [
           "Chromosome-level genome assembly of Helwingia omeiensis: the first genome in the family Helwingiaceae",
           0
          ],
          [
           "An international, open-access dataset of dental wear patterns and associated broad age classes in archaeological cattle mandibles",
           0
          ],
          [
           "Chromosome-level genome assembly of Korean holoparasitic plants, Orobanche coerulescens",
           0
          ],
          [
           "A fine-grained dataset for sewage outfalls objective detection in natural environments",
           0
          ],
          [
           "Tidings from the Tides–De novo transcriptome assembly of the endemic estuarine bivalve Villorita cyprinoides",
           0
          ],
          [
           "Accelerating Formulation Design via Machine Learning: Generating a High-throughput Shampoo Formulations Dataset",
           0
          ],
          [
           "Climate data for building simulations with urban heat island effects and nature-based solutions",
           0
          ],
          [
           "Exploring and retrieving sequence and metadata for species across the tree of life with NCBI Datasets",
           0
          ],
          [
           "40 years of forest dynamics and tree demography in an intact tropical forest at M’Baïki in central Africa",
           0
          ],
          [
           "Chromosome-level genome assembly of an oligophagous leaf beetle Ophraella communa (Coleoptera: Chrysomelidae)",
           0
          ],
          [
           "Pixel-wise segmentation of cells in digitized Pap smear images",
           0
          ],
          [
           "BULL Database – Spanish Basin attributes for Unravelling Learning in Large-sample hydrology",
           0
          ],
          [
           "16S rRNA, metagenomics and 2bRAD-M sequencing to decode human thanatomicrobiome",
           0
          ],
          [
           "Telomere-to-telomere genome assembly of the goose Anser cygnoides",
           0
          ],
          [
           "Multi-omics and single cell characterization of cancer immunosenescence landscape",
           0
          ],
          [
           "Dataset of soil hydraulic parameters in the Yellow River Basin based on in situ deep sampling",
           0
          ],
          [
           "A comprehensive city-level final energy consumption dataset including renewable energy for China, 2005–2021",
           0
          ],
          [
           "Dataset for quantum-mechanical exploration of conformers and solvent effects in large drug-like molecules",
           1
          ],
          [
           "Annotated Pap cell images and smear slices for cell classification",
           0
          ],
          [
           "A high-quality genome assembly and annotation of Thielaviopsis punctulata DSM102798",
           0
          ],
          [
           "A dataset of hidden small non-coding RNA in the testis of heat-stressed models revealed by Pandora-seq",
           0
          ],
          [
           "Integration of ten years of daily weather, traffic, and air pollution data from Norway’s six largest cities",
           0
          ],
          [
           "A voice and speech corpus of patients who underwent upper airway surgery in pre- and post-operative states",
           0
          ],
          [
           "The miniature genome of broad mite, Polyphagotarsonemus latus (Tarsonemidae: Acari)",
           0
          ],
          [
           "Explaining Conformational Diversity in Protein Families through Molecular Motions",
           0
          ],
          [
           "Six years of high-resolution climatic data collected along an elevation gradient in the Italian Alps",
           0
          ],
          [
           "CALiSol-23: Experimental electrolyte conductivity data for various Li-salts and solvent combinations",
           0
          ],
          [
           "Improving data archiving practices in ancient genomics",
           0
          ],
          [
           "Dataset of the rumen microbiota and epithelial transcriptomics and proteomics in goat affected by solid diets",
           0
          ],
          [
           "A database of chemical absorption in human skin with mechanistic modeling applications",
           0
          ],
          [
           "Plant-level intensity of energy and CO2 emissions for Portland cement in Guizhou of Southwest China 2019–2022",
           0
          ],
          [
           "Curation of historical phenotypic wheat data from the Czech Genebank for research and breeding",
           0
          ],
          [
           "Unfolding the downloads of datasets: A multifaceted exploration of influencing factors",
           0
          ],
          [
           "Histopathology imaging and clinical data including remission status in pediatric inflammatory bowel disease",
           0
          ],
          [
           "Site-specific apparent optimum air temperature for vegetation photosynthesis across the globe",
           0
          ],
          [
           "Mapping of 10-km daily diffuse solar radiation across China from reanalysis data and a Machine-Learning method",
           0
          ],
          [
           "Second-harmonic generation tensors from high-throughput density-functional perturbation theory",
           0
          ],
          [
           "A near complete genome assembly of the East Friesian sheep genome",
           0
          ],
          [
           "The Canadian Fire Spread Dataset",
           1
          ],
          [
           "Chromosome-level Genome Assembly of Theretra japonica (Lepidoptera: Sphingidae)",
           0
          ],
          [
           "An UltraMNIST classification benchmark to train CNNs for very large images",
           0
          ],
          [
           "Genetic and multi-omic resources for Alzheimer disease and related dementia from the Knight Alzheimer Disease Research Center",
           0
          ],
          [
           "Small non-coding RNA transcriptomic profiling in adult and fetal human brain",
           0
          ],
          [
           "A database of high-pressure crystal structures from hydrogen to lanthanum",
           0
          ],
          [
           "AgCNER, the First Large-Scale Chinese Named Entity Recognition Dataset for Agricultural Diseases and Pests",
           0
          ],
          [
           "Tibetan Plateau Runoff and Evapotranspiration Dataset by an observation-constrained cryosphere-hydrology model",
           0
          ],
          [
           "Transcriptomic and metabolomic data of goat ovarian and uterine tissues during sexual maturation",
           0
          ],
          [
           "A high-quality chromosome-level genome assembly of the endangered tree Kmeria septentrionalis",
           0
          ],
          [
           "Tracing Opioids Across the US: A High-Resolution Pharmaceutical Distribution Dataset",
           0
          ],
          [
           "Towards an Interoperability Landscape for a National Research Data Infrastructure for Personal Health Data",
           0
          ],
          [
           "Chromosome-level genome assembly of Hippophae rhamnoides variety",
           0
          ],
          [
           "A chromosome-level genome assembly for the paramylon-producing microalga Euglena gracilis",
           1
          ],
          [
           "High-resolution computed tomographic (HRCT) image series from 413 canid and 18 felid skulls",
           0
          ],
          [
           "A dataset of topographic correction coefficients for shortwave downward radiation over the Pan-Third Pole",
           0
          ],
          [
           "The Tropical Andes Biodiversity Hotspot: A Comprehensive Dataset for the Mira-Mataje Binational Basins",
           0
          ],
          [
           "DiasMorph: a dataset of morphological traits and images of Central European diaspores",
           0
          ],
          [
           "A diffusion MRI tractography atlas for concurrent white matter mapping across Eastern and Western populations",
           0
          ],
          [
           "Dataset of Post-Event Survey of the 2024 Noto Peninsula Earthquake Tsunami in Japan",
           0
          ],
          [
           "The chromosome-level genome assembly of Aphidoletes aphidimyza Rondani (Diptera: Cecidomyiidae)",
           0
          ],
          [
           "Chromosome-level genome assembly of Aquilaria yunnanensis",
           0
          ],
          [
           "A dataset of alternately located segments in protein crystal structures",
           0
          ],
          [
           "Normative longitudinal EEG recordings during sleep stage II in the first year of age",
           0
          ],
          [
           "Streamflow in the United States: Characteristics, trends, regime shifts, and extremes",
           0
          ],
          [
           "A Multi-Center, Multi-Parametric MRI Dataset of Primary and Secondary Brain Tumors",
           0
          ],
          [
           "Chromosome-level genome assembly of the two-spotted spider mite Tetranychus urticae",
           0
          ],
          [
           "Chromatin conformation and histone modification profiling across human kidney anatomic regions",
           0
          ],
          [
           "High-quality reference genome of cowpea beetle Callosobruchus maculatus",
           0
          ],
          [
           "A hybrid DDA/DIA-PASEF based assay library for a deep proteotyping of triple-negative breast cancer",
           0
          ],
          [
           "CoRRE Trait Data: A dataset of 17 categorical and continuous traits for 4079 grassland species worldwide",
           0
          ],
          [
           "Whole-genome sequencing of 13 Arctic plants and draft genomes of Oxyria digyna and Cochlearia groenlandica",
           0
          ],
          [
           "A chromosome-level genome assembly and evolutionary analysis of Coregonus ussuriensis Berg",
           0
          ],
          [
           "Genome assembly, Full-length transcriptome, and isoform diversity of Red Snapper, Lutjanus argentimaculatus",
           0
          ],
          [
           "Annual Impervious Surface Data from 2001–2020 for West African Countries: Ghana, Togo, Benin and Nigeria",
           0
          ],
          [
           "Voice signals database of ALS patients with different dysarthria severity and healthy controls",
           0
          ],
          [
           "Genomic Reference Resource for African Cattle: Genome Sequences and High-Density Array Variants",
           0
          ],
          [
           "Chromosome-level genome assembly of Plagiognathops microlepis based on PacBio HiFi and Hi-C sequencing",
           0
          ],
          [
           "Two chromosome-level genome assemblies of galling aphids Slavum lentiscoides and Chaetogeoica ovagalla",
           0
          ],
          [
           "A panel sequencing dataset of peripheral blood gene variations in pan-cancer",
           0
          ],
          [
           "Dataset of replicate Apollo sample magnetizations bearing on impacts and absence of a long-lived lunar dynamo",
           0
          ],
          [
           "FHIR-standardized data collection on the clinical rehabilitation pathway of trans-femoral amputation patients",
           0
          ],
          [
           "Cognitive tasks, anatomical MRI, and functional MRI data evaluating the construct of self-regulation",
           1
          ],
          [
           "The 30 m vegetation maps from 1990 to 2020 in the Tibetan Plateau",
           0
          ],
          [
           "A chromosome-level genome assembly of Prosopocoilus inquinatus Westwood, 1848 (Coleoptera: Lucanidae)",
           0
          ],
          [
           "A dataset for deep learning based detection of printed circuit board surface defect",
           0
          ],
          [
           "Chromosome-level genome assembly and annotation of xerophyte secretohalophyte Reaumuria soongarica",
           0
          ],
          [
           "Chromosome-level genome assembly and sex chromosome identification of the pink stem borer, Sesamia inferens (Lepidoptera: Noctuidae)",
           0
          ],
          [
           "3D meshes dataset of sagittal otoliths from red mullet in the Mediterranean Sea",
           0
          ],
          [
           "Retinal Image Dataset of Infants and Retinopathy of Prematurity",
           0
          ],
          [
           "Archaeological Artefact Database of Finland (AADA)",
           0
          ],
          [
           "Bilateral flows and rates of international migration of scholars for 210 countries for the period 1998-2020",
           0
          ],
          [
           "Innovative molecular networking analysis of steroids and characterisation of the urinary steroidome",
           0
          ],
          [
           "A Curated Cell Life Imaging Dataset of Immune-enriched Pancreatic Cancer Organoids with Pre-trained AI Models",
           0
          ],
          [
           "Multi-organ transcriptomic profiles and gene-regulation network underlying vibriosis resistance in tongue sole",
           0
          ],
          [
           "A structured course of disease dataset with contact tracing information in Taiwan for COVID-19 modelling",
           0
          ],
          [
           "Distribution and habitat database of fluvial Plecoptera, Trichoptera and Coleoptera from Sierra Nevada, Spain",
           0
          ],
          [
           "Geoid Undulation Model as Vertical Reference in Indonesia",
           0
          ],
          [
           "Chromosome-scale assembly of the wild cereal relative Elymus sibiricus",
           0
          ],
          [
           "A Lung Nodule Dataset with Histopathology-based Cancer Type Annotation",
           0
          ],
          [
           "Intelligence Assessment of Children & Youth Benefiting from Psychological-Educational Support System in Poland",
           0
          ],
          [
           "In-Situ Characterization of Cathode Catalyst Degradation in PEM Fuel Cells",
           0
          ],
          [
           "A dataset of synthetic art dialogues with ChatGPT",
           0
          ],
          [
           "Development of a multidecadal land reanalysis over High Mountain Asia",
           0
          ],
          [
           "Mapping global land conversion pressure to support conservation planning",
           0
          ],
          [
           "MHC-I-presented non-canonical antigens expand the cancer immunotherapy targets in acute myeloid leukemia",
           0
          ],
          [
           "A global annual fractional tree cover dataset during 2000–2021 generated from realigned MODIS seasonal data",
           0
          ],
          [
           "CFTIlandslides, Italian database of historical earthquake-induced landslides",
           0
          ],
          [
           "Soul: An OCTA dataset based on Human Machine Collaborative Annotation Framework",
           0
          ],
          [
           "The stroke outcome optimization project: Acute ischemic strokes from a comprehensive stroke center",
           0
          ],
          [
           "Telomere-to-telomere genome assembly of sorghum",
           0
          ],
          [
           "Multimodal Eye Imaging, Retina Characteristics, and Psychological Assessment Dataset",
           0
          ],
          [
           "The Human Connectome Project of adolescent anxiety and depression dataset",
           0
          ],
          [
           "A Global Dataset of Potential Chloride Deposits on Mars as Identified by TGO CaSSIS",
           0
          ],
          [
           "Chromosome-level genome assembly of marmalade hoverfly Episyrphus balteatus (Diptera: Syrphidae)",
           0
          ],
          [
           "Introducing an indoor object classification dataset including sparse point clouds from mmWave radar",
           0
          ],
          [
           "A 10-m scale chemical industrial parks map along the Yangtze River in 2021 based on machine learning",
           0
          ],
          [
           "The natural variance of Arabidopsis secondary metabolism on extended darkness",
           0
          ],
          [
           "A chromosome-level genome assembly of the Korean minipig (Sus scrofa)",
           0
          ],
          [
           "Nine months of daily LiDAR, orthophotos and MetOcean data from the eroding soft cliff coast at Happisburgh, UK",
           0
          ],
          [
           "A Multimodal Dataset for Mixed Emotion Recognition",
           0
          ],
          [
           "Where should we go - Estimating travel times for modelling accessibility to 24-hour emergency departments in Canada",
           0
          ],
          [
           "GLocal: A global development dataset of subnational administrative areas",
           0
          ],
          [
           "Chromosome-level genome assembly and annotation of the Rhabdophis nuchalis (Hubei keelback)",
           0
          ],
          [
           "Reinterpretation of prostate cancer pathology by Appl1, Sortilin and Syndecan-1 biomarkers",
           0
          ],
          [
           "A hybrid reanalysis-forecast meteorological forcing data for advancing climate adaptation in agriculture",
           0
          ],
          [
           "A travel time matrix data set for the Helsinki region 2023 that is sensitive to time, mode and interpersonal differences, and uses open data and novel open-source software",
           0
          ],
          [
           "Introducing IsoMad, a compilation of isotopic datasets for Madagascar",
           0
          ],
          [
           "MSPB: a longitudinal multi-sensor dataset with phenotypic trait measurements from honey bees",
           0
          ],
          [
           "The first large scale rDNA amplicon database of soil microbiomes from Pamir Plateau, China",
           0
          ],
          [
           "Non-redundant metagenome-assembled genomes of activated sludge reactors at different disturbances and scales",
           0
          ],
          [
           "CREMP: Conformer-rotamer ensembles of macrocyclic peptides for machine learning",
           0
          ],
          [
           "Phenotypic variation in 1,100 provenances of Picea abies measured over 50 years on 33 German trial sites",
           0
          ],
          [
           "A large-scale reaction dataset of mechanistic pathways of organic reactions",
           0
          ],
          [
           "Datasets of traits of zodariid spiders (Araneae: Zodariidae)",
           0
          ],
          [
           "IrCytoToxDB: a dataset of iridium(III) complexes cytotoxicities against various cell lines",
           0
          ],
          [
           "Marine Fish Movement: home range sizes for commercially relevant species",
           0
          ],
          [
           "An image-based screen for secreted proteins involved in breast cancer G0 cell cycle arrest",
           0
          ],
          [
           "Comprehensive immune cell spectral library for large-scale human primary T, B, and NK cell proteomics",
           0
          ],
          [
           "The first high-quality genome assembly and annotation of Anthocidaris crassispina",
           0
          ],
          [
           "Telomere-to-telomere genome assembly of Eleocharis dulcis and expression profiles during corm development",
           0
          ],
          [
           "Benchmarking bacterial taxonomic classification using nanopore metagenomics data of several mock communities",
           0
          ],
          [
           "A MultiModal Vigilance (MMV) dataset during RSVP and SSVEP brain-computer interface tasks",
           0
          ],
          [
           "Mouse Escape Behaviors and mPFC-BLA Activity Dataset: Understanding Flexible Defensive Strategies Under Threat",
           0
          ],
          [
           "Chromosome-level assembly and evolution analysis of the Trichosanthes truncata genome",
           0
          ],
          [
           "EStreams: An integrated dataset and catalogue of streamflow, hydro-climatic and landscape variables for Europe",
           0
          ],
          [
           "Chromosome-level and haplotype-resolved genome assembly of Dracaena cambodiana (Asparagaceae)",
           0
          ],
          [
           "Monthly electricity consumption data at 1 km × 1 km grid for 280 cities in China from 2012 to 2019",
           0
          ],
          [
           "A Motion Capture Dataset on Human Sitting to Walking Transitions",
           0
          ],
          [
           "Chromosome-level genome assembly and annotation of Flueggea virosa (Phyllanthaceae)",
           0
          ],
          [
           "Predicting avian diversity based on land use and cover on a national scale",
           0
          ],
          [
           "ENTRANT: A Large Financial Dataset for Table Understanding",
           0
          ],
          [
           "The NACOB multi-surface walking dataset",
           0
          ],
          [
           "ChineseMPD: A Semantic Segmentation Dataset of Chinese Martial Arts Classic Movie Props",
           0
          ],
          [
           "The chromosome-level genome assembly of the red swamp crayfish Procambarus clarkii",
           0
          ],
          [
           "The SLICE-3D dataset: 400,000 skin lesion image crops extracted from 3D TBP for skin cancer detection",
           0
          ],
          [
           "Multi-resolution gridded maps of vegetation structure from GEDI",
           0
          ],
          [
           "Satellite-ground synchronous in-situ dataset of water optical parameters and surface temperature for typical lakes in China",
           0
          ],
          [
           "GLObal Building heights for Urban Studies (UT-GLOBUS) for city- and street- scale urban simulations: Development and first applications",
           0
          ],
          [
           "Metagenome sequencing and 107 microbial genomes from seamount sediments along the Yap and Mariana trenches",
           0
          ],
          [
           "A chromosomal-level genome assembly of Serrognathus titanus Boisduval, 1835 (Coleoptera: Lucanidae)",
           0
          ],
          [
           "Exploring the electrophysiology of Parkinson’s disease with magnetoencephalography and deep brain recordings",
           0
          ],
          [
           "Infrared spectral library of tooth enamel from African ungulates for accurate electron spin resonance dating",
           0
          ],
          [
           "Targeted DNA-seq and RNA-seq of Reference Samples with Short-read and Long-read Sequencing",
           0
          ],
          [
           "Chromosome-scale genome assembly and annotation of Paspalum notatum Flüggé var. saurae",
           0
          ],
          [
           "Seven hundred and ninety-seven metagenome-assembled genomes from the goat rumen during early life",
           0
          ],
          [
           "CS-PHOC: weekly census counts of Southern Ocean phocids at Cape Shirreff, Livingston Island",
           0
          ],
          [
           "Genome sequencing and assembly of Indian major carp, Cirrhinus mrigala (Hamilton, 1822)",
           0
          ],
          [
           "Chromosome-level genome assembly of the invasive pest Pseudococcus jackbeardsleyi (Hemiptera: Pseudococcidae)",
           0
          ],
          [
           "EDARA: An ERA5-based Dataset for Atmospheric River Analysis",
           0
          ],
          [
           "Near Pan-Svalbard permafrost cryospheric hazards inventory (SvalCryo)",
           0
          ],
          [
           "ANPHY-Sleep: an Open Sleep Database from Healthy Adults Using High-Density Scalp Electroencephalogram",
           0
          ],
          [
           "A global coastal permeability dataset (CoPerm 1.0)",
           0
          ],
          [
           "Datasets of fungal diversity and pseudo-chromosomal genomes of mangrove rhizosphere soil in China",
           0
          ],
          [
           "Recovery of 240 metagenome-assembled genomes from coastal mariculture environments in South Korea",
           0
          ],
          [
           "Gravity Wave Momentum Fluxes from 1 km Global ECMWF Integrated Forecast System",
           0
          ],
          [
           "QUANT: a long-term multi-city commercial air sensor dataset for performance evaluation",
           0
          ],
          [
           "A multi-decadal 1 km gridded database of continental-scale spring onset products",
           0
          ],
          [
           "Quantum mechanical electronic and geometric parameters for DNA k-mers as features for machine learning",
           0
          ],
          [
           "An ontology-based knowledge graph for representing interactions involving RNA molecules",
           0
          ],
          [
           "First-principles data for solid solution niobium-tantalum-vanadium alloys with body-centered-cubic structures",
           0
          ],
          [
           "High-resolution greenspace dynamic data cube from Sentinel-2 satellites over 1028 global major cities",
           0
          ],
          [
           "A high-quality chromosome-level genome assembly of the topmouth culter (Culter alburnus Basilewsky, 1855)",
           0
          ],
          [
           "UK Reproducibility Network open and transparent research practices survey dataset",
           0
          ],
          [
           "MAPLES-DR: MESSIDOR Anatomical and Pathological Labels for Explainable Screening of Diabetic Retinopathy",
           0
          ],
          [
           "Generating high-resolution land use and land cover maps for the greater Mariño watershed in 2019 with machine learning",
           0
          ],
          [
           "The RNA-seq mapping of Testicular Development after Heat Stress in Sexually Mature Mice",
           0
          ]
         ],
         "hovertemplate": "Date=%{x}<br>Accesses=%{y}<br>Title=%{customdata[0]}<br>Citations=%{customdata[1]}<br>Citations10^=%{marker.color}<extra></extra>",
         "legendgroup": "",
         "marker": {
          "color": [
           0.8450980400142568,
           2.484299839346786,
           2.1760912590556813,
           2.2174839442139063,
           1.8920946026904804,
           0.47712125471966244,
           1.6901960800285136,
           2.037426497940624,
           1.5185139398778875,
           2.0170333392987803,
           1.3424226808222062,
           2.2068258760318495,
           1.2304489213782739,
           1.1760912590556813,
           1.4471580313422192,
           1.6532125137753437,
           0.3010299956639812,
           1.2787536009528289,
           1.591064607026499,
           2.4785664955938436,
           1.1139433523068367,
           1.5563025007672873,
           2.4712917110589387,
           1.9242792860618816,
           1.5797835966168101,
           1.9822712330395684,
           0.47712125471966244,
           1.5797835966168101,
           1.380211241711606,
           1.4913616938342726,
           1.146128035678238,
           1.8573324964312685,
           2.0211892990699383,
           1.724275869600789,
           2.0453229787866576,
           2.428134794028789,
           1.6720978579357175,
           2.7151673578484576,
           0.9542425094393249,
           1.1760912590556813,
           1,
           2.0170333392987803,
           1.591064607026499,
           2,
           1.9637878273455553,
           1.662757831681574,
           1.1760912590556813,
           0.6020599913279624,
           2.184691430817599,
           2.8651039746411278,
           1.724275869600789,
           1.662757831681574,
           2.7323937598229686,
           1.591064607026499,
           1.6232492903979006,
           1.505149978319906,
           1.7403626894942439,
           1.3424226808222062,
           1.6334684555795864,
           1.146128035678238,
           1,
           0.6989700043360189,
           2.41161970596323,
           1.968482948553935,
           1.1139433523068367,
           0.8450980400142568,
           2.4533183400470375,
           2.3729120029701067,
           2.113943352306837,
           1.3222192947339193,
           1,
           1.4913616938342726,
           2.423245873936808,
           2.3891660843645326,
           1.1760912590556813,
           1.7558748556724915,
           1.414973347970818,
           0.6989700043360189,
           1.3222192947339193,
           1.0791812460476249,
           2.429752280002408,
           1.1760912590556813,
           1.4471580313422192,
           2.164352855784437,
           1.505149978319906,
           1.380211241711606,
           1.9344984512435677,
           1.3617278360175928,
           2.2671717284030137,
           1.3979400086720377,
           2.506505032404872,
           1.380211241711606,
           1.1760912590556813,
           2.4265112613645754,
           1.591064607026499,
           1.6020599913279623,
           1.6434526764861874,
           1.8325089127062364,
           1.3010299956639813,
           1.8808135922807914,
           0.47712125471966244,
           1.0791812460476249,
           1.2304489213782739,
           0.7781512503836436,
           0.9542425094393249,
           0.3010299956639812,
           0.9542425094393249,
           1.0791812460476249,
           1.6232492903979006,
           1.6020599913279623,
           3.447623097760286,
           2.155336037465062,
           0.7781512503836436,
           1.1139433523068367,
           1.5563025007672873,
           1.380211241711606,
           1.5185139398778875,
           0.6989700043360189,
           1.6020599913279623,
           1.0791812460476249,
           1.2304489213782739,
           0.8450980400142568,
           1.7160033436347992,
           1.146128035678238,
           1.7481880270062005,
           2.0827853703164503,
           1.0413926851582251,
           1.5440680443502757,
           2.0969100130080562,
           1.8195439355418688,
           2.5514499979728753,
           0.9542425094393249,
           1.3010299956639813,
           1.806179973983887,
           2.2405492482826,
           1.6232492903979006,
           2.1398790864012365,
           1.2041199826559248,
           0.7781512503836436,
           1.7481880270062005,
           1.0413926851582251,
           0.47712125471966244,
           2.093421685162235,
           1.8750612633917,
           1.8750612633917,
           1.9395192526186185,
           3.5809249756756194,
           1.1760912590556813,
           1,
           1.4913616938342726,
           2.255272505103306,
           1.8260748027008264,
           2.583198773968623,
           1.6334684555795864,
           0.9030899869919435,
           2.8680563618230415,
           1.5314789170422551,
           2.060697840353612,
           1.9084850188786497,
           0.47712125471966244,
           1.1139433523068367,
           0.6989700043360189,
           1.8260748027008264,
           1.568201724066995,
           1.568201724066995,
           1.3010299956639813,
           2.0086001717619175,
           1.146128035678238,
           1.7634279935629373,
           0.9542425094393249,
           1.6127838567197355,
           1.0413926851582251,
           0.8450980400142568,
           0.9030899869919435,
           1.2304489213782739,
           1.0413926851582251,
           1.6127838567197355,
           1.380211241711606,
           1.6532125137753437,
           0.6020599913279624,
           0.8450980400142568,
           1.3979400086720377,
           2.658964842664435,
           1.2787536009528289,
           1.255272505103306,
           1.6127838567197355,
           1.1139433523068367,
           0.8450980400142568,
           1.9395192526186185,
           2.798650645445269,
           1.4313637641589874,
           1.146128035678238,
           1.2787536009528289,
           1.6127838567197355,
           0.6020599913279624,
           1.8692317197309762,
           1.8976270912904414,
           0.47712125471966244,
           0.9030899869919435,
           1.845098040014257,
           0.9030899869919435,
           2.3541084391474008,
           0.6989700043360189,
           1.5797835966168101,
           1.8864907251724818,
           1.7781512503836436,
           1.0413926851582251,
           1.0791812460476249,
           0.9542425094393249,
           1.3222192947339193,
           1.4913616938342726,
           1.146128035678238,
           1,
           1.5314789170422551,
           1,
           1.0791812460476249,
           1.8920946026904804,
           1.2304489213782739,
           2.012837224705172,
           1.5440680443502757,
           2.3010299956639813,
           1.0791812460476249,
           2.0827853703164503,
           1.5314789170422551,
           1.255272505103306,
           0.7781512503836436,
           1.6127838567197355,
           1.2304489213782739,
           1.0791812460476249,
           2.432969290874406,
           1.462397997898956,
           2.03342375548695,
           1.505149978319906,
           1.1760912590556813,
           1.7634279935629373,
           1.462397997898956,
           0.47712125471966244,
           2.2068258760318495,
           1.505149978319906,
           2.3502480183341627,
           1.6532125137753437,
           1.2787536009528289,
           1.3222192947339193,
           1.2304489213782739,
           1.4313637641589874,
           1.7634279935629373,
           1.99563519459755,
           1.6020599913279623,
           1.7558748556724915,
           1.462397997898956,
           2.462397997898956,
           1.3424226808222062,
           0.9030899869919435,
           1.4313637641589874,
           0.9542425094393249,
           1.2041199826559248,
           1.3222192947339193,
           1.1139433523068367,
           1.1139433523068367,
           2.0969100130080562,
           0.6020599913279624,
           2.315970345456918,
           2.5563025007672873,
           2.2624510897304293,
           1.2041199826559248,
           1.4913616938342726,
           1.3617278360175928,
           1.724275869600789,
           1.662757831681574,
           1.2304489213782739,
           1.3617278360175928,
           2.0086001717619175,
           1.724275869600789,
           1.1139433523068367,
           0.9030899869919435,
           1.662757831681574,
           2.0170333392987803,
           1.2787536009528289,
           0.6989700043360189,
           0.7781512503836436,
           1,
           1.9138138523837167,
           0.7781512503836436,
           1.4313637641589874,
           1.3424226808222062,
           1.662757831681574,
           0.9542425094393249,
           1.255272505103306,
           1.6127838567197355,
           1.3424226808222062,
           0.8450980400142568,
           1.414973347970818,
           2.0170333392987803,
           1.6127838567197355,
           2.093421685162235,
           0.6989700043360189,
           1.8512583487190752,
           0.9030899869919435,
           1.4771212547196624,
           0,
           0.9542425094393249,
           0.9542425094393249,
           2.1702617153949575,
           1.3222192947339193,
           1.462397997898956,
           1.3424226808222062,
           2.03342375548695,
           1.8260748027008264,
           1.7403626894942439,
           2.0863598306747484,
           1.5314789170422551,
           1.99563519459755,
           1,
           1.724275869600789,
           2.0755469613925306,
           1.1139433523068367,
           2.187520720836463,
           1.6532125137753437,
           2.424881636631067,
           1.3424226808222062,
           0.6989700043360189,
           0,
           1.462397997898956,
           1.146128035678238,
           1.8692317197309762,
           1.3222192947339193,
           1.5314789170422551,
           1.0791812460476249,
           2.012837224705172,
           1.6127838567197355,
           1.6532125137753437,
           1.462397997898956,
           1.8195439355418688,
           0.3010299956639812,
           0.6989700043360189,
           2.155336037465062,
           1.6989700043360187,
           1.863322860120456,
           1.5314789170422551,
           2.2013971243204513,
           1.3979400086720377,
           1.6434526764861874,
           1.6720978579357175,
           2.2227164711475833,
           3.2068258760318495,
           1,
           1.6334684555795864,
           3.353916230920363,
           0.9030899869919435,
           1.3979400086720377,
           0.9542425094393249,
           0.47712125471966244,
           0.9542425094393249,
           2.093421685162235,
           1.568201724066995,
           1.5440680443502757,
           1.9030899869919435,
           1.9294189257142926,
           1.6989700043360187,
           0.7781512503836436,
           1.7481880270062005,
           2.113943352306837,
           1.3979400086720377,
           1.3617278360175928,
           2.143014800254095,
           1.1139433523068367,
           0.9542425094393249,
           1.146128035678238,
           2.164352855784437,
           1.462397997898956,
           1.255272505103306,
           1.2041199826559248,
           1.6232492903979006,
           0.3010299956639812,
           1.1760912590556813,
           2.4668676203541096,
           0.6989700043360189,
           1.1760912590556813,
           0.47712125471966244,
           1.255272505103306,
           1.2041199826559248,
           2.5440680443502757,
           1.4771212547196624,
           1.7323937598229686,
           0.7781512503836436,
           1.4313637641589874,
           1.380211241711606,
           1.3617278360175928,
           0.9030899869919435,
           1.3979400086720377,
           1.3222192947339193,
           0.8450980400142568,
           1.462397997898956,
           2.342422680822206,
           1.6020599913279623,
           0.8450980400142568,
           0.8450980400142568,
           1.414973347970818,
           1.1139433523068367,
           1.919078092376074,
           0.6989700043360189,
           1.255272505103306,
           0.8450980400142568,
           0.9030899869919435,
           1.9444826721501687,
           2.6273658565927325,
           2.2764618041732443,
           1,
           1.380211241711606,
           1.3424226808222062,
           1.3424226808222062,
           2.44870631990508,
           1.3424226808222062,
           1.146128035678238,
           1.3010299956639813,
           0.6020599913279624,
           3.144574207609616,
           1.0413926851582251,
           1.5563025007672873,
           0.6989700043360189,
           2.4653828514484184,
           2.9590413923210934,
           1.146128035678238,
           1.380211241711606,
           1.380211241711606,
           2.0863598306747484,
           1.724275869600789,
           1.5314789170422551,
           1.505149978319906,
           2.5658478186735176,
           1.7481880270062005,
           2.0718820073061255,
           1.568201724066995,
           1.3979400086720377,
           1.0413926851582251,
           1.5797835966168101,
           1.1760912590556813,
           1.3979400086720377,
           1.6532125137753437,
           2.2121876044039577,
           0.47712125471966244,
           1.792391689498254,
           2.670245853074124,
           1.0791812460476249,
           1.2041199826559248,
           2.0569048513364727,
           1.146128035678238,
           1.462397997898956,
           1.6720978579357175,
           1,
           1.6989700043360187,
           1.3617278360175928,
           1.0413926851582251,
           1.255272505103306,
           0.9030899869919435,
           1,
           2.1335389083702174,
           2.1789769472931693,
           2.4927603890268375,
           0.6020599913279624,
           0.47712125471966244,
           1,
           2.6127838567197355,
           1.6434526764861874,
           0.9542425094393249,
           1.5797835966168101,
           1.845098040014257,
           1.591064607026499,
           1.7160033436347992,
           1.9867717342662448,
           2.110589710299249,
           1.9084850188786497,
           1.146128035678238,
           1.0791812460476249,
           1.591064607026499,
           0.6020599913279624,
           1.6720978579357175,
           1.4913616938342726,
           0.7781512503836436,
           0.6020599913279624,
           2.060697840353612,
           0.6989700043360189,
           1,
           2.436162647040756,
           1.414973347970818,
           1.1760912590556813,
           1.6532125137753437,
           1.4471580313422192,
           1.414973347970818,
           0.7781512503836436,
           1.5440680443502757,
           2.1271047983648077,
           2.1072099696478683,
           1.1139433523068367,
           0.7781512503836436,
           1.6232492903979006,
           1.9344984512435677,
           1.505149978319906,
           1.792391689498254,
           0.47712125471966244,
           0.7781512503836436,
           2.037426497940624,
           1.3222192947339193,
           1.9242792860618816,
           1.591064607026499,
           1.3617278360175928,
           2.0718820073061255,
           1.6334684555795864,
           0.47712125471966244,
           1.2304489213782739,
           1.2787536009528289,
           1.3010299956639813,
           1.6127838567197355,
           1.806179973983887,
           1.4913616938342726,
           0.7781512503836436,
           1.505149978319906,
           1.6232492903979006,
           1.3222192947339193,
           1,
           1.462397997898956,
           1.255272505103306,
           1.2787536009528289,
           1.9493900066449128,
           1.1760912590556813,
           1,
           0.7781512503836436,
           1.505149978319906,
           1.8129133566428555,
           1.5563025007672873,
           1.0413926851582251,
           1.1139433523068367,
           1,
           1.7708520116421442,
           1.255272505103306,
           1.568201724066995,
           1.8260748027008264,
           2.0569048513364727,
           1.4471580313422192,
           2.155336037465062,
           1.3010299956639813,
           1.3617278360175928,
           1.9444826721501687,
           1.3222192947339193,
           1.1760912590556813,
           1.1760912590556813,
           1.414973347970818,
           1.591064607026499,
           0.9030899869919435,
           0.3010299956639812,
           1.4471580313422192,
           1.146128035678238,
           1,
           0.9542425094393249,
           1.462397997898956,
           0.8450980400142568,
           1.5185139398778875,
           2.0043213737826426,
           1.414973347970818,
           1.146128035678238,
           2.037426497940624,
           1.662757831681574,
           2.403120521175818,
           2.037426497940624,
           3.1992064791616577,
           0.7781512503836436,
           1.3617278360175928,
           0.6989700043360189,
           1.5797835966168101,
           1.3222192947339193,
           1.2041199826559248,
           1.7853298350107671,
           0,
           2.429752280002408,
           1.4471580313422192,
           1.0413926851582251,
           1.7708520116421442,
           1.2304489213782739,
           1.0791812460476249,
           1.2787536009528289,
           1.4313637641589874,
           1.724275869600789,
           1.8195439355418688,
           2.060697840353612,
           1.7708520116421442,
           0.9030899869919435,
           1.5563025007672873,
           0.6020599913279624,
           1.6334684555795864,
           2.8305886686851442,
           2.346352974450639,
           1.6812412373755872,
           0.47712125471966244,
           1.2304489213782739,
           1.2041199826559248,
           1.3617278360175928,
           0.9030899869919435,
           1.662757831681574,
           1,
           0.9030899869919435,
           1.6812412373755872,
           0.8450980400142568,
           1.0791812460476249,
           1,
           1,
           1.0413926851582251,
           1.0413926851582251,
           1.5563025007672873,
           1.3424226808222062,
           1.146128035678238,
           2.2355284469075487,
           1.6334684555795864,
           1.146128035678238,
           1.3617278360175928,
           1.806179973983887,
           2.0086001717619175,
           0.3010299956639812,
           0.6989700043360189,
           1.1760912590556813,
           1.380211241711606,
           0.9030899869919435,
           1.3010299956639813,
           1.5440680443502757,
           0.9542425094393249,
           1.2787536009528289,
           1,
           1.3010299956639813,
           1.3617278360175928,
           3.516403148447403,
           0.8450980400142568,
           0,
           1.6127838567197355,
           2.5289167002776547,
           1.6812412373755872,
           1.3010299956639813,
           1.7160033436347992,
           1.3222192947339193,
           1.1139433523068367,
           1.1139433523068367,
           0.6020599913279624,
           1.662757831681574,
           1.2787536009528289,
           1.3222192947339193,
           1.9912260756924949,
           0.9542425094393249,
           1.1760912590556813,
           0.47712125471966244,
           0.9542425094393249,
           1.3222192947339193,
           2.424881636631067,
           1.2787536009528289,
           1.3979400086720377,
           0.7781512503836436,
           1.3617278360175928,
           1.505149978319906,
           0.9542425094393249,
           1.919078092376074,
           1.2304489213782739,
           1.3424226808222062,
           2.0086001717619175,
           1.146128035678238,
           1.9294189257142926,
           1.662757831681574,
           1.5314789170422551,
           1.5185139398778875,
           1.5797835966168101,
           1.3010299956639813,
           1.6127838567197355,
           1.7708520116421442,
           1.1760912590556813,
           0.6020599913279624,
           1.0413926851582251,
           1.1760912590556813,
           0.9542425094393249,
           1.1760912590556813,
           0.8450980400142568,
           1.4471580313422192,
           0.3010299956639812,
           1.0791812460476249,
           1.1760912590556813,
           1.591064607026499,
           1.7075701760979363,
           1.8195439355418688,
           1.255272505103306,
           0.9030899869919435,
           0.6989700043360189,
           1.414973347970818,
           0.8450980400142568,
           0.9542425094393249,
           1.2304489213782739,
           1.3617278360175928,
           1.0791812460476249,
           1.3010299956639813,
           1.7075701760979363,
           0.8450980400142568,
           1.2787536009528289,
           1.5185139398778875,
           1.3424226808222062,
           2.2695129442179165,
           0,
           0.9542425094393249,
           1.6532125137753437,
           1.8325089127062364,
           1.7075701760979363,
           1.5797835966168101,
           1.9822712330395684,
           1.0413926851582251,
           1.1139433523068367,
           1.568201724066995,
           1.4471580313422192,
           1.3617278360175928,
           0.3010299956639812,
           1.0791812460476249,
           1.414973347970818,
           0.6020599913279624,
           1.3979400086720377,
           2.342422680822206,
           1.845098040014257,
           1.2787536009528289,
           1.568201724066995,
           0.47712125471966244,
           2.2095150145426308,
           1.4471580313422192,
           1.5797835966168101,
           1.6720978579357175,
           1.2041199826559248,
           1.505149978319906,
           1.5563025007672873,
           1.4771212547196624,
           1.0791812460476249,
           1.6989700043360187,
           1.5314789170422551,
           1.255272505103306,
           1.146128035678238,
           1.255272505103306,
           1.505149978319906,
           0.9030899869919435,
           1.6232492903979006,
           1.2041199826559248,
           1.0413926851582251,
           1.8195439355418688,
           1.1139433523068367,
           0.3010299956639812,
           2.0791812460476247,
           1.7558748556724915,
           1.2041199826559248,
           1.9637878273455553,
           1.146128035678238,
           1.380211241711606,
           2.1335389083702174,
           1.4913616938342726,
           1.7634279935629373,
           0.9030899869919435,
           1.1760912590556813,
           1.1760912590556813,
           0.9030899869919435,
           1.3617278360175928,
           1.6901960800285136,
           1.591064607026499,
           0.7781512503836436,
           1.4313637641589874,
           1.6020599913279623,
           1.146128035678238,
           0.8450980400142568,
           2.1931245983544616,
           1.255272505103306,
           1.863322860120456,
           1.4771212547196624,
           1.6812412373755872,
           1.6434526764861874,
           2.0530784434834195,
           1.5185139398778875,
           1.1760912590556813,
           1.6127838567197355,
           1.8325089127062364,
           1.0413926851582251,
           1.4913616938342726,
           1.6720978579357175,
           2.0253058652647704,
           1.255272505103306,
           1.8976270912904414,
           1.3617278360175928,
           1.3010299956639813,
           0.9030899869919435,
           1.5314789170422551,
           1.2304489213782739,
           1.462397997898956,
           1.8512583487190752,
           1.792391689498254,
           1.7403626894942439,
           2.3483048630481607,
           1.6127838567197355,
           1.7481880270062005,
           1.0791812460476249,
           1.1760912590556813,
           0.9542425094393249,
           1.6334684555795864,
           1.1760912590556813,
           1.414973347970818,
           0.9542425094393249,
           0.6989700043360189,
           1.255272505103306,
           0.9030899869919435,
           1.8129133566428555,
           0.9030899869919435,
           0.7781512503836436,
           1.7160033436347992,
           0.7781512503836436,
           1.1139433523068367,
           2.56702636615906,
           1.4471580313422192,
           2.2648178230095364,
           1.9344984512435677,
           2.2764618041732443,
           1.5797835966168101,
           2.0453229787866576,
           1.1139433523068367,
           0.9030899869919435,
           0.8450980400142568,
           1.2304489213782739,
           2.3560258571931225,
           0.3010299956639812,
           0.9542425094393249,
           1.1139433523068367,
           0.6989700043360189,
           1.6334684555795864,
           1.3979400086720377,
           1.0413926851582251,
           1.1760912590556813,
           0.8450980400142568,
           2.5224442335063197,
           1.792391689498254,
           1.0413926851582251,
           1.2304489213782739,
           1.414973347970818,
           1.8325089127062364,
           1.2041199826559248,
           1.3617278360175928,
           1.6901960800285136,
           1.8512583487190752,
           1.462397997898956,
           0.47712125471966244,
           1.863322860120456,
           1.2787536009528289,
           1.2304489213782739,
           1.3979400086720377,
           1.3617278360175928,
           1.414973347970818,
           1.380211241711606,
           0.7781512503836436,
           1,
           1.0413926851582251,
           1.2787536009528289,
           1.3617278360175928,
           1.3617278360175928,
           1.5797835966168101,
           1.2787536009528289,
           0.3010299956639812,
           1.1139433523068367,
           1.6020599913279623,
           0.6989700043360189,
           1.5440680443502757,
           0.6989700043360189,
           1.1139433523068367,
           1.6532125137753437,
           1.4313637641589874,
           1.2041199826559248,
           2.0293837776852097,
           1.2304489213782739,
           1.2041199826559248,
           0.9030899869919435,
           1.6232492903979006,
           1.591064607026499,
           1.5185139398778875,
           0.47712125471966244,
           1.954242509439325,
           1.2041199826559248,
           0.7781512503836436,
           1.7558748556724915,
           2.3364597338485296,
           0.7781512503836436,
           1.505149978319906,
           1.3424226808222062,
           1.3222192947339193,
           1.462397997898956,
           0.9542425094393249,
           1.146128035678238,
           1.6901960800285136,
           1,
           1.4313637641589874,
           0.8450980400142568,
           1.2304489213782739,
           1.6989700043360187,
           0.7781512503836436,
           1.0791812460476249,
           1.3222192947339193,
           0.7781512503836436,
           1.7853298350107671,
           0.6989700043360189,
           1.255272505103306,
           1.5185139398778875,
           1.568201724066995,
           2.2121876044039577,
           1.3010299956639813,
           1.919078092376074,
           2.0863598306747484,
           0.6989700043360189,
           1.3222192947339193,
           0.9542425094393249,
           1.2041199826559248,
           1.7160033436347992,
           1.255272505103306,
           1.1760912590556813,
           1.3617278360175928,
           1.4313637641589874,
           1.3424226808222062,
           1.1139433523068367,
           2.0086001717619175,
           1.5185139398778875,
           0.9030899869919435,
           1.6232492903979006,
           1.7323937598229686,
           1.1760912590556813,
           0.47712125471966244,
           2.0211892990699383,
           1.1760912590556813,
           1.1139433523068367,
           1.6812412373755872,
           0.3010299956639812,
           0.47712125471966244,
           2.146128035678238,
           1.3424226808222062,
           1.0791812460476249,
           1.568201724066995,
           0.8450980400142568,
           0.8450980400142568,
           1.0413926851582251,
           1.1760912590556813,
           1.1760912590556813,
           1.5185139398778875,
           1.462397997898956,
           1.0791812460476249,
           1,
           0.9542425094393249,
           1.3617278360175928,
           0.9542425094393249,
           1.146128035678238,
           1.505149978319906,
           1.6532125137753437,
           1.1760912590556813,
           2.367355921026019,
           1.3979400086720377,
           1.591064607026499,
           1.0413926851582251,
           2.0718820073061255,
           1.7853298350107671,
           1.0791812460476249,
           1.0413926851582251,
           1,
           0.9030899869919435,
           1.1760912590556813,
           1.591064607026499,
           1.9637878273455553,
           1.2787536009528289,
           1.3979400086720377,
           1.505149978319906,
           0.6989700043360189,
           1.1760912590556813,
           1.2304489213782739,
           1.255272505103306,
           2.1958996524092336,
           1.1139433523068367,
           1.3979400086720377,
           1.2787536009528289,
           0.8450980400142568,
           1.863322860120456,
           1.0413926851582251,
           1.1760912590556813,
           0.9542425094393249,
           1.255272505103306,
           1.3424226808222062,
           0.6989700043360189,
           1.3222192947339193,
           0,
           1.5797835966168101,
           1.505149978319906,
           1.8573324964312685,
           0.3010299956639812,
           1.792391689498254,
           1.591064607026499,
           1,
           1.3617278360175928,
           1.591064607026499,
           0.6020599913279624,
           0.9542425094393249,
           1.2304489213782739,
           1.255272505103306,
           1.3617278360175928,
           1.4913616938342726,
           1.5185139398778875,
           1.4771212547196624,
           1.8864907251724818,
           1.1760912590556813,
           1.462397997898956,
           0.9542425094393249,
           1.3222192947339193,
           1.2787536009528289,
           1.2304489213782739,
           1.0791812460476249,
           1.8388490907372552,
           1.1139433523068367,
           1.505149978319906,
           1.3424226808222062,
           1.255272505103306,
           1.6901960800285136,
           2.113943352306837,
           0.7781512503836436,
           0.9030899869919435,
           1.380211241711606,
           0.6989700043360189,
           0.9542425094393249,
           0.47712125471966244,
           1.146128035678238,
           0.6020599913279624,
           1.806179973983887,
           1.9084850188786497,
           1.7634279935629373,
           1.8976270912904414,
           1.146128035678238,
           2.4183012913197452,
           0.6989700043360189,
           1.2041199826559248,
           1.3222192947339193,
           1.9294189257142926,
           2.7218106152125467,
           1.255272505103306,
           1.1760912590556813,
           1.4771212547196624,
           1.3424226808222062,
           1.505149978319906,
           0.7781512503836436,
           0.6020599913279624,
           1.3010299956639813,
           1.414973347970818,
           1.2041199826559248,
           1.0413926851582251,
           0.9542425094393249,
           2.1367205671564067,
           2.2810333672477277,
           1.2304489213782739,
           1.863322860120456,
           1.255272505103306,
           1.591064607026499,
           0.47712125471966244,
           1.3222192947339193,
           1.4771212547196624,
           1.724275869600789,
           1.8920946026904804,
           1.6334684555795864,
           1.505149978319906,
           1.8260748027008264,
           0.6989700043360189,
           0.47712125471966244,
           1.8325089127062364,
           1.568201724066995,
           1.414973347970818,
           2.367355921026019,
           1.2041199826559248,
           2.3483048630481607,
           0.3010299956639812,
           1.3979400086720377,
           0.9542425094393249,
           1.380211241711606,
           0.6020599913279624,
           1.1760912590556813,
           2.8915374576725643,
           1.3222192947339193,
           1.4913616938342726,
           0.47712125471966244,
           1.146128035678238,
           0.9030899869919435,
           1.7160033436347992,
           1.1760912590556813,
           2.012837224705172,
           1.255272505103306,
           1.3617278360175928,
           0.6020599913279624,
           1.3424226808222062,
           1.3010299956639813,
           1.4313637641589874,
           1.3424226808222062,
           1.792391689498254,
           2.307496037913213,
           1.4913616938342726,
           1.845098040014257,
           2.775974331129369,
           1.3979400086720377,
           1.3222192947339193,
           1.3424226808222062,
           1.7708520116421442,
           1.255272505103306,
           1.7323937598229686,
           0.8450980400142568,
           1.380211241711606,
           0.8450980400142568,
           1.7993405494535817,
           1.2787536009528289,
           1.724275869600789,
           1.0413926851582251,
           0.9542425094393249,
           0.6989700043360189,
           0.7781512503836436,
           0.47712125471966244,
           1.1760912590556813,
           1.0791812460476249,
           1.6232492903979006,
           1.3979400086720377,
           1,
           1.0413926851582251,
           1.0791812460476249,
           2.359835482339888,
           0.9542425094393249,
           1.3424226808222062,
           0.6020599913279624,
           1.2041199826559248,
           1.255272505103306,
           1.5563025007672873,
           1.5314789170422551,
           1.1139433523068367,
           1.5440680443502757,
           0.47712125471966244,
           1.4313637641589874,
           1.919078092376074,
           1.6020599913279623,
           1.9493900066449128,
           1.462397997898956,
           1.2787536009528289,
           2.3521825181113627,
           1.3617278360175928,
           1.6989700043360187,
           1.0791812460476249,
           1.6720978579357175,
           1.0791812460476249,
           1.7558748556724915,
           1.2787536009528289,
           1.8573324964312685,
           1.568201724066995,
           3.348888723071438,
           1.5314789170422551,
           2.2624510897304293,
           1.9294189257142926,
           1.4913616938342726,
           2.220108088040055,
           1.4771212547196624,
           1.6720978579357175,
           2.5024271199844326,
           1.5563025007672873,
           1.3424226808222062,
           1.505149978319906,
           0.8450980400142568,
           1.3222192947339193,
           1.2304489213782739,
           0,
           1.8920946026904804,
           1.3010299956639813,
           1.0791812460476249,
           0.8450980400142568,
           2.0969100130080562,
           0.6989700043360189,
           1.5314789170422551,
           1.255272505103306,
           1.9084850188786497,
           0.7781512503836436,
           0.8450980400142568,
           1.3010299956639813,
           1.4771212547196624,
           1.462397997898956,
           1.3979400086720377,
           0.7781512503836436,
           0.8450980400142568,
           1.7993405494535817,
           1.5440680443502757,
           2.03342375548695,
           1.7160033436347992,
           2.606381365110605,
           1.6127838567197355,
           0.47712125471966244,
           1.3222192947339193,
           1.2041199826559248,
           0.6989700043360189,
           1.3424226808222062,
           1.8573324964312685,
           1.919078092376074,
           1.3010299956639813,
           0.3010299956639812,
           0.8450980400142568,
           0.9030899869919435,
           0.3010299956639812,
           2.4345689040341987,
           0.6989700043360189,
           1.7558748556724915,
           1.2304489213782739,
           1.0791812460476249,
           1.3010299956639813,
           1.5797835966168101,
           1.4471580313422192,
           1.1760912590556813,
           0.6989700043360189,
           1.255272505103306,
           0.9542425094393249,
           0.8450980400142568,
           1.0413926851582251,
           1.568201724066995,
           1.414973347970818,
           1.3424226808222062,
           1.6434526764861874,
           1.1760912590556813,
           0.9030899869919435,
           1.1760912590556813,
           1.1760912590556813,
           1.5797835966168101,
           1.1139433523068367,
           1.2041199826559248,
           1.0413926851582251,
           0.47712125471966244,
           1.6901960800285136,
           1,
           1.9777236052888478,
           1.146128035678238,
           1.6812412373755872,
           1.2787536009528289,
           1.1139433523068367,
           2.3096301674258988,
           1.255272505103306,
           0.7781512503836436,
           0.9542425094393249,
           0.6989700043360189,
           0.9030899869919435,
           1.9294189257142926,
           1,
           0.9030899869919435,
           1.2304489213782739,
           1,
           0.8450980400142568,
           2.27415784926368,
           0.9542425094393249,
           1.845098040014257,
           2.866877814337499,
           0.47712125471966244,
           0.8450980400142568,
           2.2041199826559246,
           1.9242792860618816,
           1.7993405494535817,
           1.380211241711606,
           1.3010299956639813,
           2.0791812460476247,
           1.0413926851582251,
           1.7403626894942439,
           1.0791812460476249,
           0.8450980400142568,
           0.3010299956639812,
           1.7160033436347992,
           1.6020599913279623,
           0.6989700043360189,
           0.9030899869919435,
           1.5797835966168101,
           1.6901960800285136,
           1.0413926851582251,
           2.2095150145426308,
           1.792391689498254,
           1.9395192526186185,
           1.380211241711606,
           1.1139433523068367,
           1.3222192947339193,
           1.505149978319906,
           0.6989700043360189,
           1.3424226808222062,
           1.9867717342662448,
           1.7558748556724915,
           1.1760912590556813,
           1.9344984512435677,
           0.8450980400142568,
           1.1139433523068367,
           1.8195439355418688,
           1.3010299956639813,
           1.6127838567197355,
           1.0413926851582251,
           0.9542425094393249,
           1.6232492903979006,
           1.1760912590556813,
           1.662757831681574,
           1.2304489213782739,
           1.2041199826559248,
           1.1139433523068367,
           0.9030899869919435,
           1.2041199826559248,
           1.792391689498254,
           2.0791812460476247,
           1.3222192947339193,
           2.3654879848909,
           0.47712125471966244,
           1.5440680443502757,
           1.6812412373755872,
           1,
           1.0413926851582251,
           2.330413773349191,
           0.47712125471966244,
           2.2041199826559246,
           1.9444826721501687,
           0.7781512503836436,
           1.4913616938342726,
           1.0791812460476249,
           2.093421685162235,
           1.724275869600789,
           0.3010299956639812,
           1.2304489213782739,
           2.2278867046136734,
           1.0791812460476249,
           1.6812412373755872,
           1.8195439355418688,
           1.7993405494535817,
           0.3010299956639812,
           1.3979400086720377,
           1.6127838567197355,
           1.3424226808222062,
           1.414973347970818,
           1.146128035678238,
           1.9294189257142926,
           0.9030899869919435,
           1.7634279935629373,
           1.2787536009528289,
           0.7781512503836436,
           1.2787536009528289,
           0.6989700043360189,
           1.99563519459755,
           1.4913616938342726,
           1.146128035678238,
           1.591064607026499,
           1.591064607026499,
           1.7160033436347992,
           1.0413926851582251,
           1.2041199826559248,
           0.8450980400142568,
           0.9030899869919435,
           1.2041199826559248,
           2.4785664955938436,
           1.3617278360175928,
           0.8450980400142568,
           1.0413926851582251,
           1.1139433523068367,
           0.3010299956639812,
           2.2833012287035497,
           1.724275869600789,
           0.3010299956639812,
           1.6127838567197355,
           1,
           0.6989700043360189,
           1.1760912590556813,
           0.47712125471966244,
           1.1760912590556813,
           1,
           0.47712125471966244,
           1.8129133566428555,
           1.6127838567197355,
           1.6232492903979006,
           1.8129133566428555,
           1.3010299956639813,
           1.792391689498254,
           0.9542425094393249,
           1.0791812460476249,
           0.7781512503836436,
           0.8450980400142568,
           1.146128035678238,
           1.3979400086720377,
           0.7781512503836436,
           0,
           0,
           1,
           0.47712125471966244,
           1.146128035678238,
           1.146128035678238,
           2.0043213737826426,
           1.462397997898956,
           0.9542425094393249,
           1.4471580313422192,
           1.146128035678238,
           1.0791812460476249,
           1.0791812460476249,
           2.247973266361807,
           1.146128035678238,
           1.2787536009528289,
           0.47712125471966244,
           1.2304489213782739,
           0.9542425094393249,
           0.8450980400142568,
           1.8195439355418688,
           1.6812412373755872,
           1.5440680443502757,
           1.9344984512435677,
           1.380211241711606,
           1.3979400086720377,
           2.682145076373832,
           0.6989700043360189,
           2.1492191126553797,
           1.5185139398778875,
           1.3222192947339193,
           0.7781512503836436,
           1.6434526764861874,
           1.146128035678238,
           1.255272505103306,
           0.7781512503836436,
           2.1760912590556813,
           1.2041199826559248,
           0.7781512503836436,
           0.8450980400142568,
           1.2041199826559248,
           0.8450980400142568,
           1.2304489213782739,
           1.6127838567197355,
           0.9030899869919435,
           1.3979400086720377,
           1.2304489213782739,
           1.0791812460476249,
           0.9542425094393249,
           0.8450980400142568,
           1.4771212547196624,
           1.6434526764861874,
           1.8129133566428555,
           1.0791812460476249,
           1.4913616938342726,
           1.1139433523068367,
           0.3010299956639812,
           0.9542425094393249,
           1,
           1.3424226808222062,
           0.9542425094393249,
           1.7781512503836436,
           1,
           1.8260748027008264,
           1.5797835966168101,
           1.3979400086720377,
           0.7781512503836436,
           0.9542425094393249,
           1.2041199826559248,
           1.505149978319906,
           0.6020599913279624,
           1.0791812460476249,
           0.6020599913279624,
           1.2787536009528289,
           0.6989700043360189,
           1.3222192947339193,
           1.0413926851582251,
           1.845098040014257,
           1.7558748556724915,
           0.6020599913279624,
           1.7781512503836436,
           1.3979400086720377,
           1.1139433523068367,
           1.3010299956639813,
           0.47712125471966244,
           1.1139433523068367,
           0.6989700043360189,
           1.146128035678238,
           1.2787536009528289,
           1.505149978319906,
           1.3424226808222062,
           1.2304489213782739,
           0.9030899869919435,
           0.7781512503836436,
           1.2304489213782739,
           1.1760912590556813,
           0.9542425094393249,
           1.462397997898956,
           0.9030899869919435,
           2.123851640967086,
           1.5563025007672873,
           1.3617278360175928,
           1.0413926851582251,
           1.6334684555795864,
           1.2787536009528289,
           1.0413926851582251,
           1.1139433523068367,
           1.5563025007672873,
           2.271841606536499,
           1.4313637641589874,
           1.6020599913279623,
           1.4313637641589874,
           0.9030899869919435,
           1.1139433523068367,
           2.225309281725863,
           1.7853298350107671,
           1.2787536009528289,
           1.2041199826559248,
           0.47712125471966244,
           1.1139433523068367,
           1.5797835966168101,
           1.4313637641589874,
           1.4913616938342726,
           0.9030899869919435,
           1.3424226808222062,
           1.591064607026499,
           0.6989700043360189,
           1.0791812460476249,
           0.9030899869919435,
           1.6334684555795864,
           0.7781512503836436,
           1.3617278360175928,
           1.6901960800285136,
           1.3010299956639813,
           0.8450980400142568,
           1,
           1.5563025007672873,
           1.3222192947339193,
           1.5440680443502757,
           1,
           0.9030899869919435,
           1.7708520116421442,
           1.4313637641589874,
           1.1139433523068367,
           1.380211241711606,
           1.6434526764861874,
           0.47712125471966244,
           1.2304489213782739,
           0.6020599913279624,
           0.8450980400142568,
           0.6989700043360189,
           1,
           1.0413926851582251,
           1.724275869600789,
           1.5185139398778875,
           0.9542425094393249,
           1.4913616938342726,
           1.3010299956639813,
           1.3424226808222062,
           0.7781512503836436,
           1.7160033436347992,
           1.7075701760979363,
           1.792391689498254,
           1.6989700043360187,
           0.9030899869919435,
           1.3222192947339193,
           1.0791812460476249,
           1.505149978319906,
           1.591064607026499,
           1.146128035678238,
           1.662757831681574,
           0.9030899869919435,
           1.3424226808222062,
           0.6020599913279624,
           1.6901960800285136,
           1.2787536009528289,
           1.7075701760979363,
           1.3010299956639813,
           1.3617278360175928,
           1.0791812460476249,
           1,
           0.6020599913279624,
           1.5185139398778875,
           1.146128035678238,
           0.7781512503836436,
           2.060697840353612,
           1.4471580313422192,
           1.2041199826559248,
           1.146128035678238,
           1.1139433523068367,
           1.414973347970818,
           1.6127838567197355,
           0.7781512503836436,
           1.5440680443502757,
           0.6020599913279624,
           1.146128035678238,
           1.0791812460476249,
           1.505149978319906,
           1,
           1.3010299956639813,
           1.0791812460476249,
           1.462397997898956,
           0.9542425094393249,
           1.7558748556724915,
           2.0086001717619175,
           1,
           1.4913616938342726,
           0.47712125471966244,
           1.380211241711606,
           1.255272505103306,
           0.9542425094393249,
           1.505149978319906,
           1.380211241711606,
           1.7075701760979363,
           0.9542425094393249,
           1.3979400086720377,
           2.1931245983544616,
           1.9084850188786497,
           0.6989700043360189,
           1,
           1.2304489213782739,
           1.1760912590556813,
           0.9542425094393249,
           1.146128035678238,
           1.8129133566428555,
           1.2041199826559248,
           0.8450980400142568,
           1.7558748556724915,
           1.255272505103306,
           1.146128035678238,
           1.8692317197309762,
           0.9542425094393249,
           1.662757831681574,
           0.9030899869919435,
           1.1760912590556813,
           1.3010299956639813,
           0.47712125471966244,
           0.6989700043360189,
           1.0791812460476249,
           1.2787536009528289,
           1.2787536009528289,
           0.9542425094393249,
           0.6989700043360189,
           1.2787536009528289,
           1.146128035678238,
           1.4771212547196624,
           0.3010299956639812,
           1.3222192947339193,
           1,
           0.9542425094393249,
           1.9867717342662448,
           2.093421685162235,
           1.6127838567197355,
           0.7781512503836436,
           0.6989700043360189,
           1,
           1.6532125137753437,
           0.9030899869919435,
           1.2787536009528289,
           0.8450980400142568,
           1.3010299956639813,
           0.7781512503836436,
           0.47712125471966244,
           0.6989700043360189,
           0.8450980400142568,
           0.6020599913279624,
           1.380211241711606,
           0,
           0.9030899869919435,
           0.6020599913279624,
           0.9542425094393249,
           1.3424226808222062,
           1.3617278360175928,
           0.9030899869919435,
           1,
           0.7781512503836436,
           1.7160033436347992,
           2.285557309007774,
           1.4313637641589874,
           1.462397997898956,
           0.3010299956639812,
           1.255272505103306,
           1.863322860120456,
           0.8450980400142568,
           1,
           1.4313637641589874,
           1.6334684555795864,
           1.5563025007672873,
           1.2041199826559248,
           1.2304489213782739,
           1.380211241711606,
           0.7781512503836436,
           1.414973347970818,
           1.5314789170422551,
           0.6020599913279624,
           0.7781512503836436,
           0.47712125471966244,
           0.9030899869919435,
           0.7781512503836436,
           1.3010299956639813,
           1.9084850188786497,
           0.3010299956639812,
           1.2787536009528289,
           0.3010299956639812,
           1.462397997898956,
           1.0791812460476249,
           0.3010299956639812,
           1.255272505103306,
           0.47712125471966244,
           1.9294189257142926,
           1.5314789170422551,
           1.1139433523068367,
           0.47712125471966244,
           0.9542425094393249,
           0.9542425094393249,
           0.6989700043360189,
           1.5563025007672873,
           0.6989700043360189,
           1.3222192947339193,
           0.6989700043360189,
           0.6989700043360189,
           2.1072099696478683,
           1,
           0.3010299956639812,
           0.8450980400142568,
           0.8450980400142568,
           1.2787536009528289,
           1.462397997898956,
           0.3010299956639812,
           1.3222192947339193,
           1.0791812460476249,
           1.5185139398778875,
           1.6989700043360187,
           1.2304489213782739,
           1.146128035678238,
           1.0413926851582251,
           0.6020599913279624,
           1.6127838567197355,
           1.6020599913279623,
           1.6812412373755872,
           1.5797835966168101,
           0.6989700043360189,
           0.8450980400142568,
           0.6989700043360189,
           0.47712125471966244,
           1.99563519459755,
           1.5185139398778875,
           1.255272505103306,
           1.1139433523068367,
           1.5563025007672873,
           1.1139433523068367,
           1,
           0.9542425094393249,
           0.6020599913279624,
           1.2304489213782739,
           0.6020599913279624,
           0.7781512503836436,
           0.9542425094393249,
           1,
           1.7323937598229686,
           0.47712125471966244,
           1.1139433523068367,
           1.0413926851582251,
           0.8450980400142568,
           0.8450980400142568,
           1.1760912590556813,
           1.6020599913279623,
           0.7781512503836436,
           0.47712125471966244,
           1.2304489213782739,
           0.47712125471966244,
           0.6989700043360189,
           0.9030899869919435,
           1.2304489213782739,
           0.47712125471966244,
           1.1760912590556813,
           1.2304489213782739,
           1.5185139398778875,
           0.7781512503836436,
           1.2304489213782739,
           1.146128035678238,
           1.1139433523068367,
           1.2041199826559248,
           0.8450980400142568,
           0.47712125471966244,
           0,
           1.462397997898956,
           1,
           0.6989700043360189,
           1.505149978319906,
           1.6127838567197355,
           0.3010299956639812,
           0.9542425094393249,
           0.47712125471966244,
           1.1760912590556813,
           0.6989700043360189,
           0.7781512503836436,
           0.7781512503836436,
           1.5185139398778875,
           1.5314789170422551,
           0.6989700043360189,
           1.414973347970818,
           0.7781512503836436,
           1.380211241711606,
           0.7781512503836436,
           0.6020599913279624,
           0.9030899869919435,
           0.6020599913279624,
           1.2041199826559248,
           0.8450980400142568,
           0.6020599913279624,
           1,
           1.1760912590556813,
           1.2787536009528289,
           1.1760912590556813,
           1.4313637641589874,
           1.146128035678238,
           0.6989700043360189,
           0,
           0.7781512503836436,
           1.255272505103306,
           1.4313637641589874,
           1.6232492903979006,
           0.7781512503836436,
           0.6020599913279624,
           1.568201724066995,
           0.6989700043360189,
           0.8450980400142568,
           1,
           1.1139433523068367,
           1.2304489213782739,
           1.1139433523068367,
           0.47712125471966244,
           1.7781512503836436,
           1.591064607026499,
           1.1760912590556813,
           1.1760912590556813,
           1.568201724066995,
           0.6989700043360189,
           0.6020599913279624,
           1.4771212547196624,
           1.6532125137753437,
           1.8325089127062364,
           1,
           1.3979400086720377,
           1.1139433523068367,
           0.9030899869919435,
           0,
           1.146128035678238,
           0.3010299956639812,
           0,
           1,
           0.9030899869919435,
           0.7781512503836436,
           1.1760912590556813,
           0.9030899869919435,
           1,
           0.9542425094393249,
           0.7781512503836436,
           0.8450980400142568,
           0.9542425094393249,
           0.9542425094393249,
           1.2787536009528289,
           1.5440680443502757,
           0.3010299956639812,
           1.146128035678238,
           0.7781512503836436,
           0.8450980400142568,
           0.6989700043360189,
           1,
           0.9030899869919435,
           1,
           1.4913616938342726,
           1.1760912590556813,
           0.9542425094393249,
           0.9542425094393249,
           0.47712125471966244,
           0.6020599913279624,
           0.3010299956639812,
           0.9030899869919435,
           1.1139433523068367,
           1.3010299956639813,
           1.1760912590556813,
           0.9542425094393249,
           0.6989700043360189,
           0.9030899869919435,
           0.6020599913279624,
           0.8450980400142568,
           1.3222192947339193,
           1.5797835966168101,
           1.1139433523068367,
           0.8450980400142568,
           0.7781512503836436,
           1.8260748027008264,
           1.0413926851582251,
           0,
           1.380211241711606,
           0.3010299956639812,
           1.0413926851582251,
           0.47712125471966244,
           0.6989700043360189,
           1.2304489213782739,
           1.255272505103306,
           1.505149978319906,
           0.3010299956639812,
           0.47712125471966244,
           1.462397997898956,
           1.6434526764861874,
           1.4313637641589874,
           0.6989700043360189,
           0.9030899869919435,
           0.6020599913279624,
           0.7781512503836436,
           0.9542425094393249,
           1.3010299956639813,
           0.9030899869919435,
           1.255272505103306,
           1.4913616938342726,
           1.568201724066995,
           0.8450980400142568,
           1,
           0.9030899869919435,
           0.6989700043360189,
           0.8450980400142568,
           0.47712125471966244,
           0.47712125471966244,
           1.3617278360175928,
           0.6989700043360189,
           1.255272505103306,
           0.3010299956639812,
           1.4771212547196624,
           0.9030899869919435,
           0.7781512503836436,
           1.0791812460476249,
           1.3222192947339193,
           1,
           0,
           2.113943352306837,
           0,
           1.0791812460476249,
           0.7781512503836436,
           1.0791812460476249,
           0.3010299956639812,
           1.6901960800285136,
           0.3010299956639812,
           1.863322860120456,
           0.7781512503836436,
           0.8450980400142568,
           1.5185139398778875,
           0.6989700043360189,
           1.0413926851582251,
           0.9542425094393249,
           0.7781512503836436,
           0.9030899869919435,
           1.3424226808222062,
           1.3424226808222062,
           1.2787536009528289,
           0.9030899869919435,
           1.6334684555795864,
           0.47712125471966244,
           1,
           1.3010299956639813,
           1.414973347970818,
           0.47712125471966244,
           2.12057393120585,
           0.7781512503836436,
           0.6020599913279624,
           0.47712125471966244,
           0.47712125471966244,
           0.9542425094393249,
           1.5797835966168101,
           0.6989700043360189,
           1.2304489213782739,
           0.7781512503836436,
           0.8450980400142568,
           0.47712125471966244,
           0.6020599913279624,
           0.9542425094393249,
           0.9030899869919435,
           0.6020599913279624,
           1.0791812460476249,
           1.6989700043360187,
           0.6989700043360189,
           1.2787536009528289,
           0.9030899869919435,
           0.47712125471966244,
           0.7781512503836436,
           1.0791812460476249,
           0.47712125471966244,
           0.9030899869919435,
           0.47712125471966244,
           0.9030899869919435,
           0.7781512503836436,
           1.462397997898956,
           1.462397997898956,
           0.7781512503836436,
           1.2041199826559248,
           0.6989700043360189,
           1,
           0.6020599913279624,
           0.7781512503836436,
           1,
           0.47712125471966244,
           0.9542425094393249,
           1.1139433523068367,
           1,
           0.9542425094393249,
           0.9030899869919435,
           1.3222192947339193,
           1.1139433523068367,
           1.0413926851582251,
           1,
           0.9542425094393249,
           1.5314789170422551,
           0.47712125471966244,
           0.8450980400142568,
           1.0413926851582251,
           0.6020599913279624,
           1.3617278360175928,
           2.1789769472931693,
           0.8450980400142568,
           1.380211241711606,
           1.0413926851582251,
           0.6989700043360189,
           0.47712125471966244,
           0.7781512503836436,
           0.8450980400142568,
           0.9542425094393249,
           1.6020599913279623,
           0.9030899869919435,
           1.6812412373755872,
           1.1139433523068367,
           0.9030899869919435,
           1.0413926851582251,
           0.47712125471966244,
           1.6434526764861874,
           0.8450980400142568,
           0.7781512503836436,
           0.7781512503836436,
           0.9542425094393249,
           0.6989700043360189,
           0.47712125471966244,
           2.45484486000851,
           0.9542425094393249,
           0.6989700043360189,
           1.2304489213782739,
           0.8450980400142568,
           1.505149978319906,
           1,
           1.1139433523068367,
           1.2041199826559248,
           0.6020599913279624,
           1.4313637641589874,
           1.2304489213782739,
           1.0413926851582251,
           0.3010299956639812,
           0.6020599913279624,
           0.47712125471966244,
           1.1139433523068367,
           1.4313637641589874,
           0.7781512503836436,
           0.8450980400142568,
           0.3010299956639812,
           0.6989700043360189,
           0.6989700043360189,
           0,
           0.6020599913279624,
           1.1139433523068367,
           0.6989700043360189,
           0.3010299956639812,
           0.8450980400142568,
           1.1139433523068367,
           0.47712125471966244,
           1.2304489213782739,
           1.0413926851582251,
           0.47712125471966244,
           0.7781512503836436,
           0.3010299956639812,
           1.0791812460476249,
           1.3617278360175928,
           1.2041199826559248,
           0.6020599913279624,
           1,
           1.0791812460476249,
           0.3010299956639812,
           1.591064607026499,
           1,
           1.662757831681574,
           1,
           1.3222192947339193,
           1.462397997898956,
           1.0413926851582251,
           0.7781512503836436,
           0.6989700043360189,
           1.3979400086720377,
           1.4471580313422192,
           1.0791812460476249,
           0,
           0.9030899869919435,
           1.1760912590556813,
           0.3010299956639812,
           0.6020599913279624,
           1.0413926851582251,
           1,
           0.6989700043360189,
           0.47712125471966244,
           1.146128035678238,
           1.3617278360175928,
           1.0413926851582251,
           0.7781512503836436,
           1.2041199826559248,
           1.255272505103306,
           0.6989700043360189,
           1.3979400086720377,
           1.2787536009528289,
           1.414973347970818,
           1.4913616938342726,
           0.7781512503836436,
           0.9542425094393249,
           1.0413926851582251,
           0.7781512503836436,
           0.47712125471966244,
           1.0413926851582251,
           0.8450980400142568,
           1.7075701760979363,
           0.9542425094393249,
           1.568201724066995,
           1.0791812460476249,
           0.9542425094393249,
           0,
           1.0791812460476249,
           1,
           0,
           0,
           1.1139433523068367,
           0.7781512503836436,
           1.3424226808222062,
           0.9542425094393249,
           1,
           1.3617278360175928,
           0.47712125471966244,
           0.47712125471966244,
           0.47712125471966244,
           1.380211241711606,
           0.9030899869919435,
           1.3424226808222062,
           0.8450980400142568,
           0.9542425094393249,
           0.6989700043360189,
           0.7781512503836436,
           0.7781512503836436,
           1.1139433523068367,
           0.47712125471966244,
           0.9030899869919435,
           0.7781512503836436,
           0.3010299956639812,
           0.8450980400142568,
           1.5185139398778875,
           1.3010299956639813,
           1,
           0.9542425094393249,
           0.47712125471966244,
           0.8450980400142568,
           0.3010299956639812,
           1.255272505103306,
           1.5314789170422551,
           0.6989700043360189,
           2.3283796034387376,
           0,
           0.7781512503836436,
           0,
           1.4471580313422192,
           0.6989700043360189,
           0.47712125471966244,
           1.1760912590556813,
           1.0413926851582251,
           0.6989700043360189,
           2.0253058652647704,
           0.9542425094393249,
           0.7781512503836436,
           1.380211241711606,
           1.3010299956639813,
           1.414973347970818,
           0.6989700043360189,
           0.9542425094393249,
           1.0413926851582251,
           1.6989700043360187,
           1.462397997898956,
           1.0791812460476249,
           0.8450980400142568,
           0.6020599913279624,
           1.2787536009528289,
           0.7781512503836436,
           1.0413926851582251,
           1.146128035678238,
           1.1139433523068367,
           1.255272505103306,
           1.2304489213782739,
           1.2304489213782739,
           0.9030899869919435,
           0.9542425094393249,
           0.9542425094393249,
           0.3010299956639812,
           1.6532125137753437,
           1.591064607026499,
           0.6989700043360189,
           1.0413926851582251,
           1.4771212547196624,
           0.7781512503836436,
           0.3010299956639812,
           1.5440680443502757,
           0.6989700043360189,
           0.7781512503836436,
           1.3010299956639813,
           0.6989700043360189,
           0.8450980400142568,
           0.8450980400142568,
           0.6020599913279624,
           0.9030899869919435,
           0.47712125471966244,
           0.7781512503836436,
           1.1760912590556813,
           1.146128035678238,
           1.1139433523068367,
           1.3617278360175928,
           1.7481880270062005,
           0.7781512503836436,
           0,
           0.3010299956639812,
           1.5797835966168101,
           1.4771212547196624,
           1.414973347970818,
           0.7781512503836436,
           0.7781512503836436,
           0.7781512503836436,
           1,
           1.0413926851582251,
           0.6989700043360189,
           1.0413926851582251,
           0.9030899869919435,
           0.47712125471966244,
           0.47712125471966244,
           0.47712125471966244,
           0.47712125471966244,
           0.7781512503836436,
           1.3979400086720377,
           1.1139433523068367,
           1.0413926851582251,
           0.8450980400142568,
           0.8450980400142568,
           0.6020599913279624,
           1.591064607026499,
           1.0413926851582251,
           0.3010299956639812,
           0.8450980400142568,
           1.146128035678238,
           0.6020599913279624,
           0.6989700043360189,
           1.0413926851582251,
           0.3010299956639812,
           0.9030899869919435,
           0.6020599913279624,
           0.9542425094393249,
           1.1139433523068367,
           1.0413926851582251,
           0.8450980400142568,
           0.6989700043360189,
           0.9030899869919435,
           0.3010299956639812,
           0.9542425094393249,
           0.6020599913279624,
           0.9030899869919435,
           0.6989700043360189,
           1,
           1.0413926851582251,
           1.5797835966168101,
           0.3010299956639812,
           0.9542425094393249,
           0.9030899869919435,
           2.2041199826559246,
           1.3979400086720377,
           1.255272505103306,
           0.6020599913279624,
           0.7781512503836436,
           0.7781512503836436,
           0.8450980400142568,
           1.2787536009528289,
           1.1760912590556813,
           0.7781512503836436,
           0.7781512503836436,
           0.6989700043360189,
           0.8450980400142568,
           1.0791812460476249,
           0.9030899869919435,
           0.8450980400142568,
           0.6020599913279624,
           0.47712125471966244,
           0.3010299956639812,
           0.3010299956639812,
           0.6020599913279624,
           0.6020599913279624,
           0.3010299956639812,
           1.146128035678238,
           1.1760912590556813,
           0.3010299956639812,
           1.6434526764861874,
           0.6020599913279624,
           0.3010299956639812,
           0.6020599913279624,
           1,
           0.9030899869919435,
           0.47712125471966244,
           1.3424226808222062,
           1.5797835966168101,
           1.1139433523068367,
           0.3010299956639812,
           1.1139433523068367,
           1.3979400086720377,
           0.6989700043360189,
           0.3010299956639812,
           0.7781512503836436,
           1.4471580313422192,
           0,
           1,
           1,
           0.6020599913279624,
           1.2304489213782739,
           0.3010299956639812,
           0.9542425094393249,
           0.6989700043360189,
           0.7781512503836436,
           1.0413926851582251,
           0.47712125471966244,
           0.9542425094393249,
           0.47712125471966244,
           0.6989700043360189,
           0.9030899869919435,
           1.7853298350107671,
           0.9542425094393249,
           0.9030899869919435,
           0.47712125471966244,
           1.1760912590556813,
           1.0413926851582251,
           0.6989700043360189,
           0.8450980400142568,
           0.47712125471966244,
           1.146128035678238,
           0.3010299956639812,
           0.47712125471966244,
           0.47712125471966244,
           0.9542425094393249,
           0.6020599913279624,
           1.1139433523068367,
           0.6020599913279624,
           0.6989700043360189,
           0.7781512503836436,
           1,
           0.3010299956639812,
           0.6020599913279624,
           0.6989700043360189,
           0.3010299956639812,
           0.9030899869919435,
           1.2304489213782739,
           1.9912260756924949,
           0.47712125471966244,
           1.0413926851582251,
           0.8450980400142568,
           0.8450980400142568,
           1.462397997898956,
           1.3222192947339193,
           0.6020599913279624,
           0.9542425094393249,
           1.0791812460476249,
           0.9030899869919435,
           1,
           0.6989700043360189,
           1.3010299956639813,
           0.47712125471966244,
           0,
           0.7781512503836436,
           0.6989700043360189,
           1,
           1.2041199826559248,
           1.1139433523068367,
           1.1139433523068367,
           0.8450980400142568,
           1.3222192947339193,
           0.9030899869919435,
           0.7781512503836436,
           1,
           0.3010299956639812,
           0.47712125471966244,
           0.47712125471966244,
           1.2041199826559248,
           0.47712125471966244,
           1.0413926851582251,
           0.8450980400142568,
           0.7781512503836436,
           0.47712125471966244,
           0.9030899869919435,
           1.1139433523068367,
           0.47712125471966244,
           0.3010299956639812,
           0.8450980400142568,
           0.9030899869919435,
           0.6989700043360189,
           0.6989700043360189,
           0.8450980400142568,
           0.3010299956639812,
           0.47712125471966244,
           1,
           0.8450980400142568,
           0.6989700043360189,
           1.146128035678238,
           0.47712125471966244,
           0.6020599913279624,
           1.2304489213782739,
           0.9542425094393249,
           0.3010299956639812,
           0.47712125471966244,
           0.3010299956639812,
           0.6020599913279624,
           1,
           1.0413926851582251,
           0.6020599913279624,
           0.6020599913279624,
           0.6989700043360189,
           0.6020599913279624,
           0.7781512503836436,
           0.7781512503836436,
           1.568201724066995,
           1.146128035678238,
           0.6989700043360189,
           0.6020599913279624,
           1.0791812460476249,
           0.47712125471966244,
           0.6989700043360189,
           1,
           0.6989700043360189,
           0.6020599913279624,
           0.6020599913279624,
           0.7781512503836436,
           0.7781512503836436,
           0.9030899869919435,
           0.6989700043360189,
           0.3010299956639812,
           0.6020599913279624,
           0.8450980400142568,
           0.6989700043360189,
           1.1139433523068367,
           0.7781512503836436,
           0.7781512503836436,
           0.47712125471966244,
           0.8450980400142568,
           0.9030899869919435,
           0.6989700043360189,
           0.3010299956639812,
           1.0413926851582251,
           0.6020599913279624,
           1.0413926851582251,
           0.9542425094393249,
           0.8450980400142568,
           1.0791812460476249,
           0.9030899869919435,
           0.3010299956639812,
           1.2787536009528289,
           0,
           0.3010299956639812,
           0.6020599913279624,
           0.47712125471966244,
           0.47712125471966244,
           1.146128035678238,
           0.6020599913279624,
           0,
           1.3222192947339193,
           0.9542425094393249,
           0.9542425094393249,
           0.3010299956639812,
           0.47712125471966244,
           0.8450980400142568,
           0.47712125471966244,
           1.146128035678238,
           1.0791812460476249,
           0.9542425094393249,
           0.6020599913279624,
           1.1139433523068367,
           0.8450980400142568,
           0.3010299956639812,
           0,
           1.0791812460476249,
           0.9030899869919435,
           1.3222192947339193,
           0.47712125471966244,
           0.6020599913279624,
           0.8450980400142568,
           0.47712125471966244,
           1.462397997898956,
           0,
           0,
           0.6020599913279624,
           1.146128035678238,
           1.0791812460476249,
           0.3010299956639812,
           1.0413926851582251,
           0.6020599913279624,
           0.8450980400142568,
           0,
           1.0791812460476249,
           0.6989700043360189,
           0.6989700043360189,
           0.7781512503836436,
           0.6020599913279624,
           0.47712125471966244,
           1.414973347970818,
           0.6020599913279624,
           1.3424226808222062,
           0.6989700043360189,
           0.3010299956639812,
           0.7781512503836436,
           0.6020599913279624,
           0.7781512503836436,
           0,
           0.8450980400142568,
           0.47712125471966244,
           1.255272505103306,
           0.3010299956639812,
           0.9030899869919435,
           2.44870631990508,
           1.146128035678238,
           0.8450980400142568,
           0.6989700043360189,
           1.5185139398778875,
           1.3424226808222062,
           0.6020599913279624,
           0.6989700043360189,
           0.6020599913279624,
           0.6020599913279624,
           0.6020599913279624,
           0.6020599913279624,
           0.8450980400142568,
           0.3010299956639812,
           0.47712125471966244,
           0.47712125471966244,
           0.7781512503836436,
           0.6020599913279624,
           0.3010299956639812,
           0.6989700043360189,
           0.7781512503836436,
           0.6989700043360189,
           1.2304489213782739,
           1.2041199826559248,
           1.3617278360175928,
           0.47712125471966244,
           0.6020599913279624,
           0.8450980400142568,
           1,
           0.6989700043360189,
           0.7781512503836436,
           0.6020599913279624,
           1.1139433523068367,
           0.8450980400142568,
           2.146128035678238,
           0.3010299956639812,
           1.0413926851582251,
           1.146128035678238,
           0.6020599913279624,
           0.6989700043360189,
           0.8450980400142568,
           1.3010299956639813,
           0.3010299956639812,
           0.6989700043360189,
           0.6989700043360189,
           0.6020599913279624,
           1.146128035678238,
           0.6989700043360189,
           1.146128035678238,
           0.9030899869919435,
           0.6020599913279624,
           0.47712125471966244,
           1.3010299956639813,
           0.7781512503836436,
           1.4313637641589874,
           1.0413926851582251,
           1.6434526764861874,
           0.3010299956639812,
           1.146128035678238,
           0.47712125471966244,
           1.8325089127062364,
           0.9030899869919435,
           1.2041199826559248,
           0.6020599913279624,
           0.6989700043360189,
           1.2041199826559248,
           0.47712125471966244,
           1.0791812460476249,
           1.4771212547196624,
           1.1760912590556813,
           0.3010299956639812,
           0.9542425094393249,
           0.8450980400142568,
           0.3010299956639812,
           1.146128035678238,
           0,
           0.8450980400142568,
           0.8450980400142568,
           1.0791812460476249,
           0.3010299956639812,
           0.3010299956639812,
           0.9542425094393249,
           0.3010299956639812,
           0.6020599913279624,
           0,
           0.9542425094393249,
           0.47712125471966244,
           0.9542425094393249,
           1.0413926851582251,
           0.7781512503836436,
           0.47712125471966244,
           1.505149978319906,
           1,
           0.8450980400142568,
           0.7781512503836436,
           0.8450980400142568,
           0.47712125471966244,
           0.7781512503836436,
           0.6989700043360189,
           0.6989700043360189,
           0.6989700043360189,
           0,
           1.414973347970818,
           1.146128035678238,
           0.7781512503836436,
           0.47712125471966244,
           0.3010299956639812,
           0.8450980400142568,
           0.9030899869919435,
           0.6020599913279624,
           0.6020599913279624,
           1,
           0.3010299956639812,
           1.4313637641589874,
           0.3010299956639812,
           0.6989700043360189,
           0.8450980400142568,
           1.2041199826559248,
           0.8450980400142568,
           1,
           0.3010299956639812,
           0.6020599913279624,
           0.3010299956639812,
           0.6020599913279624,
           0.3010299956639812,
           0.8450980400142568,
           0.9542425094393249,
           1.414973347970818,
           0.7781512503836436,
           0.8450980400142568,
           1.0791812460476249,
           1.146128035678238,
           1.380211241711606,
           0.9542425094393249,
           1.2041199826559248,
           1.3979400086720377,
           0,
           0.3010299956639812,
           0.6989700043360189,
           1.146128035678238,
           0,
           0.6989700043360189,
           0.6020599913279624,
           1.0791812460476249,
           0.6020599913279624,
           0.8450980400142568,
           0.7781512503836436,
           1.1139433523068367,
           1.146128035678238,
           0.3010299956639812,
           0.47712125471966244,
           0,
           0.8450980400142568,
           1.0791812460476249,
           1.146128035678238,
           0.6020599913279624,
           0,
           0.6989700043360189,
           0.6020599913279624,
           1.146128035678238,
           0.9542425094393249,
           0.3010299956639812,
           2.0086001717619175,
           0.9030899869919435,
           0.47712125471966244,
           0.3010299956639812,
           0.9030899869919435,
           0.7781512503836436,
           1,
           0.6989700043360189,
           0,
           0.6989700043360189,
           0.7781512503836436,
           0.7781512503836436,
           0.6989700043360189,
           0.3010299956639812,
           0.3010299956639812,
           0.47712125471966244,
           0,
           0.6989700043360189,
           0.8450980400142568,
           1.4913616938342726,
           0.3010299956639812,
           0.47712125471966244,
           0.6989700043360189,
           0.7781512503836436,
           0.6989700043360189,
           0.3010299956639812,
           0.47712125471966244,
           0.7781512503836436,
           0.9030899869919435,
           0.3010299956639812,
           0.3010299956639812,
           0,
           1.2041199826559248,
           0.7781512503836436,
           0.47712125471966244,
           0.3010299956639812,
           0.8450980400142568,
           0.6989700043360189,
           0.6989700043360189,
           0,
           0.7781512503836436,
           0.3010299956639812,
           0,
           0.8450980400142568,
           0.7781512503836436,
           0.3010299956639812,
           1.3424226808222062,
           0.6989700043360189,
           0.6020599913279624,
           1.146128035678238,
           0.9542425094393249,
           1.380211241711606,
           0.6020599913279624,
           0.3010299956639812,
           0.8450980400142568,
           0.47712125471966244,
           0.8450980400142568,
           0.9030899869919435,
           0.3010299956639812,
           0.47712125471966244,
           0.6989700043360189,
           1,
           0.9030899869919435,
           0.47712125471966244,
           0.9542425094393249,
           0.47712125471966244,
           0,
           0.7781512503836436,
           0.6020599913279624,
           0.8450980400142568,
           0.8450980400142568,
           0,
           1.146128035678238,
           0.3010299956639812,
           0.47712125471966244,
           0.9542425094393249,
           0.7781512503836436,
           1.1139433523068367,
           0,
           0.7781512503836436,
           0.47712125471966244,
           0.47712125471966244,
           0.9030899869919435,
           0.9542425094393249,
           0.3010299956639812,
           0.6989700043360189,
           0.3010299956639812,
           0.7781512503836436,
           1.2041199826559248,
           0.3010299956639812,
           1,
           0.9542425094393249,
           0,
           0.6020599913279624,
           1.3979400086720377,
           0.9542425094393249,
           1.2304489213782739,
           0.3010299956639812,
           0.9542425094393249,
           0.3010299956639812,
           1.0413926851582251,
           0,
           0.47712125471966244,
           1.2787536009528289,
           0.47712125471966244,
           0.9542425094393249,
           0.6989700043360189,
           0.3010299956639812,
           0.9030899869919435,
           0.7781512503836436,
           0.47712125471966244,
           0.47712125471966244,
           0.9542425094393249,
           0.6989700043360189,
           0.6989700043360189,
           1.3222192947339193,
           0.6020599913279624,
           0.47712125471966244,
           0.3010299956639812,
           0.6989700043360189,
           0.47712125471966244,
           0.9030899869919435,
           0.9030899869919435,
           0.3010299956639812,
           0.9030899869919435,
           0.3010299956639812,
           0.6020599913279624,
           0.3010299956639812,
           0.3010299956639812,
           0,
           0.3010299956639812,
           0,
           0.3010299956639812,
           0.6020599913279624,
           0.7781512503836436,
           1.1760912590556813,
           0.6020599913279624,
           0.6020599913279624,
           1.146128035678238,
           0.7781512503836436,
           1.7781512503836436,
           0,
           0.6989700043360189,
           0.3010299956639812,
           0.6989700043360189,
           0.9542425094393249,
           0.6020599913279624,
           0.6020599913279624,
           0.7781512503836436,
           1.4313637641589874,
           0.47712125471966244,
           0.9542425094393249,
           0.6020599913279624,
           1.146128035678238,
           1.3424226808222062,
           0.6020599913279624,
           0.8450980400142568,
           0.7781512503836436,
           0.6020599913279624,
           0.3010299956639812,
           0.47712125471966244,
           1.2304489213782739,
           0.6020599913279624,
           0.6020599913279624,
           0.6989700043360189,
           0.6020599913279624,
           0.8450980400142568,
           1.1139433523068367,
           0.3010299956639812,
           0.9030899869919435,
           0.6989700043360189,
           0,
           0.7781512503836436,
           0.7781512503836436,
           0.9030899869919435,
           0.6989700043360189,
           0.9542425094393249,
           0.6020599913279624,
           0.6020599913279624,
           0.6020599913279624,
           0.7781512503836436,
           0.47712125471966244,
           0.47712125471966244,
           0.47712125471966244,
           0.9542425094393249,
           0.47712125471966244,
           0.47712125471966244,
           0.47712125471966244,
           0.6989700043360189,
           0.3010299956639812,
           0.7781512503836436,
           0.3010299956639812,
           0.47712125471966244,
           0.7781512503836436,
           0.47712125471966244,
           0.7781512503836436,
           1.0791812460476249,
           0.6020599913279624,
           1.1760912590556813,
           0.6020599913279624,
           0.47712125471966244,
           0.3010299956639812,
           0.3010299956639812,
           0.3010299956639812,
           0.3010299956639812,
           0.6020599913279624,
           0.6989700043360189,
           0.3010299956639812,
           0,
           0.6020599913279624,
           1.1139433523068367,
           0.8450980400142568,
           0.9542425094393249,
           0,
           1.1760912590556813,
           0,
           0.8450980400142568,
           0,
           0.9542425094393249,
           0.3010299956639812,
           0.47712125471966244,
           0.3010299956639812,
           0.47712125471966244,
           0.47712125471966244,
           0.6020599913279624,
           1.3010299956639813,
           0.6989700043360189,
           0.9542425094393249,
           0.9030899869919435,
           1.146128035678238,
           0.7781512503836436,
           0.7781512503836436,
           0.3010299956639812,
           0.6020599913279624,
           0.9542425094393249,
           0.47712125471966244,
           0.47712125471966244,
           0.9030899869919435,
           0.3010299956639812,
           1.1760912590556813,
           0.6989700043360189,
           0.7781512503836436,
           0.6020599913279624,
           0.3010299956639812,
           0.3010299956639812,
           0.3010299956639812,
           0.3010299956639812,
           0.8450980400142568,
           0.3010299956639812,
           0.6020599913279624,
           0.3010299956639812,
           0.7781512503836436,
           0.9030899869919435,
           0.7781512503836436,
           0.47712125471966244,
           0.3010299956639812,
           0.6020599913279624,
           0.3010299956639812,
           0.3010299956639812,
           0.47712125471966244,
           0.9542425094393249,
           0.6020599913279624,
           0.6989700043360189,
           0,
           0.6020599913279624,
           0.47712125471966244,
           0.9542425094393249,
           0.47712125471966244,
           0.47712125471966244,
           0,
           0,
           0.9030899869919435,
           0.47712125471966244,
           0.47712125471966244,
           0.6989700043360189,
           0.3010299956639812,
           0.47712125471966244,
           0.47712125471966244,
           0,
           0,
           0.9030899869919435,
           0.3010299956639812,
           0.3010299956639812,
           0.6020599913279624,
           0,
           0.47712125471966244,
           0,
           0.7781512503836436,
           0.3010299956639812,
           0.3010299956639812,
           0.9542425094393249,
           0.3010299956639812,
           0.6989700043360189,
           1.0413926851582251,
           0.3010299956639812,
           0.6020599913279624,
           0.6989700043360189,
           0.6020599913279624,
           0.7781512503836436,
           0.47712125471966244,
           0.8450980400142568,
           0,
           0.3010299956639812,
           0.3010299956639812,
           0.6020599913279624,
           1.0791812460476249,
           0.6020599913279624,
           0.7781512503836436,
           0.3010299956639812,
           0.6020599913279624,
           0.47712125471966244,
           0.6020599913279624,
           0.7781512503836436,
           0.47712125471966244,
           0.3010299956639812,
           0.7781512503836436,
           0.9542425094393249,
           0.3010299956639812,
           0.3010299956639812,
           0.6020599913279624,
           0.6989700043360189,
           0,
           1.146128035678238,
           1,
           0,
           0,
           0,
           0.9030899869919435,
           0.3010299956639812,
           0.8450980400142568,
           0.6989700043360189,
           0.7781512503836436,
           0,
           0.3010299956639812,
           0.9030899869919435,
           0.47712125471966244,
           0.47712125471966244,
           1.2041199826559248,
           0,
           0.47712125471966244,
           0.47712125471966244,
           0,
           0.3010299956639812,
           0.6020599913279624,
           0,
           0,
           0.47712125471966244,
           0.47712125471966244,
           0.6020599913279624,
           0,
           0.47712125471966244,
           0.6020599913279624,
           0.6989700043360189,
           0,
           0.6020599913279624,
           0.8450980400142568,
           0.47712125471966244,
           0.47712125471966244,
           0.6989700043360189,
           0.47712125471966244,
           0.6020599913279624,
           0.47712125471966244,
           0,
           0.3010299956639812,
           0.47712125471966244,
           0.47712125471966244,
           0.6020599913279624,
           0.8450980400142568,
           0.3010299956639812,
           0.47712125471966244,
           0.47712125471966244,
           0.47712125471966244,
           0,
           0,
           0.6989700043360189,
           0.6020599913279624,
           0.47712125471966244,
           0.47712125471966244,
           0.3010299956639812,
           0.9030899869919435,
           0.3010299956639812,
           0.6989700043360189,
           0.47712125471966244,
           0.47712125471966244,
           0.6989700043360189,
           0.6020599913279624,
           0.3010299956639812,
           0.3010299956639812,
           0.6020599913279624,
           0,
           0.6020599913279624,
           0,
           0.9542425094393249,
           0,
           0,
           0.6020599913279624,
           0,
           0.6020599913279624,
           0.47712125471966244,
           0.3010299956639812,
           0.6989700043360189,
           0.3010299956639812,
           0.8450980400142568,
           0.6020599913279624,
           0.6989700043360189,
           0.3010299956639812,
           0.6020599913279624,
           0.47712125471966244,
           0.47712125471966244,
           0,
           0.3010299956639812,
           0,
           0.3010299956639812,
           0,
           0.47712125471966244,
           1.146128035678238,
           1,
           0.6989700043360189,
           0.7781512503836436,
           0.6020599913279624,
           0.47712125471966244,
           0.9030899869919435,
           0.6020599913279624,
           0.47712125471966244,
           0.47712125471966244,
           0.6020599913279624,
           0.47712125471966244,
           0,
           0.47712125471966244,
           0.3010299956639812,
           0.47712125471966244,
           0.47712125471966244,
           0.8450980400142568,
           0.47712125471966244,
           0.3010299956639812,
           0.3010299956639812,
           0,
           0.6020599913279624,
           0.6989700043360189,
           0.8450980400142568,
           0,
           0,
           0,
           0.6989700043360189,
           0.6989700043360189,
           0,
           0.6989700043360189,
           0.3010299956639812,
           0.3010299956639812,
           0,
           0,
           0.6989700043360189,
           0.3010299956639812,
           0.3010299956639812,
           0.6020599913279624,
           0.47712125471966244,
           0.3010299956639812,
           0.3010299956639812,
           0.9542425094393249,
           0,
           0.3010299956639812,
           0.47712125471966244,
           0.6989700043360189,
           0.8450980400142568,
           0.47712125471966244,
           0.9030899869919435,
           0,
           0,
           0.6020599913279624,
           0.7781512503836436,
           0.3010299956639812,
           1.2041199826559248,
           0.47712125471966244,
           0.8450980400142568,
           0,
           0.47712125471966244,
           0.6020599913279624,
           0,
           0.3010299956639812,
           0.3010299956639812,
           0,
           0.3010299956639812,
           0,
           0.47712125471966244,
           0.3010299956639812,
           0.6020599913279624,
           0,
           0,
           0.6020599913279624,
           0.47712125471966244,
           0.47712125471966244,
           0.47712125471966244,
           0.8450980400142568,
           0.3010299956639812,
           0.6020599913279624,
           0.6020599913279624,
           0.3010299956639812,
           1.0413926851582251,
           0.47712125471966244,
           0.3010299956639812,
           0,
           0,
           0,
           0.3010299956639812,
           0.47712125471966244,
           0.6020599913279624,
           0.6020599913279624,
           0.3010299956639812,
           0.3010299956639812,
           0.3010299956639812,
           0,
           0.6020599913279624,
           0.47712125471966244,
           0.47712125471966244,
           0.6989700043360189,
           0.7781512503836436,
           0,
           0.8450980400142568,
           0.9030899869919435,
           0.6020599913279624,
           0.47712125471966244,
           0.3010299956639812,
           0.6989700043360189,
           0.3010299956639812,
           0.6989700043360189,
           1,
           0,
           0.6020599913279624,
           0.7781512503836436,
           0.47712125471966244,
           0.3010299956639812,
           0.7781512503836436,
           0.3010299956639812,
           0.7781512503836436,
           1.6989700043360187,
           0.8450980400142568,
           0.6020599913279624,
           0.3010299956639812,
           0.6989700043360189,
           0.9542425094393249,
           0.6989700043360189,
           0.3010299956639812,
           0.6989700043360189,
           0,
           0.7781512503836436,
           0.3010299956639812,
           1.1760912590556813,
           0.3010299956639812,
           0.6020599913279624,
           0.47712125471966244,
           1,
           0,
           0,
           0,
           0,
           0.47712125471966244,
           0.3010299956639812,
           0.6020599913279624,
           0.3010299956639812,
           0,
           0.3010299956639812,
           0.6989700043360189,
           0.3010299956639812,
           0,
           0.47712125471966244,
           0.3010299956639812,
           0.3010299956639812,
           0.6989700043360189,
           0.47712125471966244,
           0,
           0.6989700043360189,
           0.3010299956639812,
           0.3010299956639812,
           0,
           0.6020599913279624,
           0.47712125471966244,
           0,
           0.47712125471966244,
           0.3010299956639812,
           0.6020599913279624,
           0,
           0.47712125471966244,
           0.47712125471966244,
           0.3010299956639812,
           0.3010299956639812,
           0.3010299956639812,
           0.47712125471966244,
           0.3010299956639812,
           0.47712125471966244,
           0,
           0.47712125471966244,
           0.7781512503836436,
           0.47712125471966244,
           0.3010299956639812,
           0,
           0,
           0.8450980400142568,
           0,
           0.3010299956639812,
           0,
           0,
           0.3010299956639812,
           0.47712125471966244,
           0.3010299956639812,
           0.3010299956639812,
           0.6020599913279624,
           0,
           0.47712125471966244,
           0,
           0,
           0,
           0.6020599913279624,
           0,
           0.3010299956639812,
           0,
           0.3010299956639812,
           0,
           0.47712125471966244,
           0,
           0.47712125471966244,
           0,
           0.47712125471966244,
           0.47712125471966244,
           0.8450980400142568,
           0,
           0,
           0,
           0.3010299956639812,
           0.6020599913279624,
           0,
           0,
           0.47712125471966244,
           0,
           0,
           0,
           0.9542425094393249,
           0.3010299956639812,
           0.3010299956639812,
           0,
           0.6020599913279624,
           0,
           0.47712125471966244,
           0.3010299956639812,
           0,
           0.3010299956639812,
           0.47712125471966244,
           0.47712125471966244,
           0,
           0.47712125471966244,
           0,
           0.7781512503836436,
           0,
           0,
           0.47712125471966244,
           0.47712125471966244,
           0.47712125471966244,
           0.3010299956639812,
           0,
           0,
           0,
           0.6020599913279624,
           0.3010299956639812,
           0.47712125471966244,
           0,
           0.6020599913279624,
           0.3010299956639812,
           0,
           0,
           0,
           0.6989700043360189,
           0.3010299956639812,
           0.47712125471966244,
           0.47712125471966244,
           0,
           0.6020599913279624,
           0.3010299956639812,
           1.3424226808222062,
           0.47712125471966244,
           0.47712125471966244,
           0.6020599913279624,
           0.3010299956639812,
           0,
           0.6020599913279624,
           0,
           0.3010299956639812,
           0.3010299956639812,
           0.47712125471966244,
           0,
           0.3010299956639812,
           0,
           0.3010299956639812,
           0,
           0,
           0.47712125471966244,
           0.47712125471966244,
           0.8450980400142568,
           0.3010299956639812,
           0.6020599913279624,
           0.47712125471966244,
           0.47712125471966244,
           0.3010299956639812,
           0,
           0.3010299956639812,
           0.3010299956639812,
           0.6020599913279624,
           0,
           0.47712125471966244,
           0,
           0.47712125471966244,
           0.3010299956639812,
           0,
           0.3010299956639812,
           0,
           0,
           0.47712125471966244,
           0.3010299956639812,
           0.3010299956639812,
           0,
           0.6989700043360189,
           0.6020599913279624,
           0,
           0.47712125471966244,
           0.7781512503836436,
           0,
           0,
           0.3010299956639812,
           0,
           0,
           0.7781512503836436,
           0,
           0.8450980400142568,
           0.47712125471966244,
           0,
           0.7781512503836436,
           0.3010299956639812,
           0.47712125471966244,
           0.47712125471966244,
           0.3010299956639812,
           0.6020599913279624,
           0,
           0.47712125471966244,
           0.3010299956639812,
           0.3010299956639812,
           0,
           0,
           0.3010299956639812,
           0,
           0.3010299956639812,
           0,
           0.6020599913279624,
           0,
           0.7781512503836436,
           0,
           0,
           0,
           0.3010299956639812,
           0,
           0.47712125471966244,
           0,
           0.6020599913279624,
           0,
           0.3010299956639812,
           0.47712125471966244,
           0,
           0.47712125471966244,
           0,
           0.6989700043360189,
           0.3010299956639812,
           0.3010299956639812,
           0,
           0.47712125471966244,
           0.6020599913279624,
           0.6020599913279624,
           0,
           0.6020599913279624,
           0.3010299956639812,
           0.3010299956639812,
           0,
           0.47712125471966244,
           0.47712125471966244,
           0.3010299956639812,
           0.47712125471966244,
           0.47712125471966244,
           0.3010299956639812,
           0,
           0,
           0.6020599913279624,
           0,
           0.3010299956639812,
           0.6989700043360189,
           0.3010299956639812,
           0,
           0.3010299956639812,
           0,
           0.47712125471966244,
           0,
           0,
           0.3010299956639812,
           0,
           0,
           0.3010299956639812,
           0,
           0.47712125471966244,
           0.3010299956639812,
           1.7634279935629373,
           0.3010299956639812,
           0.3010299956639812,
           0.47712125471966244,
           0.3010299956639812,
           0,
           0,
           0,
           0.47712125471966244,
           0.3010299956639812,
           0,
           0.3010299956639812,
           0.47712125471966244,
           0.3010299956639812,
           0.3010299956639812,
           0.3010299956639812,
           0,
           0,
           0,
           0,
           0.6989700043360189,
           0,
           0.3010299956639812,
           0.3010299956639812,
           0.3010299956639812,
           0,
           0,
           0.3010299956639812,
           0.3010299956639812,
           0,
           0,
           0.3010299956639812,
           0.3010299956639812,
           0.47712125471966244,
           0.3010299956639812,
           0,
           0.47712125471966244,
           0.47712125471966244,
           0.6020599913279624,
           0,
           0,
           0,
           0,
           0.3010299956639812,
           0.8450980400142568,
           0,
           0,
           0.47712125471966244,
           0,
           0,
           0,
           0,
           0,
           0.47712125471966244,
           0.6989700043360189,
           0.3010299956639812,
           0.47712125471966244,
           0,
           0,
           0.47712125471966244,
           0.3010299956639812,
           0,
           0.47712125471966244,
           0,
           0,
           0,
           0,
           0,
           0,
           0.3010299956639812,
           0,
           0.3010299956639812,
           0,
           0,
           0.47712125471966244,
           0.3010299956639812,
           0.47712125471966244,
           0,
           0,
           0,
           0,
           0.6989700043360189,
           0.6020599913279624,
           1.4471580313422192,
           0,
           0,
           0,
           0,
           0,
           0,
           0.6989700043360189,
           0.6989700043360189,
           0.47712125471966244,
           0.3010299956639812,
           0,
           0,
           0.3010299956639812,
           0,
           0.6020599913279624,
           0.47712125471966244,
           0.3010299956639812,
           0.3010299956639812,
           0.3010299956639812,
           0,
           0.3010299956639812,
           0,
           0.6989700043360189,
           0.47712125471966244,
           0,
           0.6020599913279624,
           0,
           0.47712125471966244,
           0.3010299956639812,
           0.3010299956639812,
           0,
           0,
           0.3010299956639812,
           0,
           0.47712125471966244,
           0.3010299956639812,
           0.3010299956639812,
           0,
           0.3010299956639812,
           0.47712125471966244,
           0,
           0.3010299956639812,
           0,
           0,
           0,
           0,
           0,
           0.3010299956639812,
           0,
           0.47712125471966244,
           0.47712125471966244,
           0,
           0,
           0.47712125471966244,
           0.3010299956639812,
           0.3010299956639812,
           0,
           0.3010299956639812,
           0,
           0,
           0.6020599913279624,
           0.47712125471966244,
           0,
           0.47712125471966244,
           0,
           0.3010299956639812,
           0.6020599913279624,
           0,
           0.3010299956639812,
           0.3010299956639812,
           0,
           0,
           0.47712125471966244,
           0.3010299956639812,
           0,
           0,
           0,
           0,
           0,
           0,
           0.3010299956639812,
           0,
           0.47712125471966244,
           0,
           0,
           0,
           0,
           0,
           0,
           0.6020599913279624,
           0.3010299956639812,
           0.3010299956639812,
           0,
           0.3010299956639812,
           0,
           0,
           0.47712125471966244,
           0,
           0,
           0,
           0,
           0,
           0,
           0,
           0,
           0,
           0,
           0.3010299956639812,
           0.3010299956639812,
           0.47712125471966244,
           0,
           0.47712125471966244,
           0.47712125471966244,
           0,
           0,
           0,
           0,
           0.3010299956639812,
           0.3010299956639812,
           0,
           0.47712125471966244,
           0,
           0,
           0.47712125471966244,
           0.3010299956639812,
           0,
           0.47712125471966244,
           0,
           0,
           0,
           0,
           0,
           0,
           0,
           0,
           0,
           0,
           0,
           0.3010299956639812,
           0.3010299956639812,
           0,
           0,
           0,
           0,
           0,
           0,
           0,
           0.3010299956639812,
           0,
           0,
           0,
           0.47712125471966244,
           0,
           0,
           0,
           0.47712125471966244,
           0.47712125471966244,
           0.3010299956639812,
           0,
           0,
           0.3010299956639812,
           0.3010299956639812,
           0,
           0,
           0.3010299956639812,
           0.3010299956639812,
           0,
           0,
           0,
           0.3010299956639812,
           0,
           0,
           0,
           0,
           0,
           0.6989700043360189,
           0,
           0,
           0.3010299956639812,
           0,
           0.3010299956639812,
           0.47712125471966244,
           0,
           0,
           0.3010299956639812,
           0.47712125471966244,
           0,
           0.3010299956639812,
           0,
           0,
           0,
           0,
           0.3010299956639812,
           0.47712125471966244,
           0,
           0,
           0,
           0.3010299956639812,
           0,
           0.3010299956639812,
           0,
           0.47712125471966244,
           0,
           0,
           0,
           0,
           0,
           0,
           0,
           0.3010299956639812,
           0.3010299956639812,
           0,
           0.3010299956639812,
           0.6020599913279624,
           0,
           0,
           0.47712125471966244,
           0,
           0.8450980400142568,
           0,
           0,
           0,
           0,
           0,
           0,
           0,
           0.3010299956639812,
           0,
           0,
           0.3010299956639812,
           0.47712125471966244,
           0.3010299956639812,
           0.3010299956639812,
           0,
           0,
           0,
           0.3010299956639812,
           0.3010299956639812,
           0,
           0,
           0,
           0,
           0,
           0,
           0,
           0,
           0.3010299956639812,
           0.3010299956639812,
           0,
           0,
           0,
           0,
           0,
           0,
           0,
           0,
           0,
           0,
           0,
           0.3010299956639812,
           0,
           0,
           0.3010299956639812,
           0,
           0,
           0,
           0,
           0,
           0.6020599913279624,
           0.47712125471966244,
           0,
           0,
           0,
           0.3010299956639812,
           0,
           0,
           0.47712125471966244,
           0,
           0.3010299956639812,
           0.3010299956639812,
           0,
           0,
           0,
           0.3010299956639812,
           0,
           0,
           0.3010299956639812,
           0,
           0,
           0,
           0,
           0,
           0,
           0,
           0.3010299956639812,
           0,
           0,
           0,
           0,
           0,
           0,
           0,
           0,
           0.3010299956639812,
           0.47712125471966244,
           0,
           0.3010299956639812,
           0,
           0.3010299956639812,
           0,
           0,
           0,
           0,
           0.3010299956639812,
           0,
           0,
           0.3010299956639812,
           0,
           0,
           0,
           0,
           0.3010299956639812,
           0.3010299956639812,
           0,
           0.47712125471966244,
           0.3010299956639812,
           0,
           0,
           0,
           0,
           0,
           0,
           0,
           0,
           0,
           0,
           0,
           0.3010299956639812,
           0,
           0.6020599913279624,
           0,
           0,
           0.3010299956639812,
           0,
           0.3010299956639812,
           0,
           0.3010299956639812,
           0.3010299956639812,
           0,
           0.47712125471966244,
           0.3010299956639812,
           0,
           0,
           0,
           0.3010299956639812,
           0,
           0,
           0,
           0,
           0,
           0,
           0,
           0,
           0,
           0,
           0,
           0,
           0,
           0,
           0.3010299956639812,
           0,
           0,
           0,
           0,
           0,
           0,
           0,
           0,
           0,
           0,
           0,
           0,
           0,
           0,
           0,
           0,
           0,
           0,
           0,
           0,
           0,
           0,
           0,
           0,
           0.3010299956639812,
           0,
           0,
           0,
           0,
           0,
           0.3010299956639812,
           0,
           0,
           0,
           0,
           0,
           0,
           0,
           0,
           0,
           0,
           0,
           0,
           0,
           0,
           0,
           0,
           0,
           0,
           0,
           0,
           0,
           0,
           0,
           0,
           0,
           0,
           0,
           0,
           0,
           0,
           0,
           0,
           0,
           0,
           0,
           0,
           0,
           0,
           0,
           0,
           0,
           0,
           0,
           0,
           0,
           0,
           0,
           0,
           0,
           0,
           0,
           0,
           0,
           0,
           0,
           0,
           0.3010299956639812,
           0.3010299956639812,
           0,
           0,
           0,
           0,
           0,
           0,
           0,
           0.3010299956639812,
           0,
           0,
           0.3010299956639812,
           0,
           0,
           0,
           0,
           0,
           0,
           0,
           0,
           0,
           0,
           0,
           0,
           0,
           0,
           0,
           0,
           0,
           0.3010299956639812,
           0,
           0,
           0,
           0,
           0,
           0,
           0,
           0,
           0,
           0,
           0,
           0,
           0,
           0,
           0,
           0,
           0,
           0,
           0,
           0,
           0,
           0,
           0,
           0,
           0.3010299956639812,
           0,
           0,
           0.3010299956639812,
           0,
           0,
           0,
           0,
           0,
           0,
           0,
           0,
           0,
           0,
           0,
           0,
           0,
           0,
           0,
           0,
           0,
           0,
           0,
           0,
           0,
           0,
           0,
           0.3010299956639812,
           0,
           0,
           0,
           0,
           0,
           0,
           0,
           0,
           0,
           0,
           0,
           0,
           0,
           0,
           0,
           0,
           0,
           0,
           0,
           0,
           0.3010299956639812,
           0,
           0,
           0,
           0,
           0,
           0,
           0,
           0,
           0,
           0,
           0,
           0,
           0.3010299956639812,
           0,
           0,
           0,
           0,
           0,
           0,
           0,
           0,
           0,
           0,
           0,
           0,
           0,
           0,
           0,
           0,
           0,
           0,
           0,
           0,
           0,
           0,
           0,
           0,
           0,
           0,
           0,
           0,
           0.3010299956639812,
           0,
           0,
           0,
           0,
           0,
           0,
           0,
           0,
           0,
           0,
           0,
           0,
           0,
           0,
           0,
           0,
           0,
           0,
           0,
           0,
           0,
           0,
           0,
           0,
           0,
           0,
           0,
           0,
           0,
           0,
           0,
           0,
           0,
           0,
           0,
           0,
           0,
           0,
           0,
           0,
           0,
           0,
           0,
           0,
           0,
           0,
           0,
           0,
           0,
           0,
           0,
           0,
           0,
           0,
           0,
           0,
           0,
           0,
           0,
           0,
           0,
           0,
           0,
           0,
           0,
           0,
           0,
           0,
           0,
           0,
           0,
           0,
           0,
           0,
           0,
           0,
           0,
           0,
           0,
           0,
           0,
           0,
           0,
           0,
           0,
           0,
           0,
           0,
           0,
           0,
           0,
           0,
           0,
           0,
           0,
           0,
           0,
           0,
           0,
           0,
           0,
           0,
           0,
           0
          ],
          "coloraxis": "coloraxis",
          "symbol": "circle"
         },
         "mode": "markers",
         "name": "",
         "showlegend": false,
         "type": "scattergl",
         "x": [
          "2014-03-11T00:00:00",
          "2014-03-11T00:00:00",
          "2014-05-27T00:00:00",
          "2014-05-27T00:00:00",
          "2014-05-27T00:00:00",
          "2014-05-27T00:00:00",
          "2014-05-27T00:00:00",
          "2014-05-27T00:00:00",
          "2014-06-10T00:00:00",
          "2014-06-10T00:00:00",
          "2014-06-10T00:00:00",
          "2014-06-24T00:00:00",
          "2014-06-24T00:00:00",
          "2014-07-08T00:00:00",
          "2014-07-08T00:00:00",
          "2014-07-22T00:00:00",
          "2014-07-22T00:00:00",
          "2014-08-05T00:00:00",
          "2014-08-05T00:00:00",
          "2014-09-16T00:00:00",
          "2014-09-16T00:00:00",
          "2014-09-30T00:00:00",
          "2014-09-30T00:00:00",
          "2014-09-30T00:00:00",
          "2014-10-14T00:00:00",
          "2014-10-14T00:00:00",
          "2014-10-14T00:00:00",
          "2014-10-23T00:00:00",
          "2014-10-28T00:00:00",
          "2014-11-11T00:00:00",
          "2014-11-11T00:00:00",
          "2014-11-25T00:00:00",
          "2014-11-25T00:00:00",
          "2014-11-25T00:00:00",
          "2014-12-09T00:00:00",
          "2014-12-09T00:00:00",
          "2014-12-09T00:00:00",
          "2014-12-23T00:00:00",
          "2014-12-23T00:00:00",
          "2014-12-23T00:00:00",
          "2014-12-23T00:00:00",
          "2015-01-06T00:00:00",
          "2015-01-20T00:00:00",
          "2015-01-20T00:00:00",
          "2015-02-03T00:00:00",
          "2015-02-03T00:00:00",
          "2015-03-03T00:00:00",
          "2015-03-03T00:00:00",
          "2015-03-17T00:00:00",
          "2015-03-17T00:00:00",
          "2015-03-25T00:00:00",
          "2015-03-31T00:00:00",
          "2015-03-31T00:00:00",
          "2015-03-31T00:00:00",
          "2015-04-14T00:00:00",
          "2015-04-14T00:00:00",
          "2015-04-28T00:00:00",
          "2015-04-28T00:00:00",
          "2015-05-12T00:00:00",
          "2015-05-12T00:00:00",
          "2015-05-12T00:00:00",
          "2015-05-26T00:00:00",
          "2015-05-26T00:00:00",
          "2015-05-26T00:00:00",
          "2015-05-26T00:00:00",
          "2015-06-09T00:00:00",
          "2015-06-09T00:00:00",
          "2015-06-09T00:00:00",
          "2015-06-23T00:00:00",
          "2015-06-23T00:00:00",
          "2015-06-23T00:00:00",
          "2015-07-07T00:00:00",
          "2015-07-07T00:00:00",
          "2015-07-07T00:00:00",
          "2015-07-07T00:00:00",
          "2015-07-21T00:00:00",
          "2015-07-21T00:00:00",
          "2015-08-04T00:00:00",
          "2015-08-18T00:00:00",
          "2015-08-18T00:00:00",
          "2015-08-18T00:00:00",
          "2015-09-01T00:00:00",
          "2015-09-01T00:00:00",
          "2015-09-01T00:00:00",
          "2015-09-15T00:00:00",
          "2015-09-15T00:00:00",
          "2015-09-15T00:00:00",
          "2015-09-21T00:00:00",
          "2015-09-29T00:00:00",
          "2015-09-29T00:00:00",
          "2015-09-29T00:00:00",
          "2015-10-13T00:00:00",
          "2015-10-13T00:00:00",
          "2015-10-27T00:00:00",
          "2015-10-27T00:00:00",
          "2015-10-27T00:00:00",
          "2015-10-27T00:00:00",
          "2015-11-10T00:00:00",
          "2015-11-10T00:00:00",
          "2015-11-10T00:00:00",
          "2015-11-10T00:00:00",
          "2015-11-24T00:00:00",
          "2015-11-24T00:00:00",
          "2015-11-24T00:00:00",
          "2015-11-24T00:00:00",
          "2015-11-24T00:00:00",
          "2015-11-24T00:00:00",
          "2015-12-08T00:00:00",
          "2015-12-08T00:00:00",
          "2015-12-08T00:00:00",
          "2015-12-08T00:00:00",
          "2015-12-08T00:00:00",
          "2015-12-08T00:00:00",
          "2015-12-08T00:00:00",
          "2016-01-05T00:00:00",
          "2016-01-05T00:00:00",
          "2016-01-19T00:00:00",
          "2016-01-19T00:00:00",
          "2016-02-02T00:00:00",
          "2016-02-02T00:00:00",
          "2016-02-02T00:00:00",
          "2016-02-16T00:00:00",
          "2016-02-16T00:00:00",
          "2016-02-16T00:00:00",
          "2016-02-16T00:00:00",
          "2016-02-16T00:00:00",
          "2016-03-01T00:00:00",
          "2016-03-01T00:00:00",
          "2016-03-01T00:00:00",
          "2016-03-01T00:00:00",
          "2016-03-03T00:00:00",
          "2016-03-15T00:00:00",
          "2016-03-15T00:00:00",
          "2016-03-15T00:00:00",
          "2016-03-29T00:00:00",
          "2016-04-12T00:00:00",
          "2016-04-12T00:00:00",
          "2016-04-12T00:00:00",
          "2016-04-12T00:00:00",
          "2016-04-26T00:00:00",
          "2016-05-10T00:00:00",
          "2016-05-10T00:00:00",
          "2016-05-10T00:00:00",
          "2016-05-10T00:00:00",
          "2016-05-10T00:00:00",
          "2016-05-10T00:00:00",
          "2016-05-24T00:00:00",
          "2016-05-24T00:00:00",
          "2016-06-07T00:00:00",
          "2016-06-07T00:00:00",
          "2016-06-07T00:00:00",
          "2016-06-07T00:00:00",
          "2016-06-07T00:00:00",
          "2016-06-07T00:00:00",
          "2016-06-07T00:00:00",
          "2016-06-21T00:00:00",
          "2016-06-21T00:00:00",
          "2016-06-21T00:00:00",
          "2016-06-21T00:00:00",
          "2016-06-21T00:00:00",
          "2016-06-21T00:00:00",
          "2016-07-05T00:00:00",
          "2016-07-05T00:00:00",
          "2016-07-05T00:00:00",
          "2016-07-05T00:00:00",
          "2016-07-05T00:00:00",
          "2016-07-19T00:00:00",
          "2016-07-19T00:00:00",
          "2016-08-01T00:00:00",
          "2016-08-01T00:00:00",
          "2016-08-01T00:00:00",
          "2016-08-01T00:00:00",
          "2016-08-01T00:00:00",
          "2016-08-01T00:00:00",
          "2016-08-01T00:00:00",
          "2016-08-01T00:00:00",
          "2016-08-16T00:00:00",
          "2016-08-16T00:00:00",
          "2016-08-16T00:00:00",
          "2016-08-16T00:00:00",
          "2016-08-16T00:00:00",
          "2016-08-16T00:00:00",
          "2016-08-23T00:00:00",
          "2016-08-30T00:00:00",
          "2016-08-30T00:00:00",
          "2016-08-30T00:00:00",
          "2016-08-30T00:00:00",
          "2016-08-30T00:00:00",
          "2016-09-13T00:00:00",
          "2016-09-13T00:00:00",
          "2016-09-13T00:00:00",
          "2016-09-13T00:00:00",
          "2016-09-27T00:00:00",
          "2016-09-27T00:00:00",
          "2016-09-27T00:00:00",
          "2016-09-27T00:00:00",
          "2016-09-27T00:00:00",
          "2016-10-11T00:00:00",
          "2016-10-11T00:00:00",
          "2016-10-11T00:00:00",
          "2016-10-11T00:00:00",
          "2016-10-11T00:00:00",
          "2016-10-11T00:00:00",
          "2016-10-25T00:00:00",
          "2016-10-25T00:00:00",
          "2016-10-25T00:00:00",
          "2016-10-25T00:00:00",
          "2016-11-08T00:00:00",
          "2016-11-08T00:00:00",
          "2016-11-08T00:00:00",
          "2016-11-08T00:00:00",
          "2016-11-08T00:00:00",
          "2016-11-22T00:00:00",
          "2016-11-22T00:00:00",
          "2016-11-22T00:00:00",
          "2016-12-06T00:00:00",
          "2016-12-06T00:00:00",
          "2016-12-06T00:00:00",
          "2016-12-06T00:00:00",
          "2016-12-06T00:00:00",
          "2016-12-06T00:00:00",
          "2016-12-06T00:00:00",
          "2016-12-20T00:00:00",
          "2016-12-20T00:00:00",
          "2016-12-20T00:00:00",
          "2016-12-20T00:00:00",
          "2016-12-20T00:00:00",
          "2016-12-20T00:00:00",
          "2016-12-20T00:00:00",
          "2017-01-05T00:00:00",
          "2017-01-05T00:00:00",
          "2017-01-05T00:00:00",
          "2017-01-17T00:00:00",
          "2017-01-17T00:00:00",
          "2017-01-17T00:00:00",
          "2017-01-17T00:00:00",
          "2017-01-17T00:00:00",
          "2017-01-31T00:00:00",
          "2017-01-31T00:00:00",
          "2017-01-31T00:00:00",
          "2017-01-31T00:00:00",
          "2017-01-31T00:00:00",
          "2017-01-31T00:00:00",
          "2017-01-31T00:00:00",
          "2017-01-31T00:00:00",
          "2017-02-14T00:00:00",
          "2017-02-14T00:00:00",
          "2017-02-14T00:00:00",
          "2017-02-14T00:00:00",
          "2017-02-14T00:00:00",
          "2017-02-14T00:00:00",
          "2017-03-01T00:00:00",
          "2017-03-01T00:00:00",
          "2017-03-01T00:00:00",
          "2017-03-01T00:00:00",
          "2017-03-01T00:00:00",
          "2017-03-01T00:00:00",
          "2017-03-01T00:00:00",
          "2017-03-01T00:00:00",
          "2017-03-14T00:00:00",
          "2017-03-14T00:00:00",
          "2017-03-14T00:00:00",
          "2017-03-14T00:00:00",
          "2017-03-14T00:00:00",
          "2017-03-14T00:00:00",
          "2017-03-14T00:00:00",
          "2017-03-14T00:00:00",
          "2017-03-14T00:00:00",
          "2017-03-14T00:00:00",
          "2017-03-28T00:00:00",
          "2017-03-28T00:00:00",
          "2017-03-28T00:00:00",
          "2017-03-28T00:00:00",
          "2017-03-28T00:00:00",
          "2017-03-28T00:00:00",
          "2017-03-28T00:00:00",
          "2017-03-28T00:00:00",
          "2017-04-11T00:00:00",
          "2017-04-11T00:00:00",
          "2017-04-11T00:00:00",
          "2017-04-11T00:00:00",
          "2017-04-11T00:00:00",
          "2017-04-11T00:00:00",
          "2017-04-11T00:00:00",
          "2017-04-11T00:00:00",
          "2017-04-11T00:00:00",
          "2017-04-11T00:00:00",
          "2017-04-25T00:00:00",
          "2017-04-25T00:00:00",
          "2017-04-25T00:00:00",
          "2017-04-25T00:00:00",
          "2017-04-25T00:00:00",
          "2017-04-27T00:00:00",
          "2017-05-09T00:00:00",
          "2017-05-09T00:00:00",
          "2017-05-09T00:00:00",
          "2017-05-16T00:00:00",
          "2017-05-16T00:00:00",
          "2017-05-16T00:00:00",
          "2017-05-16T00:00:00",
          "2017-05-16T00:00:00",
          "2017-05-16T00:00:00",
          "2017-05-23T00:00:00",
          "2017-05-23T00:00:00",
          "2017-05-23T00:00:00",
          "2017-05-23T00:00:00",
          "2017-05-30T00:00:00",
          "2017-06-06T00:00:00",
          "2017-06-06T00:00:00",
          "2017-06-13T00:00:00",
          "2017-06-20T00:00:00",
          "2017-06-20T00:00:00",
          "2017-06-27T00:00:00",
          "2017-06-27T00:00:00",
          "2017-06-27T00:00:00",
          "2017-07-04T00:00:00",
          "2017-07-04T00:00:00",
          "2017-07-04T00:00:00",
          "2017-07-11T00:00:00",
          "2017-07-11T00:00:00",
          "2017-07-11T00:00:00",
          "2017-07-19T00:00:00",
          "2017-07-19T00:00:00",
          "2017-07-25T00:00:00",
          "2017-07-25T00:00:00",
          "2017-07-25T00:00:00",
          "2017-07-25T00:00:00",
          "2017-08-01T00:00:00",
          "2017-08-01T00:00:00",
          "2017-08-01T00:00:00",
          "2017-08-08T00:00:00",
          "2017-08-08T00:00:00",
          "2017-08-15T00:00:00",
          "2017-08-15T00:00:00",
          "2017-08-15T00:00:00",
          "2017-08-22T00:00:00",
          "2017-08-22T00:00:00",
          "2017-08-22T00:00:00",
          "2017-08-22T00:00:00",
          "2017-08-29T00:00:00",
          "2017-08-29T00:00:00",
          "2017-08-29T00:00:00",
          "2017-08-29T00:00:00",
          "2017-09-05T00:00:00",
          "2017-09-05T00:00:00",
          "2017-09-05T00:00:00",
          "2017-09-05T00:00:00",
          "2017-09-05T00:00:00",
          "2017-09-12T00:00:00",
          "2017-09-12T00:00:00",
          "2017-09-12T00:00:00",
          "2017-09-12T00:00:00",
          "2017-09-12T00:00:00",
          "2017-09-12T00:00:00",
          "2017-09-19T00:00:00",
          "2017-09-19T00:00:00",
          "2017-09-19T00:00:00",
          "2017-09-21T00:00:00",
          "2017-09-26T00:00:00",
          "2017-09-26T00:00:00",
          "2017-09-26T00:00:00",
          "2017-10-03T00:00:00",
          "2017-10-03T00:00:00",
          "2017-10-03T00:00:00",
          "2017-10-03T00:00:00",
          "2017-10-03T00:00:00",
          "2017-10-03T00:00:00",
          "2017-10-10T00:00:00",
          "2017-10-10T00:00:00",
          "2017-10-10T00:00:00",
          "2017-10-10T00:00:00",
          "2017-10-10T00:00:00",
          "2017-10-17T00:00:00",
          "2017-10-17T00:00:00",
          "2017-10-17T00:00:00",
          "2017-10-17T00:00:00",
          "2017-10-17T00:00:00",
          "2017-10-19T00:00:00",
          "2017-10-24T00:00:00",
          "2017-10-24T00:00:00",
          "2017-10-24T00:00:00",
          "2017-10-24T00:00:00",
          "2017-10-24T00:00:00",
          "2017-10-31T00:00:00",
          "2017-10-31T00:00:00",
          "2017-10-31T00:00:00",
          "2017-10-31T00:00:00",
          "2017-10-31T00:00:00",
          "2017-11-07T00:00:00",
          "2017-11-07T00:00:00",
          "2017-11-14T00:00:00",
          "2017-11-14T00:00:00",
          "2017-11-21T00:00:00",
          "2017-11-28T00:00:00",
          "2017-11-28T00:00:00",
          "2017-11-28T00:00:00",
          "2017-12-05T00:00:00",
          "2017-12-05T00:00:00",
          "2017-12-05T00:00:00",
          "2017-12-12T00:00:00",
          "2017-12-12T00:00:00",
          "2017-12-12T00:00:00",
          "2017-12-12T00:00:00",
          "2017-12-12T00:00:00",
          "2017-12-12T00:00:00",
          "2017-12-19T00:00:00",
          "2017-12-19T00:00:00",
          "2017-12-19T00:00:00",
          "2017-12-19T00:00:00",
          "2017-12-19T00:00:00",
          "2017-12-19T00:00:00",
          "2017-12-19T00:00:00",
          "2017-12-19T00:00:00",
          "2017-12-19T00:00:00",
          "2017-12-19T00:00:00",
          "2017-12-19T00:00:00",
          "2018-01-09T00:00:00",
          "2018-01-09T00:00:00",
          "2018-01-09T00:00:00",
          "2018-01-09T00:00:00",
          "2018-01-16T00:00:00",
          "2018-01-16T00:00:00",
          "2018-01-16T00:00:00",
          "2018-01-23T00:00:00",
          "2018-01-23T00:00:00",
          "2018-01-23T00:00:00",
          "2018-01-30T00:00:00",
          "2018-01-30T00:00:00",
          "2018-02-06T00:00:00",
          "2018-02-06T00:00:00",
          "2018-02-13T00:00:00",
          "2018-02-13T00:00:00",
          "2018-02-13T00:00:00",
          "2018-02-13T00:00:00",
          "2018-02-13T00:00:00",
          "2018-02-13T00:00:00",
          "2018-02-20T00:00:00",
          "2018-02-20T00:00:00",
          "2018-02-20T00:00:00",
          "2018-02-20T00:00:00",
          "2018-02-20T00:00:00",
          "2018-02-20T00:00:00",
          "2018-02-27T00:00:00",
          "2018-02-27T00:00:00",
          "2018-02-27T00:00:00",
          "2018-02-27T00:00:00",
          "2018-02-27T00:00:00",
          "2018-02-27T00:00:00",
          "2018-02-27T00:00:00",
          "2018-03-06T00:00:00",
          "2018-03-06T00:00:00",
          "2018-03-06T00:00:00",
          "2018-03-06T00:00:00",
          "2018-03-06T00:00:00",
          "2018-03-13T00:00:00",
          "2018-03-13T00:00:00",
          "2018-03-13T00:00:00",
          "2018-03-13T00:00:00",
          "2018-03-13T00:00:00",
          "2018-03-13T00:00:00",
          "2018-03-20T00:00:00",
          "2018-03-20T00:00:00",
          "2018-03-20T00:00:00",
          "2018-03-20T00:00:00",
          "2018-03-20T00:00:00",
          "2018-03-27T00:00:00",
          "2018-03-27T00:00:00",
          "2018-03-27T00:00:00",
          "2018-03-27T00:00:00",
          "2018-03-27T00:00:00",
          "2018-04-03T00:00:00",
          "2018-04-03T00:00:00",
          "2018-04-03T00:00:00",
          "2018-04-10T00:00:00",
          "2018-04-10T00:00:00",
          "2018-04-10T00:00:00",
          "2018-04-10T00:00:00",
          "2018-04-10T00:00:00",
          "2018-04-10T00:00:00",
          "2018-04-17T00:00:00",
          "2018-04-17T00:00:00",
          "2018-04-17T00:00:00",
          "2018-04-17T00:00:00",
          "2018-04-17T00:00:00",
          "2018-04-24T00:00:00",
          "2018-04-24T00:00:00",
          "2018-04-24T00:00:00",
          "2018-04-24T00:00:00",
          "2018-04-24T00:00:00",
          "2018-04-24T00:00:00",
          "2018-04-24T00:00:00",
          "2018-05-01T00:00:00",
          "2018-05-01T00:00:00",
          "2018-05-02T00:00:00",
          "2018-05-08T00:00:00",
          "2018-05-08T00:00:00",
          "2018-05-08T00:00:00",
          "2018-05-15T00:00:00",
          "2018-05-15T00:00:00",
          "2018-05-15T00:00:00",
          "2018-05-15T00:00:00",
          "2018-05-15T00:00:00",
          "2018-05-15T00:00:00",
          "2018-05-22T00:00:00",
          "2018-05-22T00:00:00",
          "2018-05-22T00:00:00",
          "2018-05-22T00:00:00",
          "2018-05-22T00:00:00",
          "2018-05-29T00:00:00",
          "2018-05-29T00:00:00",
          "2018-05-29T00:00:00",
          "2018-05-29T00:00:00",
          "2018-05-29T00:00:00",
          "2018-05-29T00:00:00",
          "2018-06-05T00:00:00",
          "2018-06-05T00:00:00",
          "2018-06-05T00:00:00",
          "2018-06-12T00:00:00",
          "2018-06-12T00:00:00",
          "2018-06-12T00:00:00",
          "2018-06-19T00:00:00",
          "2018-06-19T00:00:00",
          "2018-06-19T00:00:00",
          "2018-06-19T00:00:00",
          "2018-06-19T00:00:00",
          "2018-06-26T00:00:00",
          "2018-06-26T00:00:00",
          "2018-06-26T00:00:00",
          "2018-06-26T00:00:00",
          "2018-07-03T00:00:00",
          "2018-07-03T00:00:00",
          "2018-07-03T00:00:00",
          "2018-07-03T00:00:00",
          "2018-07-03T00:00:00",
          "2018-07-03T00:00:00",
          "2018-07-03T00:00:00",
          "2018-07-10T00:00:00",
          "2018-07-10T00:00:00",
          "2018-07-10T00:00:00",
          "2018-07-10T00:00:00",
          "2018-07-10T00:00:00",
          "2018-07-10T00:00:00",
          "2018-07-17T00:00:00",
          "2018-07-17T00:00:00",
          "2018-07-17T00:00:00",
          "2018-07-17T00:00:00",
          "2018-07-17T00:00:00",
          "2018-07-17T00:00:00",
          "2018-07-24T00:00:00",
          "2018-07-24T00:00:00",
          "2018-07-24T00:00:00",
          "2018-07-24T00:00:00",
          "2018-07-24T00:00:00",
          "2018-07-31T00:00:00",
          "2018-07-31T00:00:00",
          "2018-07-31T00:00:00",
          "2018-07-31T00:00:00",
          "2018-07-31T00:00:00",
          "2018-08-07T00:00:00",
          "2018-08-07T00:00:00",
          "2018-08-07T00:00:00",
          "2018-08-07T00:00:00",
          "2018-08-07T00:00:00",
          "2018-08-14T00:00:00",
          "2018-08-14T00:00:00",
          "2018-08-14T00:00:00",
          "2018-08-14T00:00:00",
          "2018-08-14T00:00:00",
          "2018-08-21T00:00:00",
          "2018-08-21T00:00:00",
          "2018-08-21T00:00:00",
          "2018-08-21T00:00:00",
          "2018-08-21T00:00:00",
          "2018-08-21T00:00:00",
          "2018-08-21T00:00:00",
          "2018-08-28T00:00:00",
          "2018-08-28T00:00:00",
          "2018-08-28T00:00:00",
          "2018-08-28T00:00:00",
          "2018-08-28T00:00:00",
          "2018-09-04T00:00:00",
          "2018-09-04T00:00:00",
          "2018-09-04T00:00:00",
          "2018-09-04T00:00:00",
          "2018-09-04T00:00:00",
          "2018-09-04T00:00:00",
          "2018-09-04T00:00:00",
          "2018-09-04T00:00:00",
          "2018-09-11T00:00:00",
          "2018-09-11T00:00:00",
          "2018-09-11T00:00:00",
          "2018-09-11T00:00:00",
          "2018-09-11T00:00:00",
          "2018-09-18T00:00:00",
          "2018-09-18T00:00:00",
          "2018-09-25T00:00:00",
          "2018-09-25T00:00:00",
          "2018-09-25T00:00:00",
          "2018-09-25T00:00:00",
          "2018-09-25T00:00:00",
          "2018-10-02T00:00:00",
          "2018-10-02T00:00:00",
          "2018-10-02T00:00:00",
          "2018-10-02T00:00:00",
          "2018-10-03T00:00:00",
          "2018-10-08T00:00:00",
          "2018-10-08T00:00:00",
          "2018-10-09T00:00:00",
          "2018-10-09T00:00:00",
          "2018-10-16T00:00:00",
          "2018-10-16T00:00:00",
          "2018-10-16T00:00:00",
          "2018-10-16T00:00:00",
          "2018-10-16T00:00:00",
          "2018-10-16T00:00:00",
          "2018-10-16T00:00:00",
          "2018-10-16T00:00:00",
          "2018-10-23T00:00:00",
          "2018-10-23T00:00:00",
          "2018-10-23T00:00:00",
          "2018-10-23T00:00:00",
          "2018-10-23T00:00:00",
          "2018-10-23T00:00:00",
          "2018-10-23T00:00:00",
          "2018-10-23T00:00:00",
          "2018-10-23T00:00:00",
          "2018-10-23T00:00:00",
          "2018-10-30T00:00:00",
          "2018-10-30T00:00:00",
          "2018-10-30T00:00:00",
          "2018-10-30T00:00:00",
          "2018-10-30T00:00:00",
          "2018-10-30T00:00:00",
          "2018-10-30T00:00:00",
          "2018-10-30T00:00:00",
          "2018-10-30T00:00:00",
          "2018-10-30T00:00:00",
          "2018-11-06T00:00:00",
          "2018-11-06T00:00:00",
          "2018-11-06T00:00:00",
          "2018-11-06T00:00:00",
          "2018-11-06T00:00:00",
          "2018-11-06T00:00:00",
          "2018-11-06T00:00:00",
          "2018-11-06T00:00:00",
          "2018-11-13T00:00:00",
          "2018-11-13T00:00:00",
          "2018-11-13T00:00:00",
          "2018-11-13T00:00:00",
          "2018-11-13T00:00:00",
          "2018-11-13T00:00:00",
          "2018-11-13T00:00:00",
          "2018-11-13T00:00:00",
          "2018-11-13T00:00:00",
          "2018-11-13T00:00:00",
          "2018-11-20T00:00:00",
          "2018-11-20T00:00:00",
          "2018-11-20T00:00:00",
          "2018-11-20T00:00:00",
          "2018-11-20T00:00:00",
          "2018-11-20T00:00:00",
          "2018-11-20T00:00:00",
          "2018-11-20T00:00:00",
          "2018-11-20T00:00:00",
          "2018-11-27T00:00:00",
          "2018-11-27T00:00:00",
          "2018-11-27T00:00:00",
          "2018-11-27T00:00:00",
          "2018-11-27T00:00:00",
          "2018-11-27T00:00:00",
          "2018-11-27T00:00:00",
          "2018-12-04T00:00:00",
          "2018-12-04T00:00:00",
          "2018-12-04T00:00:00",
          "2018-12-04T00:00:00",
          "2018-12-04T00:00:00",
          "2018-12-04T00:00:00",
          "2018-12-04T00:00:00",
          "2018-12-04T00:00:00",
          "2018-12-04T00:00:00",
          "2018-12-11T00:00:00",
          "2018-12-11T00:00:00",
          "2018-12-11T00:00:00",
          "2018-12-11T00:00:00",
          "2018-12-11T00:00:00",
          "2018-12-11T00:00:00",
          "2018-12-11T00:00:00",
          "2018-12-11T00:00:00",
          "2018-12-11T00:00:00",
          "2018-12-11T00:00:00",
          "2018-12-18T00:00:00",
          "2018-12-18T00:00:00",
          "2018-12-18T00:00:00",
          "2018-12-18T00:00:00",
          "2018-12-18T00:00:00",
          "2018-12-18T00:00:00",
          "2019-01-08T00:00:00",
          "2019-01-08T00:00:00",
          "2019-01-08T00:00:00",
          "2019-01-08T00:00:00",
          "2019-01-08T00:00:00",
          "2019-01-08T00:00:00",
          "2019-01-15T00:00:00",
          "2019-01-15T00:00:00",
          "2019-01-15T00:00:00",
          "2019-01-15T00:00:00",
          "2019-01-15T00:00:00",
          "2019-01-22T00:00:00",
          "2019-01-22T00:00:00",
          "2019-01-22T00:00:00",
          "2019-01-29T00:00:00",
          "2019-01-29T00:00:00",
          "2019-01-29T00:00:00",
          "2019-01-29T00:00:00",
          "2019-02-05T00:00:00",
          "2019-02-05T00:00:00",
          "2019-02-05T00:00:00",
          "2019-02-05T00:00:00",
          "2019-02-05T00:00:00",
          "2019-02-12T00:00:00",
          "2019-02-12T00:00:00",
          "2019-02-12T00:00:00",
          "2019-02-12T00:00:00",
          "2019-02-12T00:00:00",
          "2019-02-12T00:00:00",
          "2019-02-12T00:00:00",
          "2019-02-12T00:00:00",
          "2019-02-19T00:00:00",
          "2019-02-19T00:00:00",
          "2019-02-19T00:00:00",
          "2019-02-19T00:00:00",
          "2019-02-19T00:00:00",
          "2019-02-19T00:00:00",
          "2019-02-19T00:00:00",
          "2019-02-19T00:00:00",
          "2019-02-19T00:00:00",
          "2019-02-26T00:00:00",
          "2019-02-26T00:00:00",
          "2019-02-26T00:00:00",
          "2019-02-26T00:00:00",
          "2019-02-26T00:00:00",
          "2019-02-26T00:00:00",
          "2019-02-26T00:00:00",
          "2019-02-26T00:00:00",
          "2019-02-26T00:00:00",
          "2019-03-05T00:00:00",
          "2019-03-05T00:00:00",
          "2019-03-05T00:00:00",
          "2019-03-05T00:00:00",
          "2019-03-12T00:00:00",
          "2019-03-12T00:00:00",
          "2019-03-12T00:00:00",
          "2019-03-26T00:00:00",
          "2019-03-27T00:00:00",
          "2019-03-27T00:00:00",
          "2019-03-27T00:00:00",
          "2019-04-01T00:00:00",
          "2019-04-01T00:00:00",
          "2019-04-03T00:00:00",
          "2019-04-03T00:00:00",
          "2019-04-03T00:00:00",
          "2019-04-03T00:00:00",
          "2019-04-03T00:00:00",
          "2019-04-05T00:00:00",
          "2019-04-05T00:00:00",
          "2019-04-09T00:00:00",
          "2019-04-09T00:00:00",
          "2019-04-09T00:00:00",
          "2019-04-10T00:00:00",
          "2019-04-11T00:00:00",
          "2019-04-11T00:00:00",
          "2019-04-11T00:00:00",
          "2019-04-11T00:00:00",
          "2019-04-11T00:00:00",
          "2019-04-15T00:00:00",
          "2019-04-17T00:00:00",
          "2019-04-18T00:00:00",
          "2019-04-18T00:00:00",
          "2019-04-18T00:00:00",
          "2019-04-23T00:00:00",
          "2019-04-23T00:00:00",
          "2019-04-25T00:00:00",
          "2019-04-26T00:00:00",
          "2019-04-26T00:00:00",
          "2019-04-29T00:00:00",
          "2019-05-02T00:00:00",
          "2019-05-02T00:00:00",
          "2019-05-06T00:00:00",
          "2019-05-08T00:00:00",
          "2019-05-09T00:00:00",
          "2019-05-10T00:00:00",
          "2019-05-13T00:00:00",
          "2019-05-13T00:00:00",
          "2019-05-13T00:00:00",
          "2019-05-13T00:00:00",
          "2019-05-13T00:00:00",
          "2019-05-16T00:00:00",
          "2019-05-16T00:00:00",
          "2019-05-16T00:00:00",
          "2019-05-16T00:00:00",
          "2019-05-17T00:00:00",
          "2019-05-17T00:00:00",
          "2019-05-20T00:00:00",
          "2019-05-20T00:00:00",
          "2019-05-22T00:00:00",
          "2019-05-22T00:00:00",
          "2019-05-23T00:00:00",
          "2019-05-23T00:00:00",
          "2019-05-23T00:00:00",
          "2019-05-27T00:00:00",
          "2019-05-27T00:00:00",
          "2019-05-28T00:00:00",
          "2019-05-28T00:00:00",
          "2019-05-29T00:00:00",
          "2019-05-31T00:00:00",
          "2019-06-03T00:00:00",
          "2019-06-03T00:00:00",
          "2019-06-03T00:00:00",
          "2019-06-07T00:00:00",
          "2019-06-07T00:00:00",
          "2019-06-12T00:00:00",
          "2019-06-12T00:00:00",
          "2019-06-13T00:00:00",
          "2019-06-13T00:00:00",
          "2019-06-13T00:00:00",
          "2019-06-13T00:00:00",
          "2019-06-14T00:00:00",
          "2019-06-14T00:00:00",
          "2019-06-17T00:00:00",
          "2019-06-17T00:00:00",
          "2019-06-17T00:00:00",
          "2019-06-17T00:00:00",
          "2019-06-19T00:00:00",
          "2019-06-20T00:00:00",
          "2019-06-24T00:00:00",
          "2019-06-27T00:00:00",
          "2019-07-01T00:00:00",
          "2019-07-01T00:00:00",
          "2019-07-01T00:00:00",
          "2019-07-03T00:00:00",
          "2019-07-03T00:00:00",
          "2019-07-03T00:00:00",
          "2019-07-03T00:00:00",
          "2019-07-03T00:00:00",
          "2019-07-04T00:00:00",
          "2019-07-04T00:00:00",
          "2019-07-04T00:00:00",
          "2019-07-04T00:00:00",
          "2019-07-05T00:00:00",
          "2019-07-05T00:00:00",
          "2019-07-08T00:00:00",
          "2019-07-10T00:00:00",
          "2019-07-11T00:00:00",
          "2019-07-15T00:00:00",
          "2019-07-15T00:00:00",
          "2019-07-17T00:00:00",
          "2019-07-17T00:00:00",
          "2019-07-17T00:00:00",
          "2019-07-18T00:00:00",
          "2019-07-19T00:00:00",
          "2019-07-22T00:00:00",
          "2019-07-22T00:00:00",
          "2019-07-22T00:00:00",
          "2019-07-24T00:00:00",
          "2019-07-24T00:00:00",
          "2019-07-24T00:00:00",
          "2019-07-24T00:00:00",
          "2019-07-25T00:00:00",
          "2019-07-26T00:00:00",
          "2019-07-29T00:00:00",
          "2019-07-31T00:00:00",
          "2019-07-31T00:00:00",
          "2019-07-31T00:00:00",
          "2019-08-02T00:00:00",
          "2019-08-05T00:00:00",
          "2019-08-08T00:00:00",
          "2019-08-09T00:00:00",
          "2019-08-12T00:00:00",
          "2019-08-12T00:00:00",
          "2019-08-13T00:00:00",
          "2019-08-13T00:00:00",
          "2019-08-14T00:00:00",
          "2019-08-14T00:00:00",
          "2019-08-16T00:00:00",
          "2019-08-19T00:00:00",
          "2019-08-21T00:00:00",
          "2019-08-21T00:00:00",
          "2019-08-21T00:00:00",
          "2019-08-21T00:00:00",
          "2019-08-22T00:00:00",
          "2019-08-22T00:00:00",
          "2019-08-26T00:00:00",
          "2019-08-29T00:00:00",
          "2019-08-29T00:00:00",
          "2019-08-29T00:00:00",
          "2019-08-30T00:00:00",
          "2019-08-30T00:00:00",
          "2019-09-02T00:00:00",
          "2019-09-03T00:00:00",
          "2019-09-05T00:00:00",
          "2019-09-09T00:00:00",
          "2019-09-10T00:00:00",
          "2019-09-12T00:00:00",
          "2019-09-16T00:00:00",
          "2019-09-20T00:00:00",
          "2019-09-24T00:00:00",
          "2019-09-24T00:00:00",
          "2019-09-24T00:00:00",
          "2019-09-24T00:00:00",
          "2019-09-24T00:00:00",
          "2019-09-24T00:00:00",
          "2019-09-25T00:00:00",
          "2019-09-27T00:00:00",
          "2019-09-27T00:00:00",
          "2019-09-30T00:00:00",
          "2019-09-30T00:00:00",
          "2019-09-30T00:00:00",
          "2019-10-01T00:00:00",
          "2019-10-01T00:00:00",
          "2019-10-04T00:00:00",
          "2019-10-04T00:00:00",
          "2019-10-08T00:00:00",
          "2019-10-08T00:00:00",
          "2019-10-08T00:00:00",
          "2019-10-09T00:00:00",
          "2019-10-09T00:00:00",
          "2019-10-10T00:00:00",
          "2019-10-10T00:00:00",
          "2019-10-11T00:00:00",
          "2019-10-15T00:00:00",
          "2019-10-15T00:00:00",
          "2019-10-15T00:00:00",
          "2019-10-15T00:00:00",
          "2019-10-16T00:00:00",
          "2019-10-16T00:00:00",
          "2019-10-16T00:00:00",
          "2019-10-17T00:00:00",
          "2019-10-17T00:00:00",
          "2019-10-17T00:00:00",
          "2019-10-17T00:00:00",
          "2019-10-17T00:00:00",
          "2019-10-18T00:00:00",
          "2019-10-21T00:00:00",
          "2019-10-22T00:00:00",
          "2019-10-22T00:00:00",
          "2019-10-22T00:00:00",
          "2019-10-22T00:00:00",
          "2019-10-22T00:00:00",
          "2019-10-22T00:00:00",
          "2019-10-22T00:00:00",
          "2019-10-22T00:00:00",
          "2019-10-22T00:00:00",
          "2019-10-22T00:00:00",
          "2019-10-22T00:00:00",
          "2019-10-22T00:00:00",
          "2019-10-23T00:00:00",
          "2019-10-23T00:00:00",
          "2019-10-24T00:00:00",
          "2019-10-25T00:00:00",
          "2019-10-25T00:00:00",
          "2019-10-25T00:00:00",
          "2019-10-25T00:00:00",
          "2019-10-28T00:00:00",
          "2019-10-28T00:00:00",
          "2019-10-29T00:00:00",
          "2019-10-29T00:00:00",
          "2019-10-29T00:00:00",
          "2019-10-29T00:00:00",
          "2019-10-29T00:00:00",
          "2019-10-29T00:00:00",
          "2019-10-30T00:00:00",
          "2019-10-30T00:00:00",
          "2019-10-31T00:00:00",
          "2019-10-31T00:00:00",
          "2019-10-31T00:00:00",
          "2019-10-31T00:00:00",
          "2019-10-31T00:00:00",
          "2019-10-31T00:00:00",
          "2019-10-31T00:00:00",
          "2019-10-31T00:00:00",
          "2019-10-31T00:00:00",
          "2019-10-31T00:00:00",
          "2019-11-01T00:00:00",
          "2019-11-04T00:00:00",
          "2019-11-05T00:00:00",
          "2019-11-06T00:00:00",
          "2019-11-06T00:00:00",
          "2019-11-06T00:00:00",
          "2019-11-07T00:00:00",
          "2019-11-07T00:00:00",
          "2019-11-08T00:00:00",
          "2019-11-08T00:00:00",
          "2019-11-11T00:00:00",
          "2019-11-11T00:00:00",
          "2019-11-11T00:00:00",
          "2019-11-19T00:00:00",
          "2019-11-21T00:00:00",
          "2019-11-21T00:00:00",
          "2019-11-21T00:00:00",
          "2019-11-22T00:00:00",
          "2019-11-22T00:00:00",
          "2019-11-25T00:00:00",
          "2019-11-25T00:00:00",
          "2019-11-25T00:00:00",
          "2019-11-25T00:00:00",
          "2019-11-25T00:00:00",
          "2019-11-26T00:00:00",
          "2019-11-26T00:00:00",
          "2019-11-26T00:00:00",
          "2019-11-26T00:00:00",
          "2019-11-26T00:00:00",
          "2019-11-26T00:00:00",
          "2019-11-26T00:00:00",
          "2019-11-26T00:00:00",
          "2019-11-28T00:00:00",
          "2019-11-29T00:00:00",
          "2019-11-29T00:00:00",
          "2019-12-03T00:00:00",
          "2019-12-03T00:00:00",
          "2019-12-03T00:00:00",
          "2019-12-03T00:00:00",
          "2019-12-03T00:00:00",
          "2019-12-03T00:00:00",
          "2019-12-03T00:00:00",
          "2019-12-05T00:00:00",
          "2019-12-06T00:00:00",
          "2019-12-06T00:00:00",
          "2019-12-09T00:00:00",
          "2019-12-09T00:00:00",
          "2019-12-09T00:00:00",
          "2019-12-09T00:00:00",
          "2019-12-09T00:00:00",
          "2019-12-09T00:00:00",
          "2019-12-11T00:00:00",
          "2019-12-12T00:00:00",
          "2019-12-12T00:00:00",
          "2019-12-13T00:00:00",
          "2019-12-16T00:00:00",
          "2019-12-16T00:00:00",
          "2019-12-17T00:00:00",
          "2019-12-17T00:00:00",
          "2019-12-18T00:00:00",
          "2019-12-18T00:00:00",
          "2019-12-18T00:00:00",
          "2019-12-19T00:00:00",
          "2019-12-20T00:00:00",
          "2020-01-02T00:00:00",
          "2020-01-02T00:00:00",
          "2020-01-02T00:00:00",
          "2020-01-02T00:00:00",
          "2020-01-03T00:00:00",
          "2020-01-08T00:00:00",
          "2020-01-08T00:00:00",
          "2020-01-08T00:00:00",
          "2020-01-08T00:00:00",
          "2020-01-09T00:00:00",
          "2020-01-13T00:00:00",
          "2020-01-13T00:00:00",
          "2020-01-13T00:00:00",
          "2020-01-13T00:00:00",
          "2020-01-13T00:00:00",
          "2020-01-15T00:00:00",
          "2020-01-15T00:00:00",
          "2020-01-15T00:00:00",
          "2020-01-16T00:00:00",
          "2020-01-20T00:00:00",
          "2020-01-20T00:00:00",
          "2020-01-21T00:00:00",
          "2020-01-21T00:00:00",
          "2020-01-21T00:00:00",
          "2020-01-21T00:00:00",
          "2020-01-21T00:00:00",
          "2020-01-21T00:00:00",
          "2020-01-21T00:00:00",
          "2020-01-21T00:00:00",
          "2020-01-21T00:00:00",
          "2020-01-23T00:00:00",
          "2020-01-27T00:00:00",
          "2020-01-28T00:00:00",
          "2020-02-03T00:00:00",
          "2020-02-04T00:00:00",
          "2020-02-04T00:00:00",
          "2020-02-06T00:00:00",
          "2020-02-06T00:00:00",
          "2020-02-07T00:00:00",
          "2020-02-10T00:00:00",
          "2020-02-10T00:00:00",
          "2020-02-11T00:00:00",
          "2020-02-11T00:00:00",
          "2020-02-11T00:00:00",
          "2020-02-11T00:00:00",
          "2020-02-12T00:00:00",
          "2020-02-12T00:00:00",
          "2020-02-13T00:00:00",
          "2020-02-13T00:00:00",
          "2020-02-13T00:00:00",
          "2020-02-13T00:00:00",
          "2020-02-13T00:00:00",
          "2020-02-17T00:00:00",
          "2020-02-18T00:00:00",
          "2020-02-18T00:00:00",
          "2020-02-20T00:00:00",
          "2020-02-20T00:00:00",
          "2020-02-21T00:00:00",
          "2020-02-21T00:00:00",
          "2020-02-24T00:00:00",
          "2020-02-24T00:00:00",
          "2020-02-24T00:00:00",
          "2020-02-26T00:00:00",
          "2020-02-27T00:00:00",
          "2020-02-27T00:00:00",
          "2020-03-03T00:00:00",
          "2020-03-03T00:00:00",
          "2020-03-03T00:00:00",
          "2020-03-03T00:00:00",
          "2020-03-03T00:00:00",
          "2020-03-04T00:00:00",
          "2020-03-04T00:00:00",
          "2020-03-06T00:00:00",
          "2020-03-06T00:00:00",
          "2020-03-09T00:00:00",
          "2020-03-09T00:00:00",
          "2020-03-09T00:00:00",
          "2020-03-09T00:00:00",
          "2020-03-09T00:00:00",
          "2020-03-10T00:00:00",
          "2020-03-11T00:00:00",
          "2020-03-11T00:00:00",
          "2020-03-12T00:00:00",
          "2020-03-16T00:00:00",
          "2020-03-17T00:00:00",
          "2020-03-18T00:00:00",
          "2020-03-19T00:00:00",
          "2020-03-19T00:00:00",
          "2020-03-20T00:00:00",
          "2020-03-23T00:00:00",
          "2020-03-23T00:00:00",
          "2020-03-24T00:00:00",
          "2020-03-25T00:00:00",
          "2020-03-25T00:00:00",
          "2020-03-26T00:00:00",
          "2020-03-26T00:00:00",
          "2020-03-26T00:00:00",
          "2020-03-27T00:00:00",
          "2020-03-31T00:00:00",
          "2020-04-02T00:00:00",
          "2020-04-03T00:00:00",
          "2020-04-03T00:00:00",
          "2020-04-03T00:00:00",
          "2020-04-06T00:00:00",
          "2020-04-07T00:00:00",
          "2020-04-14T00:00:00",
          "2020-04-14T00:00:00",
          "2020-04-14T00:00:00",
          "2020-04-14T00:00:00",
          "2020-04-17T00:00:00",
          "2020-04-20T00:00:00",
          "2020-04-21T00:00:00",
          "2020-04-28T00:00:00",
          "2020-04-28T00:00:00",
          "2020-04-28T00:00:00",
          "2020-04-29T00:00:00",
          "2020-04-29T00:00:00",
          "2020-04-29T00:00:00",
          "2020-04-29T00:00:00",
          "2020-04-29T00:00:00",
          "2020-05-01T00:00:00",
          "2020-05-01T00:00:00",
          "2020-05-05T00:00:00",
          "2020-05-08T00:00:00",
          "2020-05-08T00:00:00",
          "2020-05-08T00:00:00",
          "2020-05-08T00:00:00",
          "2020-05-11T00:00:00",
          "2020-05-11T00:00:00",
          "2020-05-12T00:00:00",
          "2020-05-15T00:00:00",
          "2020-05-15T00:00:00",
          "2020-05-19T00:00:00",
          "2020-05-20T00:00:00",
          "2020-05-20T00:00:00",
          "2020-05-21T00:00:00",
          "2020-05-21T00:00:00",
          "2020-05-22T00:00:00",
          "2020-05-25T00:00:00",
          "2020-05-26T00:00:00",
          "2020-05-26T00:00:00",
          "2020-05-27T00:00:00",
          "2020-05-27T00:00:00",
          "2020-05-27T00:00:00",
          "2020-05-27T00:00:00",
          "2020-05-28T00:00:00",
          "2020-05-28T00:00:00",
          "2020-05-29T00:00:00",
          "2020-05-29T00:00:00",
          "2020-05-29T00:00:00",
          "2020-06-01T00:00:00",
          "2020-06-03T00:00:00",
          "2020-06-04T00:00:00",
          "2020-06-05T00:00:00",
          "2020-06-05T00:00:00",
          "2020-06-05T00:00:00",
          "2020-06-10T00:00:00",
          "2020-06-10T00:00:00",
          "2020-06-11T00:00:00",
          "2020-06-11T00:00:00",
          "2020-06-15T00:00:00",
          "2020-06-16T00:00:00",
          "2020-06-16T00:00:00",
          "2020-06-17T00:00:00",
          "2020-06-17T00:00:00",
          "2020-06-19T00:00:00",
          "2020-06-19T00:00:00",
          "2020-06-19T00:00:00",
          "2020-06-19T00:00:00",
          "2020-06-19T00:00:00",
          "2020-06-19T00:00:00",
          "2020-06-19T00:00:00",
          "2020-06-19T00:00:00",
          "2020-06-22T00:00:00",
          "2020-06-22T00:00:00",
          "2020-06-24T00:00:00",
          "2020-06-24T00:00:00",
          "2020-06-24T00:00:00",
          "2020-06-25T00:00:00",
          "2020-06-25T00:00:00",
          "2020-06-25T00:00:00",
          "2020-06-26T00:00:00",
          "2020-06-26T00:00:00",
          "2020-06-29T00:00:00",
          "2020-06-29T00:00:00",
          "2020-06-30T00:00:00",
          "2020-06-30T00:00:00",
          "2020-07-03T00:00:00",
          "2020-07-03T00:00:00",
          "2020-07-06T00:00:00",
          "2020-07-06T00:00:00",
          "2020-07-07T00:00:00",
          "2020-07-07T00:00:00",
          "2020-07-07T00:00:00",
          "2020-07-07T00:00:00",
          "2020-07-08T00:00:00",
          "2020-07-08T00:00:00",
          "2020-07-08T00:00:00",
          "2020-07-08T00:00:00",
          "2020-07-08T00:00:00",
          "2020-07-08T00:00:00",
          "2020-07-09T00:00:00",
          "2020-07-09T00:00:00",
          "2020-07-09T00:00:00",
          "2020-07-09T00:00:00",
          "2020-07-09T00:00:00",
          "2020-07-10T00:00:00",
          "2020-07-10T00:00:00",
          "2020-07-13T00:00:00",
          "2020-07-13T00:00:00",
          "2020-07-13T00:00:00",
          "2020-07-13T00:00:00",
          "2020-07-13T00:00:00",
          "2020-07-13T00:00:00",
          "2020-07-13T00:00:00",
          "2020-07-14T00:00:00",
          "2020-07-15T00:00:00",
          "2020-07-16T00:00:00",
          "2020-07-17T00:00:00",
          "2020-07-20T00:00:00",
          "2020-07-20T00:00:00",
          "2020-07-20T00:00:00",
          "2020-07-20T00:00:00",
          "2020-07-21T00:00:00",
          "2020-07-23T00:00:00",
          "2020-07-24T00:00:00",
          "2020-07-28T00:00:00",
          "2020-07-30T00:00:00",
          "2020-07-31T00:00:00",
          "2020-08-04T00:00:00",
          "2020-08-05T00:00:00",
          "2020-08-05T00:00:00",
          "2020-08-05T00:00:00",
          "2020-08-05T00:00:00",
          "2020-08-06T00:00:00",
          "2020-08-06T00:00:00",
          "2020-08-07T00:00:00",
          "2020-08-11T00:00:00",
          "2020-08-11T00:00:00",
          "2020-08-11T00:00:00",
          "2020-08-12T00:00:00",
          "2020-08-13T00:00:00",
          "2020-08-14T00:00:00",
          "2020-08-14T00:00:00",
          "2020-08-18T00:00:00",
          "2020-08-21T00:00:00",
          "2020-08-21T00:00:00",
          "2020-08-25T00:00:00",
          "2020-08-25T00:00:00",
          "2020-08-25T00:00:00",
          "2020-08-27T00:00:00",
          "2020-08-27T00:00:00",
          "2020-08-27T00:00:00",
          "2020-08-28T00:00:00",
          "2020-08-28T00:00:00",
          "2020-08-28T00:00:00",
          "2020-09-08T00:00:00",
          "2020-09-08T00:00:00",
          "2020-09-08T00:00:00",
          "2020-09-08T00:00:00",
          "2020-09-08T00:00:00",
          "2020-09-08T00:00:00",
          "2020-09-08T00:00:00",
          "2020-09-08T00:00:00",
          "2020-09-08T00:00:00",
          "2020-09-08T00:00:00",
          "2020-09-08T00:00:00",
          "2020-09-08T00:00:00",
          "2020-09-08T00:00:00",
          "2020-09-08T00:00:00",
          "2020-09-08T00:00:00",
          "2020-09-11T00:00:00",
          "2020-09-14T00:00:00",
          "2020-09-15T00:00:00",
          "2020-09-15T00:00:00",
          "2020-09-15T00:00:00",
          "2020-09-16T00:00:00",
          "2020-09-22T00:00:00",
          "2020-09-22T00:00:00",
          "2020-09-23T00:00:00",
          "2020-09-23T00:00:00",
          "2020-09-24T00:00:00",
          "2020-09-28T00:00:00",
          "2020-09-28T00:00:00",
          "2020-09-30T00:00:00",
          "2020-10-01T00:00:00",
          "2020-10-01T00:00:00",
          "2020-10-02T00:00:00",
          "2020-10-02T00:00:00",
          "2020-10-02T00:00:00",
          "2020-10-02T00:00:00",
          "2020-10-05T00:00:00",
          "2020-10-05T00:00:00",
          "2020-10-05T00:00:00",
          "2020-10-05T00:00:00",
          "2020-10-05T00:00:00",
          "2020-10-06T00:00:00",
          "2020-10-06T00:00:00",
          "2020-10-06T00:00:00",
          "2020-10-08T00:00:00",
          "2020-10-09T00:00:00",
          "2020-10-12T00:00:00",
          "2020-10-12T00:00:00",
          "2020-10-12T00:00:00",
          "2020-10-12T00:00:00",
          "2020-10-12T00:00:00",
          "2020-10-12T00:00:00",
          "2020-10-13T00:00:00",
          "2020-10-13T00:00:00",
          "2020-10-13T00:00:00",
          "2020-10-13T00:00:00",
          "2020-10-13T00:00:00",
          "2020-10-13T00:00:00",
          "2020-10-13T00:00:00",
          "2020-10-13T00:00:00",
          "2020-10-13T00:00:00",
          "2020-10-15T00:00:00",
          "2020-10-15T00:00:00",
          "2020-10-16T00:00:00",
          "2020-10-16T00:00:00",
          "2020-10-16T00:00:00",
          "2020-10-20T00:00:00",
          "2020-10-20T00:00:00",
          "2020-10-20T00:00:00",
          "2020-10-20T00:00:00",
          "2020-10-20T00:00:00",
          "2020-10-21T00:00:00",
          "2020-10-21T00:00:00",
          "2020-10-21T00:00:00",
          "2020-10-21T00:00:00",
          "2020-10-21T00:00:00",
          "2020-10-23T00:00:00",
          "2020-10-26T00:00:00",
          "2020-10-26T00:00:00",
          "2020-10-27T00:00:00",
          "2020-10-27T00:00:00",
          "2020-10-27T00:00:00",
          "2020-10-27T00:00:00",
          "2020-10-29T00:00:00",
          "2020-11-04T00:00:00",
          "2020-11-06T00:00:00",
          "2020-11-09T00:00:00",
          "2020-11-09T00:00:00",
          "2020-11-09T00:00:00",
          "2020-11-10T00:00:00",
          "2020-11-11T00:00:00",
          "2020-11-11T00:00:00",
          "2020-11-11T00:00:00",
          "2020-11-11T00:00:00",
          "2020-11-11T00:00:00",
          "2020-11-11T00:00:00",
          "2020-11-11T00:00:00",
          "2020-11-11T00:00:00",
          "2020-11-11T00:00:00",
          "2020-11-12T00:00:00",
          "2020-11-12T00:00:00",
          "2020-11-12T00:00:00",
          "2020-11-12T00:00:00",
          "2020-11-13T00:00:00",
          "2020-11-13T00:00:00",
          "2020-11-13T00:00:00",
          "2020-11-16T00:00:00",
          "2020-11-16T00:00:00",
          "2020-11-16T00:00:00",
          "2020-11-16T00:00:00",
          "2020-11-17T00:00:00",
          "2020-11-18T00:00:00",
          "2020-11-18T00:00:00",
          "2020-11-19T00:00:00",
          "2020-11-19T00:00:00",
          "2020-11-19T00:00:00",
          "2020-11-20T00:00:00",
          "2020-11-20T00:00:00",
          "2020-11-20T00:00:00",
          "2020-11-20T00:00:00",
          "2020-11-20T00:00:00",
          "2020-11-23T00:00:00",
          "2020-11-23T00:00:00",
          "2020-11-24T00:00:00",
          "2020-11-24T00:00:00",
          "2020-11-25T00:00:00",
          "2020-11-26T00:00:00",
          "2020-11-27T00:00:00",
          "2020-11-27T00:00:00",
          "2020-11-30T00:00:00",
          "2020-11-30T00:00:00",
          "2020-11-30T00:00:00",
          "2020-12-01T00:00:00",
          "2020-12-01T00:00:00",
          "2020-12-02T00:00:00",
          "2020-12-04T00:00:00",
          "2020-12-08T00:00:00",
          "2020-12-08T00:00:00",
          "2020-12-10T00:00:00",
          "2020-12-10T00:00:00",
          "2020-12-15T00:00:00",
          "2020-12-15T00:00:00",
          "2020-12-15T00:00:00",
          "2020-12-16T00:00:00",
          "2020-12-17T00:00:00",
          "2020-12-17T00:00:00",
          "2020-12-17T00:00:00",
          "2020-12-17T00:00:00",
          "2020-12-17T00:00:00",
          "2020-12-18T00:00:00",
          "2020-12-18T00:00:00",
          "2021-01-04T00:00:00",
          "2021-01-07T00:00:00",
          "2021-01-07T00:00:00",
          "2021-01-07T00:00:00",
          "2021-01-11T00:00:00",
          "2021-01-11T00:00:00",
          "2021-01-11T00:00:00",
          "2021-01-11T00:00:00",
          "2021-01-13T00:00:00",
          "2021-01-14T00:00:00",
          "2021-01-15T00:00:00",
          "2021-01-15T00:00:00",
          "2021-01-18T00:00:00",
          "2021-01-18T00:00:00",
          "2021-01-18T00:00:00",
          "2021-01-20T00:00:00",
          "2021-01-20T00:00:00",
          "2021-01-20T00:00:00",
          "2021-01-20T00:00:00",
          "2021-01-20T00:00:00",
          "2021-01-20T00:00:00",
          "2021-01-21T00:00:00",
          "2021-01-21T00:00:00",
          "2021-01-25T00:00:00",
          "2021-01-26T00:00:00",
          "2021-01-26T00:00:00",
          "2021-01-26T00:00:00",
          "2021-01-26T00:00:00",
          "2021-01-26T00:00:00",
          "2021-01-27T00:00:00",
          "2021-01-28T00:00:00",
          "2021-01-28T00:00:00",
          "2021-01-29T00:00:00",
          "2021-01-29T00:00:00",
          "2021-01-29T00:00:00",
          "2021-01-29T00:00:00",
          "2021-02-02T00:00:00",
          "2021-02-02T00:00:00",
          "2021-02-02T00:00:00",
          "2021-02-02T00:00:00",
          "2021-02-02T00:00:00",
          "2021-02-03T00:00:00",
          "2021-02-05T00:00:00",
          "2021-02-05T00:00:00",
          "2021-02-05T00:00:00",
          "2021-02-05T00:00:00",
          "2021-02-05T00:00:00",
          "2021-02-08T00:00:00",
          "2021-02-08T00:00:00",
          "2021-02-09T00:00:00",
          "2021-02-09T00:00:00",
          "2021-02-10T00:00:00",
          "2021-02-10T00:00:00",
          "2021-02-11T00:00:00",
          "2021-02-11T00:00:00",
          "2021-02-11T00:00:00",
          "2021-02-11T00:00:00",
          "2021-02-11T00:00:00",
          "2021-02-16T00:00:00",
          "2021-02-16T00:00:00",
          "2021-02-18T00:00:00",
          "2021-02-22T00:00:00",
          "2021-02-23T00:00:00",
          "2021-02-24T00:00:00",
          "2021-02-26T00:00:00",
          "2021-02-26T00:00:00",
          "2021-03-02T00:00:00",
          "2021-03-04T00:00:00",
          "2021-03-04T00:00:00",
          "2021-03-05T00:00:00",
          "2021-03-08T00:00:00",
          "2021-03-09T00:00:00",
          "2021-03-10T00:00:00",
          "2021-03-11T00:00:00",
          "2021-03-16T00:00:00",
          "2021-03-16T00:00:00",
          "2021-03-19T00:00:00",
          "2021-03-22T00:00:00",
          "2021-03-23T00:00:00",
          "2021-03-25T00:00:00",
          "2021-03-25T00:00:00",
          "2021-03-25T00:00:00",
          "2021-03-25T00:00:00",
          "2021-03-25T00:00:00",
          "2021-03-26T00:00:00",
          "2021-03-26T00:00:00",
          "2021-03-30T00:00:00",
          "2021-04-01T00:00:00",
          "2021-04-01T00:00:00",
          "2021-04-08T00:00:00",
          "2021-04-12T00:00:00",
          "2021-04-12T00:00:00",
          "2021-04-12T00:00:00",
          "2021-04-12T00:00:00",
          "2021-04-12T00:00:00",
          "2021-04-13T00:00:00",
          "2021-04-13T00:00:00",
          "2021-04-16T00:00:00",
          "2021-04-16T00:00:00",
          "2021-04-16T00:00:00",
          "2021-04-16T00:00:00",
          "2021-04-19T00:00:00",
          "2021-04-20T00:00:00",
          "2021-04-21T00:00:00",
          "2021-04-23T00:00:00",
          "2021-04-23T00:00:00",
          "2021-04-23T00:00:00",
          "2021-04-26T00:00:00",
          "2021-04-29T00:00:00",
          "2021-04-29T00:00:00",
          "2021-04-29T00:00:00",
          "2021-04-30T00:00:00",
          "2021-05-04T00:00:00",
          "2021-05-04T00:00:00",
          "2021-05-07T00:00:00",
          "2021-05-07T00:00:00",
          "2021-05-14T00:00:00",
          "2021-05-14T00:00:00",
          "2021-05-20T00:00:00",
          "2021-05-20T00:00:00",
          "2021-05-21T00:00:00",
          "2021-05-25T00:00:00",
          "2021-05-25T00:00:00",
          "2021-05-25T00:00:00",
          "2021-05-26T00:00:00",
          "2021-05-26T00:00:00",
          "2021-05-27T00:00:00",
          "2021-05-27T00:00:00",
          "2021-05-27T00:00:00",
          "2021-05-28T00:00:00",
          "2021-05-28T00:00:00",
          "2021-05-31T00:00:00",
          "2021-06-02T00:00:00",
          "2021-06-09T00:00:00",
          "2021-06-10T00:00:00",
          "2021-06-11T00:00:00",
          "2021-06-11T00:00:00",
          "2021-06-16T00:00:00",
          "2021-06-18T00:00:00",
          "2021-06-23T00:00:00",
          "2021-06-23T00:00:00",
          "2021-06-24T00:00:00",
          "2021-06-28T00:00:00",
          "2021-06-28T00:00:00",
          "2021-06-28T00:00:00",
          "2021-06-28T00:00:00",
          "2021-07-01T00:00:00",
          "2021-07-01T00:00:00",
          "2021-07-02T00:00:00",
          "2021-07-02T00:00:00",
          "2021-07-06T00:00:00",
          "2021-07-07T00:00:00",
          "2021-07-12T00:00:00",
          "2021-07-12T00:00:00",
          "2021-07-13T00:00:00",
          "2021-07-13T00:00:00",
          "2021-07-15T00:00:00",
          "2021-07-15T00:00:00",
          "2021-07-15T00:00:00",
          "2021-07-15T00:00:00",
          "2021-07-15T00:00:00",
          "2021-07-15T00:00:00",
          "2021-07-15T00:00:00",
          "2021-07-15T00:00:00",
          "2021-07-15T00:00:00",
          "2021-07-16T00:00:00",
          "2021-07-16T00:00:00",
          "2021-07-16T00:00:00",
          "2021-07-16T00:00:00",
          "2021-07-20T00:00:00",
          "2021-07-20T00:00:00",
          "2021-07-22T00:00:00",
          "2021-07-22T00:00:00",
          "2021-07-23T00:00:00",
          "2021-07-27T00:00:00",
          "2021-07-27T00:00:00",
          "2021-07-28T00:00:00",
          "2021-07-28T00:00:00",
          "2021-08-02T00:00:00",
          "2021-08-02T00:00:00",
          "2021-08-03T00:00:00",
          "2021-08-03T00:00:00",
          "2021-08-04T00:00:00",
          "2021-08-04T00:00:00",
          "2021-08-04T00:00:00",
          "2021-08-04T00:00:00",
          "2021-08-05T00:00:00",
          "2021-08-05T00:00:00",
          "2021-08-05T00:00:00",
          "2021-08-05T00:00:00",
          "2021-08-05T00:00:00",
          "2021-08-05T00:00:00",
          "2021-08-06T00:00:00",
          "2021-08-06T00:00:00",
          "2021-08-10T00:00:00",
          "2021-08-10T00:00:00",
          "2021-08-11T00:00:00",
          "2021-08-11T00:00:00",
          "2021-08-12T00:00:00",
          "2021-08-12T00:00:00",
          "2021-08-13T00:00:00",
          "2021-08-16T00:00:00",
          "2021-08-17T00:00:00",
          "2021-08-19T00:00:00",
          "2021-08-24T00:00:00",
          "2021-08-24T00:00:00",
          "2021-08-24T00:00:00",
          "2021-08-25T00:00:00",
          "2021-08-27T00:00:00",
          "2021-08-30T00:00:00",
          "2021-09-01T00:00:00",
          "2021-09-02T00:00:00",
          "2021-09-02T00:00:00",
          "2021-09-02T00:00:00",
          "2021-09-06T00:00:00",
          "2021-09-06T00:00:00",
          "2021-09-07T00:00:00",
          "2021-09-09T00:00:00",
          "2021-09-15T00:00:00",
          "2021-09-15T00:00:00",
          "2021-09-15T00:00:00",
          "2021-09-20T00:00:00",
          "2021-09-20T00:00:00",
          "2021-09-22T00:00:00",
          "2021-09-23T00:00:00",
          "2021-09-23T00:00:00",
          "2021-09-23T00:00:00",
          "2021-09-28T00:00:00",
          "2021-09-29T00:00:00",
          "2021-09-29T00:00:00",
          "2021-09-30T00:00:00",
          "2021-09-30T00:00:00",
          "2021-09-30T00:00:00",
          "2021-09-30T00:00:00",
          "2021-10-01T00:00:00",
          "2021-10-01T00:00:00",
          "2021-10-04T00:00:00",
          "2021-10-04T00:00:00",
          "2021-10-06T00:00:00",
          "2021-10-11T00:00:00",
          "2021-10-13T00:00:00",
          "2021-10-15T00:00:00",
          "2021-10-15T00:00:00",
          "2021-10-15T00:00:00",
          "2021-10-15T00:00:00",
          "2021-10-15T00:00:00",
          "2021-10-15T00:00:00",
          "2021-10-20T00:00:00",
          "2021-10-27T00:00:00",
          "2021-10-28T00:00:00",
          "2021-10-28T00:00:00",
          "2021-10-28T00:00:00",
          "2021-10-28T00:00:00",
          "2021-10-28T00:00:00",
          "2021-10-28T00:00:00",
          "2021-10-28T00:00:00",
          "2021-10-28T00:00:00",
          "2021-10-28T00:00:00",
          "2021-10-28T00:00:00",
          "2021-10-28T00:00:00",
          "2021-10-28T00:00:00",
          "2021-10-28T00:00:00",
          "2021-10-29T00:00:00",
          "2021-10-29T00:00:00",
          "2021-10-29T00:00:00",
          "2021-11-01T00:00:00",
          "2021-11-02T00:00:00",
          "2021-11-04T00:00:00",
          "2021-11-04T00:00:00",
          "2021-11-08T00:00:00",
          "2021-11-09T00:00:00",
          "2021-11-22T00:00:00",
          "2021-11-23T00:00:00",
          "2021-11-23T00:00:00",
          "2021-11-23T00:00:00",
          "2021-11-23T00:00:00",
          "2021-11-25T00:00:00",
          "2021-11-25T00:00:00",
          "2021-11-26T00:00:00",
          "2021-11-26T00:00:00",
          "2021-11-26T00:00:00",
          "2021-11-26T00:00:00",
          "2021-11-26T00:00:00",
          "2021-11-29T00:00:00",
          "2021-11-30T00:00:00",
          "2021-12-03T00:00:00",
          "2021-12-03T00:00:00",
          "2021-12-16T00:00:00",
          "2021-12-20T00:00:00",
          "2022-01-10T00:00:00",
          "2022-01-10T00:00:00",
          "2022-01-10T00:00:00",
          "2022-01-10T00:00:00",
          "2022-01-12T00:00:00",
          "2022-01-13T00:00:00",
          "2022-01-18T00:00:00",
          "2022-01-18T00:00:00",
          "2022-01-19T00:00:00",
          "2022-01-20T00:00:00",
          "2022-01-20T00:00:00",
          "2022-01-20T00:00:00",
          "2022-01-20T00:00:00",
          "2022-01-20T00:00:00",
          "2022-01-20T00:00:00",
          "2022-01-20T00:00:00",
          "2022-01-20T00:00:00",
          "2022-01-20T00:00:00",
          "2022-01-20T00:00:00",
          "2022-01-20T00:00:00",
          "2022-01-20T00:00:00",
          "2022-01-21T00:00:00",
          "2022-01-21T00:00:00",
          "2022-01-24T00:00:00",
          "2022-01-27T00:00:00",
          "2022-01-27T00:00:00",
          "2022-01-27T00:00:00",
          "2022-01-31T00:00:00",
          "2022-01-31T00:00:00",
          "2022-01-31T00:00:00",
          "2022-02-02T00:00:00",
          "2022-02-02T00:00:00",
          "2022-02-03T00:00:00",
          "2022-02-03T00:00:00",
          "2022-02-03T00:00:00",
          "2022-02-03T00:00:00",
          "2022-02-03T00:00:00",
          "2022-02-04T00:00:00",
          "2022-02-08T00:00:00",
          "2022-02-08T00:00:00",
          "2022-02-09T00:00:00",
          "2022-02-09T00:00:00",
          "2022-02-09T00:00:00",
          "2022-02-10T00:00:00",
          "2022-02-10T00:00:00",
          "2022-02-10T00:00:00",
          "2022-02-10T00:00:00",
          "2022-02-14T00:00:00",
          "2022-02-14T00:00:00",
          "2022-02-14T00:00:00",
          "2022-02-14T00:00:00",
          "2022-02-14T00:00:00",
          "2022-02-14T00:00:00",
          "2022-02-14T00:00:00",
          "2022-02-15T00:00:00",
          "2022-02-15T00:00:00",
          "2022-02-16T00:00:00",
          "2022-02-16T00:00:00",
          "2022-02-21T00:00:00",
          "2022-02-21T00:00:00",
          "2022-02-22T00:00:00",
          "2022-03-01T00:00:00",
          "2022-03-02T00:00:00",
          "2022-03-02T00:00:00",
          "2022-03-02T00:00:00",
          "2022-03-02T00:00:00",
          "2022-03-02T00:00:00",
          "2022-03-02T00:00:00",
          "2022-03-02T00:00:00",
          "2022-03-03T00:00:00",
          "2022-03-04T00:00:00",
          "2022-03-11T00:00:00",
          "2022-03-11T00:00:00",
          "2022-03-11T00:00:00",
          "2022-03-11T00:00:00",
          "2022-03-11T00:00:00",
          "2022-03-11T00:00:00",
          "2022-03-11T00:00:00",
          "2022-03-11T00:00:00",
          "2022-03-11T00:00:00",
          "2022-03-11T00:00:00",
          "2022-03-11T00:00:00",
          "2022-03-11T00:00:00",
          "2022-03-14T00:00:00",
          "2022-03-14T00:00:00",
          "2022-03-16T00:00:00",
          "2022-03-16T00:00:00",
          "2022-03-17T00:00:00",
          "2022-03-21T00:00:00",
          "2022-03-21T00:00:00",
          "2022-03-22T00:00:00",
          "2022-03-22T00:00:00",
          "2022-03-23T00:00:00",
          "2022-03-23T00:00:00",
          "2022-03-23T00:00:00",
          "2022-03-23T00:00:00",
          "2022-03-23T00:00:00",
          "2022-03-24T00:00:00",
          "2022-03-25T00:00:00",
          "2022-03-25T00:00:00",
          "2022-03-25T00:00:00",
          "2022-03-25T00:00:00",
          "2022-03-25T00:00:00",
          "2022-03-25T00:00:00",
          "2022-03-28T00:00:00",
          "2022-03-28T00:00:00",
          "2022-03-28T00:00:00",
          "2022-03-29T00:00:00",
          "2022-03-29T00:00:00",
          "2022-03-29T00:00:00",
          "2022-03-29T00:00:00",
          "2022-03-29T00:00:00",
          "2022-03-29T00:00:00",
          "2022-03-29T00:00:00",
          "2022-03-29T00:00:00",
          "2022-03-29T00:00:00",
          "2022-03-30T00:00:00",
          "2022-03-30T00:00:00",
          "2022-03-30T00:00:00",
          "2022-03-30T00:00:00",
          "2022-03-30T00:00:00",
          "2022-03-30T00:00:00",
          "2022-03-30T00:00:00",
          "2022-03-30T00:00:00",
          "2022-03-30T00:00:00",
          "2022-03-30T00:00:00",
          "2022-03-30T00:00:00",
          "2022-03-30T00:00:00",
          "2022-03-31T00:00:00",
          "2022-03-31T00:00:00",
          "2022-03-31T00:00:00",
          "2022-03-31T00:00:00",
          "2022-03-31T00:00:00",
          "2022-03-31T00:00:00",
          "2022-03-31T00:00:00",
          "2022-03-31T00:00:00",
          "2022-04-01T00:00:00",
          "2022-04-01T00:00:00",
          "2022-04-01T00:00:00",
          "2022-04-01T00:00:00",
          "2022-04-01T00:00:00",
          "2022-04-01T00:00:00",
          "2022-04-01T00:00:00",
          "2022-04-01T00:00:00",
          "2022-04-01T00:00:00",
          "2022-04-01T00:00:00",
          "2022-04-01T00:00:00",
          "2022-04-05T00:00:00",
          "2022-04-05T00:00:00",
          "2022-04-05T00:00:00",
          "2022-04-05T00:00:00",
          "2022-04-05T00:00:00",
          "2022-04-07T00:00:00",
          "2022-04-07T00:00:00",
          "2022-04-07T00:00:00",
          "2022-04-11T00:00:00",
          "2022-04-11T00:00:00",
          "2022-04-12T00:00:00",
          "2022-04-12T00:00:00",
          "2022-04-12T00:00:00",
          "2022-04-12T00:00:00",
          "2022-04-12T00:00:00",
          "2022-04-12T00:00:00",
          "2022-04-12T00:00:00",
          "2022-04-12T00:00:00",
          "2022-04-13T00:00:00",
          "2022-04-13T00:00:00",
          "2022-04-13T00:00:00",
          "2022-04-14T00:00:00",
          "2022-04-14T00:00:00",
          "2022-04-14T00:00:00",
          "2022-04-19T00:00:00",
          "2022-04-19T00:00:00",
          "2022-04-19T00:00:00",
          "2022-04-19T00:00:00",
          "2022-04-19T00:00:00",
          "2022-04-19T00:00:00",
          "2022-04-19T00:00:00",
          "2022-04-20T00:00:00",
          "2022-04-21T00:00:00",
          "2022-04-21T00:00:00",
          "2022-04-25T00:00:00",
          "2022-04-26T00:00:00",
          "2022-04-26T00:00:00",
          "2022-04-28T00:00:00",
          "2022-04-28T00:00:00",
          "2022-04-29T00:00:00",
          "2022-05-03T00:00:00",
          "2022-05-03T00:00:00",
          "2022-05-03T00:00:00",
          "2022-05-03T00:00:00",
          "2022-05-09T00:00:00",
          "2022-05-10T00:00:00",
          "2022-05-10T00:00:00",
          "2022-05-10T00:00:00",
          "2022-05-11T00:00:00",
          "2022-05-12T00:00:00",
          "2022-05-12T00:00:00",
          "2022-05-12T00:00:00",
          "2022-05-12T00:00:00",
          "2022-05-13T00:00:00",
          "2022-05-13T00:00:00",
          "2022-05-16T00:00:00",
          "2022-05-16T00:00:00",
          "2022-05-16T00:00:00",
          "2022-05-16T00:00:00",
          "2022-05-16T00:00:00",
          "2022-05-16T00:00:00",
          "2022-05-16T00:00:00",
          "2022-05-17T00:00:00",
          "2022-05-17T00:00:00",
          "2022-05-17T00:00:00",
          "2022-05-18T00:00:00",
          "2022-05-18T00:00:00",
          "2022-05-19T00:00:00",
          "2022-05-19T00:00:00",
          "2022-05-20T00:00:00",
          "2022-05-20T00:00:00",
          "2022-05-23T00:00:00",
          "2022-05-23T00:00:00",
          "2022-05-24T00:00:00",
          "2022-05-24T00:00:00",
          "2022-05-24T00:00:00",
          "2022-05-24T00:00:00",
          "2022-05-25T00:00:00",
          "2022-05-25T00:00:00",
          "2022-05-25T00:00:00",
          "2022-05-25T00:00:00",
          "2022-05-26T00:00:00",
          "2022-05-26T00:00:00",
          "2022-05-26T00:00:00",
          "2022-05-26T00:00:00",
          "2022-05-27T00:00:00",
          "2022-05-27T00:00:00",
          "2022-05-27T00:00:00",
          "2022-05-27T00:00:00",
          "2022-05-27T00:00:00",
          "2022-05-27T00:00:00",
          "2022-05-27T00:00:00",
          "2022-05-27T00:00:00",
          "2022-05-30T00:00:00",
          "2022-05-30T00:00:00",
          "2022-05-30T00:00:00",
          "2022-05-31T00:00:00",
          "2022-05-31T00:00:00",
          "2022-05-31T00:00:00",
          "2022-06-01T00:00:00",
          "2022-06-01T00:00:00",
          "2022-06-01T00:00:00",
          "2022-06-01T00:00:00",
          "2022-06-01T00:00:00",
          "2022-06-01T00:00:00",
          "2022-06-02T00:00:00",
          "2022-06-02T00:00:00",
          "2022-06-02T00:00:00",
          "2022-06-02T00:00:00",
          "2022-06-02T00:00:00",
          "2022-06-03T00:00:00",
          "2022-06-03T00:00:00",
          "2022-06-03T00:00:00",
          "2022-06-06T00:00:00",
          "2022-06-06T00:00:00",
          "2022-06-07T00:00:00",
          "2022-06-07T00:00:00",
          "2022-06-07T00:00:00",
          "2022-06-07T00:00:00",
          "2022-06-07T00:00:00",
          "2022-06-07T00:00:00",
          "2022-06-08T00:00:00",
          "2022-06-08T00:00:00",
          "2022-06-08T00:00:00",
          "2022-06-08T00:00:00",
          "2022-06-08T00:00:00",
          "2022-06-09T00:00:00",
          "2022-06-09T00:00:00",
          "2022-06-09T00:00:00",
          "2022-06-09T00:00:00",
          "2022-06-09T00:00:00",
          "2022-06-09T00:00:00",
          "2022-06-09T00:00:00",
          "2022-06-09T00:00:00",
          "2022-06-09T00:00:00",
          "2022-06-09T00:00:00",
          "2022-06-09T00:00:00",
          "2022-06-13T00:00:00",
          "2022-06-13T00:00:00",
          "2022-06-13T00:00:00",
          "2022-06-13T00:00:00",
          "2022-06-14T00:00:00",
          "2022-06-14T00:00:00",
          "2022-06-14T00:00:00",
          "2022-06-14T00:00:00",
          "2022-06-14T00:00:00",
          "2022-06-14T00:00:00",
          "2022-06-14T00:00:00",
          "2022-06-14T00:00:00",
          "2022-06-14T00:00:00",
          "2022-06-14T00:00:00",
          "2022-06-14T00:00:00",
          "2022-06-14T00:00:00",
          "2022-06-14T00:00:00",
          "2022-06-14T00:00:00",
          "2022-06-15T00:00:00",
          "2022-06-15T00:00:00",
          "2022-06-15T00:00:00",
          "2022-06-15T00:00:00",
          "2022-06-15T00:00:00",
          "2022-06-15T00:00:00",
          "2022-06-15T00:00:00",
          "2022-06-15T00:00:00",
          "2022-06-16T00:00:00",
          "2022-06-16T00:00:00",
          "2022-06-16T00:00:00",
          "2022-06-16T00:00:00",
          "2022-06-16T00:00:00",
          "2022-06-16T00:00:00",
          "2022-06-16T00:00:00",
          "2022-06-16T00:00:00",
          "2022-06-16T00:00:00",
          "2022-06-16T00:00:00",
          "2022-06-16T00:00:00",
          "2022-06-16T00:00:00",
          "2022-06-16T00:00:00",
          "2022-06-16T00:00:00",
          "2022-06-17T00:00:00",
          "2022-06-17T00:00:00",
          "2022-06-17T00:00:00",
          "2022-06-17T00:00:00",
          "2022-06-17T00:00:00",
          "2022-06-17T00:00:00",
          "2022-06-17T00:00:00",
          "2022-06-17T00:00:00",
          "2022-06-17T00:00:00",
          "2022-06-17T00:00:00",
          "2022-06-18T00:00:00",
          "2022-06-18T00:00:00",
          "2022-06-18T00:00:00",
          "2022-06-18T00:00:00",
          "2022-06-20T00:00:00",
          "2022-06-20T00:00:00",
          "2022-06-20T00:00:00",
          "2022-06-21T00:00:00",
          "2022-06-21T00:00:00",
          "2022-06-21T00:00:00",
          "2022-06-21T00:00:00",
          "2022-06-21T00:00:00",
          "2022-06-21T00:00:00",
          "2022-06-22T00:00:00",
          "2022-06-22T00:00:00",
          "2022-06-23T00:00:00",
          "2022-06-24T00:00:00",
          "2022-06-24T00:00:00",
          "2022-06-24T00:00:00",
          "2022-06-25T00:00:00",
          "2022-06-25T00:00:00",
          "2022-06-25T00:00:00",
          "2022-06-25T00:00:00",
          "2022-06-27T00:00:00",
          "2022-06-28T00:00:00",
          "2022-06-28T00:00:00",
          "2022-06-28T00:00:00",
          "2022-06-29T00:00:00",
          "2022-06-29T00:00:00",
          "2022-06-29T00:00:00",
          "2022-06-30T00:00:00",
          "2022-07-02T00:00:00",
          "2022-07-04T00:00:00",
          "2022-07-04T00:00:00",
          "2022-07-05T00:00:00",
          "2022-07-05T00:00:00",
          "2022-07-06T00:00:00",
          "2022-07-06T00:00:00",
          "2022-07-06T00:00:00",
          "2022-07-06T00:00:00",
          "2022-07-07T00:00:00",
          "2022-07-07T00:00:00",
          "2022-07-08T00:00:00",
          "2022-07-08T00:00:00",
          "2022-07-08T00:00:00",
          "2022-07-09T00:00:00",
          "2022-07-09T00:00:00",
          "2022-07-11T00:00:00",
          "2022-07-11T00:00:00",
          "2022-07-11T00:00:00",
          "2022-07-11T00:00:00",
          "2022-07-11T00:00:00",
          "2022-07-11T00:00:00",
          "2022-07-12T00:00:00",
          "2022-07-12T00:00:00",
          "2022-07-13T00:00:00",
          "2022-07-13T00:00:00",
          "2022-07-13T00:00:00",
          "2022-07-13T00:00:00",
          "2022-07-13T00:00:00",
          "2022-07-13T00:00:00",
          "2022-07-15T00:00:00",
          "2022-07-15T00:00:00",
          "2022-07-15T00:00:00",
          "2022-07-15T00:00:00",
          "2022-07-15T00:00:00",
          "2022-07-15T00:00:00",
          "2022-07-15T00:00:00",
          "2022-07-15T00:00:00",
          "2022-07-16T00:00:00",
          "2022-07-16T00:00:00",
          "2022-07-18T00:00:00",
          "2022-07-18T00:00:00",
          "2022-07-19T00:00:00",
          "2022-07-19T00:00:00",
          "2022-07-19T00:00:00",
          "2022-07-19T00:00:00",
          "2022-07-20T00:00:00",
          "2022-07-20T00:00:00",
          "2022-07-20T00:00:00",
          "2022-07-20T00:00:00",
          "2022-07-20T00:00:00",
          "2022-07-20T00:00:00",
          "2022-07-21T00:00:00",
          "2022-07-21T00:00:00",
          "2022-07-21T00:00:00",
          "2022-07-22T00:00:00",
          "2022-07-22T00:00:00",
          "2022-07-22T00:00:00",
          "2022-07-23T00:00:00",
          "2022-07-23T00:00:00",
          "2022-07-23T00:00:00",
          "2022-07-23T00:00:00",
          "2022-07-23T00:00:00",
          "2022-07-25T00:00:00",
          "2022-07-25T00:00:00",
          "2022-07-26T00:00:00",
          "2022-07-26T00:00:00",
          "2022-07-27T00:00:00",
          "2022-07-27T00:00:00",
          "2022-07-28T00:00:00",
          "2022-07-28T00:00:00",
          "2022-07-28T00:00:00",
          "2022-07-28T00:00:00",
          "2022-07-29T00:00:00",
          "2022-07-30T00:00:00",
          "2022-07-30T00:00:00",
          "2022-07-30T00:00:00",
          "2022-07-30T00:00:00",
          "2022-07-30T00:00:00",
          "2022-08-01T00:00:00",
          "2022-08-01T00:00:00",
          "2022-08-01T00:00:00",
          "2022-08-01T00:00:00",
          "2022-08-02T00:00:00",
          "2022-08-02T00:00:00",
          "2022-08-02T00:00:00",
          "2022-08-02T00:00:00",
          "2022-08-02T00:00:00",
          "2022-08-02T00:00:00",
          "2022-08-02T00:00:00",
          "2022-08-03T00:00:00",
          "2022-08-03T00:00:00",
          "2022-08-03T00:00:00",
          "2022-08-03T00:00:00",
          "2022-08-04T00:00:00",
          "2022-08-04T00:00:00",
          "2022-08-04T00:00:00",
          "2022-08-04T00:00:00",
          "2022-08-05T00:00:00",
          "2022-08-06T00:00:00",
          "2022-08-06T00:00:00",
          "2022-08-06T00:00:00",
          "2022-08-06T00:00:00",
          "2022-08-06T00:00:00",
          "2022-08-09T00:00:00",
          "2022-08-10T00:00:00",
          "2022-08-10T00:00:00",
          "2022-08-10T00:00:00",
          "2022-08-11T00:00:00",
          "2022-08-12T00:00:00",
          "2022-08-12T00:00:00",
          "2022-08-13T00:00:00",
          "2022-08-13T00:00:00",
          "2022-08-13T00:00:00",
          "2022-08-13T00:00:00",
          "2022-08-13T00:00:00",
          "2022-08-16T00:00:00",
          "2022-08-16T00:00:00",
          "2022-08-16T00:00:00",
          "2022-08-17T00:00:00",
          "2022-08-17T00:00:00",
          "2022-08-17T00:00:00",
          "2022-08-17T00:00:00",
          "2022-08-17T00:00:00",
          "2022-08-18T00:00:00",
          "2022-08-19T00:00:00",
          "2022-08-20T00:00:00",
          "2022-08-20T00:00:00",
          "2022-08-20T00:00:00",
          "2022-08-20T00:00:00",
          "2022-08-23T00:00:00",
          "2022-08-23T00:00:00",
          "2022-08-24T00:00:00",
          "2022-08-25T00:00:00",
          "2022-08-25T00:00:00",
          "2022-08-26T00:00:00",
          "2022-08-27T00:00:00",
          "2022-08-27T00:00:00",
          "2022-08-27T00:00:00",
          "2022-08-27T00:00:00",
          "2022-08-27T00:00:00",
          "2022-08-27T00:00:00",
          "2022-08-27T00:00:00",
          "2022-08-29T00:00:00",
          "2022-08-29T00:00:00",
          "2022-09-01T00:00:00",
          "2022-09-01T00:00:00",
          "2022-09-01T00:00:00",
          "2022-09-01T00:00:00",
          "2022-09-01T00:00:00",
          "2022-09-01T00:00:00",
          "2022-09-01T00:00:00",
          "2022-09-02T00:00:00",
          "2022-09-03T00:00:00",
          "2022-09-03T00:00:00",
          "2022-09-06T00:00:00",
          "2022-09-06T00:00:00",
          "2022-09-07T00:00:00",
          "2022-09-07T00:00:00",
          "2022-09-07T00:00:00",
          "2022-09-07T00:00:00",
          "2022-09-07T00:00:00",
          "2022-09-07T00:00:00",
          "2022-09-08T00:00:00",
          "2022-09-08T00:00:00",
          "2022-09-08T00:00:00",
          "2022-09-08T00:00:00",
          "2022-09-08T00:00:00",
          "2022-09-09T00:00:00",
          "2022-09-09T00:00:00",
          "2022-09-10T00:00:00",
          "2022-09-10T00:00:00",
          "2022-09-10T00:00:00",
          "2022-09-10T00:00:00",
          "2022-09-12T00:00:00",
          "2022-09-12T00:00:00",
          "2022-09-13T00:00:00",
          "2022-09-13T00:00:00",
          "2022-09-13T00:00:00",
          "2022-09-14T00:00:00",
          "2022-09-15T00:00:00",
          "2022-09-15T00:00:00",
          "2022-09-16T00:00:00",
          "2022-09-16T00:00:00",
          "2022-09-17T00:00:00",
          "2022-09-17T00:00:00",
          "2022-09-21T00:00:00",
          "2022-09-21T00:00:00",
          "2022-09-21T00:00:00",
          "2022-09-22T00:00:00",
          "2022-09-22T00:00:00",
          "2022-09-23T00:00:00",
          "2022-09-23T00:00:00",
          "2022-09-23T00:00:00",
          "2022-09-24T00:00:00",
          "2022-09-24T00:00:00",
          "2022-09-24T00:00:00",
          "2022-09-27T00:00:00",
          "2022-09-29T00:00:00",
          "2022-09-30T00:00:00",
          "2022-09-30T00:00:00",
          "2022-09-30T00:00:00",
          "2022-10-01T00:00:00",
          "2022-10-01T00:00:00",
          "2022-10-01T00:00:00",
          "2022-10-03T00:00:00",
          "2022-10-04T00:00:00",
          "2022-10-04T00:00:00",
          "2022-10-04T00:00:00",
          "2022-10-04T00:00:00",
          "2022-10-04T00:00:00",
          "2022-10-06T00:00:00",
          "2022-10-06T00:00:00",
          "2022-10-06T00:00:00",
          "2022-10-07T00:00:00",
          "2022-10-07T00:00:00",
          "2022-10-07T00:00:00",
          "2022-10-07T00:00:00",
          "2022-10-08T00:00:00",
          "2022-10-08T00:00:00",
          "2022-10-08T00:00:00",
          "2022-10-10T00:00:00",
          "2022-10-11T00:00:00",
          "2022-10-11T00:00:00",
          "2022-10-11T00:00:00",
          "2022-10-12T00:00:00",
          "2022-10-12T00:00:00",
          "2022-10-13T00:00:00",
          "2022-10-13T00:00:00",
          "2022-10-13T00:00:00",
          "2022-10-14T00:00:00",
          "2022-10-14T00:00:00",
          "2022-10-14T00:00:00",
          "2022-10-15T00:00:00",
          "2022-10-15T00:00:00",
          "2022-10-15T00:00:00",
          "2022-10-15T00:00:00",
          "2022-10-15T00:00:00",
          "2022-10-17T00:00:00",
          "2022-10-18T00:00:00",
          "2022-10-19T00:00:00",
          "2022-10-19T00:00:00",
          "2022-10-19T00:00:00",
          "2022-10-20T00:00:00",
          "2022-10-21T00:00:00",
          "2022-10-21T00:00:00",
          "2022-10-21T00:00:00",
          "2022-10-21T00:00:00",
          "2022-10-21T00:00:00",
          "2022-10-22T00:00:00",
          "2022-10-22T00:00:00",
          "2022-10-22T00:00:00",
          "2022-10-22T00:00:00",
          "2022-10-22T00:00:00",
          "2022-10-22T00:00:00",
          "2022-10-22T00:00:00",
          "2022-10-22T00:00:00",
          "2022-10-22T00:00:00",
          "2022-10-26T00:00:00",
          "2022-10-26T00:00:00",
          "2022-10-26T00:00:00",
          "2022-10-26T00:00:00",
          "2022-10-27T00:00:00",
          "2022-10-27T00:00:00",
          "2022-10-28T00:00:00",
          "2022-10-28T00:00:00",
          "2022-10-28T00:00:00",
          "2022-10-29T00:00:00",
          "2022-10-31T00:00:00",
          "2022-10-31T00:00:00",
          "2022-11-02T00:00:00",
          "2022-11-03T00:00:00",
          "2022-11-03T00:00:00",
          "2022-11-03T00:00:00",
          "2022-11-03T00:00:00",
          "2022-11-03T00:00:00",
          "2022-11-04T00:00:00",
          "2022-11-04T00:00:00",
          "2022-11-04T00:00:00",
          "2022-11-04T00:00:00",
          "2022-11-04T00:00:00",
          "2022-11-05T00:00:00",
          "2022-11-07T00:00:00",
          "2022-11-08T00:00:00",
          "2022-11-09T00:00:00",
          "2022-11-09T00:00:00",
          "2022-11-09T00:00:00",
          "2022-11-10T00:00:00",
          "2022-11-10T00:00:00",
          "2022-11-10T00:00:00",
          "2022-11-10T00:00:00",
          "2022-11-10T00:00:00",
          "2022-11-10T00:00:00",
          "2022-11-11T00:00:00",
          "2022-11-11T00:00:00",
          "2022-11-11T00:00:00",
          "2022-11-11T00:00:00",
          "2022-11-11T00:00:00",
          "2022-11-11T00:00:00",
          "2022-11-11T00:00:00",
          "2022-11-11T00:00:00",
          "2022-11-12T00:00:00",
          "2022-11-12T00:00:00",
          "2022-11-12T00:00:00",
          "2022-11-12T00:00:00",
          "2022-11-14T00:00:00",
          "2022-11-14T00:00:00",
          "2022-11-14T00:00:00",
          "2022-11-16T00:00:00",
          "2022-11-16T00:00:00",
          "2022-11-16T00:00:00",
          "2022-11-16T00:00:00",
          "2022-11-16T00:00:00",
          "2022-11-17T00:00:00",
          "2022-11-17T00:00:00",
          "2022-11-18T00:00:00",
          "2022-11-18T00:00:00",
          "2022-11-18T00:00:00",
          "2022-11-19T00:00:00",
          "2022-11-19T00:00:00",
          "2022-11-21T00:00:00",
          "2022-11-21T00:00:00",
          "2022-11-22T00:00:00",
          "2022-11-23T00:00:00",
          "2022-11-24T00:00:00",
          "2022-11-24T00:00:00",
          "2022-11-25T00:00:00",
          "2022-11-25T00:00:00",
          "2022-11-25T00:00:00",
          "2022-11-26T00:00:00",
          "2022-11-26T00:00:00",
          "2022-11-26T00:00:00",
          "2022-11-26T00:00:00",
          "2022-11-27T00:00:00",
          "2022-11-28T00:00:00",
          "2022-11-29T00:00:00",
          "2022-11-29T00:00:00",
          "2022-11-30T00:00:00",
          "2022-11-30T00:00:00",
          "2022-11-30T00:00:00",
          "2022-11-30T00:00:00",
          "2022-11-30T00:00:00",
          "2022-12-01T00:00:00",
          "2022-12-01T00:00:00",
          "2022-12-01T00:00:00",
          "2022-12-02T00:00:00",
          "2022-12-02T00:00:00",
          "2022-12-02T00:00:00",
          "2022-12-02T00:00:00",
          "2022-12-02T00:00:00",
          "2022-12-02T00:00:00",
          "2022-12-03T00:00:00",
          "2022-12-03T00:00:00",
          "2022-12-03T00:00:00",
          "2022-12-03T00:00:00",
          "2022-12-03T00:00:00",
          "2022-12-03T00:00:00",
          "2022-12-06T00:00:00",
          "2022-12-06T00:00:00",
          "2022-12-07T00:00:00",
          "2022-12-07T00:00:00",
          "2022-12-07T00:00:00",
          "2022-12-08T00:00:00",
          "2022-12-09T00:00:00",
          "2022-12-09T00:00:00",
          "2022-12-10T00:00:00",
          "2022-12-10T00:00:00",
          "2022-12-10T00:00:00",
          "2022-12-13T00:00:00",
          "2022-12-13T00:00:00",
          "2022-12-13T00:00:00",
          "2022-12-14T00:00:00",
          "2022-12-15T00:00:00",
          "2022-12-15T00:00:00",
          "2022-12-15T00:00:00",
          "2022-12-15T00:00:00",
          "2022-12-16T00:00:00",
          "2022-12-16T00:00:00",
          "2022-12-17T00:00:00",
          "2022-12-19T00:00:00",
          "2022-12-21T00:00:00",
          "2022-12-22T00:00:00",
          "2022-12-24T00:00:00",
          "2022-12-24T00:00:00",
          "2022-12-24T00:00:00",
          "2022-12-24T00:00:00",
          "2022-12-24T00:00:00",
          "2022-12-24T00:00:00",
          "2022-12-26T00:00:00",
          "2022-12-26T00:00:00",
          "2022-12-26T00:00:00",
          "2022-12-27T00:00:00",
          "2022-12-29T00:00:00",
          "2022-12-29T00:00:00",
          "2022-12-29T00:00:00",
          "2023-01-03T00:00:00",
          "2023-01-03T00:00:00",
          "2023-01-03T00:00:00",
          "2023-01-03T00:00:00",
          "2023-01-03T00:00:00",
          "2023-01-04T00:00:00",
          "2023-01-04T00:00:00",
          "2023-01-04T00:00:00",
          "2023-01-04T00:00:00",
          "2023-01-04T00:00:00",
          "2023-01-05T00:00:00",
          "2023-01-05T00:00:00",
          "2023-01-05T00:00:00",
          "2023-01-06T00:00:00",
          "2023-01-07T00:00:00",
          "2023-01-10T00:00:00",
          "2023-01-11T00:00:00",
          "2023-01-11T00:00:00",
          "2023-01-11T00:00:00",
          "2023-01-11T00:00:00",
          "2023-01-11T00:00:00",
          "2023-01-12T00:00:00",
          "2023-01-12T00:00:00",
          "2023-01-12T00:00:00",
          "2023-01-13T00:00:00",
          "2023-01-14T00:00:00",
          "2023-01-14T00:00:00",
          "2023-01-14T00:00:00",
          "2023-01-17T00:00:00",
          "2023-01-18T00:00:00",
          "2023-01-18T00:00:00",
          "2023-01-19T00:00:00",
          "2023-01-19T00:00:00",
          "2023-01-19T00:00:00",
          "2023-01-19T00:00:00",
          "2023-01-19T00:00:00",
          "2023-01-19T00:00:00",
          "2023-01-19T00:00:00",
          "2023-01-19T00:00:00",
          "2023-01-19T00:00:00",
          "2023-01-20T00:00:00",
          "2023-01-20T00:00:00",
          "2023-01-20T00:00:00",
          "2023-01-21T00:00:00",
          "2023-01-23T00:00:00",
          "2023-01-24T00:00:00",
          "2023-01-24T00:00:00",
          "2023-01-24T00:00:00",
          "2023-01-24T00:00:00",
          "2023-01-25T00:00:00",
          "2023-01-25T00:00:00",
          "2023-01-25T00:00:00",
          "2023-01-26T00:00:00",
          "2023-01-28T00:00:00",
          "2023-01-30T00:00:00",
          "2023-01-31T00:00:00",
          "2023-01-31T00:00:00",
          "2023-01-31T00:00:00",
          "2023-01-31T00:00:00",
          "2023-02-01T00:00:00",
          "2023-02-02T00:00:00",
          "2023-02-02T00:00:00",
          "2023-02-02T00:00:00",
          "2023-02-02T00:00:00",
          "2023-02-03T00:00:00",
          "2023-02-03T00:00:00",
          "2023-02-04T00:00:00",
          "2023-02-04T00:00:00",
          "2023-02-04T00:00:00",
          "2023-02-06T00:00:00",
          "2023-02-06T00:00:00",
          "2023-02-07T00:00:00",
          "2023-02-07T00:00:00",
          "2023-02-07T00:00:00",
          "2023-02-08T00:00:00",
          "2023-02-08T00:00:00",
          "2023-02-09T00:00:00",
          "2023-02-09T00:00:00",
          "2023-02-09T00:00:00",
          "2023-02-10T00:00:00",
          "2023-02-10T00:00:00",
          "2023-02-11T00:00:00",
          "2023-02-11T00:00:00",
          "2023-02-11T00:00:00",
          "2023-02-11T00:00:00",
          "2023-02-14T00:00:00",
          "2023-02-14T00:00:00",
          "2023-02-14T00:00:00",
          "2023-02-14T00:00:00",
          "2023-02-15T00:00:00",
          "2023-02-15T00:00:00",
          "2023-02-16T00:00:00",
          "2023-02-16T00:00:00",
          "2023-02-17T00:00:00",
          "2023-02-20T00:00:00",
          "2023-02-22T00:00:00",
          "2023-02-23T00:00:00",
          "2023-02-23T00:00:00",
          "2023-02-23T00:00:00",
          "2023-02-23T00:00:00",
          "2023-02-23T00:00:00",
          "2023-02-23T00:00:00",
          "2023-02-23T00:00:00",
          "2023-02-23T00:00:00",
          "2023-02-24T00:00:00",
          "2023-02-25T00:00:00",
          "2023-03-01T00:00:00",
          "2023-03-02T00:00:00",
          "2023-03-02T00:00:00",
          "2023-03-03T00:00:00",
          "2023-03-03T00:00:00",
          "2023-03-06T00:00:00",
          "2023-03-07T00:00:00",
          "2023-03-07T00:00:00",
          "2023-03-07T00:00:00",
          "2023-03-09T00:00:00",
          "2023-03-10T00:00:00",
          "2023-03-10T00:00:00",
          "2023-03-10T00:00:00",
          "2023-03-10T00:00:00",
          "2023-03-10T00:00:00",
          "2023-03-11T00:00:00",
          "2023-03-14T00:00:00",
          "2023-03-14T00:00:00",
          "2023-03-15T00:00:00",
          "2023-03-15T00:00:00",
          "2023-03-15T00:00:00",
          "2023-03-15T00:00:00",
          "2023-03-15T00:00:00",
          "2023-03-15T00:00:00",
          "2023-03-17T00:00:00",
          "2023-03-18T00:00:00",
          "2023-03-18T00:00:00",
          "2023-03-18T00:00:00",
          "2023-03-20T00:00:00",
          "2023-03-20T00:00:00",
          "2023-03-20T00:00:00",
          "2023-03-21T00:00:00",
          "2023-03-21T00:00:00",
          "2023-03-21T00:00:00",
          "2023-03-21T00:00:00",
          "2023-03-21T00:00:00",
          "2023-03-22T00:00:00",
          "2023-03-22T00:00:00",
          "2023-03-22T00:00:00",
          "2023-03-22T00:00:00",
          "2023-03-22T00:00:00",
          "2023-03-22T00:00:00",
          "2023-03-22T00:00:00",
          "2023-03-22T00:00:00",
          "2023-03-23T00:00:00",
          "2023-03-23T00:00:00",
          "2023-03-23T00:00:00",
          "2023-03-25T00:00:00",
          "2023-03-25T00:00:00",
          "2023-03-27T00:00:00",
          "2023-03-27T00:00:00",
          "2023-03-27T00:00:00",
          "2023-03-27T00:00:00",
          "2023-03-27T00:00:00",
          "2023-03-28T00:00:00",
          "2023-03-28T00:00:00",
          "2023-03-29T00:00:00",
          "2023-03-29T00:00:00",
          "2023-03-29T00:00:00",
          "2023-03-29T00:00:00",
          "2023-03-30T00:00:00",
          "2023-03-30T00:00:00",
          "2023-03-30T00:00:00",
          "2023-03-31T00:00:00",
          "2023-03-31T00:00:00",
          "2023-04-05T00:00:00",
          "2023-04-06T00:00:00",
          "2023-04-06T00:00:00",
          "2023-04-06T00:00:00",
          "2023-04-06T00:00:00",
          "2023-04-06T00:00:00",
          "2023-04-06T00:00:00",
          "2023-04-07T00:00:00",
          "2023-04-07T00:00:00",
          "2023-04-08T00:00:00",
          "2023-04-08T00:00:00",
          "2023-04-08T00:00:00",
          "2023-04-08T00:00:00",
          "2023-04-10T00:00:00",
          "2023-04-11T00:00:00",
          "2023-04-11T00:00:00",
          "2023-04-11T00:00:00",
          "2023-04-11T00:00:00",
          "2023-04-12T00:00:00",
          "2023-04-12T00:00:00",
          "2023-04-13T00:00:00",
          "2023-04-14T00:00:00",
          "2023-04-14T00:00:00",
          "2023-04-14T00:00:00",
          "2023-04-14T00:00:00",
          "2023-04-14T00:00:00",
          "2023-04-14T00:00:00",
          "2023-04-14T00:00:00",
          "2023-04-15T00:00:00",
          "2023-04-17T00:00:00",
          "2023-04-17T00:00:00",
          "2023-04-17T00:00:00",
          "2023-04-17T00:00:00",
          "2023-04-18T00:00:00",
          "2023-04-19T00:00:00",
          "2023-04-19T00:00:00",
          "2023-04-20T00:00:00",
          "2023-04-20T00:00:00",
          "2023-04-20T00:00:00",
          "2023-04-20T00:00:00",
          "2023-04-20T00:00:00",
          "2023-04-20T00:00:00",
          "2023-04-20T00:00:00",
          "2023-04-21T00:00:00",
          "2023-04-21T00:00:00",
          "2023-04-21T00:00:00",
          "2023-04-22T00:00:00",
          "2023-04-24T00:00:00",
          "2023-04-25T00:00:00",
          "2023-04-26T00:00:00",
          "2023-04-26T00:00:00",
          "2023-04-26T00:00:00",
          "2023-04-27T00:00:00",
          "2023-04-27T00:00:00",
          "2023-04-27T00:00:00",
          "2023-04-27T00:00:00",
          "2023-04-28T00:00:00",
          "2023-04-28T00:00:00",
          "2023-04-28T00:00:00",
          "2023-05-02T00:00:00",
          "2023-05-03T00:00:00",
          "2023-05-03T00:00:00",
          "2023-05-03T00:00:00",
          "2023-05-04T00:00:00",
          "2023-05-06T00:00:00",
          "2023-05-06T00:00:00",
          "2023-05-06T00:00:00",
          "2023-05-08T00:00:00",
          "2023-05-09T00:00:00",
          "2023-05-09T00:00:00",
          "2023-05-09T00:00:00",
          "2023-05-09T00:00:00",
          "2023-05-10T00:00:00",
          "2023-05-10T00:00:00",
          "2023-05-10T00:00:00",
          "2023-05-10T00:00:00",
          "2023-05-10T00:00:00",
          "2023-05-10T00:00:00",
          "2023-05-10T00:00:00",
          "2023-05-11T00:00:00",
          "2023-05-11T00:00:00",
          "2023-05-11T00:00:00",
          "2023-05-12T00:00:00",
          "2023-05-12T00:00:00",
          "2023-05-12T00:00:00",
          "2023-05-12T00:00:00",
          "2023-05-12T00:00:00",
          "2023-05-13T00:00:00",
          "2023-05-13T00:00:00",
          "2023-05-13T00:00:00",
          "2023-05-13T00:00:00",
          "2023-05-13T00:00:00",
          "2023-05-15T00:00:00",
          "2023-05-16T00:00:00",
          "2023-05-17T00:00:00",
          "2023-05-17T00:00:00",
          "2023-05-18T00:00:00",
          "2023-05-18T00:00:00",
          "2023-05-18T00:00:00",
          "2023-05-18T00:00:00",
          "2023-05-19T00:00:00",
          "2023-05-19T00:00:00",
          "2023-05-19T00:00:00",
          "2023-05-19T00:00:00",
          "2023-05-19T00:00:00",
          "2023-05-19T00:00:00",
          "2023-05-19T00:00:00",
          "2023-05-19T00:00:00",
          "2023-05-19T00:00:00",
          "2023-05-19T00:00:00",
          "2023-05-19T00:00:00",
          "2023-05-19T00:00:00",
          "2023-05-19T00:00:00",
          "2023-05-19T00:00:00",
          "2023-05-19T00:00:00",
          "2023-05-20T00:00:00",
          "2023-05-20T00:00:00",
          "2023-05-20T00:00:00",
          "2023-05-20T00:00:00",
          "2023-05-23T00:00:00",
          "2023-05-23T00:00:00",
          "2023-05-24T00:00:00",
          "2023-05-25T00:00:00",
          "2023-05-25T00:00:00",
          "2023-05-25T00:00:00",
          "2023-05-26T00:00:00",
          "2023-05-26T00:00:00",
          "2023-05-26T00:00:00",
          "2023-05-26T00:00:00",
          "2023-05-26T00:00:00",
          "2023-05-26T00:00:00",
          "2023-05-26T00:00:00",
          "2023-05-27T00:00:00",
          "2023-05-27T00:00:00",
          "2023-05-27T00:00:00",
          "2023-05-27T00:00:00",
          "2023-05-27T00:00:00",
          "2023-05-27T00:00:00",
          "2023-05-27T00:00:00",
          "2023-05-30T00:00:00",
          "2023-05-31T00:00:00",
          "2023-05-31T00:00:00",
          "2023-05-31T00:00:00",
          "2023-06-01T00:00:00",
          "2023-06-01T00:00:00",
          "2023-06-01T00:00:00",
          "2023-06-01T00:00:00",
          "2023-06-01T00:00:00",
          "2023-06-01T00:00:00",
          "2023-06-01T00:00:00",
          "2023-06-02T00:00:00",
          "2023-06-02T00:00:00",
          "2023-06-02T00:00:00",
          "2023-06-02T00:00:00",
          "2023-06-02T00:00:00",
          "2023-06-02T00:00:00",
          "2023-06-02T00:00:00",
          "2023-06-02T00:00:00",
          "2023-06-02T00:00:00",
          "2023-06-02T00:00:00",
          "2023-06-03T00:00:00",
          "2023-06-03T00:00:00",
          "2023-06-05T00:00:00",
          "2023-06-05T00:00:00",
          "2023-06-05T00:00:00",
          "2023-06-06T00:00:00",
          "2023-06-06T00:00:00",
          "2023-06-06T00:00:00",
          "2023-06-06T00:00:00",
          "2023-06-06T00:00:00",
          "2023-06-07T00:00:00",
          "2023-06-07T00:00:00",
          "2023-06-07T00:00:00",
          "2023-06-07T00:00:00",
          "2023-06-07T00:00:00",
          "2023-06-07T00:00:00",
          "2023-06-08T00:00:00",
          "2023-06-08T00:00:00",
          "2023-06-08T00:00:00",
          "2023-06-08T00:00:00",
          "2023-06-08T00:00:00",
          "2023-06-08T00:00:00",
          "2023-06-10T00:00:00",
          "2023-06-10T00:00:00",
          "2023-06-13T00:00:00",
          "2023-06-13T00:00:00",
          "2023-06-14T00:00:00",
          "2023-06-14T00:00:00",
          "2023-06-14T00:00:00",
          "2023-06-14T00:00:00",
          "2023-06-15T00:00:00",
          "2023-06-15T00:00:00",
          "2023-06-15T00:00:00",
          "2023-06-15T00:00:00",
          "2023-06-16T00:00:00",
          "2023-06-16T00:00:00",
          "2023-06-16T00:00:00",
          "2023-06-17T00:00:00",
          "2023-06-20T00:00:00",
          "2023-06-22T00:00:00",
          "2023-06-22T00:00:00",
          "2023-06-22T00:00:00",
          "2023-06-22T00:00:00",
          "2023-06-22T00:00:00",
          "2023-06-22T00:00:00",
          "2023-06-22T00:00:00",
          "2023-06-22T00:00:00",
          "2023-06-22T00:00:00",
          "2023-06-23T00:00:00",
          "2023-06-23T00:00:00",
          "2023-06-23T00:00:00",
          "2023-06-24T00:00:00",
          "2023-06-24T00:00:00",
          "2023-06-24T00:00:00",
          "2023-06-24T00:00:00",
          "2023-06-24T00:00:00",
          "2023-06-24T00:00:00",
          "2023-06-24T00:00:00",
          "2023-06-24T00:00:00",
          "2023-06-24T00:00:00",
          "2023-06-24T00:00:00",
          "2023-06-24T00:00:00",
          "2023-06-27T00:00:00",
          "2023-06-27T00:00:00",
          "2023-06-27T00:00:00",
          "2023-06-27T00:00:00",
          "2023-06-27T00:00:00",
          "2023-07-01T00:00:00",
          "2023-07-01T00:00:00",
          "2023-07-01T00:00:00",
          "2023-07-01T00:00:00",
          "2023-07-03T00:00:00",
          "2023-07-03T00:00:00",
          "2023-07-03T00:00:00",
          "2023-07-04T00:00:00",
          "2023-07-04T00:00:00",
          "2023-07-05T00:00:00",
          "2023-07-06T00:00:00",
          "2023-07-06T00:00:00",
          "2023-07-06T00:00:00",
          "2023-07-06T00:00:00",
          "2023-07-06T00:00:00",
          "2023-07-07T00:00:00",
          "2023-07-07T00:00:00",
          "2023-07-08T00:00:00",
          "2023-07-08T00:00:00",
          "2023-07-11T00:00:00",
          "2023-07-11T00:00:00",
          "2023-07-12T00:00:00",
          "2023-07-12T00:00:00",
          "2023-07-12T00:00:00",
          "2023-07-12T00:00:00",
          "2023-07-12T00:00:00",
          "2023-07-12T00:00:00",
          "2023-07-12T00:00:00",
          "2023-07-12T00:00:00",
          "2023-07-12T00:00:00",
          "2023-07-12T00:00:00",
          "2023-07-12T00:00:00",
          "2023-07-13T00:00:00",
          "2023-07-13T00:00:00",
          "2023-07-13T00:00:00",
          "2023-07-13T00:00:00",
          "2023-07-13T00:00:00",
          "2023-07-14T00:00:00",
          "2023-07-14T00:00:00",
          "2023-07-19T00:00:00",
          "2023-07-19T00:00:00",
          "2023-07-19T00:00:00",
          "2023-07-19T00:00:00",
          "2023-07-19T00:00:00",
          "2023-07-19T00:00:00",
          "2023-07-20T00:00:00",
          "2023-07-20T00:00:00",
          "2023-07-20T00:00:00",
          "2023-07-20T00:00:00",
          "2023-07-20T00:00:00",
          "2023-07-20T00:00:00",
          "2023-07-20T00:00:00",
          "2023-07-21T00:00:00",
          "2023-07-21T00:00:00",
          "2023-07-21T00:00:00",
          "2023-07-22T00:00:00",
          "2023-07-22T00:00:00",
          "2023-07-22T00:00:00",
          "2023-07-25T00:00:00",
          "2023-07-25T00:00:00",
          "2023-07-26T00:00:00",
          "2023-07-26T00:00:00",
          "2023-07-26T00:00:00",
          "2023-07-27T00:00:00",
          "2023-07-27T00:00:00",
          "2023-07-27T00:00:00",
          "2023-07-27T00:00:00",
          "2023-07-27T00:00:00",
          "2023-07-27T00:00:00",
          "2023-07-27T00:00:00",
          "2023-07-28T00:00:00",
          "2023-07-28T00:00:00",
          "2023-07-28T00:00:00",
          "2023-07-29T00:00:00",
          "2023-07-29T00:00:00",
          "2023-07-29T00:00:00",
          "2023-07-29T00:00:00",
          "2023-07-29T00:00:00",
          "2023-08-01T00:00:00",
          "2023-08-02T00:00:00",
          "2023-08-03T00:00:00",
          "2023-08-03T00:00:00",
          "2023-08-03T00:00:00",
          "2023-08-03T00:00:00",
          "2023-08-03T00:00:00",
          "2023-08-04T00:00:00",
          "2023-08-04T00:00:00",
          "2023-08-04T00:00:00",
          "2023-08-04T00:00:00",
          "2023-08-04T00:00:00",
          "2023-08-04T00:00:00",
          "2023-08-04T00:00:00",
          "2023-08-05T00:00:00",
          "2023-08-05T00:00:00",
          "2023-08-05T00:00:00",
          "2023-08-05T00:00:00",
          "2023-08-05T00:00:00",
          "2023-08-07T00:00:00",
          "2023-08-07T00:00:00",
          "2023-08-08T00:00:00",
          "2023-08-08T00:00:00",
          "2023-08-08T00:00:00",
          "2023-08-08T00:00:00",
          "2023-08-08T00:00:00",
          "2023-08-10T00:00:00",
          "2023-08-10T00:00:00",
          "2023-08-10T00:00:00",
          "2023-08-10T00:00:00",
          "2023-08-10T00:00:00",
          "2023-08-11T00:00:00",
          "2023-08-12T00:00:00",
          "2023-08-16T00:00:00",
          "2023-08-16T00:00:00",
          "2023-08-16T00:00:00",
          "2023-08-18T00:00:00",
          "2023-08-21T00:00:00",
          "2023-08-21T00:00:00",
          "2023-08-21T00:00:00",
          "2023-08-21T00:00:00",
          "2023-08-21T00:00:00",
          "2023-08-22T00:00:00",
          "2023-08-22T00:00:00",
          "2023-08-22T00:00:00",
          "2023-08-22T00:00:00",
          "2023-08-22T00:00:00",
          "2023-08-23T00:00:00",
          "2023-08-23T00:00:00",
          "2023-08-23T00:00:00",
          "2023-08-23T00:00:00",
          "2023-08-23T00:00:00",
          "2023-08-23T00:00:00",
          "2023-08-23T00:00:00",
          "2023-08-24T00:00:00",
          "2023-08-24T00:00:00",
          "2023-08-25T00:00:00",
          "2023-08-25T00:00:00",
          "2023-08-25T00:00:00",
          "2023-08-26T00:00:00",
          "2023-08-26T00:00:00",
          "2023-08-26T00:00:00",
          "2023-08-26T00:00:00",
          "2023-08-29T00:00:00",
          "2023-08-29T00:00:00",
          "2023-09-01T00:00:00",
          "2023-09-02T00:00:00",
          "2023-09-02T00:00:00",
          "2023-09-04T00:00:00",
          "2023-09-04T00:00:00",
          "2023-09-04T00:00:00",
          "2023-09-04T00:00:00",
          "2023-09-05T00:00:00",
          "2023-09-05T00:00:00",
          "2023-09-06T00:00:00",
          "2023-09-06T00:00:00",
          "2023-09-06T00:00:00",
          "2023-09-06T00:00:00",
          "2023-09-06T00:00:00",
          "2023-09-07T00:00:00",
          "2023-09-07T00:00:00",
          "2023-09-07T00:00:00",
          "2023-09-07T00:00:00",
          "2023-09-07T00:00:00",
          "2023-09-07T00:00:00",
          "2023-09-08T00:00:00",
          "2023-09-08T00:00:00",
          "2023-09-08T00:00:00",
          "2023-09-08T00:00:00",
          "2023-09-08T00:00:00",
          "2023-09-08T00:00:00",
          "2023-09-08T00:00:00",
          "2023-09-08T00:00:00",
          "2023-09-09T00:00:00",
          "2023-09-09T00:00:00",
          "2023-09-09T00:00:00",
          "2023-09-09T00:00:00",
          "2023-09-09T00:00:00",
          "2023-09-09T00:00:00",
          "2023-09-09T00:00:00",
          "2023-09-11T00:00:00",
          "2023-09-11T00:00:00",
          "2023-09-11T00:00:00",
          "2023-09-11T00:00:00",
          "2023-09-11T00:00:00",
          "2023-09-11T00:00:00",
          "2023-09-11T00:00:00",
          "2023-09-11T00:00:00",
          "2023-09-12T00:00:00",
          "2023-09-12T00:00:00",
          "2023-09-13T00:00:00",
          "2023-09-13T00:00:00",
          "2023-09-13T00:00:00",
          "2023-09-14T00:00:00",
          "2023-09-14T00:00:00",
          "2023-09-14T00:00:00",
          "2023-09-14T00:00:00",
          "2023-09-16T00:00:00",
          "2023-09-16T00:00:00",
          "2023-09-16T00:00:00",
          "2023-09-16T00:00:00",
          "2023-09-16T00:00:00",
          "2023-09-18T00:00:00",
          "2023-09-18T00:00:00",
          "2023-09-19T00:00:00",
          "2023-09-20T00:00:00",
          "2023-09-20T00:00:00",
          "2023-09-20T00:00:00",
          "2023-09-20T00:00:00",
          "2023-09-20T00:00:00",
          "2023-09-20T00:00:00",
          "2023-09-20T00:00:00",
          "2023-09-21T00:00:00",
          "2023-09-21T00:00:00",
          "2023-09-21T00:00:00",
          "2023-09-22T00:00:00",
          "2023-09-22T00:00:00",
          "2023-09-22T00:00:00",
          "2023-09-22T00:00:00",
          "2023-09-22T00:00:00",
          "2023-09-22T00:00:00",
          "2023-09-23T00:00:00",
          "2023-09-23T00:00:00",
          "2023-09-23T00:00:00",
          "2023-09-25T00:00:00",
          "2023-09-26T00:00:00",
          "2023-09-26T00:00:00",
          "2023-09-28T00:00:00",
          "2023-09-28T00:00:00",
          "2023-09-28T00:00:00",
          "2023-09-28T00:00:00",
          "2023-09-28T00:00:00",
          "2023-09-28T00:00:00",
          "2023-09-29T00:00:00",
          "2023-09-29T00:00:00",
          "2023-09-30T00:00:00",
          "2023-09-30T00:00:00",
          "2023-10-02T00:00:00",
          "2023-10-03T00:00:00",
          "2023-10-03T00:00:00",
          "2023-10-04T00:00:00",
          "2023-10-04T00:00:00",
          "2023-10-04T00:00:00",
          "2023-10-04T00:00:00",
          "2023-10-04T00:00:00",
          "2023-10-05T00:00:00",
          "2023-10-05T00:00:00",
          "2023-10-05T00:00:00",
          "2023-10-07T00:00:00",
          "2023-10-07T00:00:00",
          "2023-10-07T00:00:00",
          "2023-10-09T00:00:00",
          "2023-10-09T00:00:00",
          "2023-10-09T00:00:00",
          "2023-10-10T00:00:00",
          "2023-10-10T00:00:00",
          "2023-10-11T00:00:00",
          "2023-10-11T00:00:00",
          "2023-10-11T00:00:00",
          "2023-10-12T00:00:00",
          "2023-10-12T00:00:00",
          "2023-10-12T00:00:00",
          "2023-10-12T00:00:00",
          "2023-10-13T00:00:00",
          "2023-10-13T00:00:00",
          "2023-10-13T00:00:00",
          "2023-10-14T00:00:00",
          "2023-10-14T00:00:00",
          "2023-10-14T00:00:00",
          "2023-10-14T00:00:00",
          "2023-10-14T00:00:00",
          "2023-10-16T00:00:00",
          "2023-10-16T00:00:00",
          "2023-10-17T00:00:00",
          "2023-10-17T00:00:00",
          "2023-10-17T00:00:00",
          "2023-10-17T00:00:00",
          "2023-10-17T00:00:00",
          "2023-10-17T00:00:00",
          "2023-10-18T00:00:00",
          "2023-10-18T00:00:00",
          "2023-10-18T00:00:00",
          "2023-10-18T00:00:00",
          "2023-10-18T00:00:00",
          "2023-10-18T00:00:00",
          "2023-10-18T00:00:00",
          "2023-10-19T00:00:00",
          "2023-10-19T00:00:00",
          "2023-10-19T00:00:00",
          "2023-10-19T00:00:00",
          "2023-10-19T00:00:00",
          "2023-10-20T00:00:00",
          "2023-10-20T00:00:00",
          "2023-10-20T00:00:00",
          "2023-10-20T00:00:00",
          "2023-10-20T00:00:00",
          "2023-10-21T00:00:00",
          "2023-10-21T00:00:00",
          "2023-10-21T00:00:00",
          "2023-10-21T00:00:00",
          "2023-10-23T00:00:00",
          "2023-10-23T00:00:00",
          "2023-10-23T00:00:00",
          "2023-10-25T00:00:00",
          "2023-10-25T00:00:00",
          "2023-10-25T00:00:00",
          "2023-10-25T00:00:00",
          "2023-10-25T00:00:00",
          "2023-10-25T00:00:00",
          "2023-10-26T00:00:00",
          "2023-10-26T00:00:00",
          "2023-10-27T00:00:00",
          "2023-10-27T00:00:00",
          "2023-10-28T00:00:00",
          "2023-10-31T00:00:00",
          "2023-11-01T00:00:00",
          "2023-11-01T00:00:00",
          "2023-11-02T00:00:00",
          "2023-11-02T00:00:00",
          "2023-11-02T00:00:00",
          "2023-11-02T00:00:00",
          "2023-11-03T00:00:00",
          "2023-11-03T00:00:00",
          "2023-11-03T00:00:00",
          "2023-11-03T00:00:00",
          "2023-11-03T00:00:00",
          "2023-11-04T00:00:00",
          "2023-11-04T00:00:00",
          "2023-11-04T00:00:00",
          "2023-11-04T00:00:00",
          "2023-11-04T00:00:00",
          "2023-11-06T00:00:00",
          "2023-11-06T00:00:00",
          "2023-11-06T00:00:00",
          "2023-11-07T00:00:00",
          "2023-11-07T00:00:00",
          "2023-11-07T00:00:00",
          "2023-11-07T00:00:00",
          "2023-11-07T00:00:00",
          "2023-11-07T00:00:00",
          "2023-11-08T00:00:00",
          "2023-11-08T00:00:00",
          "2023-11-08T00:00:00",
          "2023-11-08T00:00:00",
          "2023-11-08T00:00:00",
          "2023-11-08T00:00:00",
          "2023-11-08T00:00:00",
          "2023-11-08T00:00:00",
          "2023-11-09T00:00:00",
          "2023-11-09T00:00:00",
          "2023-11-10T00:00:00",
          "2023-11-10T00:00:00",
          "2023-11-10T00:00:00",
          "2023-11-10T00:00:00",
          "2023-11-10T00:00:00",
          "2023-11-10T00:00:00",
          "2023-11-10T00:00:00",
          "2023-11-11T00:00:00",
          "2023-11-11T00:00:00",
          "2023-11-11T00:00:00",
          "2023-11-11T00:00:00",
          "2023-11-13T00:00:00",
          "2023-11-14T00:00:00",
          "2023-11-14T00:00:00",
          "2023-11-15T00:00:00",
          "2023-11-15T00:00:00",
          "2023-11-16T00:00:00",
          "2023-11-16T00:00:00",
          "2023-11-16T00:00:00",
          "2023-11-16T00:00:00",
          "2023-11-17T00:00:00",
          "2023-11-17T00:00:00",
          "2023-11-17T00:00:00",
          "2023-11-18T00:00:00",
          "2023-11-20T00:00:00",
          "2023-11-20T00:00:00",
          "2023-11-20T00:00:00",
          "2023-11-20T00:00:00",
          "2023-11-21T00:00:00",
          "2023-11-21T00:00:00",
          "2023-11-22T00:00:00",
          "2023-11-22T00:00:00",
          "2023-11-22T00:00:00",
          "2023-11-23T00:00:00",
          "2023-11-24T00:00:00",
          "2023-11-24T00:00:00",
          "2023-11-24T00:00:00",
          "2023-11-24T00:00:00",
          "2023-11-25T00:00:00",
          "2023-11-25T00:00:00",
          "2023-11-25T00:00:00",
          "2023-11-25T00:00:00",
          "2023-11-25T00:00:00",
          "2023-11-25T00:00:00",
          "2023-11-25T00:00:00",
          "2023-11-27T00:00:00",
          "2023-11-27T00:00:00",
          "2023-11-28T00:00:00",
          "2023-11-28T00:00:00",
          "2023-11-28T00:00:00",
          "2023-11-28T00:00:00",
          "2023-11-29T00:00:00",
          "2023-11-29T00:00:00",
          "2023-11-29T00:00:00",
          "2023-11-30T00:00:00",
          "2023-11-30T00:00:00",
          "2023-11-30T00:00:00",
          "2023-12-01T00:00:00",
          "2023-12-01T00:00:00",
          "2023-12-01T00:00:00",
          "2023-12-01T00:00:00",
          "2023-12-01T00:00:00",
          "2023-12-01T00:00:00",
          "2023-12-01T00:00:00",
          "2023-12-01T00:00:00",
          "2023-12-01T00:00:00",
          "2023-12-01T00:00:00",
          "2023-12-01T00:00:00",
          "2023-12-01T00:00:00",
          "2023-12-02T00:00:00",
          "2023-12-02T00:00:00",
          "2023-12-02T00:00:00",
          "2023-12-04T00:00:00",
          "2023-12-04T00:00:00",
          "2023-12-04T00:00:00",
          "2023-12-04T00:00:00",
          "2023-12-05T00:00:00",
          "2023-12-05T00:00:00",
          "2023-12-05T00:00:00",
          "2023-12-06T00:00:00",
          "2023-12-06T00:00:00",
          "2023-12-06T00:00:00",
          "2023-12-06T00:00:00",
          "2023-12-07T00:00:00",
          "2023-12-07T00:00:00",
          "2023-12-07T00:00:00",
          "2023-12-07T00:00:00",
          "2023-12-07T00:00:00",
          "2023-12-07T00:00:00",
          "2023-12-08T00:00:00",
          "2023-12-08T00:00:00",
          "2023-12-08T00:00:00",
          "2023-12-08T00:00:00",
          "2023-12-08T00:00:00",
          "2023-12-09T00:00:00",
          "2023-12-09T00:00:00",
          "2023-12-09T00:00:00",
          "2023-12-09T00:00:00",
          "2023-12-12T00:00:00",
          "2023-12-12T00:00:00",
          "2023-12-13T00:00:00",
          "2023-12-13T00:00:00",
          "2023-12-13T00:00:00",
          "2023-12-13T00:00:00",
          "2023-12-13T00:00:00",
          "2023-12-13T00:00:00",
          "2023-12-14T00:00:00",
          "2023-12-15T00:00:00",
          "2023-12-15T00:00:00",
          "2023-12-15T00:00:00",
          "2023-12-15T00:00:00",
          "2023-12-15T00:00:00",
          "2023-12-16T00:00:00",
          "2023-12-16T00:00:00",
          "2023-12-18T00:00:00",
          "2023-12-18T00:00:00",
          "2023-12-18T00:00:00",
          "2023-12-19T00:00:00",
          "2023-12-19T00:00:00",
          "2023-12-20T00:00:00",
          "2023-12-20T00:00:00",
          "2023-12-20T00:00:00",
          "2023-12-20T00:00:00",
          "2023-12-20T00:00:00",
          "2023-12-20T00:00:00",
          "2023-12-21T00:00:00",
          "2023-12-21T00:00:00",
          "2023-12-21T00:00:00",
          "2023-12-21T00:00:00",
          "2023-12-21T00:00:00",
          "2023-12-21T00:00:00",
          "2023-12-21T00:00:00",
          "2023-12-21T00:00:00",
          "2024-01-02T00:00:00",
          "2024-01-02T00:00:00",
          "2024-01-02T00:00:00",
          "2024-01-02T00:00:00",
          "2024-01-02T00:00:00",
          "2024-01-02T00:00:00",
          "2024-01-02T00:00:00",
          "2024-01-02T00:00:00",
          "2024-01-02T00:00:00",
          "2024-01-02T00:00:00",
          "2024-01-02T00:00:00",
          "2024-01-02T00:00:00",
          "2024-01-02T00:00:00",
          "2024-01-02T00:00:00",
          "2024-01-02T00:00:00",
          "2024-01-02T00:00:00",
          "2024-01-02T00:00:00",
          "2024-01-03T00:00:00",
          "2024-01-03T00:00:00",
          "2024-01-03T00:00:00",
          "2024-01-03T00:00:00",
          "2024-01-04T00:00:00",
          "2024-01-04T00:00:00",
          "2024-01-04T00:00:00",
          "2024-01-04T00:00:00",
          "2024-01-04T00:00:00",
          "2024-01-04T00:00:00",
          "2024-01-04T00:00:00",
          "2024-01-04T00:00:00",
          "2024-01-04T00:00:00",
          "2024-01-05T00:00:00",
          "2024-01-05T00:00:00",
          "2024-01-05T00:00:00",
          "2024-01-05T00:00:00",
          "2024-01-05T00:00:00",
          "2024-01-05T00:00:00",
          "2024-01-06T00:00:00",
          "2024-01-06T00:00:00",
          "2024-01-06T00:00:00",
          "2024-01-06T00:00:00",
          "2024-01-06T00:00:00",
          "2024-01-06T00:00:00",
          "2024-01-06T00:00:00",
          "2024-01-08T00:00:00",
          "2024-01-08T00:00:00",
          "2024-01-08T00:00:00",
          "2024-01-09T00:00:00",
          "2024-01-09T00:00:00",
          "2024-01-09T00:00:00",
          "2024-01-09T00:00:00",
          "2024-01-09T00:00:00",
          "2024-01-09T00:00:00",
          "2024-01-09T00:00:00",
          "2024-01-10T00:00:00",
          "2024-01-10T00:00:00",
          "2024-01-10T00:00:00",
          "2024-01-10T00:00:00",
          "2024-01-10T00:00:00",
          "2024-01-11T00:00:00",
          "2024-01-11T00:00:00",
          "2024-01-11T00:00:00",
          "2024-01-12T00:00:00",
          "2024-01-12T00:00:00",
          "2024-01-12T00:00:00",
          "2024-01-12T00:00:00",
          "2024-01-13T00:00:00",
          "2024-01-13T00:00:00",
          "2024-01-13T00:00:00",
          "2024-01-16T00:00:00",
          "2024-01-16T00:00:00",
          "2024-01-16T00:00:00",
          "2024-01-16T00:00:00",
          "2024-01-16T00:00:00",
          "2024-01-16T00:00:00",
          "2024-01-16T00:00:00",
          "2024-01-16T00:00:00",
          "2024-01-17T00:00:00",
          "2024-01-17T00:00:00",
          "2024-01-17T00:00:00",
          "2024-01-18T00:00:00",
          "2024-01-18T00:00:00",
          "2024-01-18T00:00:00",
          "2024-01-18T00:00:00",
          "2024-01-18T00:00:00",
          "2024-01-18T00:00:00",
          "2024-01-18T00:00:00",
          "2024-01-18T00:00:00",
          "2024-01-18T00:00:00",
          "2024-01-18T00:00:00",
          "2024-01-18T00:00:00",
          "2024-01-19T00:00:00",
          "2024-01-19T00:00:00",
          "2024-01-19T00:00:00",
          "2024-01-19T00:00:00",
          "2024-01-20T00:00:00",
          "2024-01-20T00:00:00",
          "2024-01-20T00:00:00",
          "2024-01-22T00:00:00",
          "2024-01-22T00:00:00",
          "2024-01-22T00:00:00",
          "2024-01-22T00:00:00",
          "2024-01-22T00:00:00",
          "2024-01-22T00:00:00",
          "2024-01-23T00:00:00",
          "2024-01-23T00:00:00",
          "2024-01-23T00:00:00",
          "2024-01-23T00:00:00",
          "2024-01-23T00:00:00",
          "2024-01-23T00:00:00",
          "2024-01-23T00:00:00",
          "2024-01-23T00:00:00",
          "2024-01-23T00:00:00",
          "2024-01-24T00:00:00",
          "2024-01-24T00:00:00",
          "2024-01-24T00:00:00",
          "2024-01-24T00:00:00",
          "2024-01-24T00:00:00",
          "2024-01-24T00:00:00",
          "2024-01-24T00:00:00",
          "2024-01-24T00:00:00",
          "2024-01-25T00:00:00",
          "2024-01-25T00:00:00",
          "2024-01-25T00:00:00",
          "2024-01-25T00:00:00",
          "2024-01-25T00:00:00",
          "2024-01-25T00:00:00",
          "2024-01-25T00:00:00",
          "2024-01-25T00:00:00",
          "2024-01-25T00:00:00",
          "2024-01-25T00:00:00",
          "2024-01-26T00:00:00",
          "2024-01-26T00:00:00",
          "2024-01-26T00:00:00",
          "2024-01-26T00:00:00",
          "2024-01-29T00:00:00",
          "2024-01-29T00:00:00",
          "2024-01-30T00:00:00",
          "2024-01-30T00:00:00",
          "2024-01-31T00:00:00",
          "2024-01-31T00:00:00",
          "2024-01-31T00:00:00",
          "2024-01-31T00:00:00",
          "2024-01-31T00:00:00",
          "2024-01-31T00:00:00",
          "2024-01-31T00:00:00",
          "2024-02-01T00:00:00",
          "2024-02-01T00:00:00",
          "2024-02-01T00:00:00",
          "2024-02-01T00:00:00",
          "2024-02-01T00:00:00",
          "2024-02-02T00:00:00",
          "2024-02-02T00:00:00",
          "2024-02-02T00:00:00",
          "2024-02-02T00:00:00",
          "2024-02-02T00:00:00",
          "2024-02-02T00:00:00",
          "2024-02-03T00:00:00",
          "2024-02-03T00:00:00",
          "2024-02-03T00:00:00",
          "2024-02-03T00:00:00",
          "2024-02-05T00:00:00",
          "2024-02-05T00:00:00",
          "2024-02-06T00:00:00",
          "2024-02-06T00:00:00",
          "2024-02-06T00:00:00",
          "2024-02-07T00:00:00",
          "2024-02-07T00:00:00",
          "2024-02-07T00:00:00",
          "2024-02-07T00:00:00",
          "2024-02-08T00:00:00",
          "2024-02-09T00:00:00",
          "2024-02-10T00:00:00",
          "2024-02-10T00:00:00",
          "2024-02-10T00:00:00",
          "2024-02-10T00:00:00",
          "2024-02-10T00:00:00",
          "2024-02-10T00:00:00",
          "2024-02-10T00:00:00",
          "2024-02-10T00:00:00",
          "2024-02-12T00:00:00",
          "2024-02-12T00:00:00",
          "2024-02-12T00:00:00",
          "2024-02-13T00:00:00",
          "2024-02-13T00:00:00",
          "2024-02-13T00:00:00",
          "2024-02-13T00:00:00",
          "2024-02-13T00:00:00",
          "2024-02-13T00:00:00",
          "2024-02-13T00:00:00",
          "2024-02-13T00:00:00",
          "2024-02-13T00:00:00",
          "2024-02-14T00:00:00",
          "2024-02-14T00:00:00",
          "2024-02-14T00:00:00",
          "2024-02-14T00:00:00",
          "2024-02-14T00:00:00",
          "2024-02-15T00:00:00",
          "2024-02-15T00:00:00",
          "2024-02-15T00:00:00",
          "2024-02-15T00:00:00",
          "2024-02-15T00:00:00",
          "2024-02-16T00:00:00",
          "2024-02-16T00:00:00",
          "2024-02-16T00:00:00",
          "2024-02-16T00:00:00",
          "2024-02-16T00:00:00",
          "2024-02-17T00:00:00",
          "2024-02-17T00:00:00",
          "2024-02-17T00:00:00",
          "2024-02-19T00:00:00",
          "2024-02-20T00:00:00",
          "2024-02-21T00:00:00",
          "2024-02-21T00:00:00",
          "2024-02-21T00:00:00",
          "2024-02-22T00:00:00",
          "2024-02-22T00:00:00",
          "2024-02-22T00:00:00",
          "2024-02-22T00:00:00",
          "2024-02-22T00:00:00",
          "2024-02-22T00:00:00",
          "2024-02-23T00:00:00",
          "2024-02-23T00:00:00",
          "2024-02-23T00:00:00",
          "2024-02-23T00:00:00",
          "2024-02-23T00:00:00",
          "2024-02-23T00:00:00",
          "2024-02-24T00:00:00",
          "2024-02-24T00:00:00",
          "2024-02-24T00:00:00",
          "2024-02-24T00:00:00",
          "2024-02-26T00:00:00",
          "2024-02-27T00:00:00",
          "2024-02-27T00:00:00",
          "2024-02-27T00:00:00",
          "2024-02-27T00:00:00",
          "2024-02-27T00:00:00",
          "2024-02-27T00:00:00",
          "2024-02-27T00:00:00",
          "2024-02-27T00:00:00",
          "2024-02-28T00:00:00",
          "2024-02-28T00:00:00",
          "2024-02-28T00:00:00",
          "2024-02-29T00:00:00",
          "2024-02-29T00:00:00",
          "2024-02-29T00:00:00",
          "2024-02-29T00:00:00",
          "2024-02-29T00:00:00",
          "2024-02-29T00:00:00",
          "2024-02-29T00:00:00",
          "2024-03-01T00:00:00",
          "2024-03-01T00:00:00",
          "2024-03-02T00:00:00",
          "2024-03-02T00:00:00",
          "2024-03-02T00:00:00",
          "2024-03-04T00:00:00",
          "2024-03-05T00:00:00",
          "2024-03-05T00:00:00",
          "2024-03-05T00:00:00",
          "2024-03-05T00:00:00",
          "2024-03-06T00:00:00",
          "2024-03-06T00:00:00",
          "2024-03-06T00:00:00",
          "2024-03-07T00:00:00",
          "2024-03-07T00:00:00",
          "2024-03-07T00:00:00",
          "2024-03-08T00:00:00",
          "2024-03-08T00:00:00",
          "2024-03-08T00:00:00",
          "2024-03-08T00:00:00",
          "2024-03-09T00:00:00",
          "2024-03-09T00:00:00",
          "2024-03-09T00:00:00",
          "2024-03-09T00:00:00",
          "2024-03-09T00:00:00",
          "2024-03-11T00:00:00",
          "2024-03-12T00:00:00",
          "2024-03-12T00:00:00",
          "2024-03-12T00:00:00",
          "2024-03-12T00:00:00",
          "2024-03-14T00:00:00",
          "2024-03-14T00:00:00",
          "2024-03-14T00:00:00",
          "2024-03-14T00:00:00",
          "2024-03-14T00:00:00",
          "2024-03-15T00:00:00",
          "2024-03-15T00:00:00",
          "2024-03-15T00:00:00",
          "2024-03-15T00:00:00",
          "2024-03-16T00:00:00",
          "2024-03-16T00:00:00",
          "2024-03-18T00:00:00",
          "2024-03-19T00:00:00",
          "2024-03-20T00:00:00",
          "2024-03-20T00:00:00",
          "2024-03-21T00:00:00",
          "2024-03-21T00:00:00",
          "2024-03-22T00:00:00",
          "2024-03-23T00:00:00",
          "2024-03-23T00:00:00",
          "2024-03-26T00:00:00",
          "2024-03-26T00:00:00",
          "2024-03-27T00:00:00",
          "2024-03-27T00:00:00",
          "2024-03-27T00:00:00",
          "2024-03-27T00:00:00",
          "2024-03-27T00:00:00",
          "2024-03-27T00:00:00",
          "2024-03-28T00:00:00",
          "2024-03-28T00:00:00",
          "2024-03-28T00:00:00",
          "2024-03-28T00:00:00",
          "2024-03-29T00:00:00",
          "2024-03-29T00:00:00",
          "2024-03-29T00:00:00",
          "2024-03-30T00:00:00",
          "2024-04-02T00:00:00",
          "2024-04-03T00:00:00",
          "2024-04-03T00:00:00",
          "2024-04-03T00:00:00",
          "2024-04-04T00:00:00",
          "2024-04-04T00:00:00",
          "2024-04-04T00:00:00",
          "2024-04-04T00:00:00",
          "2024-04-04T00:00:00",
          "2024-04-05T00:00:00",
          "2024-04-05T00:00:00",
          "2024-04-05T00:00:00",
          "2024-04-05T00:00:00",
          "2024-04-05T00:00:00",
          "2024-04-05T00:00:00",
          "2024-04-05T00:00:00",
          "2024-04-06T00:00:00",
          "2024-04-06T00:00:00",
          "2024-04-06T00:00:00",
          "2024-04-06T00:00:00",
          "2024-04-06T00:00:00",
          "2024-04-08T00:00:00",
          "2024-04-08T00:00:00",
          "2024-04-08T00:00:00",
          "2024-04-08T00:00:00",
          "2024-04-08T00:00:00",
          "2024-04-08T00:00:00",
          "2024-04-08T00:00:00",
          "2024-04-08T00:00:00",
          "2024-04-09T00:00:00",
          "2024-04-09T00:00:00",
          "2024-04-10T00:00:00",
          "2024-04-10T00:00:00",
          "2024-04-10T00:00:00",
          "2024-04-11T00:00:00",
          "2024-04-11T00:00:00",
          "2024-04-11T00:00:00",
          "2024-04-11T00:00:00",
          "2024-04-11T00:00:00",
          "2024-04-11T00:00:00",
          "2024-04-11T00:00:00",
          "2024-04-11T00:00:00",
          "2024-04-11T00:00:00",
          "2024-04-11T00:00:00",
          "2024-04-12T00:00:00",
          "2024-04-12T00:00:00",
          "2024-04-12T00:00:00",
          "2024-04-12T00:00:00",
          "2024-04-12T00:00:00",
          "2024-04-12T00:00:00",
          "2024-04-13T00:00:00",
          "2024-04-13T00:00:00",
          "2024-04-13T00:00:00",
          "2024-04-13T00:00:00",
          "2024-04-13T00:00:00",
          "2024-04-13T00:00:00",
          "2024-04-16T00:00:00",
          "2024-04-16T00:00:00",
          "2024-04-16T00:00:00",
          "2024-04-16T00:00:00",
          "2024-04-16T00:00:00",
          "2024-04-16T00:00:00",
          "2024-04-17T00:00:00",
          "2024-04-17T00:00:00",
          "2024-04-17T00:00:00",
          "2024-04-17T00:00:00",
          "2024-04-18T00:00:00",
          "2024-04-18T00:00:00",
          "2024-04-18T00:00:00",
          "2024-04-20T00:00:00",
          "2024-04-20T00:00:00",
          "2024-04-20T00:00:00",
          "2024-04-20T00:00:00",
          "2024-04-20T00:00:00",
          "2024-04-20T00:00:00",
          "2024-04-22T00:00:00",
          "2024-04-22T00:00:00",
          "2024-04-22T00:00:00",
          "2024-04-22T00:00:00",
          "2024-04-22T00:00:00",
          "2024-04-22T00:00:00",
          "2024-04-22T00:00:00",
          "2024-04-22T00:00:00",
          "2024-04-22T00:00:00",
          "2024-04-22T00:00:00",
          "2024-04-23T00:00:00",
          "2024-04-23T00:00:00",
          "2024-04-23T00:00:00",
          "2024-04-23T00:00:00",
          "2024-04-23T00:00:00",
          "2024-04-23T00:00:00",
          "2024-04-24T00:00:00",
          "2024-04-24T00:00:00",
          "2024-04-24T00:00:00",
          "2024-04-24T00:00:00",
          "2024-04-24T00:00:00",
          "2024-04-25T00:00:00",
          "2024-04-25T00:00:00",
          "2024-04-25T00:00:00",
          "2024-04-26T00:00:00",
          "2024-04-27T00:00:00",
          "2024-04-30T00:00:00",
          "2024-04-30T00:00:00",
          "2024-05-01T00:00:00",
          "2024-05-02T00:00:00",
          "2024-05-02T00:00:00",
          "2024-05-02T00:00:00",
          "2024-05-02T00:00:00",
          "2024-05-03T00:00:00",
          "2024-05-03T00:00:00",
          "2024-05-03T00:00:00",
          "2024-05-03T00:00:00",
          "2024-05-03T00:00:00",
          "2024-05-03T00:00:00",
          "2024-05-03T00:00:00",
          "2024-05-03T00:00:00",
          "2024-05-03T00:00:00",
          "2024-05-03T00:00:00",
          "2024-05-04T00:00:00",
          "2024-05-04T00:00:00",
          "2024-05-04T00:00:00",
          "2024-05-04T00:00:00",
          "2024-05-04T00:00:00",
          "2024-05-04T00:00:00",
          "2024-05-06T00:00:00",
          "2024-05-06T00:00:00",
          "2024-05-06T00:00:00",
          "2024-05-06T00:00:00",
          "2024-05-06T00:00:00",
          "2024-05-06T00:00:00",
          "2024-05-06T00:00:00",
          "2024-05-07T00:00:00",
          "2024-05-08T00:00:00",
          "2024-05-08T00:00:00",
          "2024-05-08T00:00:00",
          "2024-05-08T00:00:00",
          "2024-05-08T00:00:00",
          "2024-05-08T00:00:00",
          "2024-05-09T00:00:00",
          "2024-05-09T00:00:00",
          "2024-05-09T00:00:00",
          "2024-05-09T00:00:00",
          "2024-05-09T00:00:00",
          "2024-05-09T00:00:00",
          "2024-05-09T00:00:00",
          "2024-05-09T00:00:00",
          "2024-05-10T00:00:00",
          "2024-05-10T00:00:00",
          "2024-05-10T00:00:00",
          "2024-05-10T00:00:00",
          "2024-05-10T00:00:00",
          "2024-05-10T00:00:00",
          "2024-05-10T00:00:00",
          "2024-05-10T00:00:00",
          "2024-05-11T00:00:00",
          "2024-05-11T00:00:00",
          "2024-05-11T00:00:00",
          "2024-05-13T00:00:00",
          "2024-05-14T00:00:00",
          "2024-05-14T00:00:00",
          "2024-05-14T00:00:00",
          "2024-05-14T00:00:00",
          "2024-05-15T00:00:00",
          "2024-05-15T00:00:00",
          "2024-05-15T00:00:00",
          "2024-05-15T00:00:00",
          "2024-05-15T00:00:00",
          "2024-05-15T00:00:00",
          "2024-05-16T00:00:00",
          "2024-05-16T00:00:00",
          "2024-05-16T00:00:00",
          "2024-05-16T00:00:00",
          "2024-05-16T00:00:00",
          "2024-05-16T00:00:00",
          "2024-05-16T00:00:00",
          "2024-05-17T00:00:00",
          "2024-05-17T00:00:00",
          "2024-05-17T00:00:00",
          "2024-05-17T00:00:00",
          "2024-05-20T00:00:00",
          "2024-05-20T00:00:00",
          "2024-05-21T00:00:00",
          "2024-05-21T00:00:00",
          "2024-05-21T00:00:00",
          "2024-05-22T00:00:00",
          "2024-05-22T00:00:00",
          "2024-05-22T00:00:00",
          "2024-05-22T00:00:00",
          "2024-05-22T00:00:00",
          "2024-05-22T00:00:00",
          "2024-05-22T00:00:00",
          "2024-05-22T00:00:00",
          "2024-05-22T00:00:00",
          "2024-05-22T00:00:00",
          "2024-05-23T00:00:00",
          "2024-05-23T00:00:00",
          "2024-05-23T00:00:00",
          "2024-05-24T00:00:00",
          "2024-05-24T00:00:00",
          "2024-05-24T00:00:00",
          "2024-05-25T00:00:00",
          "2024-05-25T00:00:00",
          "2024-05-25T00:00:00",
          "2024-05-25T00:00:00",
          "2024-05-25T00:00:00",
          "2024-05-25T00:00:00",
          "2024-05-25T00:00:00",
          "2024-05-27T00:00:00",
          "2024-05-28T00:00:00",
          "2024-05-28T00:00:00",
          "2024-05-28T00:00:00",
          "2024-05-29T00:00:00",
          "2024-05-29T00:00:00",
          "2024-05-29T00:00:00",
          "2024-05-29T00:00:00",
          "2024-05-29T00:00:00",
          "2024-05-30T00:00:00",
          "2024-05-30T00:00:00",
          "2024-05-30T00:00:00",
          "2024-05-30T00:00:00",
          "2024-05-30T00:00:00",
          "2024-05-30T00:00:00",
          "2024-05-30T00:00:00",
          "2024-05-30T00:00:00",
          "2024-05-30T00:00:00",
          "2024-05-30T00:00:00",
          "2024-05-30T00:00:00",
          "2024-05-31T00:00:00",
          "2024-05-31T00:00:00",
          "2024-05-31T00:00:00",
          "2024-06-01T00:00:00",
          "2024-06-03T00:00:00",
          "2024-06-03T00:00:00",
          "2024-06-04T00:00:00",
          "2024-06-04T00:00:00",
          "2024-06-04T00:00:00",
          "2024-06-04T00:00:00",
          "2024-06-04T00:00:00",
          "2024-06-04T00:00:00",
          "2024-06-04T00:00:00",
          "2024-06-04T00:00:00",
          "2024-06-04T00:00:00",
          "2024-06-04T00:00:00",
          "2024-06-04T00:00:00",
          "2024-06-04T00:00:00",
          "2024-06-04T00:00:00",
          "2024-06-05T00:00:00",
          "2024-06-05T00:00:00",
          "2024-06-05T00:00:00",
          "2024-06-05T00:00:00",
          "2024-06-05T00:00:00",
          "2024-06-05T00:00:00",
          "2024-06-05T00:00:00",
          "2024-06-06T00:00:00",
          "2024-06-06T00:00:00",
          "2024-06-06T00:00:00",
          "2024-06-06T00:00:00",
          "2024-06-06T00:00:00",
          "2024-06-06T00:00:00",
          "2024-06-06T00:00:00",
          "2024-06-06T00:00:00",
          "2024-06-07T00:00:00",
          "2024-06-07T00:00:00",
          "2024-06-07T00:00:00",
          "2024-06-07T00:00:00",
          "2024-06-07T00:00:00",
          "2024-06-07T00:00:00",
          "2024-06-07T00:00:00",
          "2024-06-08T00:00:00",
          "2024-06-08T00:00:00",
          "2024-06-08T00:00:00",
          "2024-06-11T00:00:00",
          "2024-06-11T00:00:00",
          "2024-06-12T00:00:00",
          "2024-06-12T00:00:00",
          "2024-06-12T00:00:00",
          "2024-06-12T00:00:00",
          "2024-06-12T00:00:00",
          "2024-06-12T00:00:00",
          "2024-06-12T00:00:00",
          "2024-06-12T00:00:00",
          "2024-06-12T00:00:00",
          "2024-06-12T00:00:00",
          "2024-06-12T00:00:00",
          "2024-06-13T00:00:00",
          "2024-06-13T00:00:00",
          "2024-06-13T00:00:00",
          "2024-06-13T00:00:00",
          "2024-06-13T00:00:00",
          "2024-06-13T00:00:00",
          "2024-06-14T00:00:00",
          "2024-06-14T00:00:00",
          "2024-06-14T00:00:00",
          "2024-06-14T00:00:00",
          "2024-06-14T00:00:00",
          "2024-06-15T00:00:00",
          "2024-06-15T00:00:00",
          "2024-06-15T00:00:00",
          "2024-06-15T00:00:00",
          "2024-06-17T00:00:00",
          "2024-06-17T00:00:00",
          "2024-06-17T00:00:00",
          "2024-06-17T00:00:00",
          "2024-06-17T00:00:00",
          "2024-06-17T00:00:00",
          "2024-06-17T00:00:00",
          "2024-06-17T00:00:00",
          "2024-06-18T00:00:00",
          "2024-06-18T00:00:00",
          "2024-06-19T00:00:00",
          "2024-06-19T00:00:00",
          "2024-06-21T00:00:00",
          "2024-06-21T00:00:00",
          "2024-06-21T00:00:00",
          "2024-06-21T00:00:00",
          "2024-06-21T00:00:00",
          "2024-06-21T00:00:00",
          "2024-06-21T00:00:00",
          "2024-06-21T00:00:00",
          "2024-06-21T00:00:00",
          "2024-06-21T00:00:00",
          "2024-06-21T00:00:00",
          "2024-06-22T00:00:00",
          "2024-06-22T00:00:00",
          "2024-06-22T00:00:00",
          "2024-06-22T00:00:00",
          "2024-06-22T00:00:00",
          "2024-06-22T00:00:00",
          "2024-06-22T00:00:00",
          "2024-06-22T00:00:00",
          "2024-06-22T00:00:00",
          "2024-06-22T00:00:00",
          "2024-06-22T00:00:00",
          "2024-06-22T00:00:00",
          "2024-06-22T00:00:00",
          "2024-06-22T00:00:00",
          "2024-06-22T00:00:00",
          "2024-06-22T00:00:00",
          "2024-06-22T00:00:00",
          "2024-06-22T00:00:00",
          "2024-06-24T00:00:00",
          "2024-06-24T00:00:00",
          "2024-06-24T00:00:00",
          "2024-06-25T00:00:00",
          "2024-06-25T00:00:00",
          "2024-06-25T00:00:00",
          "2024-06-25T00:00:00",
          "2024-06-25T00:00:00",
          "2024-06-26T00:00:00",
          "2024-06-26T00:00:00",
          "2024-06-26T00:00:00",
          "2024-06-26T00:00:00",
          "2024-06-26T00:00:00",
          "2024-06-26T00:00:00",
          "2024-06-26T00:00:00",
          "2024-06-26T00:00:00",
          "2024-06-26T00:00:00",
          "2024-06-26T00:00:00",
          "2024-06-27T00:00:00",
          "2024-06-27T00:00:00",
          "2024-06-27T00:00:00",
          "2024-06-27T00:00:00",
          "2024-06-27T00:00:00",
          "2024-06-27T00:00:00",
          "2024-06-27T00:00:00",
          "2024-06-27T00:00:00",
          "2024-06-28T00:00:00",
          "2024-06-28T00:00:00",
          "2024-06-28T00:00:00",
          "2024-06-29T00:00:00",
          "2024-06-29T00:00:00",
          "2024-06-29T00:00:00",
          "2024-07-02T00:00:00",
          "2024-07-02T00:00:00",
          "2024-07-02T00:00:00",
          "2024-07-02T00:00:00",
          "2024-07-02T00:00:00",
          "2024-07-02T00:00:00",
          "2024-07-02T00:00:00",
          "2024-07-02T00:00:00",
          "2024-07-02T00:00:00",
          "2024-07-02T00:00:00",
          "2024-07-02T00:00:00",
          "2024-07-02T00:00:00",
          "2024-07-03T00:00:00",
          "2024-07-05T00:00:00",
          "2024-07-05T00:00:00",
          "2024-07-06T00:00:00",
          "2024-07-06T00:00:00",
          "2024-07-06T00:00:00",
          "2024-07-06T00:00:00",
          "2024-07-06T00:00:00",
          "2024-07-07T00:00:00",
          "2024-07-07T00:00:00",
          "2024-07-07T00:00:00",
          "2024-07-07T00:00:00",
          "2024-07-07T00:00:00",
          "2024-07-07T00:00:00",
          "2024-07-09T00:00:00",
          "2024-07-09T00:00:00",
          "2024-07-09T00:00:00",
          "2024-07-09T00:00:00",
          "2024-07-09T00:00:00",
          "2024-07-10T00:00:00",
          "2024-07-10T00:00:00",
          "2024-07-10T00:00:00",
          "2024-07-10T00:00:00",
          "2024-07-10T00:00:00",
          "2024-07-10T00:00:00",
          "2024-07-11T00:00:00",
          "2024-07-11T00:00:00",
          "2024-07-11T00:00:00",
          "2024-07-11T00:00:00",
          "2024-07-11T00:00:00",
          "2024-07-11T00:00:00",
          "2024-07-11T00:00:00",
          "2024-07-11T00:00:00",
          "2024-07-11T00:00:00",
          "2024-07-12T00:00:00",
          "2024-07-12T00:00:00",
          "2024-07-12T00:00:00",
          "2024-07-12T00:00:00",
          "2024-07-12T00:00:00",
          "2024-07-12T00:00:00",
          "2024-07-13T00:00:00",
          "2024-07-13T00:00:00",
          "2024-07-13T00:00:00",
          "2024-07-13T00:00:00",
          "2024-07-13T00:00:00",
          "2024-07-13T00:00:00",
          "2024-07-16T00:00:00",
          "2024-07-16T00:00:00",
          "2024-07-16T00:00:00",
          "2024-07-16T00:00:00",
          "2024-07-16T00:00:00",
          "2024-07-17T00:00:00",
          "2024-07-17T00:00:00",
          "2024-07-17T00:00:00",
          "2024-07-17T00:00:00",
          "2024-07-17T00:00:00",
          "2024-07-17T00:00:00",
          "2024-07-17T00:00:00",
          "2024-07-17T00:00:00",
          "2024-07-18T00:00:00",
          "2024-07-18T00:00:00",
          "2024-07-18T00:00:00",
          "2024-07-18T00:00:00",
          "2024-07-18T00:00:00",
          "2024-07-18T00:00:00",
          "2024-07-18T00:00:00",
          "2024-07-18T00:00:00",
          "2024-07-18T00:00:00",
          "2024-07-19T00:00:00",
          "2024-07-19T00:00:00",
          "2024-07-19T00:00:00",
          "2024-07-20T00:00:00",
          "2024-07-20T00:00:00",
          "2024-07-20T00:00:00",
          "2024-07-20T00:00:00",
          "2024-07-20T00:00:00",
          "2024-07-20T00:00:00",
          "2024-07-20T00:00:00",
          "2024-07-22T00:00:00",
          "2024-07-22T00:00:00",
          "2024-07-22T00:00:00",
          "2024-07-23T00:00:00",
          "2024-07-23T00:00:00",
          "2024-07-23T00:00:00",
          "2024-07-24T00:00:00",
          "2024-07-24T00:00:00",
          "2024-07-24T00:00:00",
          "2024-07-24T00:00:00",
          "2024-07-24T00:00:00",
          "2024-07-24T00:00:00",
          "2024-07-26T00:00:00",
          "2024-07-26T00:00:00",
          "2024-07-27T00:00:00",
          "2024-07-27T00:00:00",
          "2024-07-27T00:00:00",
          "2024-07-27T00:00:00",
          "2024-07-27T00:00:00",
          "2024-07-30T00:00:00",
          "2024-08-01T00:00:00",
          "2024-08-01T00:00:00",
          "2024-08-02T00:00:00",
          "2024-08-02T00:00:00",
          "2024-08-02T00:00:00",
          "2024-08-02T00:00:00",
          "2024-08-02T00:00:00",
          "2024-08-02T00:00:00",
          "2024-08-03T00:00:00",
          "2024-08-03T00:00:00",
          "2024-08-03T00:00:00",
          "2024-08-03T00:00:00",
          "2024-08-03T00:00:00",
          "2024-08-03T00:00:00",
          "2024-08-05T00:00:00",
          "2024-08-05T00:00:00",
          "2024-08-08T00:00:00",
          "2024-08-08T00:00:00",
          "2024-08-08T00:00:00",
          "2024-08-08T00:00:00",
          "2024-08-08T00:00:00",
          "2024-08-09T00:00:00",
          "2024-08-09T00:00:00",
          "2024-08-09T00:00:00",
          "2024-08-09T00:00:00",
          "2024-08-09T00:00:00",
          "2024-08-09T00:00:00",
          "2024-08-09T00:00:00",
          "2024-08-10T00:00:00",
          "2024-08-10T00:00:00",
          "2024-08-10T00:00:00",
          "2024-08-10T00:00:00",
          "2024-08-10T00:00:00",
          "2024-08-10T00:00:00",
          "2024-08-10T00:00:00",
          "2024-08-10T00:00:00",
          "2024-08-10T00:00:00",
          "2024-08-10T00:00:00",
          "2024-08-10T00:00:00",
          "2024-08-12T00:00:00",
          "2024-08-13T00:00:00",
          "2024-08-13T00:00:00",
          "2024-08-13T00:00:00",
          "2024-08-13T00:00:00",
          "2024-08-13T00:00:00",
          "2024-08-13T00:00:00",
          "2024-08-13T00:00:00",
          "2024-08-14T00:00:00",
          "2024-08-14T00:00:00",
          "2024-08-14T00:00:00",
          "2024-08-14T00:00:00",
          "2024-08-14T00:00:00",
          "2024-08-14T00:00:00",
          "2024-08-15T00:00:00",
          "2024-08-15T00:00:00",
          "2024-08-15T00:00:00",
          "2024-08-15T00:00:00",
          "2024-08-15T00:00:00",
          "2024-08-16T00:00:00",
          "2024-08-16T00:00:00",
          "2024-08-17T00:00:00",
          "2024-08-17T00:00:00",
          "2024-08-17T00:00:00",
          "2024-08-17T00:00:00",
          "2024-08-17T00:00:00",
          "2024-08-17T00:00:00",
          "2024-08-17T00:00:00",
          "2024-08-17T00:00:00",
          "2024-08-20T00:00:00",
          "2024-08-20T00:00:00",
          "2024-08-21T00:00:00",
          "2024-08-21T00:00:00",
          "2024-08-21T00:00:00",
          "2024-08-22T00:00:00",
          "2024-08-22T00:00:00",
          "2024-08-22T00:00:00",
          "2024-08-22T00:00:00",
          "2024-08-22T00:00:00",
          "2024-08-23T00:00:00",
          "2024-08-23T00:00:00",
          "2024-08-23T00:00:00",
          "2024-08-23T00:00:00"
         ],
         "xaxis": "x",
         "y": [
          3852,
          45000,
          14000,
          8080,
          11000,
          3356,
          7192,
          24000,
          5362,
          17000,
          6224,
          34000,
          5231,
          5236,
          5035,
          11000,
          2000,
          4075,
          4948,
          22000,
          2977,
          6992,
          26000,
          7442,
          10000,
          15000,
          2652,
          13000,
          3940,
          4860,
          2466,
          28000,
          14000,
          7171,
          19000,
          17000,
          11000,
          50000,
          5249,
          6638,
          6105,
          14000,
          13000,
          23000,
          16000,
          6807,
          5584,
          2776,
          39000,
          54000,
          18000,
          9369,
          40000,
          12000,
          6539,
          5641,
          12000,
          3523,
          10000,
          5974,
          5666,
          5476,
          29000,
          19000,
          3929,
          6104,
          109000,
          22000,
          9610,
          8582,
          10000,
          4877,
          21000,
          28000,
          3903,
          17000,
          7662,
          4144,
          9516,
          5589,
          18000,
          8671,
          7690,
          14000,
          8298,
          14000,
          39000,
          4005,
          32000,
          8036,
          8704,
          6394,
          6022,
          61000,
          7861,
          7856,
          5884,
          6006,
          6003,
          8118,
          1715,
          5331,
          4481,
          5624,
          3541,
          1699,
          7612,
          2504,
          7914,
          9861,
          129000,
          19000,
          3111,
          4464,
          17000,
          8118,
          9336,
          3912,
          13000,
          4617,
          8338,
          3818,
          5358,
          19000,
          39000,
          15000,
          3300,
          7668,
          23000,
          14000,
          41000,
          5090,
          7129,
          10000,
          23000,
          9513,
          13000,
          4141,
          2968,
          10000,
          6446,
          3476,
          21000,
          17000,
          10000,
          11000,
          250000,
          12000,
          1728,
          4177,
          30000,
          84000,
          48000,
          10000,
          7664,
          69000,
          18000,
          11000,
          18000,
          2958,
          2701,
          4358,
          7270,
          5985,
          4652,
          8261,
          6692,
          3328,
          4728,
          3193,
          4381,
          3226,
          3608,
          2124,
          3566,
          2220,
          12000,
          2975,
          15000,
          4141,
          7333,
          7215,
          38000,
          3390,
          8495,
          8555,
          2384,
          1755,
          13000,
          64000,
          7548,
          3562,
          3769,
          8781,
          3046,
          18000,
          11000,
          1981,
          5274,
          8138,
          2175,
          14000,
          3987,
          5837,
          12000,
          8652,
          2940,
          3749,
          3275,
          5791,
          6490,
          9249,
          3631,
          7174,
          3437,
          2915,
          14000,
          5569,
          10000,
          5794,
          13000,
          1943,
          21000,
          11000,
          4624,
          1958,
          28000,
          5289,
          2145,
          26000,
          4917,
          26000,
          6190,
          11000,
          11000,
          3931,
          3113,
          24000,
          23000,
          50000,
          4058,
          9067,
          6721,
          5162,
          4479,
          8487,
          6581,
          5124,
          10000,
          10000,
          12000,
          6427,
          2084,
          5423,
          2744,
          2577,
          3332,
          3738,
          3479,
          7054,
          2860,
          22000,
          16000,
          9264,
          3434,
          2990,
          5285,
          15000,
          11000,
          13000,
          7026,
          17000,
          6114,
          2265,
          2994,
          3337,
          10000,
          2808,
          2480,
          3270,
          2469,
          16000,
          7945,
          6368,
          5956,
          12000,
          2344,
          6211,
          5172,
          5001,
          1912,
          6886,
          12000,
          3504,
          17000,
          2511,
          8006,
          2448,
          10000,
          1369,
          3829,
          4078,
          13000,
          2742,
          5235,
          4250,
          27000,
          5327,
          8164,
          15000,
          5387,
          14000,
          5129,
          3824,
          4771,
          3767,
          19000,
          4082,
          63000,
          2336,
          2450,
          11000,
          10000,
          4371,
          5402,
          3849,
          3684,
          2176,
          10000,
          6756,
          7829,
          8158,
          18000,
          2724,
          1549,
          17000,
          6998,
          4537,
          3975,
          18000,
          3792,
          12000,
          5606,
          21000,
          30000,
          5076,
          12000,
          64000,
          2142,
          7469,
          2393,
          1470,
          5078,
          12000,
          6436,
          795000,
          10000,
          4925,
          6598,
          1762,
          4992,
          19000,
          4488,
          11000,
          11000,
          4533,
          8504,
          3016,
          38000,
          6056,
          4744,
          5975,
          6088,
          1534,
          2870,
          38000,
          4073,
          3950,
          1980,
          10000,
          2774,
          28000,
          8405,
          7136,
          2100,
          4312,
          3850,
          5949,
          2778,
          6042,
          4871,
          1878,
          27000,
          43000,
          12000,
          2187,
          1706,
          6321,
          1881,
          42000,
          1351,
          2238,
          2732,
          1235,
          16000,
          49000,
          20000,
          2602,
          2546,
          3618,
          2731,
          41000,
          10000,
          2981,
          3649,
          1183,
          75000,
          7076,
          41000,
          1554,
          21000,
          117000,
          3720,
          3229,
          13000,
          31000,
          5438,
          13000,
          8101,
          49000,
          9979,
          23000,
          4912,
          9974,
          4338,
          10000,
          5933,
          5383,
          7536,
          52000,
          1947,
          10000,
          9219,
          6815,
          2834,
          32000,
          1973,
          4854,
          4302,
          2290,
          32000,
          7394,
          9398,
          3386,
          2599,
          2611,
          20000,
          19000,
          19000,
          1961,
          1609,
          4412,
          26000,
          7437,
          3980,
          10000,
          8919,
          6816,
          12000,
          8810,
          17000,
          8181,
          3882,
          4833,
          8257,
          4103,
          7052,
          4543,
          2318,
          1381,
          32000,
          3263,
          2920,
          25000,
          1975,
          5868,
          7101,
          6987,
          7659,
          4973,
          3562,
          20000,
          30000,
          4023,
          1627,
          5337,
          5877,
          4592,
          31000,
          1995,
          1001,
          13000,
          1885,
          8967,
          6078,
          4370,
          11000,
          4308,
          1857,
          9017,
          5449,
          5607,
          8251,
          19000,
          3845,
          4613,
          4138,
          11000,
          4816,
          3756,
          2650,
          3017,
          3919,
          10000,
          4684,
          1923,
          2981,
          6170,
          22000,
          3829,
          1912,
          3364,
          2860,
          11000,
          3258,
          10000,
          4476,
          11000,
          7738,
          40000,
          2538,
          16000,
          5319,
          2273,
          3953,
          20000,
          5001,
          5433,
          2600,
          1423,
          10000,
          2332,
          3533,
          2246,
          3406,
          1409,
          4968,
          15000,
          4628,
          3640,
          17000,
          12000,
          17000,
          14000,
          85000,
          1854,
          10000,
          1299,
          4970,
          4316,
          4222,
          9186,
          1168,
          29000,
          6499,
          3745,
          18000,
          4048,
          2988,
          4206,
          4386,
          6029,
          6276,
          17000,
          8619,
          1768,
          12000,
          1441,
          4492,
          43000,
          17000,
          13000,
          3085,
          4984,
          3013,
          4650,
          3471,
          7719,
          2270,
          2529,
          6322,
          2148,
          2684,
          1909,
          4675,
          1926,
          3008,
          7393,
          8701,
          2828,
          17000,
          9624,
          3967,
          5664,
          8995,
          35000,
          1210,
          2066,
          2054,
          4665,
          3979,
          3530,
          11000,
          6485,
          11000,
          4370,
          5512,
          2657,
          260000,
          2891,
          3379,
          18000,
          67000,
          11000,
          7571,
          5527,
          2632,
          2395,
          1730,
          3064,
          6177,
          4414,
          7662,
          26000,
          3817,
          2731,
          1353,
          3978,
          2864,
          16000,
          4649,
          2463,
          1466,
          3128,
          6461,
          2184,
          6857,
          2578,
          5696,
          16000,
          3958,
          32000,
          7166,
          13000,
          6581,
          3722,
          2802,
          6330,
          8739,
          3402,
          1891,
          1552,
          5431,
          3075,
          2801,
          2564,
          3813,
          3433,
          2422,
          12000,
          6737,
          19000,
          8986,
          3378,
          2367,
          2441,
          3936,
          2335,
          1821,
          2660,
          9137,
          6583,
          5248,
          10000,
          2400,
          9183,
          5451,
          6371,
          11000,
          1658,
          4194,
          13000,
          53000,
          5000,
          4857,
          19000,
          2999,
          3020,
          8082,
          5123,
          9402,
          1565,
          5468,
          5709,
          2832,
          3734,
          81000,
          21000,
          13000,
          14000,
          5547,
          50000,
          5047,
          11000,
          9820,
          8648,
          4646,
          19000,
          9808,
          6867,
          6771,
          6157,
          3017,
          5064,
          3229,
          2458,
          2623,
          9578,
          2879,
          3111,
          8696,
          3585,
          4635,
          15000,
          11000,
          3813,
          25000,
          4986,
          4184,
          24000,
          9039,
          8786,
          1981,
          3272,
          3548,
          2877,
          7746,
          7393,
          6267,
          1317,
          5820,
          14000,
          3128,
          3995,
          21000,
          2701,
          8247,
          2629,
          10000,
          11000,
          13000,
          6301,
          11000,
          10000,
          8821,
          5315,
          1986,
          21000,
          17000,
          1682,
          27000,
          3233,
          3512,
          1746,
          6708,
          2369,
          3797,
          28000,
          15000,
          8371,
          31000,
          11000,
          4939,
          3190,
          8902,
          2036,
          2272,
          3157,
          5419,
          3172,
          2574,
          3189,
          2728,
          30000,
          3508,
          2844,
          5061,
          2784,
          3215,
          20000,
          2129,
          13000,
          11000,
          21000,
          7023,
          4581,
          4137,
          2969,
          2159,
          4919,
          16000,
          1553,
          1704,
          1998,
          1995,
          11000,
          5506,
          3445,
          9492,
          2888,
          47000,
          15000,
          2578,
          3798,
          4265,
          21000,
          5299,
          8422,
          6143,
          12000,
          9475,
          1556,
          26000,
          5286,
          7412,
          4623,
          3299,
          6272,
          5604,
          6448,
          2430,
          4048,
          4372,
          4185,
          7357,
          7693,
          3857,
          1523,
          3963,
          6279,
          2744,
          8257,
          1756,
          3433,
          22000,
          3557,
          2268,
          38000,
          9046,
          3401,
          5013,
          5825,
          5488,
          6772,
          2990,
          27000,
          3080,
          3282,
          23000,
          15000,
          3616,
          12000,
          7081,
          3075,
          4632,
          8468,
          4253,
          8198,
          7214,
          6144,
          2783,
          6305,
          5501,
          2435,
          6123,
          2869,
          3094,
          10000,
          3122,
          3276,
          5742,
          4377,
          26000,
          3822,
          11000,
          13000,
          1549,
          3684,
          3715,
          7190,
          8527,
          2803,
          5468,
          2344,
          4416,
          8230,
          2850,
          30000,
          5143,
          2249,
          3886,
          11000,
          7321,
          1613,
          23000,
          2791,
          3239,
          18000,
          990,
          2010,
          20000,
          2684,
          6068,
          5025,
          1992,
          3341,
          4108,
          3373,
          6093,
          4736,
          3419,
          3783,
          7688,
          19000,
          3379,
          5246,
          2869,
          11000,
          5019,
          4583,
          29000,
          18000,
          4272,
          3172,
          9485,
          28000,
          2629,
          5703,
          2069,
          1994,
          10000,
          10000,
          94000,
          5285,
          13000,
          11000,
          2526,
          2756,
          3411,
          2230,
          48000,
          2569,
          3906,
          6058,
          2927,
          24000,
          2831,
          2714,
          3476,
          2876,
          8062,
          6412,
          10000,
          1524,
          4607,
          16000,
          21000,
          1812,
          15000,
          7466,
          5471,
          6608,
          10000,
          1109,
          5674,
          2514,
          4397,
          2723,
          18000,
          6832,
          2884,
          47000,
          2402,
          3954,
          3046,
          3548,
          3325,
          2491,
          3327,
          21000,
          4389,
          4485,
          8993,
          4534,
          7659,
          57000,
          3726,
          1812,
          11000,
          2092,
          2493,
          1734,
          3720,
          2286,
          22000,
          30000,
          5294,
          19000,
          2077,
          31000,
          11000,
          3261,
          4278,
          14000,
          40000,
          5352,
          9554,
          2732,
          8117,
          14000,
          2362,
          2125,
          3245,
          4376,
          4752,
          4725,
          4210,
          41000,
          7685,
          3603,
          18000,
          9385,
          23000,
          2143,
          10000,
          14000,
          10000,
          11000,
          26000,
          6296,
          11000,
          1191,
          1389,
          25000,
          10000,
          12000,
          40000,
          3366,
          32000,
          2196,
          8417,
          2827,
          7758,
          3006,
          2544,
          27000,
          2992,
          11000,
          2267,
          3882,
          3076,
          5181,
          3141,
          28000,
          2350,
          5961,
          1728,
          8078,
          4029,
          12000,
          3835,
          13000,
          65000,
          19000,
          11000,
          61000,
          6693,
          5013,
          5224,
          8182,
          45000,
          9649,
          3230,
          7073,
          2568,
          7906,
          3952,
          10000,
          3374,
          4417,
          4235,
          2679,
          1572,
          3734,
          2554,
          11000,
          9899,
          6445,
          4014,
          4954,
          32000,
          2783,
          5001,
          1794,
          3612,
          2477,
          4643,
          9044,
          3601,
          21000,
          1364,
          7938,
          22000,
          8918,
          33000,
          3674,
          10000,
          109000,
          6618,
          11000,
          2855,
          13000,
          3860,
          7551,
          3590,
          14000,
          7408,
          120000,
          5395,
          39000,
          12000,
          8283,
          42000,
          7612,
          7499,
          22000,
          14000,
          6006,
          8605,
          6419,
          5121,
          2568,
          1767,
          28000,
          4559,
          4011,
          2736,
          17000,
          3857,
          4904,
          6493,
          18000,
          4853,
          3289,
          3594,
          13000,
          7653,
          3801,
          5321,
          2502,
          6864,
          10000,
          10000,
          5023,
          70000,
          9165,
          2040,
          4336,
          3047,
          2406,
          6144,
          23000,
          17000,
          5327,
          1412,
          2298,
          2865,
          2698,
          48000,
          3270,
          11000,
          2478,
          12000,
          3543,
          13000,
          4938,
          10000,
          6146,
          8891,
          1286,
          2330,
          3763,
          15000,
          8281,
          5394,
          4169,
          2299,
          4030,
          9394,
          5621,
          7749,
          8199,
          4441,
          2485,
          2258,
          16000,
          2474,
          37000,
          8935,
          11000,
          4741,
          3981,
          83000,
          5957,
          1630,
          1867,
          3436,
          2041,
          11000,
          3397,
          5991,
          5213,
          3363,
          2277,
          17000,
          2229,
          20000,
          46000,
          2368,
          2349,
          19000,
          25000,
          15000,
          5533,
          9064,
          27000,
          11000,
          22000,
          4034,
          10000,
          1468,
          15000,
          5611,
          1695,
          2349,
          7554,
          13000,
          5110,
          15000,
          13000,
          17000,
          5699,
          6831,
          10000,
          4327,
          2932,
          6929,
          33000,
          12000,
          5595,
          23000,
          2280,
          3471,
          8160,
          5487,
          12000,
          3063,
          2206,
          15000,
          2447,
          11000,
          5149,
          6708,
          3556,
          5541,
          8697,
          18000,
          34000,
          8167,
          31000,
          1836,
          6230,
          17000,
          5701,
          4012,
          12000,
          4569,
          10000,
          19000,
          4329,
          1826,
          4778,
          65000,
          14000,
          1524,
          6739,
          21000,
          6106,
          6764,
          8508,
          16000,
          1505,
          9334,
          18000,
          6449,
          4034,
          3919,
          12000,
          2436,
          13000,
          3129,
          2696,
          4389,
          4862,
          27000,
          6238,
          2518,
          11000,
          6454,
          14000,
          5521,
          4700,
          3062,
          3187,
          2817,
          54000,
          6073,
          1752,
          5006,
          7203,
          1251,
          25000,
          12000,
          2093,
          14000,
          3824,
          1579,
          2857,
          3266,
          5395,
          5509,
          2552,
          19000,
          7517,
          7453,
          9860,
          5811,
          10000,
          6895,
          2167,
          3200,
          4919,
          5659,
          6425,
          2409,
          1406,
          1309,
          6300,
          4034,
          2944,
          9780,
          13000,
          7412,
          4890,
          27000,
          3062,
          4154,
          2576,
          27000,
          11000,
          10000,
          1750,
          4270,
          3147,
          2938,
          20000,
          13000,
          8369,
          8429,
          8176,
          6593,
          45000,
          2191,
          16000,
          17000,
          11000,
          3416,
          23000,
          3651,
          12000,
          2639,
          35000,
          2558,
          3359,
          3114,
          1422,
          2495,
          8972,
          2525,
          2753,
          5915,
          3669,
          3809,
          2587,
          1776,
          4753,
          11000,
          18000,
          5221,
          10000,
          3664,
          2073,
          2424,
          6149,
          4246,
          4016,
          10000,
          5596,
          11000,
          7136,
          5667,
          2098,
          3177,
          3992,
          12000,
          5379,
          3372,
          1711,
          4411,
          4608,
          4140,
          3792,
          37000,
          5115,
          1849,
          22000,
          4273,
          6442,
          5225,
          1399,
          4214,
          4989,
          6933,
          7211,
          9424,
          6734,
          3315,
          4329,
          2512,
          6041,
          5778,
          2299,
          7095,
          6636,
          10000,
          6548,
          4875,
          8108,
          10000,
          3306,
          3031,
          6025,
          16000,
          27000,
          6188,
          12000,
          4283,
          4459,
          13000,
          18000,
          11000,
          5897,
          3477,
          1704,
          4160,
          5463,
          8255,
          10000,
          4453,
          4637,
          7525,
          2474,
          5693,
          2630,
          12000,
          1563,
          11000,
          11000,
          4180,
          4262,
          3057,
          18000,
          16000,
          5926,
          18000,
          3126,
          16000,
          3645,
          5903,
          6230,
          11000,
          2632,
          16000,
          1592,
          6570,
          2797,
          3958,
          1524,
          16000,
          4612,
          5307,
          7851,
          4242,
          7341,
          2484,
          12000,
          11000,
          11000,
          18000,
          2478,
          9503,
          6393,
          12000,
          15000,
          7828,
          6525,
          2431,
          9622,
          1741,
          11000,
          6707,
          7993,
          4442,
          8396,
          4769,
          9175,
          2544,
          13000,
          7168,
          2208,
          16000,
          8393,
          5766,
          4727,
          10000,
          7164,
          18000,
          2713,
          5884,
          3216,
          9040,
          4029,
          23000,
          5212,
          8501,
          2131,
          15000,
          5674,
          9531,
          14000,
          3280,
          14000,
          1873,
          13000,
          11000,
          1360,
          6863,
          9313,
          18000,
          4009,
          5889,
          23000,
          8473,
          3630,
          6663,
          4467,
          7158,
          4159,
          4846,
          8719,
          13000,
          1980,
          8471,
          7270,
          4552,
          21000,
          4530,
          8825,
          4453,
          6960,
          7775,
          1959,
          6410,
          8032,
          5410,
          12000,
          2084,
          3206,
          12000,
          3730,
          6395,
          2183,
          6975,
          6146,
          1918,
          10000,
          29000,
          23000,
          3183,
          3457,
          10000,
          17000,
          5229,
          12000,
          6327,
          5993,
          4260,
          4921,
          1658,
          2514,
          1367,
          10000,
          1313,
          2640,
          2176,
          3649,
          11000,
          8061,
          3625,
          6571,
          8208,
          9068,
          70000,
          14000,
          28000,
          2605,
          4285,
          19000,
          2513,
          8660,
          6440,
          12000,
          6037,
          14000,
          7626,
          2549,
          3271,
          27000,
          3132,
          2550,
          1682,
          1585,
          2937,
          2393,
          8468,
          10000,
          1986,
          9276,
          1053,
          14000,
          6997,
          1681,
          7856,
          1678,
          14000,
          11000,
          3810,
          1773,
          3737,
          3692,
          5712,
          13000,
          3088,
          8648,
          2637,
          2146,
          35000,
          1882,
          1846,
          1787,
          11000,
          8886,
          7605,
          1996,
          5888,
          4196,
          6860,
          14000,
          4138,
          4147,
          3036,
          1682,
          12000,
          5954,
          15000,
          8533,
          4043,
          1702,
          2376,
          2639,
          31000,
          6231,
          26000,
          3936,
          9956,
          9400,
          2234,
          2965,
          2754,
          4744,
          5911,
          3399,
          2712,
          1639,
          16000,
          5199,
          5666,
          5406,
          3185,
          2560,
          6013,
          9278,
          5612,
          2647,
          10000,
          3527,
          6286,
          6009,
          9572,
          4077,
          5538,
          8084,
          19000,
          2368,
          7997,
          3895,
          7055,
          16000,
          2327,
          2104,
          2523,
          29000,
          4173,
          2601,
          7075,
          12000,
          1941,
          10000,
          2988,
          4802,
          1913,
          1732,
          4958,
          13000,
          20000,
          2638,
          6104,
          7799,
          9072,
          1551,
          4165,
          2605,
          3751,
          15000,
          2450,
          3193,
          2983,
          5579,
          3295,
          3816,
          28000,
          3253,
          3046,
          1503,
          2160,
          8562,
          22000,
          27000,
          5184,
          3488,
          27000,
          3781,
          4789,
          2548,
          3420,
          3778,
          3554,
          3239,
          11000,
          4351,
          5880,
          5693,
          11000,
          2093,
          2441,
          7390,
          9347,
          17000,
          8259,
          11000,
          5288,
          8674,
          1136,
          2827,
          2560,
          2702,
          2181,
          40000,
          1502,
          6811,
          12000,
          3307,
          3478,
          4063,
          16000,
          16000,
          1908,
          3493,
          6910,
          3624,
          5214,
          4953,
          5442,
          3930,
          2682,
          8855,
          4009,
          12000,
          5726,
          3010,
          3510,
          8976,
          3526,
          5836,
          1724,
          3439,
          3814,
          7862,
          2783,
          1383,
          1826,
          1509,
          7461,
          8487,
          7852,
          5634,
          2584,
          2212,
          12000,
          5060,
          1830,
          6799,
          3530,
          3724,
          758,
          1997,
          13000,
          6096,
          13000,
          1575,
          4594,
          10000,
          6722,
          13000,
          2549,
          2535,
          1949,
          2753,
          2721,
          3357,
          5519,
          3902,
          17000,
          18000,
          2836,
          8304,
          1986,
          3108,
          1753,
          3039,
          1072,
          5193,
          6439,
          3178,
          2437,
          6217,
          5353,
          5320,
          3448,
          5975,
          8520,
          1525,
          21000,
          1252,
          6148,
          3214,
          4541,
          2043,
          24000,
          2378,
          14000,
          3578,
          4365,
          3422,
          2141,
          3084,
          3882,
          4030,
          2394,
          5535,
          19000,
          10000,
          4753,
          21000,
          6195,
          4581,
          3605,
          2309,
          2811,
          17000,
          4384,
          3256,
          2605,
          1660,
          2513,
          7295,
          2564,
          2822,
          2184,
          4040,
          3196,
          2836,
          4459,
          6196,
          2226,
          4007,
          17000,
          4785,
          14000,
          3002,
          6710,
          4853,
          9917,
          2287,
          3264,
          3512,
          7180,
          1461,
          6966,
          4616,
          2822,
          4100,
          1542,
          6608,
          1786,
          1372,
          5920,
          1592,
          4385,
          7761,
          1814,
          1448,
          1251,
          7564,
          2507,
          2628,
          2270,
          4710,
          12000,
          2367,
          3063,
          1475,
          4713,
          14000,
          27000,
          2609,
          4855,
          7193,
          5016,
          1055,
          2914,
          2187,
          2763,
          20000,
          3875,
          13000,
          6176,
          9190,
          2449,
          902,
          11000,
          1531,
          2608,
          3780,
          4320,
          3798,
          2692,
          108000,
          3697,
          3040,
          2379,
          2976,
          12000,
          277000,
          5745,
          2468,
          2653,
          5329,
          6582,
          3442,
          839,
          1336,
          4362,
          2980,
          10000,
          2553,
          3655,
          3691,
          2369,
          6010,
          1324,
          2814,
          6541,
          7897,
          981,
          2566,
          3359,
          1697,
          8386,
          4145,
          941,
          12000,
          2626,
          4175,
          5370,
          3190,
          2236,
          4905,
          4150,
          3943,
          11000,
          3623,
          21000,
          3840,
          10000,
          13000,
          5075,
          2343,
          1620,
          10000,
          5346,
          11000,
          1720,
          3489,
          6926,
          1856,
          1872,
          3091,
          3656,
          2583,
          2667,
          4822,
          8617,
          2885,
          3554,
          4470,
          7213,
          1743,
          10000,
          5608,
          6654,
          4860,
          5406,
          4552,
          2114,
          3125,
          5597,
          2705,
          3433,
          12000,
          6045,
          11000,
          9791,
          1624,
          1172,
          3858,
          2265,
          2411,
          2436,
          3093,
          2171,
          2686,
          8297,
          3708,
          9964,
          2335,
          1264,
          3329,
          8977,
          3980,
          9891,
          1584,
          3599,
          3729,
          4150,
          3505,
          4386,
          1959,
          4556,
          4285,
          2522,
          2707,
          10000,
          3269,
          4294,
          3297,
          3459,
          4554,
          3481,
          3756,
          6844,
          2506,
          37000,
          1360,
          3710,
          1731,
          6175,
          1654,
          3829,
          5342,
          2802,
          2384,
          23000,
          2868,
          1637,
          7043,
          4006,
          8304,
          1654,
          9070,
          2792,
          18000,
          4909,
          8512,
          2501,
          4719,
          6104,
          6695,
          1512,
          3098,
          5015,
          1517,
          3104,
          6338,
          2765,
          3999,
          3810,
          1121,
          9504,
          13000,
          1024,
          4778,
          18000,
          1710,
          1815,
          12000,
          2849,
          1973,
          3566,
          3995,
          2917,
          4446,
          2832,
          2116,
          1966,
          4692,
          2298,
          4392,
          4276,
          6710,
          14000,
          4840,
          1389,
          884,
          14000,
          9353,
          6053,
          2622,
          2451,
          3849,
          11000,
          3817,
          3414,
          4198,
          2841,
          2139,
          15000,
          2257,
          1434,
          3442,
          4862,
          2193,
          12000,
          2013,
          10000,
          3147,
          27000,
          3539,
          3498,
          4197,
          2763,
          2115,
          2019,
          7034,
          2389,
          3624,
          3165,
          6929,
          4091,
          4635,
          4269,
          2971,
          4739,
          1557,
          4512,
          2885,
          6258,
          8293,
          1741,
          5991,
          7214,
          1222,
          5654,
          2708,
          10000,
          15000,
          10000,
          1663,
          1825,
          1747,
          2291,
          5309,
          4138,
          1690,
          5655,
          894,
          8561,
          4732,
          3981,
          2123,
          4078,
          1645,
          1950,
          1053,
          3003,
          1965,
          3720,
          5788,
          1286,
          1577,
          16000,
          3313,
          2383,
          2485,
          6251,
          4437,
          2482,
          15000,
          12000,
          4627,
          3935,
          11000,
          10000,
          3631,
          2397,
          3934,
          3762,
          1149,
          2769,
          8764,
          8038,
          6538,
          1479,
          2624,
          2500,
          7680,
          3518,
          3800,
          2147,
          2809,
          2158,
          3945,
          12000,
          5336,
          6275,
          1024,
          5480,
          5537,
          2008,
          2382,
          2116,
          7315,
          1789,
          1585,
          2512,
          1962,
          2682,
          4806,
          1839,
          6997,
          2151,
          5964,
          2084,
          2179,
          1380,
          1996,
          5512,
          10000,
          25000,
          2202,
          4243,
          3692,
          3303,
          4745,
          4849,
          1945,
          7868,
          3349,
          4772,
          6438,
          3714,
          9312,
          1641,
          769,
          4054,
          2289,
          1239,
          4029,
          4080,
          2071,
          5422,
          4562,
          2880,
          3939,
          7295,
          1794,
          1027,
          2940,
          8746,
          2155,
          8867,
          2085,
          2045,
          1471,
          4944,
          7778,
          3013,
          1542,
          1817,
          10000,
          5497,
          1518,
          3115,
          1689,
          1573,
          3909,
          2504,
          3859,
          3061,
          2125,
          5710,
          8031,
          3394,
          6420,
          1951,
          1749,
          12000,
          6560,
          6021,
          1428,
          2424,
          2930,
          2514,
          2366,
          4324,
          21000,
          5513,
          1697,
          8124,
          5174,
          1182,
          3913,
          4950,
          2438,
          3819,
          1341,
          4899,
          2927,
          11000,
          1972,
          1734,
          2126,
          2239,
          1728,
          2450,
          2133,
          2645,
          5252,
          5125,
          5493,
          4613,
          1856,
          1923,
          4330,
          3653,
          4488,
          2656,
          3581,
          2661,
          5048,
          5726,
          2775,
          2033,
          1508,
          1477,
          1315,
          9191,
          2031,
          1542,
          10000,
          2715,
          2452,
          3351,
          4272,
          2690,
          1094,
          4605,
          10000,
          2700,
          4652,
          9546,
          2969,
          1333,
          1947,
          7046,
          2086,
          15000,
          2229,
          6818,
          5076,
          3310,
          8000,
          1582,
          1747,
          2386,
          5097,
          9928,
          1581,
          8168,
          4259,
          6330,
          1695,
          3646,
          3779,
          1798,
          3770,
          2848,
          2659,
          6497,
          1661,
          7928,
          1875,
          2057,
          6788,
          7958,
          4189,
          1515,
          2703,
          1463,
          1890,
          1332,
          4415,
          68000,
          1560,
          3612,
          2142,
          12000,
          8349,
          2014,
          2890,
          3029,
          2157,
          2257,
          2233,
          7988,
          1144,
          1879,
          2908,
          2519,
          1882,
          2489,
          2362,
          3472,
          3775,
          10000,
          4566,
          5718,
          1539,
          1263,
          3840,
          3376,
          3719,
          4679,
          3303,
          12000,
          3643,
          34000,
          2714,
          4245,
          13000,
          854,
          2846,
          3632,
          6890,
          1513,
          2466,
          1951,
          2085,
          17000,
          3231,
          5660,
          3905,
          3219,
          6176,
          6891,
          2669,
          7233,
          5515,
          15000,
          1515,
          3518,
          7662,
          51000,
          4177,
          8420,
          3019,
          5833,
          6170,
          1816,
          6319,
          7423,
          8127,
          2895,
          2751,
          2807,
          2148,
          9020,
          1242,
          2732,
          4380,
          6043,
          3244,
          8794,
          2017,
          2332,
          1000,
          3168,
          2820,
          3459,
          3261,
          3340,
          2787,
          1982,
          18000,
          13000,
          7404,
          4819,
          4255,
          6676,
          2423,
          3880,
          931,
          2046,
          1764,
          24000,
          3680,
          3750,
          1010,
          1725,
          3450,
          5292,
          4745,
          1490,
          3428,
          1609,
          11000,
          1797,
          4777,
          4707,
          8172,
          4602,
          6763,
          2400,
          2472,
          2596,
          6845,
          2451,
          6024,
          2892,
          8223,
          2861,
          2257,
          3428,
          2829,
          22000,
          6496,
          5541,
          12000,
          2021,
          1331,
          4564,
          11000,
          1330,
          3236,
          2431,
          6078,
          1841,
          1669,
          1494,
          5236,
          4101,
          2711,
          3679,
          2744,
          4816,
          1944,
          13000,
          2796,
          1879,
          5282,
          1527,
          13000,
          4140,
          1852,
          50000,
          2924,
          1718,
          2196,
          4567,
          3358,
          6815,
          4535,
          1717,
          2916,
          1942,
          2602,
          1465,
          1293,
          1306,
          1150,
          6508,
          10000,
          4280,
          18000,
          1329,
          1741,
          5704,
          4962,
          1912,
          1268,
          1807,
          1729,
          1687,
          2556,
          1600,
          1843,
          8033,
          4262,
          1966,
          2292,
          1651,
          4000,
          2592,
          1486,
          2322,
          3958,
          1408,
          2751,
          3392,
          1970,
          10000,
          11000,
          3095,
          4722,
          6110,
          9444,
          2448,
          3750,
          3462,
          4578,
          2997,
          3405,
          1394,
          7439,
          1598,
          3356,
          3498,
          1061,
          3760,
          2933,
          1364,
          4439,
          2859,
          2365,
          7896,
          2069,
          5167,
          1049,
          1793,
          2464,
          2655,
          5522,
          2099,
          4122,
          1647,
          1879,
          6137,
          2361,
          1764,
          1541,
          1224,
          1599,
          13000,
          3692,
          7096,
          1783,
          1848,
          4898,
          9112,
          5185,
          2538,
          1933,
          3142,
          1767,
          5107,
          1366,
          3675,
          2382,
          5844,
          13000,
          2470,
          1312,
          7390,
          1128,
          2944,
          2641,
          6551,
          1960,
          9281,
          8068,
          1504,
          1751,
          2250,
          2702,
          1134,
          4055,
          4616,
          2170,
          3367,
          2305,
          2325,
          1972,
          940,
          1630,
          1917,
          1497,
          941,
          2270,
          2297,
          5877,
          2475,
          3406,
          6019,
          2481,
          15000,
          3554,
          5223,
          1066,
          2372,
          2177,
          2112,
          1704,
          2344,
          4672,
          1231,
          3243,
          5261,
          4857,
          20000,
          1752,
          2555,
          2460,
          1325,
          3360,
          2123,
          9096,
          1989,
          2263,
          4752,
          2901,
          3328,
          4576,
          1758,
          4439,
          2076,
          2200,
          1486,
          2262,
          1926,
          6152,
          4646,
          1598,
          1754,
          1500,
          1686,
          1416,
          8100,
          917,
          5669,
          2288,
          2671,
          3200,
          3393,
          2079,
          4883,
          947,
          3738,
          2086,
          1176,
          1877,
          8607,
          2045,
          5616,
          4980,
          3198,
          1595,
          2266,
          3442,
          1823,
          3216,
          5635,
          789,
          1709,
          1169,
          4560,
          2041,
          7833,
          3177,
          2256,
          1165,
          1265,
          912,
          3962,
          1472,
          4551,
          1559,
          1190,
          2487,
          1833,
          10000,
          2315,
          3932,
          4513,
          6868,
          993,
          3728,
          4618,
          1669,
          4657,
          3504,
          3072,
          4291,
          1442,
          2960,
          7762,
          1310,
          1715,
          1687,
          2049,
          2775,
          2238,
          7168,
          1679,
          1868,
          4254,
          1989,
          2655,
          2446,
          4964,
          3572,
          1896,
          962,
          1860,
          1626,
          3621,
          1917,
          2414,
          1821,
          2170,
          1461,
          5035,
          1784,
          3090,
          1033,
          409,
          3041,
          1826,
          3488,
          1618,
          4108,
          4396,
          2204,
          2794,
          4492,
          2694,
          2023,
          1697,
          3311,
          1082,
          3791,
          902,
          1410,
          1123,
          1239,
          4716,
          748,
          3659,
          4276,
          1802,
          1325,
          4144,
          2047,
          1982,
          1153,
          1578,
          1547,
          3897,
          3010,
          6199,
          5529,
          1367,
          6384,
          1644,
          3459,
          2223,
          1226,
          4784,
          2006,
          1660,
          3771,
          2664,
          5172,
          1082,
          3156,
          3265,
          903,
          2629,
          2990,
          944,
          1805,
          2013,
          15000,
          1133,
          4274,
          2560,
          2162,
          1370,
          977,
          2757,
          2382,
          990,
          4939,
          2220,
          1353,
          1152,
          2667,
          4224,
          2813,
          1210,
          1055,
          1527,
          2090,
          4158,
          1153,
          2597,
          5770,
          3126,
          1430,
          1513,
          3037,
          8745,
          3549,
          2353,
          1948,
          5022,
          2670,
          5199,
          6543,
          8147,
          2253,
          2919,
          2419,
          4357,
          2247,
          2333,
          2073,
          1202,
          1550,
          3082,
          4144,
          3577,
          2337,
          1715,
          7694,
          3406,
          1934,
          2020,
          2011,
          3716,
          5585,
          1101,
          1889,
          1213,
          1432,
          4401,
          726,
          2702,
          586,
          1852,
          4069,
          2023,
          2863,
          1429,
          2440,
          3275,
          958,
          5357,
          3172,
          2790,
          1684,
          2004,
          833,
          2040,
          3066,
          3580,
          1854,
          4073,
          2686,
          8651,
          10000,
          12000,
          4151,
          3377,
          2850,
          1582,
          3287,
          3644,
          1679,
          2346,
          5419,
          1464,
          1918,
          1481,
          2755,
          3342,
          5643,
          3102,
          1886,
          3550,
          1489,
          1720,
          1032,
          2482,
          2647,
          2018,
          1293,
          1978,
          7940,
          2977,
          1636,
          5323,
          941,
          2391,
          2899,
          1952,
          1840,
          1274,
          3115,
          1968,
          2551,
          1533,
          3170,
          4075,
          1521,
          662,
          7847,
          1897,
          4341,
          2207,
          3746,
          1335,
          2052,
          8327,
          8922,
          1892,
          3490,
          1557,
          1746,
          1424,
          1381,
          2591,
          1764,
          1164,
          3461,
          1074,
          3210,
          1225,
          1214,
          4995,
          3457,
          4488,
          1110,
          3797,
          2427,
          1597,
          1729,
          2469,
          2101,
          2765,
          1287,
          1920,
          10000,
          1081,
          3246,
          824,
          810,
          1208,
          947,
          1769,
          1294,
          1957,
          859,
          2114,
          6051,
          1135,
          3814,
          2582,
          1808,
          10000,
          3737,
          1437,
          7208,
          4019,
          3116,
          2177,
          665,
          1286,
          1715,
          1834,
          7218,
          1115,
          1319,
          1108,
          1501,
          2052,
          1910,
          1904,
          2701,
          30000,
          1776,
          1523,
          2362,
          5558,
          2046,
          3698,
          2027,
          4088,
          1771,
          2481,
          2183,
          8627,
          2327,
          594,
          1308,
          4719,
          1073,
          1701,
          1028,
          764,
          1612,
          1500,
          1530,
          2185,
          1578,
          991,
          2505,
          1693,
          3540,
          3543,
          1132,
          3170,
          1502,
          1084,
          1929,
          2462,
          3043,
          856,
          2770,
          1782,
          1863,
          1768,
          1307,
          1117,
          3409,
          4729,
          1397,
          1397,
          4276,
          1949,
          1675,
          3616,
          2098,
          3223,
          611,
          3050,
          6774,
          1179,
          734,
          1082,
          4203,
          4277,
          1150,
          1462,
          1414,
          949,
          1693,
          2572,
          1516,
          1752,
          6060,
          2634,
          2790,
          1627,
          3152,
          1051,
          2871,
          1065,
          1365,
          889,
          1872,
          713,
          2845,
          1646,
          1063,
          1324,
          1288,
          1502,
          4485,
          1840,
          1578,
          994,
          1905,
          1303,
          1345,
          1755,
          3783,
          920,
          1363,
          566,
          2079,
          1370,
          1190,
          999,
          1440,
          2011,
          544,
          842,
          1342,
          2795,
          928,
          1131,
          1712,
          2346,
          2374,
          8291,
          828,
          1878,
          2359,
          1113,
          2415,
          1990,
          1432,
          3877,
          1339,
          2871,
          2352,
          4148,
          945,
          1964,
          1757,
          2621,
          1710,
          1821,
          17000,
          775,
          2653,
          4682,
          2063,
          2043,
          808,
          9790,
          2073,
          1585,
          6018,
          1223,
          1682,
          3704,
          1088,
          993,
          1149,
          2804,
          2603,
          674,
          1662,
          1280,
          1402,
          1274,
          1555,
          1048,
          2699,
          920,
          4483,
          2025,
          4271,
          8231,
          2088,
          3616,
          1481,
          4091,
          3094,
          1648,
          3354,
          1796,
          1274,
          5131,
          1608,
          1394,
          3976,
          1156,
          1050,
          1378,
          1843,
          1537,
          812,
          2864,
          994,
          1145,
          1358,
          616,
          3620,
          1461,
          2590,
          11000,
          1142,
          4772,
          2515,
          1753,
          2501,
          4390,
          1172,
          8972,
          2785,
          3024,
          1341,
          2161,
          2850,
          1517,
          707,
          696,
          1595,
          953,
          1024,
          895,
          3945,
          852,
          2105,
          988,
          7800,
          1201,
          1378,
          664,
          1293,
          3119,
          1228,
          798,
          3347,
          14000,
          1494,
          1603,
          1801,
          2303,
          1437,
          4883,
          526,
          3079,
          2343,
          1791,
          986,
          1268,
          2895,
          1946,
          635,
          2185,
          2058,
          1324,
          1694,
          1817,
          769,
          1124,
          2111,
          3961,
          1075,
          1658,
          3043,
          1069,
          528,
          3677,
          3036,
          2869,
          1529,
          666,
          1699,
          918,
          1004,
          843,
          972,
          1811,
          3349,
          11000,
          1242,
          2783,
          1582,
          1412,
          2057,
          2351,
          2003,
          2625,
          3516,
          1060,
          1110,
          2258,
          921,
          1757,
          4223,
          557,
          1211,
          1610,
          2739,
          2495,
          1143,
          1338,
          2562,
          1145,
          1185,
          4024,
          1785,
          1118,
          949,
          1194,
          1306,
          1146,
          1708,
          1030,
          2500,
          995,
          5670,
          1912,
          931,
          1942,
          1312,
          3677,
          1825,
          2703,
          954,
          1699,
          2106,
          1005,
          1339,
          1081,
          1681,
          1501,
          1511,
          4125,
          1746,
          1362,
          2175,
          911,
          2994,
          1642,
          1297,
          1113,
          1961,
          937,
          1202,
          777,
          1219,
          1582,
          1435,
          1025,
          1826,
          1562,
          2172,
          2191,
          1490,
          905,
          1748,
          695,
          1385,
          1609,
          1888,
          3327,
          4991,
          1252,
          1690,
          1383,
          1674,
          985,
          1046,
          1158,
          1186,
          6092,
          1599,
          1109,
          1129,
          1126,
          1979,
          4185,
          2273,
          2052,
          2381,
          2497,
          691,
          1623,
          1663,
          7599,
          1737,
          1310,
          601,
          1716,
          2104,
          2231,
          1993,
          1171,
          4018,
          1821,
          4516,
          4791,
          1831,
          1469,
          1941,
          985,
          2484,
          5634,
          3466,
          955,
          608,
          1097,
          1871,
          1590,
          3777,
          824,
          894,
          1085,
          1042,
          1126,
          1547,
          635,
          1177,
          626,
          737,
          1174,
          886,
          1418,
          4697,
          1516,
          2491,
          1808,
          1108,
          5100,
          1974,
          1717,
          4435,
          1018,
          2767,
          2495,
          4735,
          1901,
          1450,
          2754,
          4975,
          5589,
          1013,
          6501,
          837,
          1821,
          8111,
          1493,
          1007,
          680,
          4998,
          1119,
          7734,
          1232,
          1043,
          3755,
          1129,
          2295,
          1205,
          2684,
          1136,
          1105,
          806,
          1121,
          974,
          1127,
          1322,
          4734,
          1251,
          808,
          3087,
          713,
          1234,
          2618,
          5374,
          1502,
          1020,
          1349,
          1937,
          1198,
          2208,
          6089,
          1266,
          2422,
          2370,
          2312,
          1311,
          652,
          1243,
          5385,
          1072,
          818,
          2416,
          729,
          462,
          601,
          1080,
          870,
          887,
          1785,
          1209,
          1546,
          2758,
          3715,
          1151,
          2637,
          3103,
          1067,
          556,
          1170,
          2357,
          1060,
          3964,
          4104,
          2465,
          683,
          694,
          952,
          4842,
          3328,
          1819,
          1152,
          546,
          1266,
          1461,
          1774,
          894,
          1468,
          3091,
          1185,
          2539,
          683,
          3295,
          1028,
          1175,
          973,
          832,
          765,
          1312,
          1028,
          1772,
          644,
          689,
          905,
          15000,
          1167,
          820,
          1714,
          4717,
          1067,
          3090,
          1922,
          1843,
          606,
          777,
          1448,
          1103,
          2059,
          1483,
          1089,
          957,
          1103,
          1046,
          1391,
          1025,
          731,
          2321,
          1296,
          1462,
          980,
          2535,
          741,
          1244,
          4770,
          1028,
          723,
          2467,
          1214,
          607,
          3653,
          1014,
          2514,
          888,
          755,
          1147,
          2095,
          5608,
          1325,
          750,
          2181,
          982,
          547,
          697,
          1145,
          1683,
          2569,
          1501,
          1117,
          1849,
          1227,
          2690,
          903,
          1070,
          771,
          789,
          871,
          1418,
          344,
          938,
          1924,
          2007,
          568,
          1383,
          789,
          939,
          737,
          536,
          1551,
          5157,
          1740,
          1359,
          631,
          1400,
          1062,
          1066,
          1259,
          1403,
          747,
          1500,
          645,
          910,
          1487,
          1148,
          1078,
          1968,
          1517,
          534,
          1047,
          1529,
          1018,
          1488,
          801,
          547,
          491,
          887,
          556,
          743,
          1027,
          636,
          1279,
          586,
          1525,
          914,
          3407,
          3565,
          958,
          416,
          772,
          668,
          711,
          1090,
          898,
          1018,
          2337,
          2766,
          557,
          1063,
          978,
          637,
          1454,
          1204,
          2194,
          605,
          618,
          1427,
          364,
          630,
          591,
          699,
          1250,
          637,
          753,
          1088,
          1528,
          676,
          543,
          1518,
          458,
          813,
          470,
          413,
          344,
          534,
          578,
          499,
          798,
          1387,
          2114,
          925,
          721,
          3752,
          516,
          1139,
          1220,
          1497,
          649,
          929,
          914,
          607,
          916,
          752,
          1003,
          1418,
          1167,
          987,
          779,
          706,
          1018,
          3325,
          1361,
          732,
          1122,
          1441,
          680,
          783,
          1751,
          957,
          612,
          724,
          1694,
          1226,
          811,
          3576,
          779,
          986,
          919,
          424,
          816,
          896,
          779,
          1239,
          660,
          538,
          477,
          472,
          296,
          903,
          529,
          1309,
          506,
          1204,
          745,
          801,
          960,
          1199,
          808,
          726,
          1430,
          2331,
          874,
          741,
          705,
          584,
          5440,
          735,
          853,
          1186,
          574,
          321,
          989,
          2082,
          703,
          525,
          1204,
          663,
          844,
          717,
          710,
          1888,
          425,
          714,
          469,
          413,
          1004,
          1136,
          715,
          736,
          838,
          1399,
          866,
          639,
          492,
          611,
          526,
          2766,
          863,
          599,
          328,
          443,
          688,
          473,
          1082,
          1114,
          1031,
          801,
          522,
          820,
          472,
          1387,
          627,
          438,
          859,
          709,
          863,
          744,
          1398,
          1017,
          581,
          509,
          629,
          768,
          2259,
          530,
          944,
          672,
          297,
          378,
          620,
          926,
          586,
          613,
          478,
          725,
          533,
          397,
          888,
          557,
          1371,
          883,
          646,
          492,
          1012,
          759,
          548,
          634,
          290,
          676,
          335,
          958,
          734,
          2829,
          1147,
          380,
          1486,
          492,
          380,
          418,
          482,
          309,
          817,
          924,
          1479,
          533,
          458,
          1248,
          608,
          356,
          954,
          783,
          533,
          670,
          624,
          618,
          879,
          966,
          639,
          1465,
          428,
          612,
          838,
          1648,
          1018,
          642,
          503,
          616,
          604,
          833,
          641,
          759,
          413,
          1771,
          1286,
          1086,
          1436,
          673,
          490,
          330,
          543,
          866,
          1125,
          601,
          1196,
          1309,
          430,
          509,
          450,
          608,
          361,
          567,
          395,
          564,
          466,
          1050,
          509,
          414,
          422,
          351,
          601,
          652,
          679,
          629,
          419,
          643,
          1235,
          481,
          658,
          2327,
          388,
          810,
          567,
          776,
          467,
          545,
          440,
          1375,
          554,
          696,
          1368,
          362,
          1507,
          368,
          435,
          906,
          450,
          380,
          397,
          383,
          720,
          924,
          500,
          886,
          445,
          587,
          1468,
          599,
          383,
          608,
          542,
          828,
          897,
          532,
          561,
          485,
          348,
          626,
          609,
          841,
          606,
          799,
          460,
          595,
          324,
          703,
          1543,
          1025,
          833,
          519,
          309,
          266,
          497,
          774,
          602,
          735,
          387,
          683,
          602,
          571,
          1165,
          643,
          483,
          575,
          390,
          568,
          736,
          362,
          1233,
          575,
          412,
          334,
          516,
          365,
          620,
          493,
          1545,
          232,
          363,
          301,
          272,
          305,
          245,
          364,
          274,
          197,
          318,
          536,
          165,
          5247,
          334,
          471,
          395,
          311,
          509,
          266,
          320,
          688,
          555,
          374,
          309,
          667,
          301,
          387,
          344,
          313,
          298,
          324,
          254,
          288,
          297,
          1666,
          583,
          286,
          1188,
          339,
          235,
          424,
          276,
          604,
          492,
          434,
          228,
          307,
          291,
          309,
          435,
          357,
          579,
          97,
          172,
          124,
          76,
          66,
          0,
          68,
          0,
          0,
          0,
          0,
          0,
          0,
          0
         ],
         "yaxis": "y"
        }
       ],
       "layout": {
        "coloraxis": {
         "colorbar": {
          "title": {
           "text": "Citations10^"
          }
         },
         "colorscale": [
          [
           0,
           "#0d0887"
          ],
          [
           0.1111111111111111,
           "#46039f"
          ],
          [
           0.2222222222222222,
           "#7201a8"
          ],
          [
           0.3333333333333333,
           "#9c179e"
          ],
          [
           0.4444444444444444,
           "#bd3786"
          ],
          [
           0.5555555555555556,
           "#d8576b"
          ],
          [
           0.6666666666666666,
           "#ed7953"
          ],
          [
           0.7777777777777778,
           "#fb9f3a"
          ],
          [
           0.8888888888888888,
           "#fdca26"
          ],
          [
           1,
           "#f0f921"
          ]
         ]
        },
        "height": 600,
        "legend": {
         "tracegroupgap": 0
        },
        "margin": {
         "b": 10,
         "l": 10,
         "r": 10,
         "t": 30
        },
        "template": {
         "data": {
          "bar": [
           {
            "error_x": {
             "color": "#2a3f5f"
            },
            "error_y": {
             "color": "#2a3f5f"
            },
            "marker": {
             "line": {
              "color": "#E5ECF6",
              "width": 0.5
             },
             "pattern": {
              "fillmode": "overlay",
              "size": 10,
              "solidity": 0.2
             }
            },
            "type": "bar"
           }
          ],
          "barpolar": [
           {
            "marker": {
             "line": {
              "color": "#E5ECF6",
              "width": 0.5
             },
             "pattern": {
              "fillmode": "overlay",
              "size": 10,
              "solidity": 0.2
             }
            },
            "type": "barpolar"
           }
          ],
          "carpet": [
           {
            "aaxis": {
             "endlinecolor": "#2a3f5f",
             "gridcolor": "white",
             "linecolor": "white",
             "minorgridcolor": "white",
             "startlinecolor": "#2a3f5f"
            },
            "baxis": {
             "endlinecolor": "#2a3f5f",
             "gridcolor": "white",
             "linecolor": "white",
             "minorgridcolor": "white",
             "startlinecolor": "#2a3f5f"
            },
            "type": "carpet"
           }
          ],
          "choropleth": [
           {
            "colorbar": {
             "outlinewidth": 0,
             "ticks": ""
            },
            "type": "choropleth"
           }
          ],
          "contour": [
           {
            "colorbar": {
             "outlinewidth": 0,
             "ticks": ""
            },
            "colorscale": [
             [
              0,
              "#0d0887"
             ],
             [
              0.1111111111111111,
              "#46039f"
             ],
             [
              0.2222222222222222,
              "#7201a8"
             ],
             [
              0.3333333333333333,
              "#9c179e"
             ],
             [
              0.4444444444444444,
              "#bd3786"
             ],
             [
              0.5555555555555556,
              "#d8576b"
             ],
             [
              0.6666666666666666,
              "#ed7953"
             ],
             [
              0.7777777777777778,
              "#fb9f3a"
             ],
             [
              0.8888888888888888,
              "#fdca26"
             ],
             [
              1,
              "#f0f921"
             ]
            ],
            "type": "contour"
           }
          ],
          "contourcarpet": [
           {
            "colorbar": {
             "outlinewidth": 0,
             "ticks": ""
            },
            "type": "contourcarpet"
           }
          ],
          "heatmap": [
           {
            "colorbar": {
             "outlinewidth": 0,
             "ticks": ""
            },
            "colorscale": [
             [
              0,
              "#0d0887"
             ],
             [
              0.1111111111111111,
              "#46039f"
             ],
             [
              0.2222222222222222,
              "#7201a8"
             ],
             [
              0.3333333333333333,
              "#9c179e"
             ],
             [
              0.4444444444444444,
              "#bd3786"
             ],
             [
              0.5555555555555556,
              "#d8576b"
             ],
             [
              0.6666666666666666,
              "#ed7953"
             ],
             [
              0.7777777777777778,
              "#fb9f3a"
             ],
             [
              0.8888888888888888,
              "#fdca26"
             ],
             [
              1,
              "#f0f921"
             ]
            ],
            "type": "heatmap"
           }
          ],
          "heatmapgl": [
           {
            "colorbar": {
             "outlinewidth": 0,
             "ticks": ""
            },
            "colorscale": [
             [
              0,
              "#0d0887"
             ],
             [
              0.1111111111111111,
              "#46039f"
             ],
             [
              0.2222222222222222,
              "#7201a8"
             ],
             [
              0.3333333333333333,
              "#9c179e"
             ],
             [
              0.4444444444444444,
              "#bd3786"
             ],
             [
              0.5555555555555556,
              "#d8576b"
             ],
             [
              0.6666666666666666,
              "#ed7953"
             ],
             [
              0.7777777777777778,
              "#fb9f3a"
             ],
             [
              0.8888888888888888,
              "#fdca26"
             ],
             [
              1,
              "#f0f921"
             ]
            ],
            "type": "heatmapgl"
           }
          ],
          "histogram": [
           {
            "marker": {
             "pattern": {
              "fillmode": "overlay",
              "size": 10,
              "solidity": 0.2
             }
            },
            "type": "histogram"
           }
          ],
          "histogram2d": [
           {
            "colorbar": {
             "outlinewidth": 0,
             "ticks": ""
            },
            "colorscale": [
             [
              0,
              "#0d0887"
             ],
             [
              0.1111111111111111,
              "#46039f"
             ],
             [
              0.2222222222222222,
              "#7201a8"
             ],
             [
              0.3333333333333333,
              "#9c179e"
             ],
             [
              0.4444444444444444,
              "#bd3786"
             ],
             [
              0.5555555555555556,
              "#d8576b"
             ],
             [
              0.6666666666666666,
              "#ed7953"
             ],
             [
              0.7777777777777778,
              "#fb9f3a"
             ],
             [
              0.8888888888888888,
              "#fdca26"
             ],
             [
              1,
              "#f0f921"
             ]
            ],
            "type": "histogram2d"
           }
          ],
          "histogram2dcontour": [
           {
            "colorbar": {
             "outlinewidth": 0,
             "ticks": ""
            },
            "colorscale": [
             [
              0,
              "#0d0887"
             ],
             [
              0.1111111111111111,
              "#46039f"
             ],
             [
              0.2222222222222222,
              "#7201a8"
             ],
             [
              0.3333333333333333,
              "#9c179e"
             ],
             [
              0.4444444444444444,
              "#bd3786"
             ],
             [
              0.5555555555555556,
              "#d8576b"
             ],
             [
              0.6666666666666666,
              "#ed7953"
             ],
             [
              0.7777777777777778,
              "#fb9f3a"
             ],
             [
              0.8888888888888888,
              "#fdca26"
             ],
             [
              1,
              "#f0f921"
             ]
            ],
            "type": "histogram2dcontour"
           }
          ],
          "mesh3d": [
           {
            "colorbar": {
             "outlinewidth": 0,
             "ticks": ""
            },
            "type": "mesh3d"
           }
          ],
          "parcoords": [
           {
            "line": {
             "colorbar": {
              "outlinewidth": 0,
              "ticks": ""
             }
            },
            "type": "parcoords"
           }
          ],
          "pie": [
           {
            "automargin": true,
            "type": "pie"
           }
          ],
          "scatter": [
           {
            "fillpattern": {
             "fillmode": "overlay",
             "size": 10,
             "solidity": 0.2
            },
            "type": "scatter"
           }
          ],
          "scatter3d": [
           {
            "line": {
             "colorbar": {
              "outlinewidth": 0,
              "ticks": ""
             }
            },
            "marker": {
             "colorbar": {
              "outlinewidth": 0,
              "ticks": ""
             }
            },
            "type": "scatter3d"
           }
          ],
          "scattercarpet": [
           {
            "marker": {
             "colorbar": {
              "outlinewidth": 0,
              "ticks": ""
             }
            },
            "type": "scattercarpet"
           }
          ],
          "scattergeo": [
           {
            "marker": {
             "colorbar": {
              "outlinewidth": 0,
              "ticks": ""
             }
            },
            "type": "scattergeo"
           }
          ],
          "scattergl": [
           {
            "marker": {
             "colorbar": {
              "outlinewidth": 0,
              "ticks": ""
             }
            },
            "type": "scattergl"
           }
          ],
          "scattermapbox": [
           {
            "marker": {
             "colorbar": {
              "outlinewidth": 0,
              "ticks": ""
             }
            },
            "type": "scattermapbox"
           }
          ],
          "scatterpolar": [
           {
            "marker": {
             "colorbar": {
              "outlinewidth": 0,
              "ticks": ""
             }
            },
            "type": "scatterpolar"
           }
          ],
          "scatterpolargl": [
           {
            "marker": {
             "colorbar": {
              "outlinewidth": 0,
              "ticks": ""
             }
            },
            "type": "scatterpolargl"
           }
          ],
          "scatterternary": [
           {
            "marker": {
             "colorbar": {
              "outlinewidth": 0,
              "ticks": ""
             }
            },
            "type": "scatterternary"
           }
          ],
          "surface": [
           {
            "colorbar": {
             "outlinewidth": 0,
             "ticks": ""
            },
            "colorscale": [
             [
              0,
              "#0d0887"
             ],
             [
              0.1111111111111111,
              "#46039f"
             ],
             [
              0.2222222222222222,
              "#7201a8"
             ],
             [
              0.3333333333333333,
              "#9c179e"
             ],
             [
              0.4444444444444444,
              "#bd3786"
             ],
             [
              0.5555555555555556,
              "#d8576b"
             ],
             [
              0.6666666666666666,
              "#ed7953"
             ],
             [
              0.7777777777777778,
              "#fb9f3a"
             ],
             [
              0.8888888888888888,
              "#fdca26"
             ],
             [
              1,
              "#f0f921"
             ]
            ],
            "type": "surface"
           }
          ],
          "table": [
           {
            "cells": {
             "fill": {
              "color": "#EBF0F8"
             },
             "line": {
              "color": "white"
             }
            },
            "header": {
             "fill": {
              "color": "#C8D4E3"
             },
             "line": {
              "color": "white"
             }
            },
            "type": "table"
           }
          ]
         },
         "layout": {
          "annotationdefaults": {
           "arrowcolor": "#2a3f5f",
           "arrowhead": 0,
           "arrowwidth": 1
          },
          "autotypenumbers": "strict",
          "coloraxis": {
           "colorbar": {
            "outlinewidth": 0,
            "ticks": ""
           }
          },
          "colorscale": {
           "diverging": [
            [
             0,
             "#8e0152"
            ],
            [
             0.1,
             "#c51b7d"
            ],
            [
             0.2,
             "#de77ae"
            ],
            [
             0.3,
             "#f1b6da"
            ],
            [
             0.4,
             "#fde0ef"
            ],
            [
             0.5,
             "#f7f7f7"
            ],
            [
             0.6,
             "#e6f5d0"
            ],
            [
             0.7,
             "#b8e186"
            ],
            [
             0.8,
             "#7fbc41"
            ],
            [
             0.9,
             "#4d9221"
            ],
            [
             1,
             "#276419"
            ]
           ],
           "sequential": [
            [
             0,
             "#0d0887"
            ],
            [
             0.1111111111111111,
             "#46039f"
            ],
            [
             0.2222222222222222,
             "#7201a8"
            ],
            [
             0.3333333333333333,
             "#9c179e"
            ],
            [
             0.4444444444444444,
             "#bd3786"
            ],
            [
             0.5555555555555556,
             "#d8576b"
            ],
            [
             0.6666666666666666,
             "#ed7953"
            ],
            [
             0.7777777777777778,
             "#fb9f3a"
            ],
            [
             0.8888888888888888,
             "#fdca26"
            ],
            [
             1,
             "#f0f921"
            ]
           ],
           "sequentialminus": [
            [
             0,
             "#0d0887"
            ],
            [
             0.1111111111111111,
             "#46039f"
            ],
            [
             0.2222222222222222,
             "#7201a8"
            ],
            [
             0.3333333333333333,
             "#9c179e"
            ],
            [
             0.4444444444444444,
             "#bd3786"
            ],
            [
             0.5555555555555556,
             "#d8576b"
            ],
            [
             0.6666666666666666,
             "#ed7953"
            ],
            [
             0.7777777777777778,
             "#fb9f3a"
            ],
            [
             0.8888888888888888,
             "#fdca26"
            ],
            [
             1,
             "#f0f921"
            ]
           ]
          },
          "colorway": [
           "#636efa",
           "#EF553B",
           "#00cc96",
           "#ab63fa",
           "#FFA15A",
           "#19d3f3",
           "#FF6692",
           "#B6E880",
           "#FF97FF",
           "#FECB52"
          ],
          "font": {
           "color": "#2a3f5f"
          },
          "geo": {
           "bgcolor": "white",
           "lakecolor": "white",
           "landcolor": "#E5ECF6",
           "showlakes": true,
           "showland": true,
           "subunitcolor": "white"
          },
          "hoverlabel": {
           "align": "left"
          },
          "hovermode": "closest",
          "mapbox": {
           "style": "light"
          },
          "paper_bgcolor": "white",
          "plot_bgcolor": "#E5ECF6",
          "polar": {
           "angularaxis": {
            "gridcolor": "white",
            "linecolor": "white",
            "ticks": ""
           },
           "bgcolor": "#E5ECF6",
           "radialaxis": {
            "gridcolor": "white",
            "linecolor": "white",
            "ticks": ""
           }
          },
          "scene": {
           "xaxis": {
            "backgroundcolor": "#E5ECF6",
            "gridcolor": "white",
            "gridwidth": 2,
            "linecolor": "white",
            "showbackground": true,
            "ticks": "",
            "zerolinecolor": "white"
           },
           "yaxis": {
            "backgroundcolor": "#E5ECF6",
            "gridcolor": "white",
            "gridwidth": 2,
            "linecolor": "white",
            "showbackground": true,
            "ticks": "",
            "zerolinecolor": "white"
           },
           "zaxis": {
            "backgroundcolor": "#E5ECF6",
            "gridcolor": "white",
            "gridwidth": 2,
            "linecolor": "white",
            "showbackground": true,
            "ticks": "",
            "zerolinecolor": "white"
           }
          },
          "shapedefaults": {
           "line": {
            "color": "#2a3f5f"
           }
          },
          "ternary": {
           "aaxis": {
            "gridcolor": "white",
            "linecolor": "white",
            "ticks": ""
           },
           "baxis": {
            "gridcolor": "white",
            "linecolor": "white",
            "ticks": ""
           },
           "bgcolor": "#E5ECF6",
           "caxis": {
            "gridcolor": "white",
            "linecolor": "white",
            "ticks": ""
           }
          },
          "title": {
           "x": 0.05
          },
          "xaxis": {
           "automargin": true,
           "gridcolor": "white",
           "linecolor": "white",
           "ticks": "",
           "title": {
            "standoff": 15
           },
           "zerolinecolor": "white",
           "zerolinewidth": 2
          },
          "yaxis": {
           "automargin": true,
           "gridcolor": "white",
           "linecolor": "white",
           "ticks": "",
           "title": {
            "standoff": 15
           },
           "zerolinecolor": "white",
           "zerolinewidth": 2
          }
         }
        },
        "width": 1000,
        "xaxis": {
         "anchor": "y",
         "domain": [
          0,
          1
         ],
         "title": {
          "text": "Date"
         }
        },
        "yaxis": {
         "anchor": "x",
         "domain": [
          0,
          1
         ],
         "title": {
          "text": "Accesses"
         },
         "type": "log"
        }
       }
      }
     },
     "metadata": {},
     "output_type": "display_data"
    }
   ],
   "source": [
    "# use plotly to plot Accesses, Citations and Altmetric vs Date in 3 different subplots\n",
    "px.scatter(\n",
    "    df, x=\"Date\", y=\"Accesses\", color=\"Citations10^\", title=None, hover_data=[\"Title\", \"Citations\"], log_y=True\n",
    "    ).update_layout(\n",
    "        margin=dict(l=10, r=10, t=30, b=10),\n",
    "        width=1000,\n",
    "        height=600,\n",
    "    )"
   ]
  }
 ],
 "metadata": {
  "kernelspec": {
   "display_name": "py310",
   "language": "python",
   "name": "python3"
  },
  "language_info": {
   "codemirror_mode": {
    "name": "ipython",
    "version": 3
   },
   "file_extension": ".py",
   "mimetype": "text/x-python",
   "name": "python",
   "nbconvert_exporter": "python",
   "pygments_lexer": "ipython3",
   "version": "3.10.14"
  }
 },
 "nbformat": 4,
 "nbformat_minor": 2
}
